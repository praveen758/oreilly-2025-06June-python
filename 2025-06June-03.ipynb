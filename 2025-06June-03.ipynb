{
 "cells": [
  {
   "cell_type": "markdown",
   "metadata": {},
   "source": [
    "# Agenda\n",
    "\n",
    "1. Fundamentals and core concepts\n",
    "    - What is a programming language? What is Python?\n",
    "    - Values and variables\n",
    "    - Displaying values with `print`\n",
    "    - Assignment\n",
    "    - Getting input from the user\n",
    "    - Different types of values\n",
    "    - Comparing values\n",
    "    - Making decisions with `if` and `else` (important topic!)\n",
    "    - More complex decisions with `and`, `or`, `not`, and `elif`\n",
    "    - Numbers (integers and floats)\n",
    "    - Strings (text)\n",
    "    - Methods (what are they? How are they different from functions?)\n",
    "2. Loops, lists, and tuples\n",
    "    - Repeating yourself with a loop\n",
    "        - `for`\n",
    "        - `while`\n",
    "    - Lists\n",
    "        - How are they similar to and different from strings?\n",
    "        - What can we do with lists?\n",
    "        - List methods\n",
    "    - How to convert from a string to a list (with `str.split`)\n",
    "    - How to convert from a list to a string (with `str.join`)\n",
    "    - Tuples\n",
    "        - What they are\n",
    "        - What they aren't\n",
    "        - Tuple unpacking\n",
    "3. Dictionaries and files\n",
    "    - Dicts\n",
    "        - What is a dictionary? (The most important data structure in Python)\n",
    "        - Creating dicts\n",
    "        - Retrieving from dicts\n",
    "        - Different paradigms for working with them\n",
    "    - Files\n",
    "        - How to read from a file (text files only)\n",
    "        - How to (a little bit) write to a file\n",
    "4. Functions\n",
    "    - What is a function?\n",
    "    - Defining functions\n",
    "    - Arguments and parameters\n",
    "    - Writing good functions (and documenting them)\n",
    "    - Local vs. global variables in our functions\n",
    "5. Modules and packages\n",
    "    - Using modules with `import`\n",
    "    - The Python standard library (i.e., what comes with Python)\n",
    "    - PyPI and `pip`, for third-party modules/packages\n",
    "    - What's next? And: AMA\n"
   ]
  },
  {
   "cell_type": "code",
   "execution_count": 1,
   "metadata": {},
   "outputs": [
    {
     "name": "stdout",
     "output_type": "stream",
     "text": [
      "Hello out there!\n"
     ]
    }
   ],
   "source": [
    "print('Hello out there!')"
   ]
  },
  {
   "cell_type": "markdown",
   "metadata": {},
   "source": [
    "# If you want to write Python code\n",
    "\n",
    "1. You can download Python onto your own computer\n",
    "    - Use an editor (\"IDE\"), such as PyCharm or VSCode\n",
    "    - Use Jupyter -- install it on your computer and use it locally\n",
    "    - Instructions for PyCharm and Jupyter are on videos at O'Reilly\n",
    "2. You can also use Google Colab -- this will work for nearly everything (or even everything) we do. It's basically the same as Jupyter, just in the cloud.\n",
    "3. Do *NOT* use Jupyter Lite! This will mess you up!\n",
    "4. Another option, if you have a (free) GitHub account: CodeSpaces!"
   ]
  },
  {
   "cell_type": "markdown",
   "metadata": {},
   "source": [
    "# What the heck is Jupyter?\n",
    "\n",
    "It's a Web application (i.e., uses your browser) that gives you the illusion of running Python in your browser. You can write code or documentation, and it'll all be formatted nicely and in your browser.\n",
    "\n",
    "Everything in Jupyter is done with \"cells.\" I'm currently typing into a cell.\n",
    "\n",
    "I can type anything I want. When I'm done, and want it to be formatted or executed, I press shift+ENTER together."
   ]
  },
  {
   "cell_type": "markdown",
   "metadata": {},
   "source": [
    "# Some Jupyter basics\n",
    "\n",
    "When we type into a cell, we can be in one of two modes:\n",
    "\n",
    "- Edit mode (what I'm in now), where typing enters text into Jupyter. You can get into edit mode by clicking inside of a cell or by pressing ENTER.\n",
    "- Command mode, where typing gives Jupyter commands. You can get into command mode by clicking to the left of a cell or by pressing ESC.\n",
    "\n",
    "What commands are there in command mode?\n",
    "\n",
    "- `c` -- copy the current cell\n",
    "- `x` -- cut the current cell\n",
    "- `v` -- paste teh latest copied/cut cell\n",
    "- `a` -- create a new cell *above* the current one\n",
    "- `b` -- create a new cell *below* the current one\n",
    "- `m` -- put the current cell into \"markdown\" mode, for writing formatted text (like right now!)\n",
    "- `y` -- put the current cell into \"coding\" mode, for writing Python code (which we'll do in a moment)"
   ]
  },
  {
   "cell_type": "markdown",
   "metadata": {},
   "source": [
    "# What is a programming language? What is Python?\n",
    "\n",
    "When computers were first invented, each was for solving a single problem. If you had a new problem, you created a new computer to solve it. That was very inefficient!\n",
    "\n",
    "Then computers got more sophisticated -- they could solve multiple problems. You just needed to change the instructions, which were written in binary code (1s and 0s). But writing with 1s and 0s is really tedious and error prone.\n",
    "\n",
    "The next step was to write programming languages. You write in a higher-level language, and it is translated into 1s and 0s. Some early famous languages were Fortran, PL/1, Lisp, and eventually C and C++.\n",
    "\n",
    "Each language has its own advantages and disadvantages. Some are very similar to the 1s and 0s, so they run very very fast -- but they are hard for people to write (and read, and debug). Others are very high level, meaning that they're similar to how people think and write, but those typically run much slower.\n",
    "\n",
    "Python is a very high-level language. It's designed for readability and maintainability, not for speed. The biggest bottleneck in software today is the speed with which people can write and then maintain code. (Maintenance is more important!) The fact that computers are very cheap nowadays, but people cost a lot to write/maintain software, gives Python and edge. We can pay more for hardware, and spend less on people, because they'll get more done in less time.\n",
    "\n",
    "Python is 30 years old, but is now very popular:\n",
    "\n",
    "- The #1 langauge for data science and machine learning\n",
    "- Also very popular for analyzing data\n",
    "- Web applications\n",
    "- API services and consumption\n",
    "- Automated testing\n",
    "- Education\n",
    "\n",
    "The only places where Python isn't a good fit (right now) would be:\n",
    "\n",
    "- mobile applications\n",
    "- where speed is of the essence\n",
    "\n",
    "Many \"intro Python\" courses assume that you have a background in other languages, so they can talk about \"strings\" and \"lists\" and \"functions\" and you know what they mean. This course will try not to do that!"
   ]
  },
  {
   "cell_type": "markdown",
   "metadata": {},
   "source": [
    "# Let's write some simple Python code!"
   ]
  },
  {
   "cell_type": "code",
   "execution_count": 2,
   "metadata": {},
   "outputs": [
    {
     "name": "stdout",
     "output_type": "stream",
     "text": [
      "Hello out there!\n"
     ]
    }
   ],
   "source": [
    "# I'm currently writing a comment. Comments start with # and go to the end of the line. They are ignored by Python!\n",
    "# \"print\" is a function -- a verb in the Python world. \n",
    "# When we want to run a function, or execute a function, or call a function (all the same thing), we use () after its name\n",
    "# inside of the parentheses we put the value that we want to pass to \"print\", aka the \"argument\"\n",
    "# in this case, the argument is text, so we put it in quotes\n",
    "# '' and \"\" are precisely the same in Python -- they just need to match\n",
    "\n",
    "print('Hello out there!')"
   ]
  },
  {
   "cell_type": "code",
   "execution_count": 3,
   "metadata": {},
   "outputs": [
    {
     "name": "stdout",
     "output_type": "stream",
     "text": [
      "10\n"
     ]
    }
   ],
   "source": [
    "print(10)   # notice that there aren't any quotes around 10 -- it's an integer, a whole number"
   ]
  },
  {
   "cell_type": "code",
   "execution_count": 4,
   "metadata": {},
   "outputs": [
    {
     "name": "stdout",
     "output_type": "stream",
     "text": [
      "13\n"
     ]
    }
   ],
   "source": [
    "# let's get fancier!\n",
    "\n",
    "print(10 + 3)   # does Python know how to do math?   ... in this case, print never knew that we passed 10 + 3, it just saw 13"
   ]
  },
  {
   "cell_type": "code",
   "execution_count": 6,
   "metadata": {},
   "outputs": [
    {
     "name": "stdout",
     "output_type": "stream",
     "text": [
      "Helloworld\n"
     ]
    }
   ],
   "source": [
    "# let's get fancier than that!\n",
    "\n",
    "print('Hello' + 'world')  # Python knows how to combine text with + ... but it does that very very literally"
   ]
  },
  {
   "cell_type": "markdown",
   "metadata": {},
   "source": [
    "Computers do what you tell them to do,\n",
    "not what you want them to do.\n",
    "\n",
    "In the above code, I asked Python to join the text `'Hello'` and the text `'world'`. I didn't tell it to put a space between them!"
   ]
  },
  {
   "cell_type": "code",
   "execution_count": 7,
   "metadata": {},
   "outputs": [
    {
     "name": "stdout",
     "output_type": "stream",
     "text": [
      "Hello world\n"
     ]
    }
   ],
   "source": [
    "print('Hello ' + 'world')"
   ]
  },
  {
   "cell_type": "code",
   "execution_count": 8,
   "metadata": {},
   "outputs": [
    {
     "name": "stdout",
     "output_type": "stream",
     "text": [
      "Hello world\n"
     ]
    }
   ],
   "source": [
    "print('Hello' + ' ' + 'world')"
   ]
  },
  {
   "cell_type": "code",
   "execution_count": 9,
   "metadata": {},
   "outputs": [
    {
     "name": "stdout",
     "output_type": "stream",
     "text": [
      "103\n"
     ]
    }
   ],
   "source": [
    "# what will this print?\n",
    "\n",
    "print('10' + '3')   # Python sees anything quotes as text, and combines them literally as text"
   ]
  },
  {
   "cell_type": "code",
   "execution_count": 10,
   "metadata": {},
   "outputs": [
    {
     "ename": "TypeError",
     "evalue": "can only concatenate str (not \"int\") to str",
     "output_type": "error",
     "traceback": [
      "\u001b[31m---------------------------------------------------------------------------\u001b[39m",
      "\u001b[31mTypeError\u001b[39m                                 Traceback (most recent call last)",
      "\u001b[36mCell\u001b[39m\u001b[36m \u001b[39m\u001b[32mIn[10]\u001b[39m\u001b[32m, line 3\u001b[39m\n\u001b[32m      1\u001b[39m \u001b[38;5;66;03m# what if we try to play around with things a bit?\u001b[39;00m\n\u001b[32m----> \u001b[39m\u001b[32m3\u001b[39m \u001b[38;5;28mprint\u001b[39m(\u001b[33;43m'\u001b[39;49m\u001b[33;43mMy favorite number is \u001b[39;49m\u001b[33;43m'\u001b[39;49m\u001b[43m \u001b[49m\u001b[43m+\u001b[49m\u001b[43m \u001b[49m\u001b[32;43m10\u001b[39;49m)  \n",
      "\u001b[31mTypeError\u001b[39m: can only concatenate str (not \"int\") to str"
     ]
    }
   ],
   "source": [
    "# what if we try to play around with things a bit?\n",
    "\n",
    "print('My favorite number is ' + 10)  # Python doesn't know how to combine text and a number"
   ]
  },
  {
   "cell_type": "markdown",
   "metadata": {},
   "source": [
    "- Python could have opted to turn the number into text... but it doesn't do that.\n",
    "- Python could have tried to turn the text into a number ... it won't do that either (here, it wouldn't have helped)"
   ]
  },
  {
   "cell_type": "markdown",
   "metadata": {},
   "source": [
    "# Storing values in variables\n",
    "\n",
    "Instead of referring to a value many times, we can just use a variable. A variable is an alias to a value, or a pronoun. \n",
    "\n",
    "We can assign a value to a variable with the `=` (\"assignment\") operator. Always, the variable name goes on the left, and the value we want to assign to it goes on the right.\n",
    "\n",
    "**Don't think that `=` in Python is similar to `=` in math! They are totally different!**"
   ]
  },
  {
   "cell_type": "code",
   "execution_count": 11,
   "metadata": {},
   "outputs": [],
   "source": [
    "x = 10    # this says: take the value 10 and assign to the variable x"
   ]
  },
  {
   "cell_type": "code",
   "execution_count": 12,
   "metadata": {},
   "outputs": [
    {
     "name": "stdout",
     "output_type": "stream",
     "text": [
      "15\n"
     ]
    }
   ],
   "source": [
    "print(x + 5)   "
   ]
  },
  {
   "cell_type": "code",
   "execution_count": 13,
   "metadata": {},
   "outputs": [
    {
     "name": "stdout",
     "output_type": "stream",
     "text": [
      "20\n"
     ]
    }
   ],
   "source": [
    "print(x + x)"
   ]
  },
  {
   "cell_type": "markdown",
   "metadata": {},
   "source": [
    "If you come from another programming language, you're probably wondering: Don't we need to tell Python what kind of value we're going to be assigning to it? Don't we need to initialize it first? When did we create this variable `x`?\n",
    "\n",
    "- In Python, we don't initialize variables.\n",
    "- Any variable can refer to any type of value.\n",
    "- When you assign to a variable for the first time, the variable is created.\n",
    "- When you next assign to a variable, it gets the new value and forgets the old one."
   ]
  },
  {
   "cell_type": "code",
   "execution_count": 14,
   "metadata": {},
   "outputs": [
    {
     "name": "stdout",
     "output_type": "stream",
     "text": [
      "4\n"
     ]
    }
   ],
   "source": [
    "x = 2\n",
    "\n",
    "print(x + 2)"
   ]
  },
  {
   "cell_type": "code",
   "execution_count": 15,
   "metadata": {},
   "outputs": [
    {
     "name": "stdout",
     "output_type": "stream",
     "text": [
      "4\n"
     ]
    }
   ],
   "source": [
    "print(x + x)"
   ]
  },
  {
   "cell_type": "code",
   "execution_count": 16,
   "metadata": {},
   "outputs": [
    {
     "name": "stdout",
     "output_type": "stream",
     "text": [
      "Hello, Reuven!\n"
     ]
    }
   ],
   "source": [
    "name = 'Reuven'\n",
    "\n",
    "print('Hello, ' + name + '!')"
   ]
  },
  {
   "cell_type": "markdown",
   "metadata": {},
   "source": [
    "# Rules for variable names\n",
    "\n",
    "- Capital and lowercase letters are different!\n",
    "- In Python, we traditionally use only lowercase letters, digits, and `_` in our variable names.\n",
    "- A variable name cannot start with a digit.\n",
    "- You *should* not use `_` at the start or end of a variable name\n",
    "- There is no real limit to the length of a variable name."
   ]
  },
  {
   "cell_type": "markdown",
   "metadata": {},
   "source": [
    "# Exercise: Simple assignment and printing\n",
    "\n",
    "1. Assign your name to the variable `name`. Print a nice greeting to yourself.\n",
    "2. Assign two numbers to variables, one to `x` and one to `y`. Add the two numbers together, and assign that result to `total`. Print `total` on the screen."
   ]
  },
  {
   "cell_type": "code",
   "execution_count": null,
   "metadata": {},
   "outputs": [],
   "source": []
  }
 ],
 "metadata": {
  "kernelspec": {
   "display_name": "Python 3 (ipykernel)",
   "language": "python",
   "name": "python3"
  },
  "language_info": {
   "codemirror_mode": {
    "name": "ipython",
    "version": 3
   },
   "file_extension": ".py",
   "mimetype": "text/x-python",
   "name": "python",
   "nbconvert_exporter": "python",
   "pygments_lexer": "ipython3",
   "version": "3.13.2"
  }
 },
 "nbformat": 4,
 "nbformat_minor": 4
}
