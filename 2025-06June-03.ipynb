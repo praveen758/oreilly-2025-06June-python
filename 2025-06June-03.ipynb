{
 "cells": [
  {
   "cell_type": "markdown",
   "metadata": {},
   "source": [
    "# Agenda\n",
    "\n",
    "1. Fundamentals and core concepts\n",
    "    - What is a programming language? What is Python?\n",
    "    - Values and variables\n",
    "    - Displaying values with `print`\n",
    "    - Assignment\n",
    "    - Getting input from the user\n",
    "    - Different types of values\n",
    "    - Comparing values\n",
    "    - Making decisions with `if` and `else` (important topic!)\n",
    "    - More complex decisions with `and`, `or`, `not`, and `elif`\n",
    "    - Numbers (integers and floats)\n",
    "    - Strings (text)\n",
    "    - Methods (what are they? How are they different from functions?)\n",
    "2. Loops, lists, and tuples\n",
    "    - Repeating yourself with a loop\n",
    "        - `for`\n",
    "        - `while`\n",
    "    - Lists\n",
    "        - How are they similar to and different from strings?\n",
    "        - What can we do with lists?\n",
    "        - List methods\n",
    "    - How to convert from a string to a list (with `str.split`)\n",
    "    - How to convert from a list to a string (with `str.join`)\n",
    "    - Tuples\n",
    "        - What they are\n",
    "        - What they aren't\n",
    "        - Tuple unpacking\n",
    "3. Dictionaries and files\n",
    "    - Dicts\n",
    "        - What is a dictionary? (The most important data structure in Python)\n",
    "        - Creating dicts\n",
    "        - Retrieving from dicts\n",
    "        - Different paradigms for working with them\n",
    "    - Files\n",
    "        - How to read from a file (text files only)\n",
    "        - How to (a little bit) write to a file\n",
    "4. Functions\n",
    "    - What is a function?\n",
    "    - Defining functions\n",
    "    - Arguments and parameters\n",
    "    - Writing good functions (and documenting them)\n",
    "    - Local vs. global variables in our functions\n",
    "5. Modules and packages\n",
    "    - Using modules with `import`\n",
    "    - The Python standard library (i.e., what comes with Python)\n",
    "    - PyPI and `pip`, for third-party modules/packages\n",
    "    - What's next? And: AMA\n"
   ]
  },
  {
   "cell_type": "code",
   "execution_count": 1,
   "metadata": {},
   "outputs": [
    {
     "name": "stdout",
     "output_type": "stream",
     "text": [
      "Hello out there!\n"
     ]
    }
   ],
   "source": [
    "print('Hello out there!')"
   ]
  },
  {
   "cell_type": "markdown",
   "metadata": {},
   "source": [
    "# If you want to write Python code\n",
    "\n",
    "1. You can download Python onto your own computer\n",
    "    - Use an editor (\"IDE\"), such as PyCharm or VSCode\n",
    "    - Use Jupyter -- install it on your computer and use it locally\n",
    "    - Instructions for PyCharm and Jupyter are on videos at O'Reilly\n",
    "2. You can also use Google Colab -- this will work for nearly everything (or even everything) we do. It's basically the same as Jupyter, just in the cloud.\n",
    "3. Do *NOT* use Jupyter Lite! This will mess you up!\n",
    "4. Another option, if you have a (free) GitHub account: CodeSpaces!"
   ]
  },
  {
   "cell_type": "markdown",
   "metadata": {},
   "source": [
    "# What the heck is Jupyter?\n",
    "\n",
    "It's a Web application (i.e., uses your browser) that gives you the illusion of running Python in your browser. You can write code or documentation, and it'll all be formatted nicely and in your browser.\n",
    "\n",
    "Everything in Jupyter is done with \"cells.\" I'm currently typing into a cell.\n",
    "\n",
    "I can type anything I want. When I'm done, and want it to be formatted or executed, I press shift+ENTER together."
   ]
  },
  {
   "cell_type": "markdown",
   "metadata": {},
   "source": [
    "# Some Jupyter basics\n",
    "\n",
    "When we type into a cell, we can be in one of two modes:\n",
    "\n",
    "- Edit mode (what I'm in now), where typing enters text into Jpyter"
   ]
  }
 ],
 "metadata": {
  "kernelspec": {
   "display_name": "Python 3 (ipykernel)",
   "language": "python",
   "name": "python3"
  },
  "language_info": {
   "codemirror_mode": {
    "name": "ipython",
    "version": 3
   },
   "file_extension": ".py",
   "mimetype": "text/x-python",
   "name": "python",
   "nbconvert_exporter": "python",
   "pygments_lexer": "ipython3",
   "version": "3.13.2"
  }
 },
 "nbformat": 4,
 "nbformat_minor": 4
}
