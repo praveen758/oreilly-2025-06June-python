{
 "cells": [
  {
   "cell_type": "markdown",
   "metadata": {},
   "source": [
    "# Agenda\n",
    "\n",
    "1. Fundamentals and core concepts\n",
    "    - What is a programming language? What is Python?\n",
    "    - Values and variables\n",
    "    - Displaying values with `print`\n",
    "    - Assignment\n",
    "    - Getting input from the user\n",
    "    - Different types of values\n",
    "    - Comparing values\n",
    "    - Making decisions with `if` and `else` (important topic!)\n",
    "    - More complex decisions with `and`, `or`, `not`, and `elif`\n",
    "    - Numbers (integers and floats)\n",
    "    - Strings (text)\n",
    "    - Methods (what are they? How are they different from functions?)\n",
    "2. Loops, lists, and tuples\n",
    "    - Repeating yourself with a loop\n",
    "        - `for`\n",
    "        - `while`\n",
    "    - Lists\n",
    "        - How are they similar to and different from strings?\n",
    "        - What can we do with lists?\n",
    "        - List methods\n",
    "    - How to convert from a string to a list (with `str.split`)\n",
    "    - How to convert from a list to a string (with `str.join`)\n",
    "    - Tuples\n",
    "        - What they are\n",
    "        - What they aren't\n",
    "        - Tuple unpacking\n",
    "3. Dictionaries and files\n",
    "    - Dicts\n",
    "        - What is a dictionary? (The most important data structure in Python)\n",
    "        - Creating dicts\n",
    "        - Retrieving from dicts\n",
    "        - Different paradigms for working with them\n",
    "    - Files\n",
    "        - How to read from a file (text files only)\n",
    "        - How to (a little bit) write to a file\n",
    "4. Functions\n",
    "    - What is a function?\n",
    "    - Defining functions\n",
    "    - Arguments and parameters\n",
    "    - Writing good functions (and documenting them)\n",
    "    - Local vs. global variables in our functions\n",
    "5. Modules and packages\n",
    "    - Using modules with `import`\n",
    "    - The Python standard library (i.e., what comes with Python)\n",
    "    - PyPI and `pip`, for third-party modules/packages\n",
    "    - What's next? And: AMA\n"
   ]
  },
  {
   "cell_type": "code",
   "execution_count": 1,
   "metadata": {},
   "outputs": [
    {
     "name": "stdout",
     "output_type": "stream",
     "text": [
      "Hello out there!\n"
     ]
    }
   ],
   "source": [
    "print('Hello out there!')"
   ]
  },
  {
   "cell_type": "markdown",
   "metadata": {},
   "source": [
    "# If you want to write Python code\n",
    "\n",
    "1. You can download Python onto your own computer\n",
    "    - Use an editor (\"IDE\"), such as PyCharm or VSCode\n",
    "    - Use Jupyter -- install it on your computer and use it locally\n",
    "    - Instructions for PyCharm and Jupyter are on videos at O'Reilly\n",
    "2. You can also use Google Colab -- this will work for nearly everything (or even everything) we do. It's basically the same as Jupyter, just in the cloud.\n",
    "3. Do *NOT* use Jupyter Lite! This will mess you up!\n",
    "4. Another option, if you have a (free) GitHub account: CodeSpaces!"
   ]
  },
  {
   "cell_type": "markdown",
   "metadata": {},
   "source": [
    "# What the heck is Jupyter?\n",
    "\n",
    "It's a Web application (i.e., uses your browser) that gives you the illusion of running Python in your browser. You can write code or documentation, and it'll all be formatted nicely and in your browser.\n",
    "\n",
    "Everything in Jupyter is done with \"cells.\" I'm currently typing into a cell.\n",
    "\n",
    "I can type anything I want. When I'm done, and want it to be formatted or executed, I press shift+ENTER together."
   ]
  },
  {
   "cell_type": "markdown",
   "metadata": {},
   "source": [
    "# Some Jupyter basics\n",
    "\n",
    "When we type into a cell, we can be in one of two modes:\n",
    "\n",
    "- Edit mode (what I'm in now), where typing enters text into Jupyter. You can get into edit mode by clicking inside of a cell or by pressing ENTER.\n",
    "- Command mode, where typing gives Jupyter commands. You can get into command mode by clicking to the left of a cell or by pressing ESC.\n",
    "\n",
    "What commands are there in command mode?\n",
    "\n",
    "- `c` -- copy the current cell\n",
    "- `x` -- cut the current cell\n",
    "- `v` -- paste teh latest copied/cut cell\n",
    "- `a` -- create a new cell *above* the current one\n",
    "- `b` -- create a new cell *below* the current one\n",
    "- `m` -- put the current cell into \"markdown\" mode, for writing formatted text (like right now!)\n",
    "- `y` -- put the current cell into \"coding\" mode, for writing Python code (which we'll do in a moment)"
   ]
  },
  {
   "cell_type": "markdown",
   "metadata": {},
   "source": [
    "# What is a programming language? What is Python?\n",
    "\n",
    "When computers were first invented, each was for solving a single problem. If you had a new problem, you created a new computer to solve it. That was very inefficient!\n",
    "\n",
    "Then computers got more sophisticated -- they could solve multiple problems. You just needed to change the instructions, which were written in binary code (1s and 0s). But writing with 1s and 0s is really tedious and error prone.\n",
    "\n",
    "The next step was to write programming languages. You write in a higher-level language, and it is translated into 1s and 0s. Some early famous languages were Fortran, PL/1, Lisp, and eventually C and C++.\n",
    "\n",
    "Each language has its own advantages and disadvantages. Some are very similar to the 1s and 0s, so they run very very fast -- but they are hard for people to write (and read, and debug). Others are very high level, meaning that they're similar to how people think and write, but those typically run much slower.\n",
    "\n",
    "Python is a very high-level language. It's designed for readability and maintainability, not for speed. The biggest bottleneck in software today is the speed with which people can write and then maintain code. (Maintenance is more important!) The fact that computers are very cheap nowadays, but people cost a lot to write/maintain software, gives Python and edge. We can pay more for hardware, and spend less on people, because they'll get more done in less time.\n",
    "\n",
    "Python is 30 years old, but is now very popular:\n",
    "\n",
    "- The #1 langauge for data science and machine learning\n",
    "- Also very popular for analyzing data\n",
    "- Web applications\n",
    "- API services and consumption\n",
    "- Automated testing\n",
    "- Education\n",
    "\n",
    "The only places where Python isn't a good fit (right now) would be:\n",
    "\n",
    "- mobile applications\n",
    "- where speed is of the essence\n",
    "\n",
    "Many \"intro Python\" courses assume that you have a background in other languages, so they can talk about \"strings\" and \"lists\" and \"functions\" and you know what they mean. This course will try not to do that!"
   ]
  },
  {
   "cell_type": "markdown",
   "metadata": {},
   "source": [
    "# Let's write some simple Python code!"
   ]
  },
  {
   "cell_type": "code",
   "execution_count": 2,
   "metadata": {},
   "outputs": [
    {
     "name": "stdout",
     "output_type": "stream",
     "text": [
      "Hello out there!\n"
     ]
    }
   ],
   "source": [
    "# I'm currently writing a comment. Comments start with # and go to the end of the line. They are ignored by Python!\n",
    "# \"print\" is a function -- a verb in the Python world. \n",
    "# When we want to run a function, or execute a function, or call a function (all the same thing), we use () after its name\n",
    "# inside of the parentheses we put the value that we want to pass to \"print\", aka the \"argument\"\n",
    "# in this case, the argument is text, so we put it in quotes\n",
    "# '' and \"\" are precisely the same in Python -- they just need to match\n",
    "\n",
    "print('Hello out there!')"
   ]
  },
  {
   "cell_type": "code",
   "execution_count": 3,
   "metadata": {},
   "outputs": [
    {
     "name": "stdout",
     "output_type": "stream",
     "text": [
      "10\n"
     ]
    }
   ],
   "source": [
    "print(10)   # notice that there aren't any quotes around 10 -- it's an integer, a whole number"
   ]
  },
  {
   "cell_type": "code",
   "execution_count": 4,
   "metadata": {},
   "outputs": [
    {
     "name": "stdout",
     "output_type": "stream",
     "text": [
      "13\n"
     ]
    }
   ],
   "source": [
    "# let's get fancier!\n",
    "\n",
    "print(10 + 3)   # does Python know how to do math?   ... in this case, print never knew that we passed 10 + 3, it just saw 13"
   ]
  },
  {
   "cell_type": "code",
   "execution_count": 6,
   "metadata": {},
   "outputs": [
    {
     "name": "stdout",
     "output_type": "stream",
     "text": [
      "Helloworld\n"
     ]
    }
   ],
   "source": [
    "# let's get fancier than that!\n",
    "\n",
    "print('Hello' + 'world')  # Python knows how to combine text with + ... but it does that very very literally"
   ]
  },
  {
   "cell_type": "markdown",
   "metadata": {},
   "source": [
    "Computers do what you tell them to do,\n",
    "not what you want them to do.\n",
    "\n",
    "In the above code, I asked Python to join the text `'Hello'` and the text `'world'`. I didn't tell it to put a space between them!"
   ]
  },
  {
   "cell_type": "code",
   "execution_count": 7,
   "metadata": {},
   "outputs": [
    {
     "name": "stdout",
     "output_type": "stream",
     "text": [
      "Hello world\n"
     ]
    }
   ],
   "source": [
    "print('Hello ' + 'world')"
   ]
  },
  {
   "cell_type": "code",
   "execution_count": 8,
   "metadata": {},
   "outputs": [
    {
     "name": "stdout",
     "output_type": "stream",
     "text": [
      "Hello world\n"
     ]
    }
   ],
   "source": [
    "print('Hello' + ' ' + 'world')"
   ]
  },
  {
   "cell_type": "code",
   "execution_count": 9,
   "metadata": {},
   "outputs": [
    {
     "name": "stdout",
     "output_type": "stream",
     "text": [
      "103\n"
     ]
    }
   ],
   "source": [
    "# what will this print?\n",
    "\n",
    "print('10' + '3')   # Python sees anything quotes as text, and combines them literally as text"
   ]
  },
  {
   "cell_type": "code",
   "execution_count": 10,
   "metadata": {},
   "outputs": [
    {
     "ename": "TypeError",
     "evalue": "can only concatenate str (not \"int\") to str",
     "output_type": "error",
     "traceback": [
      "\u001b[31m---------------------------------------------------------------------------\u001b[39m",
      "\u001b[31mTypeError\u001b[39m                                 Traceback (most recent call last)",
      "\u001b[36mCell\u001b[39m\u001b[36m \u001b[39m\u001b[32mIn[10]\u001b[39m\u001b[32m, line 3\u001b[39m\n\u001b[32m      1\u001b[39m \u001b[38;5;66;03m# what if we try to play around with things a bit?\u001b[39;00m\n\u001b[32m----> \u001b[39m\u001b[32m3\u001b[39m \u001b[38;5;28mprint\u001b[39m(\u001b[33;43m'\u001b[39;49m\u001b[33;43mMy favorite number is \u001b[39;49m\u001b[33;43m'\u001b[39;49m\u001b[43m \u001b[49m\u001b[43m+\u001b[49m\u001b[43m \u001b[49m\u001b[32;43m10\u001b[39;49m)  \n",
      "\u001b[31mTypeError\u001b[39m: can only concatenate str (not \"int\") to str"
     ]
    }
   ],
   "source": [
    "# what if we try to play around with things a bit?\n",
    "\n",
    "print('My favorite number is ' + 10)  # Python doesn't know how to combine text and a number"
   ]
  },
  {
   "cell_type": "markdown",
   "metadata": {},
   "source": [
    "- Python could have opted to turn the number into text... but it doesn't do that.\n",
    "- Python could have tried to turn the text into a number ... it won't do that either (here, it wouldn't have helped)"
   ]
  },
  {
   "cell_type": "markdown",
   "metadata": {},
   "source": [
    "# Storing values in variables\n",
    "\n",
    "Instead of referring to a value many times, we can just use a variable. A variable is an alias to a value, or a pronoun. \n",
    "\n",
    "We can assign a value to a variable with the `=` (\"assignment\") operator. Always, the variable name goes on the left, and the value we want to assign to it goes on the right.\n",
    "\n",
    "**Don't think that `=` in Python is similar to `=` in math! They are totally different!**"
   ]
  },
  {
   "cell_type": "code",
   "execution_count": 11,
   "metadata": {},
   "outputs": [],
   "source": [
    "x = 10    # this says: take the value 10 and assign to the variable x"
   ]
  },
  {
   "cell_type": "code",
   "execution_count": 12,
   "metadata": {},
   "outputs": [
    {
     "name": "stdout",
     "output_type": "stream",
     "text": [
      "15\n"
     ]
    }
   ],
   "source": [
    "print(x + 5)   "
   ]
  },
  {
   "cell_type": "code",
   "execution_count": 13,
   "metadata": {},
   "outputs": [
    {
     "name": "stdout",
     "output_type": "stream",
     "text": [
      "20\n"
     ]
    }
   ],
   "source": [
    "print(x + x)"
   ]
  },
  {
   "cell_type": "markdown",
   "metadata": {},
   "source": [
    "If you come from another programming language, you're probably wondering: Don't we need to tell Python what kind of value we're going to be assigning to it? Don't we need to initialize it first? When did we create this variable `x`?\n",
    "\n",
    "- In Python, we don't initialize variables.\n",
    "- Any variable can refer to any type of value.\n",
    "- When you assign to a variable for the first time, the variable is created.\n",
    "- When you next assign to a variable, it gets the new value and forgets the old one."
   ]
  },
  {
   "cell_type": "code",
   "execution_count": 14,
   "metadata": {},
   "outputs": [
    {
     "name": "stdout",
     "output_type": "stream",
     "text": [
      "4\n"
     ]
    }
   ],
   "source": [
    "x = 2\n",
    "\n",
    "print(x + 2)"
   ]
  },
  {
   "cell_type": "code",
   "execution_count": 15,
   "metadata": {},
   "outputs": [
    {
     "name": "stdout",
     "output_type": "stream",
     "text": [
      "4\n"
     ]
    }
   ],
   "source": [
    "print(x + x)"
   ]
  },
  {
   "cell_type": "code",
   "execution_count": 16,
   "metadata": {},
   "outputs": [
    {
     "name": "stdout",
     "output_type": "stream",
     "text": [
      "Hello, Reuven!\n"
     ]
    }
   ],
   "source": [
    "name = 'Reuven'\n",
    "\n",
    "print('Hello, ' + name + '!')"
   ]
  },
  {
   "cell_type": "markdown",
   "metadata": {},
   "source": [
    "# Rules for variable names\n",
    "\n",
    "- Capital and lowercase letters are different!\n",
    "- In Python, we traditionally use only lowercase letters, digits, and `_` in our variable names.\n",
    "- A variable name cannot start with a digit.\n",
    "- You *should* not use `_` at the start or end of a variable name\n",
    "- There is no real limit to the length of a variable name."
   ]
  },
  {
   "cell_type": "markdown",
   "metadata": {},
   "source": [
    "# Exercise: Simple assignment and printing\n",
    "\n",
    "1. Assign your name to the variable `name`. Print a nice greeting to yourself.\n",
    "2. Assign two numbers to variables, one to `x` and one to `y`. Add the two numbers together, and assign that result to `total`. Print `total` on the screen."
   ]
  },
  {
   "cell_type": "code",
   "execution_count": 17,
   "metadata": {},
   "outputs": [
    {
     "name": "stdout",
     "output_type": "stream",
     "text": [
      "Hello, Reuven!\n"
     ]
    }
   ],
   "source": [
    "# 1. Assign your name to the variable `name`. Print a nice greeting to yourself.\n",
    "\n",
    "# variable names *never* have quotes around them\n",
    "# text values *always* have quotes around them (when we define them, at least)\n",
    "\n",
    "name = 'Reuven'  \n",
    "print('Hello, ' + name + '!')  # the + operator joins the text values together into one big text value, which is passed to print..."
   ]
  },
  {
   "cell_type": "code",
   "execution_count": 18,
   "metadata": {},
   "outputs": [
    {
     "name": "stdout",
     "output_type": "stream",
     "text": [
      "38\n"
     ]
    }
   ],
   "source": [
    "# 2. Assign two numbers to variables, one to `x` and one to `y`. Add the two numbers together, and assign that result to `total`. Print `total` on the screen.\n",
    "\n",
    "x = 15\n",
    "y = 23\n",
    "\n",
    "total = x + y\n",
    "print(total)"
   ]
  },
  {
   "cell_type": "code",
   "execution_count": 19,
   "metadata": {},
   "outputs": [
    {
     "name": "stdout",
     "output_type": "stream",
     "text": [
      "1523\n"
     ]
    }
   ],
   "source": [
    "x = '15'\n",
    "y = '23'\n",
    "\n",
    "total = x + y\n",
    "print(total)"
   ]
  },
  {
   "cell_type": "markdown",
   "metadata": {},
   "source": [
    "Those of you used to other languages might be wondering: What about the `;` at the end of each line? What happened to it?\n",
    "\n",
    "Answer: In Python, we don't need it, because every line is a new command/statement/expression. When you press ENTER, you're telling Python that you're done with the current thing.\n",
    "\n",
    "There are exceptions, almost all of them inside of `()`."
   ]
  },
  {
   "cell_type": "markdown",
   "metadata": {},
   "source": [
    "# Next up\n",
    "\n",
    "1. Get input from the user with the `input` function\n",
    "2. f-strings, which make displaying things nicer/easier\n",
    "3. Comparison operators\n",
    "4. Making decisions with `if` and `else`"
   ]
  },
  {
   "cell_type": "code",
   "execution_count": 21,
   "metadata": {
    "scrolled": true
   },
   "outputs": [
    {
     "data": {
      "text/plain": [
       "['ArithmeticError',\n",
       " 'AssertionError',\n",
       " 'AttributeError',\n",
       " 'BaseException',\n",
       " 'BaseExceptionGroup',\n",
       " 'BlockingIOError',\n",
       " 'BrokenPipeError',\n",
       " 'BufferError',\n",
       " 'BytesWarning',\n",
       " 'ChildProcessError',\n",
       " 'ConnectionAbortedError',\n",
       " 'ConnectionError',\n",
       " 'ConnectionRefusedError',\n",
       " 'ConnectionResetError',\n",
       " 'DeprecationWarning',\n",
       " 'EOFError',\n",
       " 'Ellipsis',\n",
       " 'EncodingWarning',\n",
       " 'EnvironmentError',\n",
       " 'Exception',\n",
       " 'ExceptionGroup',\n",
       " 'False',\n",
       " 'FileExistsError',\n",
       " 'FileNotFoundError',\n",
       " 'FloatingPointError',\n",
       " 'FutureWarning',\n",
       " 'GeneratorExit',\n",
       " 'IOError',\n",
       " 'ImportError',\n",
       " 'ImportWarning',\n",
       " 'IndentationError',\n",
       " 'IndexError',\n",
       " 'InterruptedError',\n",
       " 'IsADirectoryError',\n",
       " 'KeyError',\n",
       " 'KeyboardInterrupt',\n",
       " 'LookupError',\n",
       " 'MemoryError',\n",
       " 'ModuleNotFoundError',\n",
       " 'NameError',\n",
       " 'None',\n",
       " 'NotADirectoryError',\n",
       " 'NotImplemented',\n",
       " 'NotImplementedError',\n",
       " 'OSError',\n",
       " 'OverflowError',\n",
       " 'PendingDeprecationWarning',\n",
       " 'PermissionError',\n",
       " 'ProcessLookupError',\n",
       " 'PythonFinalizationError',\n",
       " 'RecursionError',\n",
       " 'ReferenceError',\n",
       " 'ResourceWarning',\n",
       " 'RuntimeError',\n",
       " 'RuntimeWarning',\n",
       " 'StopAsyncIteration',\n",
       " 'StopIteration',\n",
       " 'SyntaxError',\n",
       " 'SyntaxWarning',\n",
       " 'SystemError',\n",
       " 'SystemExit',\n",
       " 'TabError',\n",
       " 'TimeoutError',\n",
       " 'True',\n",
       " 'TypeError',\n",
       " 'UnboundLocalError',\n",
       " 'UnicodeDecodeError',\n",
       " 'UnicodeEncodeError',\n",
       " 'UnicodeError',\n",
       " 'UnicodeTranslateError',\n",
       " 'UnicodeWarning',\n",
       " 'UserWarning',\n",
       " 'ValueError',\n",
       " 'Warning',\n",
       " 'ZeroDivisionError',\n",
       " '_IncompleteInputError',\n",
       " '__IPYTHON__',\n",
       " '__build_class__',\n",
       " '__debug__',\n",
       " '__doc__',\n",
       " '__import__',\n",
       " '__loader__',\n",
       " '__name__',\n",
       " '__package__',\n",
       " '__spec__',\n",
       " 'abs',\n",
       " 'aiter',\n",
       " 'all',\n",
       " 'anext',\n",
       " 'any',\n",
       " 'ascii',\n",
       " 'bin',\n",
       " 'bool',\n",
       " 'breakpoint',\n",
       " 'bytearray',\n",
       " 'bytes',\n",
       " 'callable',\n",
       " 'chr',\n",
       " 'classmethod',\n",
       " 'compile',\n",
       " 'complex',\n",
       " 'copyright',\n",
       " 'credits',\n",
       " 'delattr',\n",
       " 'dict',\n",
       " 'dir',\n",
       " 'display',\n",
       " 'divmod',\n",
       " 'enumerate',\n",
       " 'eval',\n",
       " 'exec',\n",
       " 'execfile',\n",
       " 'filter',\n",
       " 'float',\n",
       " 'format',\n",
       " 'frozenset',\n",
       " 'get_ipython',\n",
       " 'getattr',\n",
       " 'globals',\n",
       " 'hasattr',\n",
       " 'hash',\n",
       " 'help',\n",
       " 'hex',\n",
       " 'id',\n",
       " 'input',\n",
       " 'int',\n",
       " 'isinstance',\n",
       " 'issubclass',\n",
       " 'iter',\n",
       " 'len',\n",
       " 'license',\n",
       " 'list',\n",
       " 'locals',\n",
       " 'map',\n",
       " 'max',\n",
       " 'memoryview',\n",
       " 'min',\n",
       " 'next',\n",
       " 'object',\n",
       " 'oct',\n",
       " 'open',\n",
       " 'ord',\n",
       " 'pow',\n",
       " 'print',\n",
       " 'property',\n",
       " 'range',\n",
       " 'repr',\n",
       " 'reversed',\n",
       " 'round',\n",
       " 'runfile',\n",
       " 'set',\n",
       " 'setattr',\n",
       " 'slice',\n",
       " 'sorted',\n",
       " 'staticmethod',\n",
       " 'str',\n",
       " 'sum',\n",
       " 'super',\n",
       " 'tuple',\n",
       " 'type',\n",
       " 'vars',\n",
       " 'zip']"
      ]
     },
     "execution_count": 21,
     "metadata": {},
     "output_type": "execute_result"
    }
   ],
   "source": [
    "# the function \"dir\", when invoked on the special name __builtins__ (with two _ on each side),\n",
    "# gives you a list of all names (not only functions) that are available\n",
    "\n",
    "dir(__builtins__)"
   ]
  },
  {
   "cell_type": "markdown",
   "metadata": {},
   "source": [
    "Better: https://docs.python.org/3/library/functions.html\n",
    "\n",
    "That is a list of all \"builtin\" functions in Python, that come predefined."
   ]
  },
  {
   "cell_type": "markdown",
   "metadata": {},
   "source": [
    "# Things are boring!\n",
    "\n",
    "We can define variables, and assign them values. But these values are all known to the program at the start. A \"real\" program doesn't know up front what values it'll get, and is thus more interesting.\n",
    "\n",
    "To get input from the user, Python provides us with a function called `input`:\n",
    "\n",
    "- This function always returns a text value (a \"string\"), no matter what the user typed\n",
    "- When we invoke the function, it halts the program, waiting for the user to type something\n",
    "- We can call the function with a text argument, which is shown to the user when waiting/asking\n",
    "- Because the function \"returns\" a value, we typically put it on the right side of assignment"
   ]
  },
  {
   "cell_type": "code",
   "execution_count": 22,
   "metadata": {},
   "outputs": [
    {
     "name": "stdin",
     "output_type": "stream",
     "text": [
      "Enter your name:  Reuven\n"
     ]
    }
   ],
   "source": [
    "# here, I'm assigning, with a variable on the left and a value on the right\n",
    "# the value will come from whatever the user types\n",
    "# we know that the user will need to type something because \"input\" forces that to happen\n",
    "# when we get to the \"input\" function, the program stops, displays the argument to \"input\", and waits\n",
    "# whatever the user types is the value of the right side of assignment... \n",
    "# ... meaning that it is assigned to the variable name.\n",
    "\n",
    "name = input('Enter your name: ')"
   ]
  },
  {
   "cell_type": "code",
   "execution_count": 23,
   "metadata": {},
   "outputs": [
    {
     "name": "stdout",
     "output_type": "stream",
     "text": [
      "Reuven\n"
     ]
    }
   ],
   "source": [
    "print(name)"
   ]
  },
  {
   "cell_type": "code",
   "execution_count": 24,
   "metadata": {},
   "outputs": [
    {
     "name": "stdout",
     "output_type": "stream",
     "text": [
      "Hello, Reuven\n"
     ]
    }
   ],
   "source": [
    "print('Hello, ' + name)"
   ]
  },
  {
   "cell_type": "code",
   "execution_count": 27,
   "metadata": {},
   "outputs": [
    {
     "name": "stdin",
     "output_type": "stream",
     "text": [
      "Enter a number:  10\n"
     ]
    },
    {
     "name": "stdout",
     "output_type": "stream",
     "text": [
      "101010\n"
     ]
    }
   ],
   "source": [
    "x = input('Enter a number: ')   # this returned the text '10'\n",
    "print(x * 3)                    # multiplication in Python with * will happily multiply a text value by an integer!"
   ]
  },
  {
   "cell_type": "markdown",
   "metadata": {},
   "source": [
    "# Comparison operators\n",
    "\n",
    "If we get input from the user, we'll typically want to compare it with something else and then make a decision. To compare two values, we use a *comparison operator*, meaning something that looks at two values, and decides if the comparison is `True` or `False`. (Those are special names in Python, and yes, they are capitalized on purpose.) \n",
    "\n",
    "The most common comparison operator is `==` (yes, two `=` signs), which has *nothing* to do with `=` (assignment). The `==` operator tells us if two values are the same. If so, it returns `True`. If not, it returns `False`."
   ]
  },
  {
   "cell_type": "code",
   "execution_count": 28,
   "metadata": {},
   "outputs": [
    {
     "data": {
      "text/plain": [
       "'10'"
      ]
     },
     "execution_count": 28,
     "metadata": {},
     "output_type": "execute_result"
    }
   ],
   "source": [
    "# a cool Jupyter trick that does *NOT* work elsewhere in Python\n",
    "# if the final line in a cell gives you a value, you don't need to use \"print\" to see it!\n",
    "\n",
    "x"
   ]
  },
  {
   "cell_type": "code",
   "execution_count": 30,
   "metadata": {},
   "outputs": [
    {
     "data": {
      "text/plain": [
       "13"
      ]
     },
     "execution_count": 30,
     "metadata": {},
     "output_type": "execute_result"
    }
   ],
   "source": [
    "x = 10    # assigned the integer 10 to x\n",
    "x + 3     # returned 13, which was displayed"
   ]
  },
  {
   "cell_type": "code",
   "execution_count": 31,
   "metadata": {},
   "outputs": [
    {
     "data": {
      "text/plain": [
       "True"
      ]
     },
     "execution_count": 31,
     "metadata": {},
     "output_type": "execute_result"
    }
   ],
   "source": [
    "x = 'abcd'\n",
    "y = 'abcd'\n",
    "\n",
    "x == y"
   ]
  },
  {
   "cell_type": "code",
   "execution_count": 32,
   "metadata": {},
   "outputs": [
    {
     "data": {
      "text/plain": [
       "False"
      ]
     },
     "execution_count": 32,
     "metadata": {},
     "output_type": "execute_result"
    }
   ],
   "source": [
    "x = 'abcd'\n",
    "y = 'ABCD'\n",
    "\n",
    "x == y"
   ]
  },
  {
   "cell_type": "code",
   "execution_count": 33,
   "metadata": {},
   "outputs": [
    {
     "data": {
      "text/plain": [
       "False"
      ]
     },
     "execution_count": 33,
     "metadata": {},
     "output_type": "execute_result"
    }
   ],
   "source": [
    "x = 'abcd'\n",
    "y = 'abcd '\n",
    "\n",
    "x == y"
   ]
  },
  {
   "cell_type": "code",
   "execution_count": 34,
   "metadata": {},
   "outputs": [
    {
     "data": {
      "text/plain": [
       "True"
      ]
     },
     "execution_count": 34,
     "metadata": {},
     "output_type": "execute_result"
    }
   ],
   "source": [
    "x = 'abcd'\n",
    "y = 'abcde'\n",
    "\n",
    "x < y   # does x come before y in the dictionary? (if you only stick with lowercase letters...) really, it's lexographical sorting"
   ]
  },
  {
   "cell_type": "markdown",
   "metadata": {},
   "source": [
    "# Comparison operators\n",
    "\n",
    "- `==` -- are the two things equal?\n",
    "- `!=` -- are the two things unequal? (Opposite of `==`)\n",
    "- `<` -- is the thing on the left less than the thing on the right?\n",
    "- `>` -- is the thing on the left greater than the thing on the right?\n",
    "- `<=` -- is the thing on the left less or equal to the thing on the right?\n",
    "- `>=` -- is the thing on the left greater than or equal to the thing on the right?\n"
   ]
  },
  {
   "cell_type": "markdown",
   "metadata": {},
   "source": [
    "# RS asks about variable names\n",
    "\n",
    "I said earlier that you shouldn't use `_` at the start or end of a variable name. But once you start diving into Python, you'll see that people do this all the time!\n",
    "\n",
    "- `_` at the beginning of a variable name (e.g., `_name`), means: This is private! Don't touch it!\n",
    "- `__` at the start of a variable name (e.g., `__name`), means: I'm making sure that this variable won't conflict with others when I'm doing object-oriented programming.\n",
    "- `_` at the end of a name, (e.g., `axes_`), means: This is the result from a machine-learning model that might be useful, but isn't the main thing you care about, and will be removed in the near future\n",
    "- `__` at the end ... I haven't seen\n",
    "- `__` at both the start and the end, such as `__builtins__`, is called \"dunder,\" for \"double underscore,\" and is used for all sorts of private, internal Python stuff as well as when we write things that Python is looking for."
   ]
  },
  {
   "cell_type": "markdown",
   "metadata": {},
   "source": [
    "# Exercise: Friendly greeting\n",
    "\n",
    "1. Ask the user to enter their name, and assign to a variable, `name`.\n",
    "2. Ask the user to enter their city, and assign to a variable, `city`.\n",
    "3. Print a friendly greeting, using both the name and the city."
   ]
  },
  {
   "cell_type": "markdown",
   "metadata": {},
   "source": [
    "# Why both '' and \"\" are OK?\n",
    "\n",
    "In other languages, and especially in Unix shells, you could normally use either, but `''` were a bit \"stricter\" than `\"\"`. In Python, I guess they wanted to let you use either, because people had used them both, but they didn't want to make a difference between them.\n",
    "\n"
   ]
  },
  {
   "cell_type": "markdown",
   "metadata": {},
   "source": [
    "# SG: Keeping things in the same cell\n",
    "\n",
    "You can have multiple `print` and/or `input` lines in the same cell! Shift+ENTER executes the cell, but just `ENTER` goes down one line."
   ]
  },
  {
   "cell_type": "code",
   "execution_count": 35,
   "metadata": {},
   "outputs": [
    {
     "name": "stdin",
     "output_type": "stream",
     "text": [
      "Enter your name:  Reuven\n",
      "Enter your city:  Modi'in\n"
     ]
    },
    {
     "name": "stdout",
     "output_type": "stream",
     "text": [
      "Hello, Reuven, from Modi'in.\n"
     ]
    }
   ],
   "source": [
    "name = input('Enter your name: ')\n",
    "city = input('Enter your city: ')\n",
    "\n",
    "print('Hello, ' + name + ', from ' + city + '.')"
   ]
  },
  {
   "cell_type": "code",
   "execution_count": 36,
   "metadata": {},
   "outputs": [
    {
     "name": "stdout",
     "output_type": "stream",
     "text": [
      "Hello, Reuven from Modi'in.\n"
     ]
    }
   ],
   "source": [
    "# how can we write strings without such ugliness?\n",
    "# In the Unix shell, people used \"\" because they could *interpolate* variable values into the text.\n",
    "# that's *not* the case in Python!\n",
    "\n",
    "# instead, we have to use something known as an \"f-string\"\n",
    "# the \"f\" goes before the opening quote (either '' or \"\")\n",
    "# inside of the string, we can have {}\n",
    "# inside of the {}, we can have a Python expression or value\n",
    "\n",
    "print(f'Hello, {name} from {city}.')    # this is much, much easier to read + write!"
   ]
  },
  {
   "cell_type": "code",
   "execution_count": 38,
   "metadata": {},
   "outputs": [
    {
     "name": "stdout",
     "output_type": "stream",
     "text": [
      "My favorite number is 12\n"
     ]
    }
   ],
   "source": [
    "favorite_number = 12\n",
    "\n",
    "print(f'My favorite number is {favorite_number}')  # any non-text value is converted to text!"
   ]
  },
  {
   "cell_type": "code",
   "execution_count": 39,
   "metadata": {},
   "outputs": [
    {
     "name": "stdout",
     "output_type": "stream",
     "text": [
      "I love living in Modi'in\n"
     ]
    }
   ],
   "source": [
    "# if I wanted to put Modi'in in a literal string, I have two choices:\n",
    "\n",
    "city = \"Modi'in\"   # use double quotes!\n",
    "print(f'I love living in {city}')"
   ]
  },
  {
   "cell_type": "code",
   "execution_count": 41,
   "metadata": {},
   "outputs": [
    {
     "name": "stdout",
     "output_type": "stream",
     "text": [
      "I love living in Modi'in\n"
     ]
    }
   ],
   "source": [
    "# I find this way ugly, but sometimes there's no choice\n",
    "\n",
    "city = 'Modi\\'in'    # backslash (not slash!) before the inner ' means: don't treat this as a string-ending quote, but a regular character\n",
    "print(f'I love living in {city}')"
   ]
  },
  {
   "cell_type": "code",
   "execution_count": 42,
   "metadata": {},
   "outputs": [
    {
     "name": "stdout",
     "output_type": "stream",
     "text": [
      "hello out there and I love 10\n"
     ]
    }
   ],
   "source": [
    "# VK: You can pass multiple arguments to print!\n",
    "\n",
    "print('hello', 'out', 'there', 'and', 'I', 'love', 10)"
   ]
  },
  {
   "cell_type": "markdown",
   "metadata": {},
   "source": [
    "The \"f\" in f-string stands for \"format,\" because there is also functionality known as \"string formatting\" that you can do with longer function names... but you don't want to."
   ]
  },
  {
   "cell_type": "markdown",
   "metadata": {},
   "source": [
    "# Making decisions\n",
    "\n",
    "We want our programs to do different things when we run them different times, based on different inputs.\n",
    "\n",
    "The key to this is the `if` statement.\n",
    "\n",
    "Normally, our program will run everything and anything we throw at it, without distinction. But with `if`, we can say: Only run this section of code under certain conditions.\n",
    "\n",
    "The way it works is that `if` looks to its right, and asks: Do I see a `True` value here? If so, I'll run my block of code. If it's `False`, and there is an `else` block, then it runs."
   ]
  },
  {
   "cell_type": "code",
   "execution_count": 46,
   "metadata": {},
   "outputs": [
    {
     "name": "stdin",
     "output_type": "stream",
     "text": [
      "Enter your name:  reuven\n"
     ]
    },
    {
     "name": "stdout",
     "output_type": "stream",
     "text": [
      "Hello, reuven, whoever you are.\n"
     ]
    }
   ],
   "source": [
    "name = input('Enter your name: ')\n",
    "\n",
    "if name == 'Reuven':\n",
    "    print('Hello, boss!')\n",
    "    print('It is great to see you again!')\n",
    "else:\n",
    "    print(f'Hello, {name}, whoever you are.')"
   ]
  },
  {
   "cell_type": "markdown",
   "metadata": {},
   "source": [
    "# How does this work?\n",
    "\n",
    "- `if` looks to its right, and must see a `True` or `False` value.\n",
    "- In this case, that will be provided by `==`, our equality operator, which will compare the user's input with `'Reuven'`\n",
    "- If they are the same, then the block for `if` is executed\n",
    "    - A block starts after a `:`. The `:` comes at the end of the line. IT IS MANDATORY\n",
    "    - The block is then indented. That is how Python knows where the block starts and where it ends.\n",
    "    - That's right -- the indentation is mandatory, as well. Python doesn't use `{}` or `begin/end` or that sort of thing to indicate where the block starts and ends.\n",
    "    - Just backspace to stop the indentation\n",
    "    - In Jupyter and good Python editors, after you have `:` at the end of a line, it'll indent automatically.\n",
    "    - You can use any combination of spaces and tabs you want for indentation... but most people in Python use 4 spaces. In most editors, including Jupyter, use `TAB` to indent by one level and `shift-TAB` to un-indent by one level\n",
    "- After `if` you must have `:`, then a block\n",
    "    - The block can be any length you want\n",
    "    - It can contain any code you want, without any restrictions\n",
    "- After the `if` block, you can have an `else`\n",
    "    - It is indented at the same level as `if`\n",
    "    - It has no condition -- it's saying \"the `if` condition was `False`\"\n",
    "    - It always has `:` after\n",
    "    - It has its own block"
   ]
  },
  {
   "cell_type": "markdown",
   "metadata": {},
   "source": [
    "# Exercise: Which word comes first?\n",
    "\n",
    "1. Ask the user to enter one word (all lowercase, no punctuation), and assign to `first`.\n",
    "2. Ask the user to enter a second word (again, all lowercase, no punctuation), and assign to `second`.\n",
    "3. We will assume (for now) that the words are different!\n",
    "4. Print which word comes before which other word.\n",
    "\n",
    "Example:\n",
    "\n",
    "    Enter first word: chicken\n",
    "    Enter second word: egg\n",
    "    chicken comes before egg\n",
    "\n",
    "    Enter first word: egg\n",
    "    Enter second word: salad\n",
    "    egg comes before salad\n",
    "\n"
   ]
  },
  {
   "cell_type": "code",
   "execution_count": 49,
   "metadata": {},
   "outputs": [
    {
     "name": "stdin",
     "output_type": "stream",
     "text": [
      "Enter first word:  taxi\n",
      "Enter second word:  cab\n"
     ]
    },
    {
     "name": "stdout",
     "output_type": "stream",
     "text": [
      "cab comes before taxi\n"
     ]
    }
   ],
   "source": [
    "first = input('Enter first word: ')\n",
    "second = input('Enter second word: ')\n",
    "\n",
    "if first < second: \n",
    "    print(f'{first} comes before {second}')\n",
    "else:\n",
    "    print(f'{second} comes before {first}')    "
   ]
  },
  {
   "cell_type": "code",
   "execution_count": 52,
   "metadata": {},
   "outputs": [
    {
     "name": "stdin",
     "output_type": "stream",
     "text": [
      "Enter first word:  taxi\n",
      "Enter second word:  cab\n",
      "Add formatting?  No\n"
     ]
    },
    {
     "name": "stdout",
     "output_type": "stream",
     "text": [
      "cab comes before taxi\n"
     ]
    }
   ],
   "source": [
    "# now, with special formatting!\n",
    "\n",
    "first = input('Enter first word: ')\n",
    "second = input('Enter second word: ')\n",
    "with_formatting = input('Add formatting? ')\n",
    "\n",
    "if with_formatting == 'Yes':\n",
    "    print('******')\n",
    "    \n",
    "if first < second: \n",
    "    print(f'{first} comes before {second}')\n",
    "else:\n",
    "    print(f'{second} comes before {first}')    \n",
    "\n",
    "if with_formatting == 'Yes':\n",
    "    print('******')"
   ]
  },
  {
   "cell_type": "code",
   "execution_count": 54,
   "metadata": {},
   "outputs": [
    {
     "name": "stdout",
     "output_type": "stream",
     "text": [
      "Hello, Reuven!!!!Next line\n"
     ]
    }
   ],
   "source": [
    "# advanced stuff happening here -- watch out!\n",
    "# when you call print, it automatically adds a newline character, aka \\n, to the printout\n",
    "# you can replace that with something else by adding end='SOMETHING' in you call to print\n",
    "\n",
    "name = 'Reuven'\n",
    "print(f'Hello, {name}', end='!!!!')\n",
    "print('Next line')"
   ]
  },
  {
   "cell_type": "code",
   "execution_count": 55,
   "metadata": {},
   "outputs": [
    {
     "name": "stdout",
     "output_type": "stream",
     "text": [
      "Hello, ReuvenNext line\n"
     ]
    }
   ],
   "source": [
    "\n",
    "name = 'Reuven'\n",
    "print(f'Hello, {name}', end='')\n",
    "print('Next line')"
   ]
  },
  {
   "cell_type": "markdown",
   "metadata": {},
   "source": [
    "# Next up\n",
    "\n",
    "1. `elif` for more alternatives\n",
    "2. Combining conditions with `and`, `or`, and `not`\n",
    "3. Numbers in Python"
   ]
  },
  {
   "cell_type": "markdown",
   "metadata": {},
   "source": [
    "# JC: Null in Python?\n",
    "\n",
    "There is no \"null\" value in Python. There is a value called `None`, but it's not quite the same.\n",
    "\n",
    "If you don't want anything printed after the call to `print`, you can pass `end=''`, with the `''` being \"the empty string,\" with zero characters in them."
   ]
  },
  {
   "cell_type": "code",
   "execution_count": 56,
   "metadata": {},
   "outputs": [
    {
     "name": "stdout",
     "output_type": "stream",
     "text": [
      "Hello, Reuven!!!!\n",
      "Next line\n"
     ]
    }
   ],
   "source": [
    "# JF: Add \\n (newline) to end, and then it will go down one line\n",
    "\n",
    "name = 'Reuven'\n",
    "print(f'Hello, {name}', end='!!!!\\n')\n",
    "print('Next line')"
   ]
  },
  {
   "cell_type": "markdown",
   "metadata": {},
   "source": [
    "# U1: Do we always start with `input`?\n",
    "\n",
    "Someone once told me that all programs look like this:\n",
    "\n",
    "- Setup\n",
    "    - set up variables\n",
    "    - Get input from the user\n",
    "    - Read from a database or the network\n",
    "- Computation\n",
    "    - Do your actual work!\n",
    "- Report\n",
    "    - Print on the screen\n",
    "    - Print to a file\n",
    "    - Send to a network connection\n",
    "    - Write to a database"
   ]
  },
  {
   "cell_type": "markdown",
   "metadata": {},
   "source": [
    "# What if our condition has more than two possibilities?\n",
    "\n",
    "So far, we've said that `if` looks to its right and checks if there is a `True` value. But what if it's not a `True`-`False` kind of thing? What if there are three or more possibilities?\n",
    "\n",
    "In such cases, we can use an `elif` clause:\n",
    "\n",
    "- Like `if`, it has a condition, and if the condition is `True`, its block runs\n",
    "- It must come *after* an initial `if`\n",
    "- You can have as many `elif` clauses as you want\n",
    "- The first clause whose condition is `True` runs, and no other block runs\n",
    "- `else` still runs only if all of the `if` and `elif` conditions are `False`"
   ]
  },
  {
   "cell_type": "code",
   "execution_count": 58,
   "metadata": {},
   "outputs": [
    {
     "name": "stdin",
     "output_type": "stream",
     "text": [
      "Enter your name:  teacup\n"
     ]
    },
    {
     "name": "stdout",
     "output_type": "stream",
     "text": [
      "how are you typing?\n"
     ]
    }
   ],
   "source": [
    "name = input('Enter your name: ')\n",
    "\n",
    "if name == 'Reuven':\n",
    "    print('Hi, boss!')\n",
    "elif name == 'someone else':\n",
    "    print('That is a very weird name, Mr/Ms Else!')\n",
    "elif name == 'teacup':\n",
    "    print('how are you typing?')\n",
    "else:\n",
    "    print(f'Hello, {name}, I do not know you.')"
   ]
  },
  {
   "cell_type": "markdown",
   "metadata": {},
   "source": [
    "In an `if/else` set of clauses, one and only one of the blocks will fire. \n",
    "\n",
    "If there is no `else`, then it's possible for nothing to fire. But once you have `else`, then it's guaranteed that something will run. But it's also guaranteed that only one will run."
   ]
  },
  {
   "cell_type": "markdown",
   "metadata": {},
   "source": [
    "# TM: Can we comment a block?\n",
    "\n",
    "No, only `#` is used for comments in Python.\n",
    "\n",
    "However:\n",
    "\n",
    "In Jupyter and most editors, you can highlight a block and use command-/ to comment the whole thing.\n"
   ]
  },
  {
   "cell_type": "code",
   "execution_count": 59,
   "metadata": {},
   "outputs": [
    {
     "name": "stdout",
     "output_type": "stream",
     "text": [
      "Bigger than 20\n"
     ]
    }
   ],
   "source": [
    "# watch out for overlapping conditions!\n",
    "\n",
    "number = 50\n",
    "\n",
    "if number > 20:\n",
    "    print('Bigger than 20')\n",
    "elif number > 30:\n",
    "    print('Bigger than 30')\n",
    "elif number > 40:\n",
    "    print('Bigger than 40')\n",
    "elif number > 50:\n",
    "    print('Bigger than 50')\n",
    "elif number > 60:\n",
    "    print('Bigger than 60')\n",
    "elif number > 70:\n",
    "    print('Bigger than 70')\n",
    "else:\n",
    "    print('Not very big at all!')\n"
   ]
  },
  {
   "cell_type": "code",
   "execution_count": 60,
   "metadata": {},
   "outputs": [
    {
     "name": "stdout",
     "output_type": "stream",
     "text": [
      "Bigger than 40\n"
     ]
    }
   ],
   "source": [
    "# by reversing the order, we also get a different result\n",
    "\n",
    "number = 50\n",
    "\n",
    "if number > 70:\n",
    "    print('Bigger than 70')\n",
    "elif number > 60:\n",
    "    print('Bigger than 60')\n",
    "elif number > 50:\n",
    "    print('Bigger than 50')\n",
    "elif number > 40:\n",
    "    print('Bigger than 40')\n",
    "elif number > 30:\n",
    "    print('Bigger than 30')\n",
    "elif number > 20:\n",
    "    print('Bigger than 20')\n",
    "else:\n",
    "    print('Not very big at all!')\n"
   ]
  },
  {
   "cell_type": "markdown",
   "metadata": {},
   "source": [
    "# Exercise: Which comes first?\n",
    "\n",
    "Redo the previous exercise in which:\n",
    "\n",
    "- Ask the user to enter a word, and assign to `first`\n",
    "- Ask the user to enter a word, and assign to `second`\n",
    "- This time, we don't care if the words are identical!\n",
    "- Print which comes first *OR* that they are the same.\n",
    "\n",
    "Example:\n",
    "\n",
    "    Enter first word: chicken\n",
    "    Enter second word: chicken\n",
    "    You typed chicken twice!"
   ]
  },
  {
   "cell_type": "code",
   "execution_count": 62,
   "metadata": {},
   "outputs": [
    {
     "name": "stdin",
     "output_type": "stream",
     "text": [
      "Enter first word:  chicken\n",
      "Enter second word:  egg\n"
     ]
    },
    {
     "name": "stdout",
     "output_type": "stream",
     "text": [
      "chicken comes before egg\n"
     ]
    }
   ],
   "source": [
    "first = input('Enter first word: ')\n",
    "second = input('Enter second word: ')\n",
    "\n",
    "if first < second: \n",
    "    print(f'{first} comes before {second}')\n",
    "elif first > second:\n",
    "    print(f'{second} comes before {first}')    \n",
    "else:\n",
    "    print(f'{first} and {second} are the same!')"
   ]
  },
  {
   "cell_type": "code",
   "execution_count": 65,
   "metadata": {},
   "outputs": [
    {
     "name": "stdin",
     "output_type": "stream",
     "text": [
      "Enter first word  egg\n",
      " Enter second word egg\n"
     ]
    },
    {
     "name": "stdout",
     "output_type": "stream",
     "text": [
      "you have entered the word twice \n"
     ]
    }
   ],
   "source": [
    "# NS\n",
    "\n",
    "first = input ( 'Enter first word ')\n",
    "second = input(' Enter second word')\n",
    "\n",
    "if first < second:\n",
    "  print(f'{first}   comes befotre {second} ' )\n",
    "elif second < first:\n",
    "  print(f'{second}   comes befotre {first} ' )\n",
    "else :\n",
    "   print(f'you have entered the word twice ' )"
   ]
  },
  {
   "cell_type": "code",
   "execution_count": null,
   "metadata": {},
   "outputs": [],
   "source": [
    "# another possible solution \n",
    "# (we only need two of ==, <, and >)\n",
    "\n",
    "first = input('Enter first word: ')\n",
    "second = input('Enter second word: ')\n",
    "\n",
    "if first < second: \n",
    "    print(f'{first} comes before {second}')\n",
    "elif first == second:\n",
    "    print(f'{first} and {second} are the same!')\n",
    "else:  # by default, this must be >\n",
    "    print(f'{second} comes before {first}')    \n"
   ]
  },
  {
   "cell_type": "markdown",
   "metadata": {},
   "source": [
    "# What if we want to combine conditions?\n",
    "\n",
    "Normally, a comparison operator (e.g., `==`) works on two things, and returns `True` or `False`. But what if I want to know if two different conditions are `True`?\n",
    "\n",
    "We can combine them with `and`, which returns `True` if it sees `True` on both its left and right sides."
   ]
  },
  {
   "cell_type": "code",
   "execution_count": 66,
   "metadata": {},
   "outputs": [
    {
     "name": "stdout",
     "output_type": "stream",
     "text": [
      "Both are what you want!\n"
     ]
    }
   ],
   "source": [
    "x = 10\n",
    "y = 20\n",
    "\n",
    "#        True     and      True   ---> True\n",
    "if     x == 10    and     y == 20:\n",
    "    print('Both are what you want!')\n",
    "    "
   ]
  },
  {
   "cell_type": "code",
   "execution_count": 67,
   "metadata": {},
   "outputs": [],
   "source": [
    "x = 10\n",
    "y = 20\n",
    "\n",
    "#        False    and       True --> False\n",
    "if     x == 30    and     y == 20:\n",
    "    print('Both are what you want!')\n",
    "    "
   ]
  },
  {
   "cell_type": "code",
   "execution_count": 69,
   "metadata": {},
   "outputs": [
    {
     "name": "stdout",
     "output_type": "stream",
     "text": [
      "At least one what you want!\n"
     ]
    }
   ],
   "source": [
    "# Similar, but different: `or`\n",
    "\n",
    "# If you use `or` instead of `and`, then if *either* side is `True`, the result is `True`. One (not both) can be `True`.\n",
    "\n",
    "x = 10\n",
    "y = 20\n",
    "\n",
    "#       True      or      True   -> True\n",
    "if     x == 10    or     y == 20:\n",
    "    print('At least one what you want!')\n",
    "    "
   ]
  },
  {
   "cell_type": "code",
   "execution_count": 70,
   "metadata": {},
   "outputs": [
    {
     "name": "stdout",
     "output_type": "stream",
     "text": [
      "At least one what you want!\n"
     ]
    }
   ],
   "source": [
    "# Similar, but different: `or`\n",
    "\n",
    "# If you use `or` instead of `and`, then if *either* side is `True`, the result is `True`. One (not both) can be `True`.\n",
    "\n",
    "x = 10\n",
    "y = 20\n",
    "\n",
    "#       False      or      True   -> True\n",
    "if     x == 50    or     y == 20:\n",
    "    print('At least one what you want!')\n",
    "    "
   ]
  },
  {
   "cell_type": "markdown",
   "metadata": {},
   "source": [
    "# less common: `not`\n",
    "\n",
    "You can put `not` in front of a `True` or `False` value, and get the opposite.\n",
    "\n",
    "Don't think that `and`, `or`, and `not` are \"beginner\" terms in Python, and that \"real\" coders use symbols like `&` and `|` and `~`. These will *NOT* do what you want or think in Python!"
   ]
  },
  {
   "cell_type": "code",
   "execution_count": null,
   "metadata": {},
   "outputs": [],
   "source": []
  }
 ],
 "metadata": {
  "kernelspec": {
   "display_name": "Python 3 (ipykernel)",
   "language": "python",
   "name": "python3"
  },
  "language_info": {
   "codemirror_mode": {
    "name": "ipython",
    "version": 3
   },
   "file_extension": ".py",
   "mimetype": "text/x-python",
   "name": "python",
   "nbconvert_exporter": "python",
   "pygments_lexer": "ipython3",
   "version": "3.13.2"
  }
 },
 "nbformat": 4,
 "nbformat_minor": 4
}
