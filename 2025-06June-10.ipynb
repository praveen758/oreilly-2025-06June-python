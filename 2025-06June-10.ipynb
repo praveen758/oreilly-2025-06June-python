{
 "cells": [
  {
   "cell_type": "markdown",
   "metadata": {},
   "source": [
    "# Agenda, day 2: Loops, lists, and tuples\n",
    "\n",
    "1. Q&A\n",
    "2. Loops\n",
    "    - `for` loops\n",
    "    - How they work\n",
    "    - Controlling the loops\n",
    "    - The index (or the lack thereof)\n",
    "    - `while` loops\n",
    "4. Lists\n",
    "    - How are they similar to (and different from) strings?\n",
    "    - Creating, retrieving from lists\n",
    "    - Lists are *mutable*, and what that means\n",
    "5. Turning strings into lists, and vice versa\n",
    "    - `str.split` -- which returns a list of strings based on a string\n",
    "    - `str.join` -- which returns a string based on a list of strings\n",
    "7. Tuples\n",
    "    - How this fits into our picture with strings and lists\n",
    "    - Creating and working with tuples\n",
    "    - Tuple unpacking"
   ]
  },
  {
   "cell_type": "code",
   "execution_count": 2,
   "metadata": {},
   "outputs": [
    {
     "data": {
      "text/plain": [
       "str"
      ]
     },
     "execution_count": 2,
     "metadata": {},
     "output_type": "execute_result"
    }
   ],
   "source": [
    "s = 'Hello'\n",
    "\n",
    "type(s) "
   ]
  },
  {
   "cell_type": "code",
   "execution_count": 3,
   "metadata": {},
   "outputs": [
    {
     "data": {
      "text/plain": [
       "'Hello'"
      ]
     },
     "execution_count": 3,
     "metadata": {},
     "output_type": "execute_result"
    }
   ],
   "source": [
    "# because it's a string, all string methods are available on it\n",
    "\n",
    "s.capitalize()"
   ]
  },
  {
   "cell_type": "code",
   "execution_count": 4,
   "metadata": {},
   "outputs": [
    {
     "data": {
      "text/plain": [
       "'HELLO'"
      ]
     },
     "execution_count": 4,
     "metadata": {},
     "output_type": "execute_result"
    }
   ],
   "source": [
    "s.upper()"
   ]
  },
  {
   "cell_type": "code",
   "execution_count": 5,
   "metadata": {},
   "outputs": [
    {
     "data": {
      "text/plain": [
       "'hELLO'"
      ]
     },
     "execution_count": 5,
     "metadata": {},
     "output_type": "execute_result"
    }
   ],
   "source": [
    "s.swapcase()"
   ]
  },
  {
   "cell_type": "markdown",
   "metadata": {},
   "source": [
    "RM got an error saying, \"NoneType object doesn't have swapcase defined\"\n",
    "\n",
    "1. What is `None`? What is `NoneType`?\n",
    "2. How does this happen?\n",
    "\n",
    "`None` is a special value in Python that says, \"Nothing to see here.\" If you have a variable and you want it be defined but you don't want to give it a value that might be mistaken for something else, such as 0 or a string, then you can assign `None` to it. The `None` value does ... nothing at all! It has no methods. It has no attributes. You can't do anything with it."
   ]
  },
  {
   "cell_type": "code",
   "execution_count": 6,
   "metadata": {},
   "outputs": [
    {
     "ename": "AttributeError",
     "evalue": "'NoneType' object has no attribute 'swapcase'",
     "output_type": "error",
     "traceback": [
      "\u001b[31m---------------------------------------------------------------------------\u001b[39m",
      "\u001b[31mAttributeError\u001b[39m                            Traceback (most recent call last)",
      "\u001b[36mCell\u001b[39m\u001b[36m \u001b[39m\u001b[32mIn[6]\u001b[39m\u001b[32m, line 3\u001b[39m\n\u001b[32m      1\u001b[39m s = \u001b[38;5;28;01mNone\u001b[39;00m\n\u001b[32m----> \u001b[39m\u001b[32m3\u001b[39m \u001b[43ms\u001b[49m\u001b[43m.\u001b[49m\u001b[43mswapcase\u001b[49m()\n",
      "\u001b[31mAttributeError\u001b[39m: 'NoneType' object has no attribute 'swapcase'"
     ]
    }
   ],
   "source": [
    "s = None\n",
    "\n",
    "s.swapcase()"
   ]
  },
  {
   "cell_type": "markdown",
   "metadata": {},
   "source": [
    "How do you get `None` if you didn't intend to?\n",
    "\n",
    "My guess is that you retrieved a value that you thought was a string but was actually `None`. Or you're using a variation on Python that doesn't implement `swapcase`. \n",
    "\n",
    "This error often happens when people invoke a method, thinking that they're going to get a string, int, etc. back, but they r"
   ]
  }
 ],
 "metadata": {
  "kernelspec": {
   "display_name": "Python 3 (ipykernel)",
   "language": "python",
   "name": "python3"
  },
  "language_info": {
   "codemirror_mode": {
    "name": "ipython",
    "version": 3
   },
   "file_extension": ".py",
   "mimetype": "text/x-python",
   "name": "python",
   "nbconvert_exporter": "python",
   "pygments_lexer": "ipython3",
   "version": "3.13.2"
  }
 },
 "nbformat": 4,
 "nbformat_minor": 4
}
