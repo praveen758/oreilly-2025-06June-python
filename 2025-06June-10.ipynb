{
 "cells": [
  {
   "cell_type": "markdown",
   "metadata": {},
   "source": [
    "# Agenda, day 2: Loops, lists, and tuples\n",
    "\n",
    "1. Q&A\n",
    "2. Loops\n",
    "    - `for` loops\n",
    "    - How they work\n",
    "    - Controlling the loops\n",
    "    - The index (or the lack thereof)\n",
    "    - `while` loops\n",
    "4. Lists\n",
    "    - How are they similar to (and different from) strings?\n",
    "    - Creating, retrieving from lists\n",
    "    - Lists are *mutable*, and what that means\n",
    "5. Turning strings into lists, and vice versa\n",
    "    - `str.split` -- which returns a list of strings based on a string\n",
    "    - `str.join` -- which returns a string based on a list of strings\n",
    "7. Tuples\n",
    "    - How this fits into our picture with strings and lists\n",
    "    - Creating and working with tuples\n",
    "    - Tuple unpacking"
   ]
  },
  {
   "cell_type": "code",
   "execution_count": null,
   "metadata": {},
   "outputs": [],
   "source": []
  }
 ],
 "metadata": {
  "kernelspec": {
   "display_name": "Python 3 (ipykernel)",
   "language": "python",
   "name": "python3"
  },
  "language_info": {
   "codemirror_mode": {
    "name": "ipython",
    "version": 3
   },
   "file_extension": ".py",
   "mimetype": "text/x-python",
   "name": "python",
   "nbconvert_exporter": "python",
   "pygments_lexer": "ipython3",
   "version": "3.13.2"
  }
 },
 "nbformat": 4,
 "nbformat_minor": 4
}
