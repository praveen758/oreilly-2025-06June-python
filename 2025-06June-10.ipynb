{
 "cells": [
  {
   "cell_type": "markdown",
   "metadata": {},
   "source": [
    "# Agenda, day 2: Loops, lists, and tuples\n",
    "\n",
    "1. Q&A\n",
    "2. Loops\n",
    "    - `for` loops\n",
    "    - How they work\n",
    "    - Controlling the loops\n",
    "    - The index (or the lack thereof)\n",
    "    - `while` loops\n",
    "4. Lists\n",
    "    - How are they similar to (and different from) strings?\n",
    "    - Creating, retrieving from lists\n",
    "    - Lists are *mutable*, and what that means\n",
    "5. Turning strings into lists, and vice versa\n",
    "    - `str.split` -- which returns a list of strings based on a string\n",
    "    - `str.join` -- which returns a string based on a list of strings\n",
    "7. Tuples\n",
    "    - How this fits into our picture with strings and lists\n",
    "    - Creating and working with tuples\n",
    "    - Tuple unpacking"
   ]
  },
  {
   "cell_type": "code",
   "execution_count": 2,
   "metadata": {},
   "outputs": [
    {
     "data": {
      "text/plain": [
       "str"
      ]
     },
     "execution_count": 2,
     "metadata": {},
     "output_type": "execute_result"
    }
   ],
   "source": [
    "s = 'Hello'\n",
    "\n",
    "type(s) "
   ]
  },
  {
   "cell_type": "code",
   "execution_count": 3,
   "metadata": {},
   "outputs": [
    {
     "data": {
      "text/plain": [
       "'Hello'"
      ]
     },
     "execution_count": 3,
     "metadata": {},
     "output_type": "execute_result"
    }
   ],
   "source": [
    "# because it's a string, all string methods are available on it\n",
    "\n",
    "s.capitalize()"
   ]
  },
  {
   "cell_type": "code",
   "execution_count": 4,
   "metadata": {},
   "outputs": [
    {
     "data": {
      "text/plain": [
       "'HELLO'"
      ]
     },
     "execution_count": 4,
     "metadata": {},
     "output_type": "execute_result"
    }
   ],
   "source": [
    "s.upper()"
   ]
  },
  {
   "cell_type": "code",
   "execution_count": 5,
   "metadata": {},
   "outputs": [
    {
     "data": {
      "text/plain": [
       "'hELLO'"
      ]
     },
     "execution_count": 5,
     "metadata": {},
     "output_type": "execute_result"
    }
   ],
   "source": [
    "s.swapcase()"
   ]
  },
  {
   "cell_type": "markdown",
   "metadata": {},
   "source": [
    "RM got an error saying, \"NoneType object doesn't have swapcase defined\"\n",
    "\n",
    "1. What is `None`? What is `NoneType`?\n",
    "2. How does this happen?\n",
    "\n",
    "`None` is a special value in Python that says, \"Nothing to see here.\" If you have a variable and you want it be defined but you don't want to give it a value that might be mistaken for something else, such as 0 or a string, then you can assign `None` to it. The `None` value does ... nothing at all! It has no methods. It has no attributes. You can't do anything with it."
   ]
  },
  {
   "cell_type": "code",
   "execution_count": 6,
   "metadata": {},
   "outputs": [
    {
     "ename": "AttributeError",
     "evalue": "'NoneType' object has no attribute 'swapcase'",
     "output_type": "error",
     "traceback": [
      "\u001b[31m---------------------------------------------------------------------------\u001b[39m",
      "\u001b[31mAttributeError\u001b[39m                            Traceback (most recent call last)",
      "\u001b[36mCell\u001b[39m\u001b[36m \u001b[39m\u001b[32mIn[6]\u001b[39m\u001b[32m, line 3\u001b[39m\n\u001b[32m      1\u001b[39m s = \u001b[38;5;28;01mNone\u001b[39;00m\n\u001b[32m----> \u001b[39m\u001b[32m3\u001b[39m \u001b[43ms\u001b[49m\u001b[43m.\u001b[49m\u001b[43mswapcase\u001b[49m()\n",
      "\u001b[31mAttributeError\u001b[39m: 'NoneType' object has no attribute 'swapcase'"
     ]
    }
   ],
   "source": [
    "s = None\n",
    "\n",
    "s.swapcase()"
   ]
  },
  {
   "cell_type": "markdown",
   "metadata": {},
   "source": [
    "How do you get `None` if you didn't intend to?\n",
    "\n",
    "My guess is that you retrieved a value that you thought was a string but was actually `None`. Or you're using a variation on Python that doesn't implement `swapcase`. \n",
    "\n",
    "This error often happens when people invoke a method, thinking that they're going to get a string, int, etc. back, but they really get `None`."
   ]
  },
  {
   "cell_type": "code",
   "execution_count": 7,
   "metadata": {},
   "outputs": [
    {
     "name": "stdin",
     "output_type": "stream",
     "text": [
      "tell me a number 1 to 10 100\n"
     ]
    },
    {
     "name": "stdout",
     "output_type": "stream",
     "text": [
      "Really? that is more than 10 smarty pants\n",
      "your number is 100\n"
     ]
    }
   ],
   "source": [
    "# IA\n",
    "\n",
    "number = int(input('tell me a number 1 to 10'))\n",
    "\n",
    "x=10\n",
    "y=1\n",
    "\n",
    "if number>x:\n",
    "    print ('Really? that is more than 10 smarty pants')\n",
    "if number<y:\n",
    "    print ('Really? that is less than 1 smarty pants')\n",
    "else:\n",
    "    print ('your number is ' + str(number))"
   ]
  },
  {
   "cell_type": "markdown",
   "metadata": {},
   "source": [
    "In an `if`/`else` pairing, one -- and only one of them -- is going to fire. It's guaranteed that one of them will run!\n",
    "\n",
    "Things get more complicated if you have only an `if`, or if you have `if`/`elif`/`else`:\n",
    "\n",
    "- If you only have an `if`, then it either fires (if the condition is `True`) or nothing happens.\n",
    "- If you have `if`/`elif`/`else`, then one of the blocks fires. Again, one and only one will run -- no more, and no less.\n",
    "\n",
    "In IA's code, we have:\n",
    "\n",
    "- `if`\n",
    "- `if`\n",
    "- `else`\n",
    "\n",
    "The first `if`, on line 8, will either be `True` (and the `print` will run) or it'll be `False` and nothing will happen.\n",
    "\n",
    "Then, no matter what happened on line 8, on line 10, we run `if`. And we check -- is `number < y`? If so, then line 11 runs. If not, then line 13 runs.\n",
    "\n",
    "If you pass a number that's greater than 10, then the block on line 9 runs (the `print`) and *ALSO* the block on line 13 runs."
   ]
  },
  {
   "cell_type": "code",
   "execution_count": 8,
   "metadata": {},
   "outputs": [
    {
     "name": "stdin",
     "output_type": "stream",
     "text": [
      "tell me a number 1 to 10 100\n"
     ]
    },
    {
     "name": "stdout",
     "output_type": "stream",
     "text": [
      "Really? that is more than 10 smarty pants\n"
     ]
    }
   ],
   "source": [
    "# fix the bug with if/elif/else -- now, only one block (lines 9, 11, 13) will run\n",
    "\n",
    "number = int(input('tell me a number 1 to 10'))\n",
    "\n",
    "x=10\n",
    "y=1\n",
    "\n",
    "if number>x:\n",
    "    print ('Really? that is more than 10 smarty pants')\n",
    "elif number<y:\n",
    "    print ('Really? that is less than 1 smarty pants')\n",
    "else:\n",
    "    print ('your number is ' + str(number))"
   ]
  },
  {
   "cell_type": "code",
   "execution_count": 9,
   "metadata": {},
   "outputs": [
    {
     "name": "stdout",
     "output_type": "stream",
     "text": [
      "abcde\n"
     ]
    }
   ],
   "source": [
    "# IA\n",
    "\n",
    "# If we print a string, then we don't see the surrounding quotes\n",
    "\n",
    "s = 'abcde'\n",
    "print(s)"
   ]
  },
  {
   "cell_type": "code",
   "execution_count": 10,
   "metadata": {},
   "outputs": [
    {
     "name": "stdout",
     "output_type": "stream",
     "text": [
      "abcde\n"
     ]
    }
   ],
   "source": [
    "print(f'{s}')  # what if I do this?  It's the same as before, on line 6, just more code"
   ]
  },
  {
   "cell_type": "code",
   "execution_count": 12,
   "metadata": {},
   "outputs": [
    {
     "name": "stdout",
     "output_type": "stream",
     "text": [
      "\"abcde\"\n"
     ]
    }
   ],
   "source": [
    "# but we can also say\n",
    "\n",
    "print(f'\"{s}\"')  # now my string includes \"\" before and after the evaluation of s"
   ]
  },
  {
   "cell_type": "code",
   "execution_count": 13,
   "metadata": {},
   "outputs": [
    {
     "name": "stdout",
     "output_type": "stream",
     "text": [
      "abcde\n"
     ]
    }
   ],
   "source": [
    "#  you might also be confused by printing a value vs. seeing it in Jupyter\n",
    "# this is confusing!\n",
    "\n",
    "s = 'abcde'\n",
    "print(s)  # here, we're printing s's value on the screen for the end user"
   ]
  },
  {
   "cell_type": "code",
   "execution_count": 14,
   "metadata": {},
   "outputs": [
    {
     "data": {
      "text/plain": [
       "'abcde'"
      ]
     },
     "execution_count": 14,
     "metadata": {},
     "output_type": "execute_result"
    }
   ],
   "source": [
    "s   # just say s -- here, it's the final value in a Jupyter cell. We thus see its printed representation, which includes quotes!"
   ]
  },
  {
   "cell_type": "code",
   "execution_count": 15,
   "metadata": {},
   "outputs": [
    {
     "data": {
      "text/plain": [
       "0.3333333333333333"
      ]
     },
     "execution_count": 15,
     "metadata": {},
     "output_type": "execute_result"
    }
   ],
   "source": [
    "# IA\n",
    "\n",
    "1/3"
   ]
  },
  {
   "cell_type": "code",
   "execution_count": 16,
   "metadata": {},
   "outputs": [
    {
     "data": {
      "text/plain": [
       "3.3333333333333335"
      ]
     },
     "execution_count": 16,
     "metadata": {},
     "output_type": "execute_result"
    }
   ],
   "source": [
    "10/3"
   ]
  },
  {
   "cell_type": "code",
   "execution_count": 17,
   "metadata": {},
   "outputs": [
    {
     "data": {
      "text/plain": [
       "33.333333333333336"
      ]
     },
     "execution_count": 17,
     "metadata": {},
     "output_type": "execute_result"
    }
   ],
   "source": [
    "100/3"
   ]
  },
  {
   "cell_type": "code",
   "execution_count": 18,
   "metadata": {},
   "outputs": [
    {
     "name": "stdout",
     "output_type": "stream",
     "text": [
      "abcde\n"
     ]
    }
   ],
   "source": [
    "# GM asks - why use an f-string if it requires more code?\n",
    "\n",
    "s = 'abcde'\n",
    "\n",
    "print(s)  # prints s"
   ]
  },
  {
   "cell_type": "code",
   "execution_count": 19,
   "metadata": {},
   "outputs": [
    {
     "name": "stdout",
     "output_type": "stream",
     "text": [
      "abcde\n"
     ]
    }
   ],
   "source": [
    "print(f'{s}') # same as above, but more convoluted"
   ]
  },
  {
   "cell_type": "code",
   "execution_count": 20,
   "metadata": {},
   "outputs": [
    {
     "name": "stdout",
     "output_type": "stream",
     "text": [
      "10 + 20 = 30\n"
     ]
    }
   ],
   "source": [
    "# you use an f-string to mix static and dynamic content\n",
    "\n",
    "x = 10\n",
    "y = 20\n",
    "\n",
    "print(f'{x} + {y} = {x+y}')"
   ]
  },
  {
   "cell_type": "markdown",
   "metadata": {},
   "source": [
    "# Loops\n",
    "\n",
    "One of the most important rules in all of programming is \"DRY\" -- \"don't repeat yourself!\"\n",
    "\n",
    "The computer is very dumb and very fast, and we should have it repeat things for us. We don't need to repeat our code. If you see code that is pretty similar across a number of lines, then you should rethink how you wrote it."
   ]
  },
  {
   "cell_type": "code",
   "execution_count": 21,
   "metadata": {},
   "outputs": [
    {
     "name": "stdout",
     "output_type": "stream",
     "text": [
      "a\n",
      "b\n",
      "c\n",
      "d\n"
     ]
    }
   ],
   "source": [
    "s = 'abcd'\n",
    "\n",
    "# I want to print every character in s\n",
    "\n",
    "print(s[0])\n",
    "print(s[1])\n",
    "print(s[2])\n",
    "print(s[3])"
   ]
  },
  {
   "cell_type": "markdown",
   "metadata": {},
   "source": [
    "## Unfortunately, this works!\n",
    "\n",
    "How can I do it in another way? The answer is a \"loop,\" where we tell the computer what we want to do, and how many times we want to do it. And Python follows our instructions, doing what we asked a number of times.\n",
    "\n",
    "A loop is a important construct, not just for saving us writing (and reading and maintaining) code, but also because it lets us think at a higher level. We can say, \"Repeat X for every Y,\" and be done with it.\n",
    "\n",
    "Python has two types of loops:\n",
    "- `for`\n",
    "- `while`\n"
   ]
  },
  {
   "cell_type": "code",
   "execution_count": 23,
   "metadata": {},
   "outputs": [
    {
     "name": "stdout",
     "output_type": "stream",
     "text": [
      "Start\n",
      "a\n",
      "b\n",
      "c\n",
      "d\n",
      "End\n"
     ]
    }
   ],
   "source": [
    "print('Start')\n",
    "for one_character in 'abcd':\n",
    "    print(one_character)\n",
    "print('End')"
   ]
  },
  {
   "cell_type": "markdown",
   "metadata": {},
   "source": [
    "# How does a `for` loop work?\n",
    "\n",
    "1. `for` asks the value at the end of the line (`'abcd'`) if it is *iterable*, meaning: Does it know how to behave inside of a `for` loop?\n",
    "    - If not, then we get an error, a `TypeError`\n",
    "2. `for` asks the value for its next thing.\n",
    "    - If we're at the end, the loop ends and exits.\n",
    "3. The value we got in step 2 is assigned to our loop variable -- in this case, `one_character`\n",
    "4. The loop body, indented (starting on line 2) executes with that loop variable defined\n",
    "5. Return to step 2\n",
    "\n",
    "A few things to keep in mind:\n",
    "- You will always see `for VARIABLE in VALUE:` at the start of a `for` loop\n",
    "- Following that line, you'll have an indented block -- which can be of any length -- at least one line, but no limit\n",
    "- Inside of the block, aka the loop body, you can have *ANY CODE AT ALL*, including `if`, `print`, `input`, or even another `for` loop. (\"Nested loop\")\n",
    "- The fact that we get one character at a time in our loop has **NOTHING** to do with the fact that I called the variable `one_character`. I can use any variable name I want, and it'll work the same way. However, we want to choose good variable names, that will make it easy to understand our program (by us and our colleagues).\n",
    "- If you have used languages like C before, then this kind of `for` loop looks super weird -- where is the index? Why aren't we counting the number of items we're iterating over? Answer: Python loops are higher level, and don't use an index."
   ]
  },
  {
   "cell_type": "markdown",
   "metadata": {},
   "source": [
    "# Exercise: Vowels, digits, and others\n",
    "\n",
    "1. Define three variables -- `vowels`, `digits`, and `others` -- all with a value of 0.\n",
    "2. Ask the user to enter some text.\n",
    "3. Go through that string, one character at a time.\n",
    "    - If the character is a vowel (a, e, i, o, u) then add 1 to `vowels`\n",
    "    - If the character is a digit (0-9), then add 1 to `digits`\n",
    "    - In all other cases, add 1 to `others`\n",
    "4. In the end, print each variable and its count.\n",
    "\n",
    "Example:\n",
    "\n",
    "    Enter text: hello!! 123\n",
    "    vowels: 2\n",
    "    digits: 3\n",
    "    others: 6"
   ]
  },
  {
   "cell_type": "code",
   "execution_count": 24,
   "metadata": {},
   "outputs": [
    {
     "data": {
      "text/plain": [
       "True"
      ]
     },
     "execution_count": 24,
     "metadata": {},
     "output_type": "execute_result"
    }
   ],
   "source": [
    "# how can we know if a character (or a string) is a vowel?\n",
    "\n",
    "one_character = 'e'       # assign\n",
    "\n",
    "one_character in 'aeiou'  # check -- this returns True/False"
   ]
  },
  {
   "cell_type": "code",
   "execution_count": 25,
   "metadata": {},
   "outputs": [
    {
     "data": {
      "text/plain": [
       "True"
      ]
     },
     "execution_count": 25,
     "metadata": {},
     "output_type": "execute_result"
    }
   ],
   "source": [
    "# how can we know if a character (or a string) contains only digits?\n",
    "\n",
    "one_character = '1'   # assign\n",
    "\n",
    "one_character in '0123456789'"
   ]
  },
  {
   "cell_type": "code",
   "execution_count": 26,
   "metadata": {},
   "outputs": [
    {
     "data": {
      "text/plain": [
       "True"
      ]
     },
     "execution_count": 26,
     "metadata": {},
     "output_type": "execute_result"
    }
   ],
   "source": [
    "# another way (and a bit nicer, I think) is to use the str.isdigit method\n",
    "\n",
    "one_character.isdigit()  # also returns True/False"
   ]
  },
  {
   "cell_type": "code",
   "execution_count": 28,
   "metadata": {},
   "outputs": [
    {
     "name": "stdin",
     "output_type": "stream",
     "text": [
      "Enter some text:  hello!! 123\n"
     ]
    },
    {
     "name": "stdout",
     "output_type": "stream",
     "text": [
      "vowels = 2\n",
      "digits = 3\n",
      "others = 6\n"
     ]
    }
   ],
   "source": [
    "vowels = 0\n",
    "digits = 0\n",
    "others = 0\n",
    "\n",
    "text = input('Enter some text: ').strip()  \n",
    "\n",
    "for one_character in text:\n",
    "    if one_character in 'aeiou':   # if the character is a vowel...\n",
    "        vowels += 1                # ... add 1 to the \"vowels\" variable\n",
    "    elif one_character.isdigit():  # if the character is a digit...\n",
    "        digits += 1                # ... add 1 to the \"digits\" variable\n",
    "    else:\n",
    "        others += 1                # otherwise, add 1 to \"others\"\n",
    "\n",
    "print(f'vowels = {vowels}')        \n",
    "print(f'digits = {digits}')\n",
    "print(f'others = {others}')"
   ]
  },
  {
   "cell_type": "code",
   "execution_count": null,
   "metadata": {},
   "outputs": [],
   "source": [
    "# DM\n",
    "\n",
    "user = input('Enter text:')\n",
    "\n",
    "vowel = 'a,e,i,o,u'\n",
    "digits = '1,2,3,4,5,6,7,8,9'\n",
    "\n",
    "for character in user:\n",
    "  "
   ]
  },
  {
   "cell_type": "code",
   "execution_count": 29,
   "metadata": {},
   "outputs": [
    {
     "name": "stdin",
     "output_type": "stream",
     "text": [
      "Please enter a word:  hello!! 123\n"
     ]
    },
    {
     "name": "stdout",
     "output_type": "stream",
     "text": [
      "vowels: 2\n",
      "digits: 0\n",
      "others: 9\n"
     ]
    }
   ],
   "source": [
    "# ID\n",
    "\n",
    "vowels = 0\n",
    "digits = 0\n",
    "others = 0\n",
    "\n",
    "word = input(\"Please enter a word: \")\n",
    "\n",
    "for char in word:\n",
    "    if char in 'aeiou':\n",
    "        vowels += 1\n",
    "    elif char in range(10):\n",
    "        digits += 1\n",
    "    else:\n",
    "        others += 1\n",
    "\n",
    "print(f'vowels: {vowels}')\n",
    "print(f'digits: {digits}')\n",
    "print(f'others: {others}')\n",
    "        "
   ]
  },
  {
   "cell_type": "code",
   "execution_count": 30,
   "metadata": {},
   "outputs": [
    {
     "data": {
      "text/plain": [
       "True"
      ]
     },
     "execution_count": 30,
     "metadata": {},
     "output_type": "execute_result"
    }
   ],
   "source": [
    "'1' in '12345'"
   ]
  },
  {
   "cell_type": "code",
   "execution_count": 31,
   "metadata": {},
   "outputs": [
    {
     "data": {
      "text/plain": [
       "False"
      ]
     },
     "execution_count": 31,
     "metadata": {},
     "output_type": "execute_result"
    }
   ],
   "source": [
    "'1' in range(10)   # this asks if the value on the left is in the range on the right"
   ]
  },
  {
   "cell_type": "code",
   "execution_count": 32,
   "metadata": {},
   "outputs": [
    {
     "data": {
      "text/plain": [
       "True"
      ]
     },
     "execution_count": 32,
     "metadata": {},
     "output_type": "execute_result"
    }
   ],
   "source": [
    "# the *integer* 1 is in the range, not the string '1'!\n",
    "\n",
    "1 in range(10)"
   ]
  },
  {
   "cell_type": "code",
   "execution_count": null,
   "metadata": {},
   "outputs": [],
   "source": [
    "# IA asks: Is this\n",
    "\n",
    "vowels = 0\n",
    "digits = 0\n",
    "others = 0\n",
    "\n",
    "# the same as this:\n",
    "vowels=int()\n",
    "digits=int()\n",
    "others=int()"
   ]
  },
  {
   "cell_type": "code",
   "execution_count": 33,
   "metadata": {},
   "outputs": [
    {
     "ename": "TypeError",
     "evalue": "'int' object is not iterable",
     "output_type": "error",
     "traceback": [
      "\u001b[31m---------------------------------------------------------------------------\u001b[39m",
      "\u001b[31mTypeError\u001b[39m                                 Traceback (most recent call last)",
      "\u001b[36mCell\u001b[39m\u001b[36m \u001b[39m\u001b[32mIn[33]\u001b[39m\u001b[32m, line 4\u001b[39m\n\u001b[32m      1\u001b[39m \u001b[38;5;66;03m# what if I want to iterate a number of times?\u001b[39;00m\n\u001b[32m      2\u001b[39m \u001b[38;5;66;03m# for that, I cannot iterate over an integer\u001b[39;00m\n\u001b[32m----> \u001b[39m\u001b[32m4\u001b[39m \u001b[38;5;28;43;01mfor\u001b[39;49;00m\u001b[43m \u001b[49m\u001b[43mi\u001b[49m\u001b[43m \u001b[49m\u001b[38;5;129;43;01min\u001b[39;49;00m\u001b[43m \u001b[49m\u001b[32;43m5\u001b[39;49m\u001b[43m:\u001b[49m\n\u001b[32m      5\u001b[39m \u001b[43m    \u001b[49m\u001b[38;5;28;43mprint\u001b[39;49m\u001b[43m(\u001b[49m\u001b[43mi\u001b[49m\u001b[43m)\u001b[49m  \u001b[38;5;66;03m# this will not work!\u001b[39;00m\n",
      "\u001b[31mTypeError\u001b[39m: 'int' object is not iterable"
     ]
    }
   ],
   "source": [
    "# what if I want to iterate a number of times?\n",
    "# for that, I cannot iterate over an integer\n",
    "\n",
    "for i in 5:\n",
    "    print(i)  # this will not work!"
   ]
  },
  {
   "cell_type": "code",
   "execution_count": 35,
   "metadata": {},
   "outputs": [
    {
     "name": "stdout",
     "output_type": "stream",
     "text": [
      "0\n",
      "1\n",
      "2\n",
      "3\n",
      "4\n"
     ]
    }
   ],
   "source": [
    "for i in range(5):  # this gives us 5 numbers! It's the number of times we gave range... but not that number\n",
    "    print(i)  # notice that we get numbers, starting at 0 up to (not including) 5"
   ]
  },
  {
   "cell_type": "code",
   "execution_count": 36,
   "metadata": {},
   "outputs": [
    {
     "name": "stdout",
     "output_type": "stream",
     "text": [
      "Yes, x is 10\n",
      "Yes, y is 20\n"
     ]
    }
   ],
   "source": [
    "# consider:\n",
    "\n",
    "x = 10\n",
    "y = 20\n",
    "\n",
    "if x == 10:\n",
    "    print('Yes, x is 10')\n",
    "if y == 20:\n",
    "    print('Yes, y is 20')"
   ]
  },
  {
   "cell_type": "code",
   "execution_count": 37,
   "metadata": {},
   "outputs": [
    {
     "name": "stdout",
     "output_type": "stream",
     "text": [
      "Yes, x is 10\n",
      "Yes, y is 20\n"
     ]
    }
   ],
   "source": [
    "# consider:\n",
    "\n",
    "x = 10\n",
    "y = 20\n",
    "\n",
    "if x == 10:\n",
    "    print('Yes, x is 10')\n",
    "\n",
    "    if y == 20:     # this is indented, which means it'll only run if x == 10\n",
    "        print('Yes, y is 20')"
   ]
  },
  {
   "cell_type": "code",
   "execution_count": 38,
   "metadata": {},
   "outputs": [],
   "source": [
    "# consider:\n",
    "\n",
    "x = 30\n",
    "y = 20\n",
    "\n",
    "if x == 10:   # this will be False, and the entire block will *NOT* run\n",
    "    print('Yes, x is 10')\n",
    "\n",
    "    if y == 20:     # this is indented, which means it'll only run if x == 10\n",
    "        print('Yes, y is 20')"
   ]
  },
  {
   "cell_type": "code",
   "execution_count": 39,
   "metadata": {},
   "outputs": [
    {
     "name": "stdout",
     "output_type": "stream",
     "text": [
      "Yes, y is 20\n"
     ]
    }
   ],
   "source": [
    "# consider:\n",
    "\n",
    "x = 30\n",
    "y = 20\n",
    "\n",
    "if x == 10:   # this will be False, and the entire block will *NOT* run\n",
    "    print('Yes, x is 10')\n",
    "\n",
    "if y == 20:     # this is not indented, which means it's independent of x's value\n",
    "    print('Yes, y is 20')"
   ]
  },
  {
   "cell_type": "code",
   "execution_count": 42,
   "metadata": {},
   "outputs": [
    {
     "name": "stdin",
     "output_type": "stream",
     "text": [
      "Enter a string hello!! 123\n"
     ]
    },
    {
     "name": "stdout",
     "output_type": "stream",
     "text": [
      "2\n",
      "3\n",
      "6\n"
     ]
    }
   ],
   "source": [
    "# NS\n",
    "vowels=0\n",
    "digits=0\n",
    "others= 0\n",
    "\n",
    "text = input('Enter a string')\n",
    " \n",
    "for one_character in text:\n",
    "  if one_character in 'aeiou':\n",
    "    vowels = vowels + 1\n",
    "  elif one_character.isdigit():\n",
    "    digits = digits + 1\n",
    "  else:\n",
    "    others = others + 1\n",
    "    \n",
    "\n",
    "# because these lines are indented,\n",
    "# they are part of the \"else\"! \n",
    "# every time we have a non-digit, non-vowel, it'll print an update\n",
    "      \n",
    "print(vowels)        \n",
    "print(digits)\n",
    "print(others) "
   ]
  },
  {
   "cell_type": "code",
   "execution_count": null,
   "metadata": {},
   "outputs": [],
   "source": [
    "# JC\n",
    "\n",
    "# are these the same?\n",
    "\n",
    "vowels =+ 1   # here, we're assigning to vowels. What are we assigning? The value +1.  Same as saying \"vowels = +1\"\n",
    "\n",
    "vowels += 1   # here, we're using the += operator to add 1 to whatever vowels currently is"
   ]
  },
  {
   "cell_type": "code",
   "execution_count": 44,
   "metadata": {},
   "outputs": [
    {
     "name": "stdout",
     "output_type": "stream",
     "text": [
      "10\n",
      "11\n",
      "12\n",
      "13\n",
      "14\n"
     ]
    }
   ],
   "source": [
    "# normally, when we run range, we go from 0 to (not including) the number we specify\n",
    "# but we can provide *two* numbers, the start and end\n",
    "\n",
    "for one_number in range(10, 15):  # from 10, until (not including) 15\n",
    "    print(one_number)"
   ]
  },
  {
   "cell_type": "markdown",
   "metadata": {},
   "source": [
    "# Indexes (or the lack of them)\n",
    "\n",
    "In other programming languages, we usually run a `for` loop on integers, starting at 0, then going up to the maximum index of the string (for example). But in Python, we don't do that! There is no index. How can that be?\n",
    "\n",
    "The answer is: Loops in Python are very dumb. They depend on the value we're iterating over to give us each subsequent value. We keep asking for the next value, and either we get it or the loop ends.\n",
    "\n",
    "- The `for` loop doesn't control what values we get with each iteration.\n",
    "- The `for` loop doesn't control (or even know) how many values we're going to get.\n",
    "\n",
    "This means that we don't have, or need an index. We'll just keep getting new values.\n",
    "\n",
    "But. Sometimes we want an index. Sometimes we want to print a number next to our values.\n",
    "\n",
    "How can we do that?"
   ]
  },
  {
   "cell_type": "code",
   "execution_count": 46,
   "metadata": {},
   "outputs": [
    {
     "name": "stdout",
     "output_type": "stream",
     "text": [
      "0: a\n",
      "1: b\n",
      "2: c\n",
      "3: d\n"
     ]
    }
   ],
   "source": [
    "# method #1: the manual approach\n",
    "\n",
    "index = 0     # I create an \"index\" variable\n",
    "\n",
    "for one_character in 'abcd':\n",
    "    print(f'{index}: {one_character}')\n",
    "    index += 1"
   ]
  },
  {
   "cell_type": "code",
   "execution_count": 47,
   "metadata": {},
   "outputs": [
    {
     "name": "stdout",
     "output_type": "stream",
     "text": [
      "0: a\n",
      "1: b\n",
      "2: c\n",
      "3: d\n"
     ]
    }
   ],
   "source": [
    "# method #2: the automatic approach\n",
    "# this requires a bit of Python magic\n",
    "\n",
    "# the \"enumerate\" function is run on 'abcd'\n",
    "# it knows how to behave inside of a \"for\" loop\n",
    "# with each iteration, \"enumerate\" returns TWO VALUES:\n",
    "# the current index, and the current character\n",
    "\n",
    "for index, one_character in enumerate('abcd'):\n",
    "    print(f'{index}: {one_character}')"
   ]
  },
  {
   "cell_type": "markdown",
   "metadata": {},
   "source": [
    "# Exercise: Powers of 10\n",
    "\n",
    "As you might know, a decimal number can be broken into powers of 10. The number 2,468 can be written as:\n",
    "\n",
    "    (2 * 10**3) + (4 * 10**2) + (6 * 10**1) + (8 * 10**0)\n",
    "\n",
    "1. Ask the user to enter a number. (It'll be a string)\n",
    "2. Iterate over that string, printing each digit in the above format, with the digit you're getting and the correct power of 10.\n",
    "\n",
    "Hints:\n",
    "1. You'll want to use `enumerate` for this (almost certainly)\n",
    "2. Remember that you can get the length of the string with `len(text)`.\n",
    "3. Don't forget that `len(text)` will return the number of characters, which is 1 more than the highest index."
   ]
  },
  {
   "cell_type": "code",
   "execution_count": 52,
   "metadata": {},
   "outputs": [
    {
     "name": "stdin",
     "output_type": "stream",
     "text": [
      "Enter a number:  2468\n"
     ]
    },
    {
     "name": "stdout",
     "output_type": "stream",
     "text": [
      "2 * 10**3\n",
      "4 * 10**2\n",
      "6 * 10**1\n",
      "8 * 10**0\n"
     ]
    }
   ],
   "source": [
    "text = input('Enter a number: ').strip()\n",
    "\n",
    "for index, one_character in enumerate(text):\n",
    "    power = len(text) - index - 1\n",
    "    print(f'{one_character} * 10**{power}')"
   ]
  },
  {
   "cell_type": "code",
   "execution_count": 53,
   "metadata": {},
   "outputs": [
    {
     "name": "stdin",
     "output_type": "stream",
     "text": [
      "Enter a number in text:  2468\n"
     ]
    },
    {
     "name": "stdout",
     "output_type": "stream",
     "text": [
      "2 * 0 \n",
      "4 * 1 \n",
      "6 * 2 \n",
      "8 * 3 \n"
     ]
    }
   ],
   "source": [
    "# DM\n",
    "\n",
    "#Exercise: Powers of 10\n",
    "\n",
    "text = input('Enter a number in text: ')\n",
    "\n",
    "for index, text_number in enumerate(text):\n",
    "  print(f'{text_number} * {index} ') "
   ]
  },
  {
   "cell_type": "markdown",
   "metadata": {},
   "source": [
    "# `while` loops\n",
    "\n",
    "So far, our loops have all been `for` loops. They go over a value (a string or a `range`) and give us, one at a time, the values. The idea of a `for` loop is that I want to get each value and do something with it.\n",
    "\n",
    "But sometimes, I don't know how many iterations I want. Sometimes, I want to keep going until a certain condition is met. That might take a little time, or it might take a long time.\n",
    "\n",
    "For such cases, we have a `while` loop. `while` is just like `if`:\n",
    "\n",
    "- It has a condition\n",
    "- If the condition is `True`, then the loop's block (body) runs\n",
    "- If the condition is `False`, then the loop's body does *not* run (and the loop exits)\n",
    "\n",
    "But there is a big difference between `if` and `while`: After each run of the loop body, `while` then goes back to the condition, checks it again, and runs the body again if the condition is still `True`."
   ]
  },
  {
   "cell_type": "code",
   "execution_count": 54,
   "metadata": {},
   "outputs": [
    {
     "name": "stdout",
     "output_type": "stream",
     "text": [
      "5\n",
      "4\n",
      "3\n",
      "2\n",
      "1\n"
     ]
    }
   ],
   "source": [
    "x = 5\n",
    "\n",
    "while x > 0:\n",
    "    print(x) \n",
    "\n",
    "    # the loop really should contain something that changes the situation so that the loop might end\n",
    "    x = x - 1   # reduce x by 1"
   ]
  },
  {
   "cell_type": "markdown",
   "metadata": {},
   "source": [
    "# When do we use a `while` loop and when do we use a `for` loop?\n",
    "\n",
    "- Use `for` when you know how many times you want to iterate, or if you want to iterate over a known set of values\n",
    "- Use `while` if you don't know how many times you'll want to iterate, but you do know when you'll want to stop\n",
    "\n",
    "Let's assume that you go into your child's (messy) room, and you want it to be clean:\n",
    "- If you say: Pick each thing up off the floor and put it away, that's a `for` loop. You're giving an instruction that should be executed on each item\n",
    "- If you say: So long as there is something on the floor, pick something up and put it away. That is a `while` loop. You're indicating the condition under which the loop should end."
   ]
  },
  {
   "cell_type": "markdown",
   "metadata": {},
   "source": [
    "# Stopping a loop early\n",
    "\n",
    "Sometimes, we want to stop a `for` or `while` loop early:\n",
    "\n",
    "- Maybe we have achieved our goal already\n",
    "- Maybe the current value, in the current iteration, is irrelevant\n",
    "\n",
    "We have two special keywords to deal with this:\n",
    "- `break` means: Exit the loop right now. This is used when you've achieved your goal.\n",
    "- `continue` means: Exit the current iteration, but go to the top of the loop for the next one. This is used when the current iteration is irrelevant, and you might as well continue."
   ]
  },
  {
   "cell_type": "code",
   "execution_count": 60,
   "metadata": {},
   "outputs": [
    {
     "name": "stdout",
     "output_type": "stream",
     "text": [
      "Start\n",
      "a\n",
      "b\n",
      "c\n",
      "Found d; now exiting\n",
      "End\n"
     ]
    }
   ],
   "source": [
    "s = 'abcde'\n",
    "look_for = 'd'\n",
    "\n",
    "print('Start')\n",
    "for one_character in s:\n",
    "    if one_character == look_for:   # this will end the loop when we reach 'd'\n",
    "        print(f'Found {one_character}; now exiting')\n",
    "        break\n",
    "    print(one_character)\n",
    "print('End')    "
   ]
  },
  {
   "cell_type": "code",
   "execution_count": 61,
   "metadata": {},
   "outputs": [
    {
     "name": "stdout",
     "output_type": "stream",
     "text": [
      "Start\n",
      "a\n",
      "b\n",
      "c\n",
      "Found d; ignoring\n",
      "e\n",
      "End\n"
     ]
    }
   ],
   "source": [
    "s = 'abcde'\n",
    "look_for = 'd'\n",
    "\n",
    "print('Start')\n",
    "for one_character in s:\n",
    "    if one_character == look_for:   # this will end the current iteration when we reach 'd'\n",
    "        print(f'Found {one_character}; ignoring')\n",
    "        continue\n",
    "    print(one_character)\n",
    "print('End')    "
   ]
  },
  {
   "cell_type": "markdown",
   "metadata": {},
   "source": [
    "Putting `continue` on the final line of a loop body is silly. It doesn't help at all. Usually, you'll have `break` or `continue` inside of an `if` inside of the loop body."
   ]
  },
  {
   "cell_type": "markdown",
   "metadata": {},
   "source": [
    "If you have a nested loop, then `break` or `continue` will operate on the nearest loop it's inside of. If you're inside of the inner loop, then that will be affected by `break`/`continue`. \n",
    "\n",
    "If you're in the outer loop, then (only) the outer loop will be affected."
   ]
  },
  {
   "cell_type": "code",
   "execution_count": 59,
   "metadata": {},
   "outputs": [
    {
     "name": "stdin",
     "output_type": "stream",
     "text": [
      "Enter your name:  Reuven\n"
     ]
    },
    {
     "name": "stdout",
     "output_type": "stream",
     "text": [
      "Hello, Reuven!\n"
     ]
    },
    {
     "name": "stdin",
     "output_type": "stream",
     "text": [
      "Enter your name:  world\n"
     ]
    },
    {
     "name": "stdout",
     "output_type": "stream",
     "text": [
      "Hello, world!\n"
     ]
    },
    {
     "name": "stdin",
     "output_type": "stream",
     "text": [
      "Enter your name:  \n"
     ]
    }
   ],
   "source": [
    "# watch this:\n",
    "\n",
    "while True:    # this is an infinite loop! \n",
    "    name = input('Enter your name: ').strip()\n",
    "\n",
    "    if name == '':   # did the user give me an empty string? If so, exit the loop!\n",
    "        break\n",
    "\n",
    "    print(f'Hello, {name}!')"
   ]
  },
  {
   "cell_type": "markdown",
   "metadata": {},
   "source": [
    "# Exercise: Sum to 100\n",
    "\n",
    "1. Set a variable, `total`, to 0.\n",
    "2. Ask the user, repeatedly, to enter a number.\n",
    "    - If they enter a non-number, then scold them and let them try again\n",
    "3. Add the number to `total`, and print the current `total`\n",
    "4. Keep asking until `total` is > or = 100, at which point you can stop."
   ]
  },
  {
   "cell_type": "code",
   "execution_count": 62,
   "metadata": {},
   "outputs": [
    {
     "name": "stdout",
     "output_type": "stream",
     "text": [
      "Hello\n"
     ]
    }
   ],
   "source": [
    "print('Hello')    # I run a cell with shift+ENTER"
   ]
  },
  {
   "cell_type": "code",
   "execution_count": 65,
   "metadata": {},
   "outputs": [
    {
     "name": "stdin",
     "output_type": "stream",
     "text": [
      "Enter your name:  Reuven\n"
     ]
    },
    {
     "name": "stdout",
     "output_type": "stream",
     "text": [
      "Hello, Reuven\n"
     ]
    }
   ],
   "source": [
    "name = input('Enter your name: ').strip()    # run the cell with shift+ENTER, but I enter the text with just ENTER\n",
    "print(f'Hello, {name}')"
   ]
  },
  {
   "cell_type": "code",
   "execution_count": 68,
   "metadata": {},
   "outputs": [
    {
     "name": "stdin",
     "output_type": "stream",
     "text": [
      "Enter a number:  10\n"
     ]
    },
    {
     "name": "stdout",
     "output_type": "stream",
     "text": [
      "total is now 10\n"
     ]
    },
    {
     "name": "stdin",
     "output_type": "stream",
     "text": [
      "Enter a number:  hello\n"
     ]
    },
    {
     "name": "stdout",
     "output_type": "stream",
     "text": [
      "hello is not numeric; try again\n"
     ]
    },
    {
     "name": "stdin",
     "output_type": "stream",
     "text": [
      "Enter a number:  50\n"
     ]
    },
    {
     "name": "stdout",
     "output_type": "stream",
     "text": [
      "total is now 60\n"
     ]
    },
    {
     "name": "stdin",
     "output_type": "stream",
     "text": [
      "Enter a number:  asdfassfdafa\n"
     ]
    },
    {
     "name": "stdout",
     "output_type": "stream",
     "text": [
      "asdfassfdafa is not numeric; try again\n"
     ]
    },
    {
     "name": "stdin",
     "output_type": "stream",
     "text": [
      "Enter a number:  ab12\n"
     ]
    },
    {
     "name": "stdout",
     "output_type": "stream",
     "text": [
      "ab12 is not numeric; try again\n"
     ]
    },
    {
     "name": "stdin",
     "output_type": "stream",
     "text": [
      "Enter a number:  90\n"
     ]
    },
    {
     "name": "stdout",
     "output_type": "stream",
     "text": [
      "total is now 150\n"
     ]
    }
   ],
   "source": [
    "total = 0 \n",
    "\n",
    "while total < 100:\n",
    "    s = input('Enter a number: ').strip()\n",
    "\n",
    "    if s.isdigit():  # if s only contains digits, then we can turn it into an int...\n",
    "        n = int(s)\n",
    "    \n",
    "        total += n\n",
    "        print(f'total is now {total}')\n",
    "    else:\n",
    "        print(f'{s} is not numeric; try again')"
   ]
  },
  {
   "cell_type": "code",
   "execution_count": null,
   "metadata": {},
   "outputs": [],
   "source": [
    "# another way to approach it\n",
    "\n",
    "total = 0 \n",
    "\n",
    "while total < 100:\n",
    "    s = input('Enter a number: ').strip()\n",
    "\n",
    "    if not s.isdigit():\n",
    "        print(f'{s} is not numeric; try again')\n",
    "        continue\n",
    "\n",
    "    n = int(s)\n",
    "\n",
    "    total += n\n",
    "    print(f'total is now {total}')\n"
   ]
  },
  {
   "cell_type": "code",
   "execution_count": null,
   "metadata": {},
   "outputs": [],
   "source": [
    "# JC\n",
    "\n",
    "total=0\n",
    "while total<=100:\n",
    "    while True:\n",
    "        current=input('enter a number: ')\n",
    "        if current.isdigit(): # also tried .isnumeric with same result\n",
    "            total=total+int(current)\n",
    "            break\n",
    "        else:\n",
    "            print('dummy, thats not a number')\n",
    "            break\n",
    "\n",
    "    print(f'Current total is: {total} ')"
   ]
  },
  {
   "cell_type": "markdown",
   "metadata": {},
   "source": [
    "# Next up\n",
    "\n",
    "1. Lists!\n",
    "2. Converting strings to lists, and back\n",
    "3. Tuples"
   ]
  },
  {
   "cell_type": "markdown",
   "metadata": {},
   "source": [
    "# Lists!\n",
    "\n",
    "So far, we have talked about a number of data structures in Python:\n",
    "\n",
    "- `int`\n",
    "- `float`\n",
    "- `string`\n",
    "\n",
    "But we're missing a \"container\" that we can put lots of things into. The main container used in Python is a list:\n",
    "\n",
    "- Other languages often call this kind of value an \"array.\" Technically, they are wrong and we are right; these are not arrays. But if you are coming from a language that calls them arrays, that's OK.\n",
    "- A list can contain any number of values of any types.\n",
    "- A list can contain values of different types; they don't have to be the same. However, it's traditional in Python for them all to be of the same type.\n",
    "- There is no minimum and no maximum number of elements in a list.\n",
    "- Both lists and strings are \"sequences,\" meaning that they are part of the same family. Which means that they work in very similar ways, much of the time.\n",
    "\n",
    "# Defining lists\n",
    "\n",
    "- We define a list with `[]`\n",
    "- Just `[]` is known as \"the empty list\"\n",
    "- If we want elements in the list, we put them with `,` (commas) between elements"
   ]
  },
  {
   "cell_type": "code",
   "execution_count": 69,
   "metadata": {},
   "outputs": [
    {
     "data": {
      "text/plain": [
       "list"
      ]
     },
     "execution_count": 69,
     "metadata": {},
     "output_type": "execute_result"
    }
   ],
   "source": [
    "mylist = [10, 20, 30, 40, 50, 60, 70]\n",
    "\n",
    "type(mylist)  # what kind of data structure does the variable \"mylist\" refer to?"
   ]
  },
  {
   "cell_type": "code",
   "execution_count": 70,
   "metadata": {},
   "outputs": [
    {
     "data": {
      "text/plain": [
       "7"
      ]
     },
     "execution_count": 70,
     "metadata": {},
     "output_type": "execute_result"
    }
   ],
   "source": [
    "# how many elements are in mylist?\n",
    "len(mylist)  "
   ]
  },
  {
   "cell_type": "code",
   "execution_count": 71,
   "metadata": {},
   "outputs": [
    {
     "data": {
      "text/plain": [
       "10"
      ]
     },
     "execution_count": 71,
     "metadata": {},
     "output_type": "execute_result"
    }
   ],
   "source": [
    "# how do I retrieve the first element?\n",
    "mylist[0] "
   ]
  },
  {
   "cell_type": "code",
   "execution_count": 72,
   "metadata": {},
   "outputs": [
    {
     "data": {
      "text/plain": [
       "20"
      ]
     },
     "execution_count": 72,
     "metadata": {},
     "output_type": "execute_result"
    }
   ],
   "source": [
    "# how do I retrieve the 2nd element?\n",
    "mylist[1]"
   ]
  },
  {
   "cell_type": "code",
   "execution_count": 73,
   "metadata": {},
   "outputs": [
    {
     "data": {
      "text/plain": [
       "[30, 40, 50]"
      ]
     },
     "execution_count": 73,
     "metadata": {},
     "output_type": "execute_result"
    }
   ],
   "source": [
    "# I can get a slice\n",
    "mylist[2:5]  # starting at index 2, ending before index 5"
   ]
  },
  {
   "cell_type": "code",
   "execution_count": 74,
   "metadata": {},
   "outputs": [
    {
     "data": {
      "text/plain": [
       "True"
      ]
     },
     "execution_count": 74,
     "metadata": {},
     "output_type": "execute_result"
    }
   ],
   "source": [
    "# I can also search in a list\n",
    "\n",
    "40 in mylist"
   ]
  },
  {
   "cell_type": "code",
   "execution_count": 75,
   "metadata": {},
   "outputs": [
    {
     "data": {
      "text/plain": [
       "False"
      ]
     },
     "execution_count": 75,
     "metadata": {},
     "output_type": "execute_result"
    }
   ],
   "source": [
    "'abcd' in mylist"
   ]
  },
  {
   "cell_type": "code",
   "execution_count": 76,
   "metadata": {},
   "outputs": [
    {
     "name": "stdout",
     "output_type": "stream",
     "text": [
      "10\n",
      "20\n",
      "30\n",
      "40\n",
      "50\n",
      "60\n",
      "70\n"
     ]
    }
   ],
   "source": [
    "# I can iterate with a \"for\" loop\n",
    "\n",
    "for one_item in mylist:\n",
    "    print(one_item)"
   ]
  },
  {
   "cell_type": "markdown",
   "metadata": {},
   "source": [
    "Of course, there are differences between lists and strings: A big one is that strings only contain characters. But lists can contain anything."
   ]
  },
  {
   "cell_type": "markdown",
   "metadata": {},
   "source": [
    "# The biggest difference between strings and lists\n",
    "\n",
    "Lists are *mutable*. We can change them. This doesn't mean that we can assign a new value to a variable. Rather, it means that we can change the list, and the variable will continue referring to it, but it'll be changed."
   ]
  },
  {
   "cell_type": "code",
   "execution_count": 77,
   "metadata": {},
   "outputs": [
    {
     "data": {
      "text/plain": [
       "30"
      ]
     },
     "execution_count": 77,
     "metadata": {},
     "output_type": "execute_result"
    }
   ],
   "source": [
    "mylist = [10, 20, 30, 40, 50]\n",
    "\n",
    "mylist[2]  # get the item at index 2"
   ]
  },
  {
   "cell_type": "code",
   "execution_count": 79,
   "metadata": {},
   "outputs": [],
   "source": [
    "mylist[2] = 9999"
   ]
  },
  {
   "cell_type": "code",
   "execution_count": 80,
   "metadata": {},
   "outputs": [
    {
     "data": {
      "text/plain": [
       "[10, 20, 9999, 40, 50]"
      ]
     },
     "execution_count": 80,
     "metadata": {},
     "output_type": "execute_result"
    }
   ],
   "source": [
    "mylist"
   ]
  },
  {
   "cell_type": "markdown",
   "metadata": {},
   "source": [
    "By contrast, we cannot change strings. Ever. Once a string is defined, it cannot change. It is \"immutable.\""
   ]
  },
  {
   "cell_type": "markdown",
   "metadata": {},
   "source": [
    "# Add an element to the end of a list with `list.append()`"
   ]
  },
  {
   "cell_type": "code",
   "execution_count": 81,
   "metadata": {},
   "outputs": [
    {
     "data": {
      "text/plain": [
       "[10, 20, 9999, 40, 50, 8888]"
      ]
     },
     "execution_count": 81,
     "metadata": {},
     "output_type": "execute_result"
    }
   ],
   "source": [
    "mylist.append(8888)\n",
    "mylist"
   ]
  },
  {
   "cell_type": "code",
   "execution_count": 82,
   "metadata": {},
   "outputs": [
    {
     "data": {
      "text/plain": [
       "[10, 20, 9999, 40, 50, 8888, 7777]"
      ]
     },
     "execution_count": 82,
     "metadata": {},
     "output_type": "execute_result"
    }
   ],
   "source": [
    "mylist.append(7777)\n",
    "mylist"
   ]
  },
  {
   "cell_type": "code",
   "execution_count": 83,
   "metadata": {},
   "outputs": [
    {
     "data": {
      "text/plain": [
       "[10, 20, 9999, 40, 50, 8888, 7777, [10, 20, 30]]"
      ]
     },
     "execution_count": 83,
     "metadata": {},
     "output_type": "execute_result"
    }
   ],
   "source": [
    "mylist.append([10, 20, 30])\n",
    "mylist"
   ]
  },
  {
   "cell_type": "code",
   "execution_count": 84,
   "metadata": {},
   "outputs": [
    {
     "data": {
      "text/plain": [
       "8"
      ]
     },
     "execution_count": 84,
     "metadata": {},
     "output_type": "execute_result"
    }
   ],
   "source": [
    "len(mylist)"
   ]
  },
  {
   "cell_type": "code",
   "execution_count": 85,
   "metadata": {},
   "outputs": [
    {
     "data": {
      "text/plain": [
       "[10, 20, 9999, 40, 50, 8888, 7777, [10, 20, 30], 22, 33, 44]"
      ]
     },
     "execution_count": 85,
     "metadata": {},
     "output_type": "execute_result"
    }
   ],
   "source": [
    "# can we add more than one thing at a time?\n",
    "# yes, there are a few ways. My favorite one is +=\n",
    "\n",
    "mylist += [22, 33, 44]    # += looks to its right, and runs a \"for\" loop, appending each value to the list\n",
    "mylist"
   ]
  },
  {
   "cell_type": "code",
   "execution_count": 86,
   "metadata": {},
   "outputs": [
    {
     "data": {
      "text/plain": [
       "[10, 20, 9999, 40, 50, 8888, 7777, [10, 20, 30], 22, 33, 44, 'hello']"
      ]
     },
     "execution_count": 86,
     "metadata": {},
     "output_type": "execute_result"
    }
   ],
   "source": [
    "mylist.append('hello')\n",
    "mylist"
   ]
  },
  {
   "cell_type": "code",
   "execution_count": 87,
   "metadata": {},
   "outputs": [
    {
     "data": {
      "text/plain": [
       "'hello'"
      ]
     },
     "execution_count": 87,
     "metadata": {},
     "output_type": "execute_result"
    }
   ],
   "source": [
    "# what about removing items?\n",
    "# the easiest and most standard way is with the list.pop method\n",
    "# it removes + returns the value from the end\n",
    "\n",
    "mylist.pop()"
   ]
  },
  {
   "cell_type": "code",
   "execution_count": 88,
   "metadata": {},
   "outputs": [
    {
     "data": {
      "text/plain": [
       "[10, 20, 9999, 40, 50, 8888, 7777, [10, 20, 30], 22, 33, 44]"
      ]
     },
     "execution_count": 88,
     "metadata": {},
     "output_type": "execute_result"
    }
   ],
   "source": [
    "mylist"
   ]
  },
  {
   "cell_type": "code",
   "execution_count": 89,
   "metadata": {},
   "outputs": [
    {
     "data": {
      "text/plain": [
       "44"
      ]
     },
     "execution_count": 89,
     "metadata": {},
     "output_type": "execute_result"
    }
   ],
   "source": [
    "mylist.pop()"
   ]
  },
  {
   "cell_type": "code",
   "execution_count": 90,
   "metadata": {},
   "outputs": [
    {
     "data": {
      "text/plain": [
       "[10, 20, 9999, 40, 50, 8888, 7777, [10, 20, 30], 22, 33]"
      ]
     },
     "execution_count": 90,
     "metadata": {},
     "output_type": "execute_result"
    }
   ],
   "source": [
    "mylist"
   ]
  },
  {
   "cell_type": "code",
   "execution_count": 91,
   "metadata": {},
   "outputs": [
    {
     "data": {
      "text/plain": [
       "33"
      ]
     },
     "execution_count": 91,
     "metadata": {},
     "output_type": "execute_result"
    }
   ],
   "source": [
    "mylist.pop()"
   ]
  },
  {
   "cell_type": "code",
   "execution_count": 92,
   "metadata": {},
   "outputs": [
    {
     "data": {
      "text/plain": [
       "[10, 20, 9999, 40, 50, 8888, 7777, [10, 20, 30], 22]"
      ]
     },
     "execution_count": 92,
     "metadata": {},
     "output_type": "execute_result"
    }
   ],
   "source": [
    "mylist"
   ]
  },
  {
   "cell_type": "code",
   "execution_count": null,
   "metadata": {},
   "outputs": [],
   "source": []
  }
 ],
 "metadata": {
  "kernelspec": {
   "display_name": "Python 3 (ipykernel)",
   "language": "python",
   "name": "python3"
  },
  "language_info": {
   "codemirror_mode": {
    "name": "ipython",
    "version": 3
   },
   "file_extension": ".py",
   "mimetype": "text/x-python",
   "name": "python",
   "nbconvert_exporter": "python",
   "pygments_lexer": "ipython3",
   "version": "3.13.2"
  }
 },
 "nbformat": 4,
 "nbformat_minor": 4
}
