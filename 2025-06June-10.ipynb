{
 "cells": [
  {
   "cell_type": "markdown",
   "metadata": {},
   "source": [
    "# Agenda, day 2: Loops, lists, and tuples\n",
    "\n",
    "1. Q&A\n",
    "2. Loops\n",
    "    - `for` loops\n",
    "    - How they work\n",
    "    - Controlling the loops\n",
    "    - The index (or the lack thereof)\n",
    "    - `while` loops\n",
    "4. Lists\n",
    "    - How are they similar to (and different from) strings?\n",
    "    - Creating, retrieving from lists\n",
    "    - Lists are *mutable*, and what that means\n",
    "5. Turning strings into lists, and vice versa\n",
    "    - `str.split` -- which returns a list of strings based on a string\n",
    "    - `str.join` -- which returns a string based on a list of strings\n",
    "7. Tuples\n",
    "    - How this fits into our picture with strings and lists\n",
    "    - Creating and working with tuples\n",
    "    - Tuple unpacking"
   ]
  },
  {
   "cell_type": "code",
   "execution_count": 2,
   "metadata": {},
   "outputs": [
    {
     "data": {
      "text/plain": [
       "str"
      ]
     },
     "execution_count": 2,
     "metadata": {},
     "output_type": "execute_result"
    }
   ],
   "source": [
    "s = 'Hello'\n",
    "\n",
    "type(s) "
   ]
  },
  {
   "cell_type": "code",
   "execution_count": 3,
   "metadata": {},
   "outputs": [
    {
     "data": {
      "text/plain": [
       "'Hello'"
      ]
     },
     "execution_count": 3,
     "metadata": {},
     "output_type": "execute_result"
    }
   ],
   "source": [
    "# because it's a string, all string methods are available on it\n",
    "\n",
    "s.capitalize()"
   ]
  },
  {
   "cell_type": "code",
   "execution_count": 4,
   "metadata": {},
   "outputs": [
    {
     "data": {
      "text/plain": [
       "'HELLO'"
      ]
     },
     "execution_count": 4,
     "metadata": {},
     "output_type": "execute_result"
    }
   ],
   "source": [
    "s.upper()"
   ]
  },
  {
   "cell_type": "code",
   "execution_count": 5,
   "metadata": {},
   "outputs": [
    {
     "data": {
      "text/plain": [
       "'hELLO'"
      ]
     },
     "execution_count": 5,
     "metadata": {},
     "output_type": "execute_result"
    }
   ],
   "source": [
    "s.swapcase()"
   ]
  },
  {
   "cell_type": "markdown",
   "metadata": {},
   "source": [
    "RM got an error saying, \"NoneType object doesn't have swapcase defined\"\n",
    "\n",
    "1. What is `None`? What is `NoneType`?\n",
    "2. How does this happen?\n",
    "\n",
    "`None` is a special value in Python that says, \"Nothing to see here.\" If you have a variable and you want it be defined but you don't want to give it a value that might be mistaken for something else, such as 0 or a string, then you can assign `None` to it. The `None` value does ... nothing at all! It has no methods. It has no attributes. You can't do anything with it."
   ]
  },
  {
   "cell_type": "code",
   "execution_count": 6,
   "metadata": {},
   "outputs": [
    {
     "ename": "AttributeError",
     "evalue": "'NoneType' object has no attribute 'swapcase'",
     "output_type": "error",
     "traceback": [
      "\u001b[31m---------------------------------------------------------------------------\u001b[39m",
      "\u001b[31mAttributeError\u001b[39m                            Traceback (most recent call last)",
      "\u001b[36mCell\u001b[39m\u001b[36m \u001b[39m\u001b[32mIn[6]\u001b[39m\u001b[32m, line 3\u001b[39m\n\u001b[32m      1\u001b[39m s = \u001b[38;5;28;01mNone\u001b[39;00m\n\u001b[32m----> \u001b[39m\u001b[32m3\u001b[39m \u001b[43ms\u001b[49m\u001b[43m.\u001b[49m\u001b[43mswapcase\u001b[49m()\n",
      "\u001b[31mAttributeError\u001b[39m: 'NoneType' object has no attribute 'swapcase'"
     ]
    }
   ],
   "source": [
    "s = None\n",
    "\n",
    "s.swapcase()"
   ]
  },
  {
   "cell_type": "markdown",
   "metadata": {},
   "source": [
    "How do you get `None` if you didn't intend to?\n",
    "\n",
    "My guess is that you retrieved a value that you thought was a string but was actually `None`. Or you're using a variation on Python that doesn't implement `swapcase`. \n",
    "\n",
    "This error often happens when people invoke a method, thinking that they're going to get a string, int, etc. back, but they really get `None`."
   ]
  },
  {
   "cell_type": "code",
   "execution_count": 7,
   "metadata": {},
   "outputs": [
    {
     "name": "stdin",
     "output_type": "stream",
     "text": [
      "tell me a number 1 to 10 100\n"
     ]
    },
    {
     "name": "stdout",
     "output_type": "stream",
     "text": [
      "Really? that is more than 10 smarty pants\n",
      "your number is 100\n"
     ]
    }
   ],
   "source": [
    "# IA\n",
    "\n",
    "number = int(input('tell me a number 1 to 10'))\n",
    "\n",
    "x=10\n",
    "y=1\n",
    "\n",
    "if number>x:\n",
    "    print ('Really? that is more than 10 smarty pants')\n",
    "if number<y:\n",
    "    print ('Really? that is less than 1 smarty pants')\n",
    "else:\n",
    "    print ('your number is ' + str(number))"
   ]
  },
  {
   "cell_type": "markdown",
   "metadata": {},
   "source": [
    "In an `if`/`else` pairing, one -- and only one of them -- is going to fire. It's guaranteed that one of them will run!\n",
    "\n",
    "Things get more complicated if you have only an `if`, or if you have `if`/`elif`/`else`:\n",
    "\n",
    "- If you only have an `if`, then it either fires (if the condition is `True`) or nothing happens.\n",
    "- If you have `if`/`elif`/`else`, then one of the blocks fires. Again, one and only one will run -- no more, and no less.\n",
    "\n",
    "In IA's code, we have:\n",
    "\n",
    "- `if`\n",
    "- `if`\n",
    "- `else`\n",
    "\n",
    "The first `if`, on line 8, will either be `True` (and the `print` will run) or it'll be `False` and nothing will happen.\n",
    "\n",
    "Then, no matter what happened on line 8, on line 10, we run `if`. And we check -- is `number < y`? If so, then line 11 runs. If not, then line 13 runs.\n",
    "\n",
    "If you pass a number that's greater than 10, then the block on line 9 runs (the `print`) and *ALSO* the block on line 13 runs."
   ]
  },
  {
   "cell_type": "code",
   "execution_count": 8,
   "metadata": {},
   "outputs": [
    {
     "name": "stdin",
     "output_type": "stream",
     "text": [
      "tell me a number 1 to 10 100\n"
     ]
    },
    {
     "name": "stdout",
     "output_type": "stream",
     "text": [
      "Really? that is more than 10 smarty pants\n"
     ]
    }
   ],
   "source": [
    "# fix the bug with if/elif/else -- now, only one block (lines 9, 11, 13) will run\n",
    "\n",
    "number = int(input('tell me a number 1 to 10'))\n",
    "\n",
    "x=10\n",
    "y=1\n",
    "\n",
    "if number>x:\n",
    "    print ('Really? that is more than 10 smarty pants')\n",
    "elif number<y:\n",
    "    print ('Really? that is less than 1 smarty pants')\n",
    "else:\n",
    "    print ('your number is ' + str(number))"
   ]
  },
  {
   "cell_type": "code",
   "execution_count": 9,
   "metadata": {},
   "outputs": [
    {
     "name": "stdout",
     "output_type": "stream",
     "text": [
      "abcde\n"
     ]
    }
   ],
   "source": [
    "# IA\n",
    "\n",
    "# If we print a string, then we don't see the surrounding quotes\n",
    "\n",
    "s = 'abcde'\n",
    "print(s)"
   ]
  },
  {
   "cell_type": "code",
   "execution_count": 10,
   "metadata": {},
   "outputs": [
    {
     "name": "stdout",
     "output_type": "stream",
     "text": [
      "abcde\n"
     ]
    }
   ],
   "source": [
    "print(f'{s}')  # what if I do this?  It's the same as before, on line 6, just more code"
   ]
  },
  {
   "cell_type": "code",
   "execution_count": 12,
   "metadata": {},
   "outputs": [
    {
     "name": "stdout",
     "output_type": "stream",
     "text": [
      "\"abcde\"\n"
     ]
    }
   ],
   "source": [
    "# but we can also say\n",
    "\n",
    "print(f'\"{s}\"')  # now my string includes \"\" before and after the evaluation of s"
   ]
  },
  {
   "cell_type": "code",
   "execution_count": 13,
   "metadata": {},
   "outputs": [
    {
     "name": "stdout",
     "output_type": "stream",
     "text": [
      "abcde\n"
     ]
    }
   ],
   "source": [
    "#  you might also be confused by printing a value vs. seeing it in Jupyter\n",
    "# this is confusing!\n",
    "\n",
    "s = 'abcde'\n",
    "print(s)  # here, we're printing s's value on the screen for the end user"
   ]
  },
  {
   "cell_type": "code",
   "execution_count": 14,
   "metadata": {},
   "outputs": [
    {
     "data": {
      "text/plain": [
       "'abcde'"
      ]
     },
     "execution_count": 14,
     "metadata": {},
     "output_type": "execute_result"
    }
   ],
   "source": [
    "s   # just say s -- here, it's the final value in a Jupyter cell. We thus see its printed representation, which includes quotes!"
   ]
  },
  {
   "cell_type": "code",
   "execution_count": 15,
   "metadata": {},
   "outputs": [
    {
     "data": {
      "text/plain": [
       "0.3333333333333333"
      ]
     },
     "execution_count": 15,
     "metadata": {},
     "output_type": "execute_result"
    }
   ],
   "source": [
    "# IA\n",
    "\n",
    "1/3"
   ]
  },
  {
   "cell_type": "code",
   "execution_count": 16,
   "metadata": {},
   "outputs": [
    {
     "data": {
      "text/plain": [
       "3.3333333333333335"
      ]
     },
     "execution_count": 16,
     "metadata": {},
     "output_type": "execute_result"
    }
   ],
   "source": [
    "10/3"
   ]
  },
  {
   "cell_type": "code",
   "execution_count": 17,
   "metadata": {},
   "outputs": [
    {
     "data": {
      "text/plain": [
       "33.333333333333336"
      ]
     },
     "execution_count": 17,
     "metadata": {},
     "output_type": "execute_result"
    }
   ],
   "source": [
    "100/3"
   ]
  },
  {
   "cell_type": "code",
   "execution_count": 18,
   "metadata": {},
   "outputs": [
    {
     "name": "stdout",
     "output_type": "stream",
     "text": [
      "abcde\n"
     ]
    }
   ],
   "source": [
    "# GM asks - why use an f-string if it requires more code?\n",
    "\n",
    "s = 'abcde'\n",
    "\n",
    "print(s)  # prints s"
   ]
  },
  {
   "cell_type": "code",
   "execution_count": 19,
   "metadata": {},
   "outputs": [
    {
     "name": "stdout",
     "output_type": "stream",
     "text": [
      "abcde\n"
     ]
    }
   ],
   "source": [
    "print(f'{s}') # same as above, but more convoluted"
   ]
  },
  {
   "cell_type": "code",
   "execution_count": 20,
   "metadata": {},
   "outputs": [
    {
     "name": "stdout",
     "output_type": "stream",
     "text": [
      "10 + 20 = 30\n"
     ]
    }
   ],
   "source": [
    "# you use an f-string to mix static and dynamic content\n",
    "\n",
    "x = 10\n",
    "y = 20\n",
    "\n",
    "print(f'{x} + {y} = {x+y}')"
   ]
  },
  {
   "cell_type": "markdown",
   "metadata": {},
   "source": [
    "# Loops\n",
    "\n",
    "One of the most important rules in all of programming is \"DRY\" -- \"don't repeat yourself!\"\n",
    "\n",
    "The computer is very dumb and very fast, and we should have it repeat things for us. We don't need to repeat our code. If you see code that is pretty similar across a number of lines, then you should rethink how you wrote it."
   ]
  },
  {
   "cell_type": "code",
   "execution_count": 21,
   "metadata": {},
   "outputs": [
    {
     "name": "stdout",
     "output_type": "stream",
     "text": [
      "a\n",
      "b\n",
      "c\n",
      "d\n"
     ]
    }
   ],
   "source": [
    "s = 'abcd'\n",
    "\n",
    "# I want to print every character in s\n",
    "\n",
    "print(s[0])\n",
    "print(s[1])\n",
    "print(s[2])\n",
    "print(s[3])"
   ]
  },
  {
   "cell_type": "markdown",
   "metadata": {},
   "source": [
    "## Unfortunately, this works!\n",
    "\n",
    "How can I do it in another way? The answer is a \"loop,\" where we tell the computer what we want to do, and how many times we want to do it. And Python follows our instructions, doing what we asked a number of times.\n",
    "\n",
    "A loop is a important construct, not just for saving us writing (and reading and maintaining) code, but also because it lets us think at a higher level. We can say, \"Repeat X for every Y,\" and be done with it.\n",
    "\n",
    "Python has two types of loops:\n",
    "- `for`\n",
    "- `while`\n"
   ]
  },
  {
   "cell_type": "code",
   "execution_count": 23,
   "metadata": {},
   "outputs": [
    {
     "name": "stdout",
     "output_type": "stream",
     "text": [
      "Start\n",
      "a\n",
      "b\n",
      "c\n",
      "d\n",
      "End\n"
     ]
    }
   ],
   "source": [
    "print('Start')\n",
    "for one_character in 'abcd':\n",
    "    print(one_character)\n",
    "print('End')"
   ]
  },
  {
   "cell_type": "markdown",
   "metadata": {},
   "source": [
    "# How does a `for` loop work?\n",
    "\n",
    "1. `for` asks the value at the end of the line (`'abcd'`) if it is *iterable*, meaning: Does it know how to behave inside of a `for` loop?\n",
    "    - If not, then we get an error, a `TypeError`\n",
    "2. `for` asks the value for its next thing.\n",
    "    - If we're at the end, the loop ends and exits.\n",
    "3. The value we got in step 2 is assigned to our loop variable -- in this case, `one_character`\n",
    "4. The loop body, indented (starting on line 2) executes with that loop variable defined\n",
    "5. Return to step 2\n",
    "\n",
    "A few things to keep in mind:\n",
    "- You will always see `for VARIABLE in VALUE:` at the start of a `for` loop\n",
    "- Following that line, you'll have an indented block -- which can be of any length -- at least one line, but no limit\n",
    "- Inside of the block, aka the loop body, you can have *ANY CODE AT ALL*, including `if`, `print`, `input`, or even another `for` loop. (\"Nested loop\")\n",
    "- The fact that we get one character at a time in our loop has **NOTHING** to do with the fact that I called the variable `one_character`. I can use any variable name I want, and it'll work the same way. However, we want to choose good variable names, that will make it easy to understand our program (by us and our colleagues).\n",
    "- If you have used languages like C before, then this kind of `for` loop looks super weird -- where is the index? Why aren't we counting the number of items we're iterating over? Answer: Python loops are higher level, and don't use an index."
   ]
  },
  {
   "cell_type": "markdown",
   "metadata": {},
   "source": [
    "# Exercise: Vowels, digits, and others\n",
    "\n",
    "1. Define three variables -- `vowels`, `digits`, and `others` -- all with a value of 0.\n",
    "2. Ask the user to enter some text.\n",
    "3. Go through that string, one character at a time.\n",
    "    - If the character is a vowel (a, e, i, o, u) then add 1 to `vowels`\n",
    "    - If the character is a digit (0-9), then add 1 to `digits`\n",
    "    - In all other cases, add 1 to `others`\n",
    "4. In the end, print each variable and its count.\n",
    "\n",
    "Example:\n",
    "\n",
    "    Enter text: hello!! 123\n",
    "    vowels: 2\n",
    "    digits: 3\n",
    "    others: 6"
   ]
  },
  {
   "cell_type": "code",
   "execution_count": 24,
   "metadata": {},
   "outputs": [
    {
     "data": {
      "text/plain": [
       "True"
      ]
     },
     "execution_count": 24,
     "metadata": {},
     "output_type": "execute_result"
    }
   ],
   "source": [
    "# how can we know if a character (or a string) is a vowel?\n",
    "\n",
    "one_character = 'e'       # assign\n",
    "\n",
    "one_character in 'aeiou'  # check -- this returns True/False"
   ]
  },
  {
   "cell_type": "code",
   "execution_count": 25,
   "metadata": {},
   "outputs": [
    {
     "data": {
      "text/plain": [
       "True"
      ]
     },
     "execution_count": 25,
     "metadata": {},
     "output_type": "execute_result"
    }
   ],
   "source": [
    "# how can we know if a character (or a string) contains only digits?\n",
    "\n",
    "one_character = '1'   # assign\n",
    "\n",
    "one_character in '0123456789'"
   ]
  },
  {
   "cell_type": "code",
   "execution_count": 26,
   "metadata": {},
   "outputs": [
    {
     "data": {
      "text/plain": [
       "True"
      ]
     },
     "execution_count": 26,
     "metadata": {},
     "output_type": "execute_result"
    }
   ],
   "source": [
    "# another way (and a bit nicer, I think) is to use the str.isdigit method\n",
    "\n",
    "one_character.isdigit()  # also returns True/False"
   ]
  },
  {
   "cell_type": "code",
   "execution_count": 28,
   "metadata": {},
   "outputs": [
    {
     "name": "stdin",
     "output_type": "stream",
     "text": [
      "Enter some text:  hello!! 123\n"
     ]
    },
    {
     "name": "stdout",
     "output_type": "stream",
     "text": [
      "vowels = 2\n",
      "digits = 3\n",
      "others = 6\n"
     ]
    }
   ],
   "source": [
    "vowels = 0\n",
    "digits = 0\n",
    "others = 0\n",
    "\n",
    "text = input('Enter some text: ').strip()  \n",
    "\n",
    "for one_character in text:\n",
    "    if one_character in 'aeiou':   # if the character is a vowel...\n",
    "        vowels += 1                # ... add 1 to the \"vowels\" variable\n",
    "    elif one_character.isdigit():  # if the character is a digit...\n",
    "        digits += 1                # ... add 1 to the \"digits\" variable\n",
    "    else:\n",
    "        others += 1                # otherwise, add 1 to \"others\"\n",
    "\n",
    "print(f'vowels = {vowels}')        \n",
    "print(f'digits = {digits}')\n",
    "print(f'others = {others}')"
   ]
  },
  {
   "cell_type": "code",
   "execution_count": null,
   "metadata": {},
   "outputs": [],
   "source": [
    "# DM\n",
    "\n",
    "user = input('Enter text:')\n",
    "\n",
    "vowel = 'a,e,i,o,u'\n",
    "digits = '1,2,3,4,5,6,7,8,9'\n",
    "\n",
    "for character in user:\n",
    "  "
   ]
  }
 ],
 "metadata": {
  "kernelspec": {
   "display_name": "Python 3 (ipykernel)",
   "language": "python",
   "name": "python3"
  },
  "language_info": {
   "codemirror_mode": {
    "name": "ipython",
    "version": 3
   },
   "file_extension": ".py",
   "mimetype": "text/x-python",
   "name": "python",
   "nbconvert_exporter": "python",
   "pygments_lexer": "ipython3",
   "version": "3.13.2"
  }
 },
 "nbformat": 4,
 "nbformat_minor": 4
}
