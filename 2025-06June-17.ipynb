{
 "cells": [
  {
   "cell_type": "markdown",
   "metadata": {},
   "source": [
    "# Agenda, day 3: Dictionaries and files\n",
    "\n",
    "1. Jupyter Lite\n",
    "2. Q&A\n",
    "3. Dictionaries (\"dicts\")\n",
    "    - Creating them\n",
    "    - Retrieving from them\n",
    "    - Iterating over them\n",
    "4. How can we use dictionaries in a variety of ways?\n",
    "    - As a read-only database\n",
    "    - To accumulate values we know of\n",
    "    - To accumulate the unknown\n",
    "5. How do dicts work?\n",
    "6. Files\n",
    "    - Reading from files\n",
    "    - Different ways to read from files\n",
    "    - Writing to files (a little)\n",
    "    - The `with` construct\n",
    "\n"
   ]
  },
  {
   "cell_type": "code",
   "execution_count": 1,
   "metadata": {},
   "outputs": [
    {
     "name": "stdout",
     "output_type": "stream",
     "text": [
      "Hello!\n"
     ]
    }
   ],
   "source": [
    "print('Hello!')"
   ]
  },
  {
   "cell_type": "markdown",
   "metadata": {},
   "source": [
    "# WASM -- Web Assembly\n",
    "\n",
    "WASM is a universal programming language in your browser. Any programming language that knows how to run on a WASM platform can run in your browser.\n",
    "\n",
    "Python can run in WASM! Which means that Python can run in your browser!\n",
    "\n",
    "Does that mean that Jupyter can run in your browser? Until last week, the answer was \"Yes, but\".\n",
    "\n",
    "This is known as Jupyter Lite.\n",
    "\n",
    "It worked great... except for the `input` function, which didn't work so well."
   ]
  },
  {
   "cell_type": "markdown",
   "metadata": {},
   "source": [
    "# Dictionaries\n",
    "\n",
    "Dictionaries are the most important data structure in Python. Let's put that in some context:\n",
    "\n",
    "- Strings are for storing (and retrieving) text.\n",
    "- Lists are for storing and retrieving values of the same type, where we put them in the list, and can retrieve them via their index. We know that lists are mutable, meaning that we can modify their values, make them longer, and make them shorter.\n",
    "- Tuples are for storing and retrieving values of different types. They are immutable, meaning that we cannot change the values, make them longer, or make them shorter.\n",
    "\n",
    "For certain kinds of tasks, none of these is really flexible or efficient enough.\n",
    "\n",
    "Dictionaries are extremely fast and extremely flexible. The idea behind dicts is that you don't have individual values. Rather, you have keys (the indexes) and values. There is no such thing as an individual item in a dict; it's always based on pairs. \n",
    "\n",
    "Some basic things to know about dicts:\n",
    "\n",
    "- Every key has a value, and every value has a key. There isn't any such thing has a valueless key or a keyless value.\n",
    "- Keys are unique within a dict. This is like how a string, list, or tuple only has one item at each index; there aren't 3 items at index 3.\n",
    "- A key can be anything at all in Python... if it is immutable. Meaning, we normally use numbers (ints and floats) and strings as dict keys.\n",
    "- In a dict, I can dictate what the keys are, so long as they are unique and immutable. I am not constrained by any ordering.\n",
    "- The values can be absolutely anything at all, without any restrictions whatsoever -- they can be mutable/immutable, big or small, repeat if you want, etc.\n",
    "\n",
    "So what's the advantage of a dict?\n",
    "\n",
    "The first one that you normally encounter is that whereas a list has integer indexes (0, 1, 2, 3) that don't have anything to do with the data, a dict's keys are set by you, and can be relevant to the data:\n",
    "\n",
    "- ID numbers\n",
    "- Usernames\n",
    "- IP addresses\n",
    "- Dates\n",
    "- SKUs in a store\n",
    "\n",
    "### To create a dict:\n",
    "\n",
    "- We use `{}`\n",
    "- The key and value in each pair are separated by `:`\n",
    "- Pairs are separated by `,`"
   ]
  },
  {
   "cell_type": "code",
   "execution_count": 2,
   "metadata": {},
   "outputs": [],
   "source": [
    "d = {'a':10, 'b':20, 'c':30}"
   ]
  },
  {
   "cell_type": "code",
   "execution_count": 3,
   "metadata": {},
   "outputs": [
    {
     "data": {
      "text/plain": [
       "dict"
      ]
     },
     "execution_count": 3,
     "metadata": {},
     "output_type": "execute_result"
    }
   ],
   "source": [
    "type(d)"
   ]
  },
  {
   "cell_type": "code",
   "execution_count": 4,
   "metadata": {},
   "outputs": [
    {
     "data": {
      "text/plain": [
       "3"
      ]
     },
     "execution_count": 4,
     "metadata": {},
     "output_type": "execute_result"
    }
   ],
   "source": [
    "# How many key-value pairs are in the dict?\n",
    "\n",
    "len(d)  # we count the pairs (not the individual items)"
   ]
  },
  {
   "cell_type": "code",
   "execution_count": 5,
   "metadata": {},
   "outputs": [
    {
     "data": {
      "text/plain": [
       "10"
      ]
     },
     "execution_count": 5,
     "metadata": {},
     "output_type": "execute_result"
    }
   ],
   "source": [
    "# how can I retrieve from a dict? I use [], just like with a string/list/tuple\n",
    "# in the [], I put the key that I want to retrieve\n",
    "\n",
    "d['a'] "
   ]
  },
  {
   "cell_type": "code",
   "execution_count": 6,
   "metadata": {},
   "outputs": [
    {
     "data": {
      "text/plain": [
       "20"
      ]
     },
     "execution_count": 6,
     "metadata": {},
     "output_type": "execute_result"
    }
   ],
   "source": [
    "d['b']"
   ]
  },
  {
   "cell_type": "code",
   "execution_count": 7,
   "metadata": {},
   "outputs": [
    {
     "data": {
      "text/plain": [
       "30"
      ]
     },
     "execution_count": 7,
     "metadata": {},
     "output_type": "execute_result"
    }
   ],
   "source": [
    "d['c']"
   ]
  },
  {
   "cell_type": "code",
   "execution_count": 8,
   "metadata": {},
   "outputs": [
    {
     "ename": "KeyError",
     "evalue": "'x'",
     "output_type": "error",
     "traceback": [
      "\u001b[31m---------------------------------------------------------------------------\u001b[39m",
      "\u001b[31mKeyError\u001b[39m                                  Traceback (most recent call last)",
      "\u001b[36mCell\u001b[39m\u001b[36m \u001b[39m\u001b[32mIn[8]\u001b[39m\u001b[32m, line 1\u001b[39m\n\u001b[32m----> \u001b[39m\u001b[32m1\u001b[39m \u001b[43md\u001b[49m\u001b[43m[\u001b[49m\u001b[33;43m'\u001b[39;49m\u001b[33;43mx\u001b[39;49m\u001b[33;43m'\u001b[39;49m\u001b[43m]\u001b[49m\n",
      "\u001b[31mKeyError\u001b[39m: 'x'"
     ]
    }
   ],
   "source": [
    "d['x']"
   ]
  },
  {
   "cell_type": "code",
   "execution_count": 9,
   "metadata": {},
   "outputs": [
    {
     "ename": "KeyError",
     "evalue": "'a '",
     "output_type": "error",
     "traceback": [
      "\u001b[31m---------------------------------------------------------------------------\u001b[39m",
      "\u001b[31mKeyError\u001b[39m                                  Traceback (most recent call last)",
      "\u001b[36mCell\u001b[39m\u001b[36m \u001b[39m\u001b[32mIn[9]\u001b[39m\u001b[32m, line 2\u001b[39m\n\u001b[32m      1\u001b[39m \u001b[38;5;66;03m# get the key exactly right!\u001b[39;00m\n\u001b[32m----> \u001b[39m\u001b[32m2\u001b[39m \u001b[43md\u001b[49m\u001b[43m[\u001b[49m\u001b[33;43m'\u001b[39;49m\u001b[33;43ma \u001b[39;49m\u001b[33;43m'\u001b[39;49m\u001b[43m]\u001b[49m\n",
      "\u001b[31mKeyError\u001b[39m: 'a '"
     ]
    }
   ],
   "source": [
    "# get the key exactly right!\n",
    "d['a ']"
   ]
  },
  {
   "cell_type": "code",
   "execution_count": 10,
   "metadata": {},
   "outputs": [
    {
     "ename": "KeyError",
     "evalue": "'A'",
     "output_type": "error",
     "traceback": [
      "\u001b[31m---------------------------------------------------------------------------\u001b[39m",
      "\u001b[31mKeyError\u001b[39m                                  Traceback (most recent call last)",
      "\u001b[36mCell\u001b[39m\u001b[36m \u001b[39m\u001b[32mIn[10]\u001b[39m\u001b[32m, line 1\u001b[39m\n\u001b[32m----> \u001b[39m\u001b[32m1\u001b[39m \u001b[43md\u001b[49m\u001b[43m[\u001b[49m\u001b[33;43m'\u001b[39;49m\u001b[33;43mA\u001b[39;49m\u001b[33;43m'\u001b[39;49m\u001b[43m]\u001b[49m\n",
      "\u001b[31mKeyError\u001b[39m: 'A'"
     ]
    }
   ],
   "source": [
    "d['A']"
   ]
  },
  {
   "cell_type": "code",
   "execution_count": 11,
   "metadata": {},
   "outputs": [
    {
     "data": {
      "text/plain": [
       "{'a': 10, 'b': 20, 'c': 30}"
      ]
     },
     "execution_count": 11,
     "metadata": {},
     "output_type": "execute_result"
    }
   ],
   "source": [
    "# how can I know if a key is in the dict?\n",
    "# we use the \"in\" operator\n",
    "# this returns True if the key is in the dict\n",
    "# note that \"in\" on a dict ignores the values COMPLETELY\n",
    "\n",
    "d"
   ]
  },
  {
   "cell_type": "code",
   "execution_count": 12,
   "metadata": {},
   "outputs": [
    {
     "data": {
      "text/plain": [
       "True"
      ]
     },
     "execution_count": 12,
     "metadata": {},
     "output_type": "execute_result"
    }
   ],
   "source": [
    "'a' in d"
   ]
  },
  {
   "cell_type": "code",
   "execution_count": 13,
   "metadata": {},
   "outputs": [
    {
     "data": {
      "text/plain": [
       "False"
      ]
     },
     "execution_count": 13,
     "metadata": {},
     "output_type": "execute_result"
    }
   ],
   "source": [
    "10 in d"
   ]
  },
  {
   "cell_type": "code",
   "execution_count": 14,
   "metadata": {},
   "outputs": [
    {
     "data": {
      "text/plain": [
       "10"
      ]
     },
     "execution_count": 14,
     "metadata": {},
     "output_type": "execute_result"
    }
   ],
   "source": [
    "# if I use d['a'], I get the value associated with the key 'a'\n",
    "d['a']"
   ]
  },
  {
   "cell_type": "code",
   "execution_count": 15,
   "metadata": {},
   "outputs": [],
   "source": [
    "# what if I have the value 10? Can I get the key based on it?\n",
    "# NO. Dicts are a one-way street. You can use keys to get values, but not vice versa\n",
    "# among other things, this is beacuse every key is unique, but values are not guaranteed to be unique"
   ]
  },
  {
   "cell_type": "markdown",
   "metadata": {},
   "source": [
    "# Who needs dicts?\n",
    "\n",
    "There are a ton of places in the programming world that can solve their problems with these key-value stores. In fact, dicts are known by many other names, because many other languages have them, as well:\n",
    "\n",
    "- Hash tables\n",
    "- Hashes\n",
    "- Hash maps\n",
    "- Maps\n",
    "- Key-value stores\n",
    "- Name-value stores\n",
    "- Associative arrays\n",
    "\n",
    "The idea that you have a key that lets you retrieve the value is everywhere -- if you choose a good key (e.g., a user's ID number) then the value can be a big record of their information."
   ]
  },
  {
   "cell_type": "code",
   "execution_count": 16,
   "metadata": {},
   "outputs": [
    {
     "data": {
      "text/plain": [
       "10"
      ]
     },
     "execution_count": 16,
     "metadata": {},
     "output_type": "execute_result"
    }
   ],
   "source": [
    "d = {'a':10, 'b':20, 'c':30}\n",
    "\n",
    "k = 'a'\n",
    "\n",
    "d[k]"
   ]
  },
  {
   "cell_type": "code",
   "execution_count": 18,
   "metadata": {},
   "outputs": [
    {
     "name": "stdin",
     "output_type": "stream",
     "text": [
      "Enter a key:  z\n"
     ]
    },
    {
     "name": "stdout",
     "output_type": "stream",
     "text": [
      "z is not a key in d\n"
     ]
    }
   ],
   "source": [
    "k = input('Enter a key: ').strip()\n",
    "\n",
    "if k in d:   # if the user's string is a key in d\n",
    "    print(f'Great, the value is {d[k]}')\n",
    "else:\n",
    "    print(f'{k} is not a key in d')"
   ]
  },
  {
   "cell_type": "markdown",
   "metadata": {},
   "source": [
    "# Exercise: Restaurant\n",
    "\n",
    "1. Define a dict, called `menu`, in which the keys are strings -- the names of items on a restaurant's menu -- and the values are integers -- the prices of those items.\n",
    "2. Define `total` to be 0.\n",
    "3. Repeatedly ask the user to order something:\n",
    "    - If they enter the empty string (`''`), then stop asking and print the total.\n",
    "    - If they enter the name of something on the menu, then tell them the price, add it to total, and print the new total before asking for the next item\n",
    "    - If they enter the name of something *not* on the menu, then scold them and let them try again.\n",
    "4. Print the total after ordering.\n",
    "\n",
    "Example:\n",
    "\n",
    "    Order: sandwich\n",
    "    sandwich costs 10, total is 10\n",
    "    Order: tea\n",
    "    tea costs 8, total is 18\n",
    "    Order: cake\n",
    "    cake costs 5, total is 23\n",
    "    Order: elephant\n",
    "    sorry, we're fresh out of elephant today!\n",
    "    Order: [ENTER]\n",
    "    Total is 23"
   ]
  },
  {
   "cell_type": "code",
   "execution_count": 19,
   "metadata": {},
   "outputs": [
    {
     "name": "stdin",
     "output_type": "stream",
     "text": [
      "Order:  sandwich\n"
     ]
    },
    {
     "name": "stdout",
     "output_type": "stream",
     "text": [
      "sandwich costs 10, total is now 10\n"
     ]
    },
    {
     "name": "stdin",
     "output_type": "stream",
     "text": [
      "Order:  apple\n"
     ]
    },
    {
     "name": "stdout",
     "output_type": "stream",
     "text": [
      "apple costs 3, total is now 13\n"
     ]
    },
    {
     "name": "stdin",
     "output_type": "stream",
     "text": [
      "Order:  elephant\n"
     ]
    },
    {
     "name": "stdout",
     "output_type": "stream",
     "text": [
      "elephant is not on the menu; try again\n"
     ]
    },
    {
     "name": "stdin",
     "output_type": "stream",
     "text": [
      "Order:  \n"
     ]
    },
    {
     "name": "stdout",
     "output_type": "stream",
     "text": [
      "Your total is 13\n"
     ]
    }
   ],
   "source": [
    "menu = {'sandwich':10, 'tea':8, 'cake':5, 'apple':3}\n",
    "total = 0\n",
    "\n",
    "while True:   # infinite loop!\n",
    "    order = input('Order: ').strip()\n",
    "\n",
    "    if order == '':\n",
    "        break\n",
    "\n",
    "    if order in menu:\n",
    "        price = menu[order]  # get the price from the menu\n",
    "        total += price       # update the total\n",
    "        print(f'{order} costs {price}, total is now {total}')\n",
    "    else:\n",
    "        print(f'{order} is not on the menu; try again')\n",
    "\n",
    "print(f'Your total is {total}')        "
   ]
  },
  {
   "cell_type": "code",
   "execution_count": 22,
   "metadata": {},
   "outputs": [
    {
     "name": "stdin",
     "output_type": "stream",
     "text": [
      "Please put, in your order!  tea\n"
     ]
    },
    {
     "name": "stdout",
     "output_type": "stream",
     "text": [
      "Total is: 8\n"
     ]
    },
    {
     "name": "stdin",
     "output_type": "stream",
     "text": [
      "Please put, in your order!  \n",
      "Please put, in your order!  \n"
     ]
    },
    {
     "name": "stdout",
     "output_type": "stream",
     "text": [
      "Total is: 8\n"
     ]
    }
   ],
   "source": [
    "# ID\n",
    "\n",
    "menu = {'sandwich': 10, 'tea': 8, 'cake' : 5}\n",
    "\n",
    "total = 0\n",
    "\n",
    "\n",
    "while True:\n",
    "    order = input('Please put, in your order! ').strip()\n",
    "    \n",
    "    if not order:  # if I got the empty string\n",
    "        print(f'Total is: {total}')\n",
    "        break\n",
    "    elif order in menu:\n",
    "        total += menu[order]\n",
    "        print(f'Total is: {total}')\n",
    "        order = input('Please put, in your order! ')\n",
    "    else:\n",
    "        print(f'Sorry, We are out of {order}')\n",
    "        "
   ]
  },
  {
   "cell_type": "code",
   "execution_count": 23,
   "metadata": {},
   "outputs": [
    {
     "name": "stdout",
     "output_type": "stream",
     "text": [
      "{'sandwich': 10, 'tea': 8, 'cake': 5}\n"
     ]
    }
   ],
   "source": [
    "print(menu)"
   ]
  },
  {
   "cell_type": "markdown",
   "metadata": {},
   "source": [
    "# Are dictionaries mutable?\n",
    "\n",
    "You might remember that strings are immutable, but lists are mutable. That means:\n",
    "\n",
    "- We can replace values in a list\n",
    "- We can add new elements to the list, making it longer/larger\n",
    "- We can remove elements from the list, making shorter\n",
    "\n",
    "Can we do this with a dict? Yes!"
   ]
  },
  {
   "cell_type": "code",
   "execution_count": 24,
   "metadata": {},
   "outputs": [
    {
     "data": {
      "text/plain": [
       "{'a': 10, 'b': 99, 'c': 30}"
      ]
     },
     "execution_count": 24,
     "metadata": {},
     "output_type": "execute_result"
    }
   ],
   "source": [
    "d = {'a':10, 'b':20, 'c':30}\n",
    "\n",
    "# how can I replace a value with another value\n",
    "# answer: just assign to the key (very similar to how we replace a value in a list)\n",
    "\n",
    "d['b'] = 99\n",
    "\n",
    "d"
   ]
  },
  {
   "cell_type": "code",
   "execution_count": 26,
   "metadata": {},
   "outputs": [],
   "source": [
    "# how can I add a new key-value pair to our dict?\n",
    "# with a list, we add with the \"append\" method \n",
    "# with a dict, it's far easier -- we just assign! \n",
    "\n",
    "d['x'] = 8877   # if 'x' already existed as a key, we've replaced the value. If not, then we've added a new key-value pair"
   ]
  },
  {
   "cell_type": "code",
   "execution_count": 27,
   "metadata": {},
   "outputs": [
    {
     "data": {
      "text/plain": [
       "{'a': 10, 'b': 99, 'c': 30, 'x': 8877}"
      ]
     },
     "execution_count": 27,
     "metadata": {},
     "output_type": "execute_result"
    }
   ],
   "source": [
    "d"
   ]
  },
  {
   "cell_type": "code",
   "execution_count": 28,
   "metadata": {},
   "outputs": [
    {
     "data": {
      "text/plain": [
       "8877"
      ]
     },
     "execution_count": 28,
     "metadata": {},
     "output_type": "execute_result"
    }
   ],
   "source": [
    "# what about removing values?\n",
    "# we can, with the dict.pop method\n",
    "# note that it's pretty rare in my experience to remove a key-value pair from a dict\n",
    "\n",
    "d.pop('x')  # this removes the pair and returns the value"
   ]
  },
  {
   "cell_type": "code",
   "execution_count": 29,
   "metadata": {},
   "outputs": [
    {
     "data": {
      "text/plain": [
       "{'a': 10, 'b': 99, 'c': 30}"
      ]
     },
     "execution_count": 29,
     "metadata": {},
     "output_type": "execute_result"
    }
   ],
   "source": [
    "d"
   ]
  },
  {
   "cell_type": "code",
   "execution_count": 30,
   "metadata": {},
   "outputs": [
    {
     "ename": "KeyError",
     "evalue": "'x'",
     "output_type": "error",
     "traceback": [
      "\u001b[31m---------------------------------------------------------------------------\u001b[39m",
      "\u001b[31mKeyError\u001b[39m                                  Traceback (most recent call last)",
      "\u001b[36mCell\u001b[39m\u001b[36m \u001b[39m\u001b[32mIn[30]\u001b[39m\u001b[32m, line 1\u001b[39m\n\u001b[32m----> \u001b[39m\u001b[32m1\u001b[39m \u001b[43md\u001b[49m\u001b[43m.\u001b[49m\u001b[43mpop\u001b[49m\u001b[43m(\u001b[49m\u001b[33;43m'\u001b[39;49m\u001b[33;43mx\u001b[39;49m\u001b[33;43m'\u001b[39;49m\u001b[43m)\u001b[49m\n",
      "\u001b[31mKeyError\u001b[39m: 'x'"
     ]
    }
   ],
   "source": [
    "d.pop('x')"
   ]
  },
  {
   "cell_type": "code",
   "execution_count": 31,
   "metadata": {},
   "outputs": [],
   "source": [
    "# can I put more complex types in the values?\n",
    "# answer: of course!\n",
    "\n",
    "d = {'a':[],\n",
    "     'b':[],\n",
    "     'c':[]}"
   ]
  },
  {
   "cell_type": "code",
   "execution_count": 32,
   "metadata": {},
   "outputs": [
    {
     "data": {
      "text/plain": [
       "[]"
      ]
     },
     "execution_count": 32,
     "metadata": {},
     "output_type": "execute_result"
    }
   ],
   "source": [
    "d['a']"
   ]
  },
  {
   "cell_type": "code",
   "execution_count": 33,
   "metadata": {},
   "outputs": [],
   "source": [
    "d['a'].append(10)"
   ]
  },
  {
   "cell_type": "code",
   "execution_count": 34,
   "metadata": {},
   "outputs": [],
   "source": [
    "d['b'].append(20)"
   ]
  },
  {
   "cell_type": "code",
   "execution_count": 35,
   "metadata": {},
   "outputs": [],
   "source": [
    "d['c'].append(30)"
   ]
  },
  {
   "cell_type": "code",
   "execution_count": 36,
   "metadata": {},
   "outputs": [],
   "source": [
    "d['c'].append(40)"
   ]
  },
  {
   "cell_type": "code",
   "execution_count": 37,
   "metadata": {},
   "outputs": [
    {
     "data": {
      "text/plain": [
       "{'a': [10], 'b': [20], 'c': [30, 40]}"
      ]
     },
     "execution_count": 37,
     "metadata": {},
     "output_type": "execute_result"
    }
   ],
   "source": [
    "d"
   ]
  },
  {
   "cell_type": "code",
   "execution_count": 38,
   "metadata": {},
   "outputs": [
    {
     "data": {
      "text/plain": [
       "[10]"
      ]
     },
     "execution_count": 38,
     "metadata": {},
     "output_type": "execute_result"
    }
   ],
   "source": [
    "d['a']"
   ]
  },
  {
   "cell_type": "code",
   "execution_count": null,
   "metadata": {},
   "outputs": [],
   "source": []
  },
  {
   "cell_type": "code",
   "execution_count": 39,
   "metadata": {},
   "outputs": [
    {
     "data": {
      "text/plain": [
       "10"
      ]
     },
     "execution_count": 39,
     "metadata": {},
     "output_type": "execute_result"
    }
   ],
   "source": [
    "d['a'][0]"
   ]
  },
  {
   "cell_type": "markdown",
   "metadata": {},
   "source": [
    "# Read-only databases\n",
    "\n",
    "In the restaurant example, we used a dict as a read-only database in memory. We could have updated/changed it, but we didn't -- it was set, and we read from it.\n",
    "\n",
    "I've seen this in a wide variety of places:\n",
    "\n",
    "- Month names -> month numbers\n",
    "- Month numbers -> month names\n",
    "- User IDs -> user records\n",
    "- Country names -> international calling area codes"
   ]
  },
  {
   "cell_type": "markdown",
   "metadata": {},
   "source": [
    "# Next up: Using dicts\n",
    "\n",
    "- Accumulating with dicts\n",
    "- Accumulating the unknown"
   ]
  },
  {
   "cell_type": "markdown",
   "metadata": {},
   "source": [
    "# Accumulating\n",
    "\n",
    "We've seen already that we can use a list for accumulating information when a program is running:\n",
    "\n",
    "- Track inputs from the user\n",
    "- Track error messages\n",
    "- Track user logins\n",
    "\n",
    "If we use a dict, then we can have a number of these accumulators tracking all together. Each key represents one item we're tracking, and each value represents the number of times it appeared."
   ]
  },
  {
   "cell_type": "code",
   "execution_count": 40,
   "metadata": {},
   "outputs": [
    {
     "name": "stdin",
     "output_type": "stream",
     "text": [
      "Enter a number:  10\n",
      "Enter a number:  15\n",
      "Enter a number:  18\n",
      "Enter a number:  23\n",
      "Enter a number:  24\n",
      "Enter a number:  29\n",
      "Enter a number:  712\n",
      "Enter a number:  hello\n"
     ]
    },
    {
     "name": "stdout",
     "output_type": "stream",
     "text": [
      "hello is not numeric; try again\n"
     ]
    },
    {
     "name": "stdin",
     "output_type": "stream",
     "text": [
      "Enter a number:  \n"
     ]
    },
    {
     "name": "stdout",
     "output_type": "stream",
     "text": [
      "{'odds': 3, 'evens': 4}\n"
     ]
    }
   ],
   "source": [
    "# Example: Odds and evens\n",
    "\n",
    "counts = {'odds':0, 'evens':0}  # setting up my accumulation dict\n",
    "\n",
    "while True:\n",
    "    s = input('Enter a number: ').strip()\n",
    "\n",
    "    if s == '':\n",
    "        break\n",
    "\n",
    "    if not s.isdigit():\n",
    "        print(f'{s} is not numeric; try again')\n",
    "        continue\n",
    "\n",
    "    n = int(s)\n",
    "\n",
    "    if n % 2 == 0:             # if, when we divide n by 2, we have a remainder of 0\n",
    "        counts['evens'] += 1   # ... increment counts['evens'] by 1\n",
    "    else:\n",
    "        counts['odds'] += 1    # otherwise, increment counts['odds']\n",
    "\n",
    "print(counts)        "
   ]
  },
  {
   "cell_type": "markdown",
   "metadata": {},
   "source": [
    "# Exercise: Digits, vowels, and others (dict edition)\n",
    "\n",
    "1. Set up a dict with ke"
   ]
  }
 ],
 "metadata": {
  "kernelspec": {
   "display_name": "Python 3 (ipykernel)",
   "language": "python",
   "name": "python3"
  },
  "language_info": {
   "codemirror_mode": {
    "name": "ipython",
    "version": 3
   },
   "file_extension": ".py",
   "mimetype": "text/x-python",
   "name": "python",
   "nbconvert_exporter": "python",
   "pygments_lexer": "ipython3",
   "version": "3.13.2"
  }
 },
 "nbformat": 4,
 "nbformat_minor": 4
}
