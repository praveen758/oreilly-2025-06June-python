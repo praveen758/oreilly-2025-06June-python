{
 "cells": [
  {
   "cell_type": "markdown",
   "metadata": {},
   "source": [
    "# Agenda, day 3: Dictionaries and files\n",
    "\n",
    "1. Jupyter Lite\n",
    "2. Q&A\n",
    "3. Dictionaries (\"dicts\")\n",
    "    - Creating them\n",
    "    - Retrieving from them\n",
    "    - Iterating over them\n",
    "4. How can we use dictionaries in a variety of ways?\n",
    "    - As a read-only database\n",
    "    - To accumulate values we know of\n",
    "    - To accumulate the unknown\n",
    "5. How do dicts work?\n",
    "6. Files\n",
    "    - Reading from files\n",
    "    - Different ways to read from files\n",
    "    - Writing to files (a little)\n",
    "    - The `with` construct\n",
    "\n"
   ]
  },
  {
   "cell_type": "code",
   "execution_count": null,
   "metadata": {},
   "outputs": [],
   "source": []
  }
 ],
 "metadata": {
  "kernelspec": {
   "display_name": "Python 3 (ipykernel)",
   "language": "python",
   "name": "python3"
  },
  "language_info": {
   "codemirror_mode": {
    "name": "ipython",
    "version": 3
   },
   "file_extension": ".py",
   "mimetype": "text/x-python",
   "name": "python",
   "nbconvert_exporter": "python",
   "pygments_lexer": "ipython3",
   "version": "3.13.2"
  }
 },
 "nbformat": 4,
 "nbformat_minor": 4
}
