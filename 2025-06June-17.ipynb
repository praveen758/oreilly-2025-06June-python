{
 "cells": [
  {
   "cell_type": "markdown",
   "metadata": {},
   "source": [
    "# Agenda, day 3: Dictionaries and files\n",
    "\n",
    "1. Jupyter Lite\n",
    "2. Q&A\n",
    "3. Dictionaries (\"dicts\")\n",
    "    - Creating them\n",
    "    - Retrieving from them\n",
    "    - Iterating over them\n",
    "4. How can we use dictionaries in a variety of ways?\n",
    "    - As a read-only database\n",
    "    - To accumulate values we know of\n",
    "    - To accumulate the unknown\n",
    "5. How do dicts work?\n",
    "6. Files\n",
    "    - Reading from files\n",
    "    - Different ways to read from files\n",
    "    - Writing to files (a little)\n",
    "    - The `with` construct\n",
    "\n"
   ]
  },
  {
   "cell_type": "code",
   "execution_count": 1,
   "metadata": {},
   "outputs": [
    {
     "name": "stdout",
     "output_type": "stream",
     "text": [
      "Hello!\n"
     ]
    }
   ],
   "source": [
    "print('Hello!')"
   ]
  },
  {
   "cell_type": "markdown",
   "metadata": {},
   "source": [
    "# WASM -- Web Assembly\n",
    "\n",
    "WASM is a universal programming language in your browser. Any programming language that knows how to run on a WASM platform can run in your browser.\n",
    "\n",
    "Python can run in WASM! Which means that Python can run in your browser!\n",
    "\n",
    "Does that mean that Jupyter can run in your browser? Until last week, the answer was \"Yes, but\".\n",
    "\n",
    "This is known as Jupyter Lite.\n",
    "\n",
    "It worked great... except for the `input` function, which didn't work so well."
   ]
  },
  {
   "cell_type": "markdown",
   "metadata": {},
   "source": [
    "# Dictionaries\n",
    "\n",
    "Dictionaries are the most important data structure in Python. Let's put that in some context:\n",
    "\n",
    "- Strings are for storing (and retrieving) text.\n",
    "- Lists are for storing and retrieving values of the same type, where we put them in the list, and can retrieve them via their index. We know that lists are mutable, meaning that we can modify their values, make them longer, and make them shorter.\n",
    "- Tuples are for storing and retrieving values of different types. They are immutable, meaning that we cannot change the values, make them longer, or make them shorter.\n",
    "\n",
    "For certain kinds of tasks, none of these is really flexible or efficient enough.\n",
    "\n",
    "Dictionaries are extremely fast and extremely flexible. The idea behind dicts is that you don't have individual values. Rather, you have keys (the indexes) and values. There is no such thing as an individual item in a dict; it's always based on pairs. \n",
    "\n",
    "Some basic things to know about dicts:\n",
    "\n",
    "- Every key has a value, and every value has a key. There isn't any such thing has a valueless key or a keyless value.\n",
    "- Keys are unique within a dict. This is like how a string, list, or tuple only has one item at each index; there aren't 3 items at index 3.\n",
    "- A key can be anything at all in Python... if it is immutable. Meaning, we normally use numbers (ints and floats) and strings as dict keys.\n",
    "- In a dict, I can dictate what the keys are, so long as they are unique and immutable. I am not constrained by any ordering.\n",
    "- The values can be absolutely anything at all, without any restrictions whatsoever -- they can be mutable/immutable, big or small, repeat if you want, etc.\n",
    "\n",
    "So what's the advantage of a dict?\n",
    "\n",
    "The first one that you normally encounter is that whereas a list has integer indexes (0, 1, 2, 3) that don't have anything to do with the data, a dict's keys are set by you, and can be relevant to the data:\n",
    "\n",
    "- ID numbers\n",
    "- Usernames\n",
    "- IP addresses\n",
    "- Dates\n",
    "- SKUs in a store\n",
    "\n",
    "### To create a dict:\n",
    "\n",
    "- We use `{}`\n",
    "- The key and value in each pair are separated by `:`\n",
    "- Pairs are separated by `,`"
   ]
  },
  {
   "cell_type": "code",
   "execution_count": 2,
   "metadata": {},
   "outputs": [],
   "source": [
    "d = {'a':10, 'b':20, 'c':30}"
   ]
  },
  {
   "cell_type": "code",
   "execution_count": 3,
   "metadata": {},
   "outputs": [
    {
     "data": {
      "text/plain": [
       "dict"
      ]
     },
     "execution_count": 3,
     "metadata": {},
     "output_type": "execute_result"
    }
   ],
   "source": [
    "type(d)"
   ]
  },
  {
   "cell_type": "code",
   "execution_count": 4,
   "metadata": {},
   "outputs": [
    {
     "data": {
      "text/plain": [
       "3"
      ]
     },
     "execution_count": 4,
     "metadata": {},
     "output_type": "execute_result"
    }
   ],
   "source": [
    "# How many key-value pairs are in the dict?\n",
    "\n",
    "len(d)  # we count the pairs (not the individual items)"
   ]
  },
  {
   "cell_type": "code",
   "execution_count": 5,
   "metadata": {},
   "outputs": [
    {
     "data": {
      "text/plain": [
       "10"
      ]
     },
     "execution_count": 5,
     "metadata": {},
     "output_type": "execute_result"
    }
   ],
   "source": [
    "# how can I retrieve from a dict? I use [], just like with a string/list/tuple\n",
    "# in the [], I put the key that I want to retrieve\n",
    "\n",
    "d['a'] "
   ]
  },
  {
   "cell_type": "code",
   "execution_count": 6,
   "metadata": {},
   "outputs": [
    {
     "data": {
      "text/plain": [
       "20"
      ]
     },
     "execution_count": 6,
     "metadata": {},
     "output_type": "execute_result"
    }
   ],
   "source": [
    "d['b']"
   ]
  },
  {
   "cell_type": "code",
   "execution_count": 7,
   "metadata": {},
   "outputs": [
    {
     "data": {
      "text/plain": [
       "30"
      ]
     },
     "execution_count": 7,
     "metadata": {},
     "output_type": "execute_result"
    }
   ],
   "source": [
    "d['c']"
   ]
  },
  {
   "cell_type": "code",
   "execution_count": 8,
   "metadata": {},
   "outputs": [
    {
     "ename": "KeyError",
     "evalue": "'x'",
     "output_type": "error",
     "traceback": [
      "\u001b[31m---------------------------------------------------------------------------\u001b[39m",
      "\u001b[31mKeyError\u001b[39m                                  Traceback (most recent call last)",
      "\u001b[36mCell\u001b[39m\u001b[36m \u001b[39m\u001b[32mIn[8]\u001b[39m\u001b[32m, line 1\u001b[39m\n\u001b[32m----> \u001b[39m\u001b[32m1\u001b[39m \u001b[43md\u001b[49m\u001b[43m[\u001b[49m\u001b[33;43m'\u001b[39;49m\u001b[33;43mx\u001b[39;49m\u001b[33;43m'\u001b[39;49m\u001b[43m]\u001b[49m\n",
      "\u001b[31mKeyError\u001b[39m: 'x'"
     ]
    }
   ],
   "source": [
    "d['x']"
   ]
  },
  {
   "cell_type": "code",
   "execution_count": 9,
   "metadata": {},
   "outputs": [
    {
     "ename": "KeyError",
     "evalue": "'a '",
     "output_type": "error",
     "traceback": [
      "\u001b[31m---------------------------------------------------------------------------\u001b[39m",
      "\u001b[31mKeyError\u001b[39m                                  Traceback (most recent call last)",
      "\u001b[36mCell\u001b[39m\u001b[36m \u001b[39m\u001b[32mIn[9]\u001b[39m\u001b[32m, line 2\u001b[39m\n\u001b[32m      1\u001b[39m \u001b[38;5;66;03m# get the key exactly right!\u001b[39;00m\n\u001b[32m----> \u001b[39m\u001b[32m2\u001b[39m \u001b[43md\u001b[49m\u001b[43m[\u001b[49m\u001b[33;43m'\u001b[39;49m\u001b[33;43ma \u001b[39;49m\u001b[33;43m'\u001b[39;49m\u001b[43m]\u001b[49m\n",
      "\u001b[31mKeyError\u001b[39m: 'a '"
     ]
    }
   ],
   "source": [
    "# get the key exactly right!\n",
    "d['a ']"
   ]
  },
  {
   "cell_type": "code",
   "execution_count": 10,
   "metadata": {},
   "outputs": [
    {
     "ename": "KeyError",
     "evalue": "'A'",
     "output_type": "error",
     "traceback": [
      "\u001b[31m---------------------------------------------------------------------------\u001b[39m",
      "\u001b[31mKeyError\u001b[39m                                  Traceback (most recent call last)",
      "\u001b[36mCell\u001b[39m\u001b[36m \u001b[39m\u001b[32mIn[10]\u001b[39m\u001b[32m, line 1\u001b[39m\n\u001b[32m----> \u001b[39m\u001b[32m1\u001b[39m \u001b[43md\u001b[49m\u001b[43m[\u001b[49m\u001b[33;43m'\u001b[39;49m\u001b[33;43mA\u001b[39;49m\u001b[33;43m'\u001b[39;49m\u001b[43m]\u001b[49m\n",
      "\u001b[31mKeyError\u001b[39m: 'A'"
     ]
    }
   ],
   "source": [
    "d['A']"
   ]
  },
  {
   "cell_type": "code",
   "execution_count": 11,
   "metadata": {},
   "outputs": [
    {
     "data": {
      "text/plain": [
       "{'a': 10, 'b': 20, 'c': 30}"
      ]
     },
     "execution_count": 11,
     "metadata": {},
     "output_type": "execute_result"
    }
   ],
   "source": [
    "# how can I know if a key is in the dict?\n",
    "# we use the \"in\" operator\n",
    "# this returns True if the key is in the dict\n",
    "# note that \"in\" on a dict ignores the values COMPLETELY\n",
    "\n",
    "d"
   ]
  },
  {
   "cell_type": "code",
   "execution_count": 12,
   "metadata": {},
   "outputs": [
    {
     "data": {
      "text/plain": [
       "True"
      ]
     },
     "execution_count": 12,
     "metadata": {},
     "output_type": "execute_result"
    }
   ],
   "source": [
    "'a' in d"
   ]
  },
  {
   "cell_type": "code",
   "execution_count": 13,
   "metadata": {},
   "outputs": [
    {
     "data": {
      "text/plain": [
       "False"
      ]
     },
     "execution_count": 13,
     "metadata": {},
     "output_type": "execute_result"
    }
   ],
   "source": [
    "10 in d"
   ]
  },
  {
   "cell_type": "code",
   "execution_count": 14,
   "metadata": {},
   "outputs": [
    {
     "data": {
      "text/plain": [
       "10"
      ]
     },
     "execution_count": 14,
     "metadata": {},
     "output_type": "execute_result"
    }
   ],
   "source": [
    "# if I use d['a'], I get the value associated with the key 'a'\n",
    "d['a']"
   ]
  },
  {
   "cell_type": "code",
   "execution_count": 15,
   "metadata": {},
   "outputs": [],
   "source": [
    "# what if I have the value 10? Can I get the key based on it?\n",
    "# NO. Dicts are a one-way street. You can use keys to get values, but not vice versa\n",
    "# among other things, this is beacuse every key is unique, but values are not guaranteed to be unique"
   ]
  },
  {
   "cell_type": "markdown",
   "metadata": {},
   "source": [
    "# Who needs dicts?\n",
    "\n",
    "There are a ton of places in the programming world that can solve their problems with these key-value stores. In fact, dicts are known by many other names, because many other languages have them, as well:\n",
    "\n",
    "- Hash tables\n",
    "- Hashes\n",
    "- Hash maps\n",
    "- Maps\n",
    "- Key-value stores\n",
    "- Name-value stores\n",
    "- Associative arrays\n",
    "\n",
    "The idea that you have a key that lets you retrieve the value is everywhere -- if you choose a good key (e.g., a user's ID number) then the value can be a big record of their information."
   ]
  },
  {
   "cell_type": "code",
   "execution_count": 16,
   "metadata": {},
   "outputs": [
    {
     "data": {
      "text/plain": [
       "10"
      ]
     },
     "execution_count": 16,
     "metadata": {},
     "output_type": "execute_result"
    }
   ],
   "source": [
    "d = {'a':10, 'b':20, 'c':30}\n",
    "\n",
    "k = 'a'\n",
    "\n",
    "d[k]"
   ]
  },
  {
   "cell_type": "code",
   "execution_count": 18,
   "metadata": {},
   "outputs": [
    {
     "name": "stdin",
     "output_type": "stream",
     "text": [
      "Enter a key:  z\n"
     ]
    },
    {
     "name": "stdout",
     "output_type": "stream",
     "text": [
      "z is not a key in d\n"
     ]
    }
   ],
   "source": [
    "k = input('Enter a key: ').strip()\n",
    "\n",
    "if k in d:   # if the user's string is a key in d\n",
    "    print(f'Great, the value is {d[k]}')\n",
    "else:\n",
    "    print(f'{k} is not a key in d')"
   ]
  },
  {
   "cell_type": "markdown",
   "metadata": {},
   "source": [
    "# Exercise: Restaurant\n",
    "\n",
    "1. Define a dict, called `menu`, in which the keys are strings -- the names of items on a restaurant's menu -- and the values are integers -- the prices of those items.\n",
    "2. Define `total` to be 0.\n",
    "3. Repeatedly ask the user to order something:\n",
    "    - If they enter the empty string (`''`), then stop asking and print the total.\n",
    "    - If they enter the name of something on the menu, then tell them the price, add it to total, and print the new total before asking for the next item\n",
    "    - If they enter the name of something *not* on the menu, then scold them and let them try again.\n",
    "4. Print the total after ordering.\n",
    "\n",
    "Example:\n",
    "\n",
    "    Order: sandwich\n",
    "    sandwich costs 10, total is 10\n",
    "    Order: tea\n",
    "    tea costs 8, total is 18\n",
    "    Order: cake\n",
    "    cake costs 5, total is 23\n",
    "    Order: elephant\n",
    "    sorry, we're fresh out of elephant today!\n",
    "    Order: [ENTER]\n",
    "    Total is 23"
   ]
  },
  {
   "cell_type": "code",
   "execution_count": 19,
   "metadata": {},
   "outputs": [
    {
     "name": "stdin",
     "output_type": "stream",
     "text": [
      "Order:  sandwich\n"
     ]
    },
    {
     "name": "stdout",
     "output_type": "stream",
     "text": [
      "sandwich costs 10, total is now 10\n"
     ]
    },
    {
     "name": "stdin",
     "output_type": "stream",
     "text": [
      "Order:  apple\n"
     ]
    },
    {
     "name": "stdout",
     "output_type": "stream",
     "text": [
      "apple costs 3, total is now 13\n"
     ]
    },
    {
     "name": "stdin",
     "output_type": "stream",
     "text": [
      "Order:  elephant\n"
     ]
    },
    {
     "name": "stdout",
     "output_type": "stream",
     "text": [
      "elephant is not on the menu; try again\n"
     ]
    },
    {
     "name": "stdin",
     "output_type": "stream",
     "text": [
      "Order:  \n"
     ]
    },
    {
     "name": "stdout",
     "output_type": "stream",
     "text": [
      "Your total is 13\n"
     ]
    }
   ],
   "source": [
    "menu = {'sandwich':10, 'tea':8, 'cake':5, 'apple':3}\n",
    "total = 0\n",
    "\n",
    "while True:   # infinite loop!\n",
    "    order = input('Order: ').strip()\n",
    "\n",
    "    if order == '':\n",
    "        break\n",
    "\n",
    "    if order in menu:\n",
    "        price = menu[order]  # get the price from the menu\n",
    "        total += price       # update the total\n",
    "        print(f'{order} costs {price}, total is now {total}')\n",
    "    else:\n",
    "        print(f'{order} is not on the menu; try again')\n",
    "\n",
    "print(f'Your total is {total}')        "
   ]
  },
  {
   "cell_type": "code",
   "execution_count": 22,
   "metadata": {},
   "outputs": [
    {
     "name": "stdin",
     "output_type": "stream",
     "text": [
      "Please put, in your order!  tea\n"
     ]
    },
    {
     "name": "stdout",
     "output_type": "stream",
     "text": [
      "Total is: 8\n"
     ]
    },
    {
     "name": "stdin",
     "output_type": "stream",
     "text": [
      "Please put, in your order!  \n",
      "Please put, in your order!  \n"
     ]
    },
    {
     "name": "stdout",
     "output_type": "stream",
     "text": [
      "Total is: 8\n"
     ]
    }
   ],
   "source": [
    "# ID\n",
    "\n",
    "menu = {'sandwich': 10, 'tea': 8, 'cake' : 5}\n",
    "\n",
    "total = 0\n",
    "\n",
    "\n",
    "while True:\n",
    "    order = input('Please put, in your order! ').strip()\n",
    "    \n",
    "    if not order:  # if I got the empty string\n",
    "        print(f'Total is: {total}')\n",
    "        break\n",
    "    elif order in menu:\n",
    "        total += menu[order]\n",
    "        print(f'Total is: {total}')\n",
    "        order = input('Please put, in your order! ')\n",
    "    else:\n",
    "        print(f'Sorry, We are out of {order}')\n",
    "        "
   ]
  },
  {
   "cell_type": "code",
   "execution_count": 23,
   "metadata": {},
   "outputs": [
    {
     "name": "stdout",
     "output_type": "stream",
     "text": [
      "{'sandwich': 10, 'tea': 8, 'cake': 5}\n"
     ]
    }
   ],
   "source": [
    "print(menu)"
   ]
  },
  {
   "cell_type": "markdown",
   "metadata": {},
   "source": [
    "# Are dictionaries mutable?\n",
    "\n",
    "You might remember that strings are immutable, but lists are mutable. That means:\n",
    "\n",
    "- We can replace values in a list\n",
    "- We can add new elements to the list, making it longer/larger\n",
    "- We can remove elements from the list, making shorter\n",
    "\n",
    "Can we do this with a dict? Yes!"
   ]
  },
  {
   "cell_type": "code",
   "execution_count": 24,
   "metadata": {},
   "outputs": [
    {
     "data": {
      "text/plain": [
       "{'a': 10, 'b': 99, 'c': 30}"
      ]
     },
     "execution_count": 24,
     "metadata": {},
     "output_type": "execute_result"
    }
   ],
   "source": [
    "d = {'a':10, 'b':20, 'c':30}\n",
    "\n",
    "# how can I replace a value with another value\n",
    "# answer: just assign to the key (very similar to how we replace a value in a list)\n",
    "\n",
    "d['b'] = 99\n",
    "\n",
    "d"
   ]
  },
  {
   "cell_type": "code",
   "execution_count": 26,
   "metadata": {},
   "outputs": [],
   "source": [
    "# how can I add a new key-value pair to our dict?\n",
    "# with a list, we add with the \"append\" method \n",
    "# with a dict, it's far easier -- we just assign! \n",
    "\n",
    "d['x'] = 8877   # if 'x' already existed as a key, we've replaced the value. If not, then we've added a new key-value pair"
   ]
  },
  {
   "cell_type": "code",
   "execution_count": 27,
   "metadata": {},
   "outputs": [
    {
     "data": {
      "text/plain": [
       "{'a': 10, 'b': 99, 'c': 30, 'x': 8877}"
      ]
     },
     "execution_count": 27,
     "metadata": {},
     "output_type": "execute_result"
    }
   ],
   "source": [
    "d"
   ]
  },
  {
   "cell_type": "code",
   "execution_count": 28,
   "metadata": {},
   "outputs": [
    {
     "data": {
      "text/plain": [
       "8877"
      ]
     },
     "execution_count": 28,
     "metadata": {},
     "output_type": "execute_result"
    }
   ],
   "source": [
    "# what about removing values?\n",
    "# we can, with the dict.pop method\n",
    "# note that it's pretty rare in my experience to remove a key-value pair from a dict\n",
    "\n",
    "d.pop('x')  # this removes the pair and returns the value"
   ]
  },
  {
   "cell_type": "code",
   "execution_count": 29,
   "metadata": {},
   "outputs": [
    {
     "data": {
      "text/plain": [
       "{'a': 10, 'b': 99, 'c': 30}"
      ]
     },
     "execution_count": 29,
     "metadata": {},
     "output_type": "execute_result"
    }
   ],
   "source": [
    "d"
   ]
  },
  {
   "cell_type": "code",
   "execution_count": 30,
   "metadata": {},
   "outputs": [
    {
     "ename": "KeyError",
     "evalue": "'x'",
     "output_type": "error",
     "traceback": [
      "\u001b[31m---------------------------------------------------------------------------\u001b[39m",
      "\u001b[31mKeyError\u001b[39m                                  Traceback (most recent call last)",
      "\u001b[36mCell\u001b[39m\u001b[36m \u001b[39m\u001b[32mIn[30]\u001b[39m\u001b[32m, line 1\u001b[39m\n\u001b[32m----> \u001b[39m\u001b[32m1\u001b[39m \u001b[43md\u001b[49m\u001b[43m.\u001b[49m\u001b[43mpop\u001b[49m\u001b[43m(\u001b[49m\u001b[33;43m'\u001b[39;49m\u001b[33;43mx\u001b[39;49m\u001b[33;43m'\u001b[39;49m\u001b[43m)\u001b[49m\n",
      "\u001b[31mKeyError\u001b[39m: 'x'"
     ]
    }
   ],
   "source": [
    "d.pop('x')"
   ]
  },
  {
   "cell_type": "code",
   "execution_count": 31,
   "metadata": {},
   "outputs": [],
   "source": [
    "# can I put more complex types in the values?\n",
    "# answer: of course!\n",
    "\n",
    "d = {'a':[],\n",
    "     'b':[],\n",
    "     'c':[]}"
   ]
  },
  {
   "cell_type": "code",
   "execution_count": 32,
   "metadata": {},
   "outputs": [
    {
     "data": {
      "text/plain": [
       "[]"
      ]
     },
     "execution_count": 32,
     "metadata": {},
     "output_type": "execute_result"
    }
   ],
   "source": [
    "d['a']"
   ]
  },
  {
   "cell_type": "code",
   "execution_count": 33,
   "metadata": {},
   "outputs": [],
   "source": [
    "d['a'].append(10)"
   ]
  },
  {
   "cell_type": "code",
   "execution_count": 34,
   "metadata": {},
   "outputs": [],
   "source": [
    "d['b'].append(20)"
   ]
  },
  {
   "cell_type": "code",
   "execution_count": 35,
   "metadata": {},
   "outputs": [],
   "source": [
    "d['c'].append(30)"
   ]
  },
  {
   "cell_type": "code",
   "execution_count": 36,
   "metadata": {},
   "outputs": [],
   "source": [
    "d['c'].append(40)"
   ]
  },
  {
   "cell_type": "code",
   "execution_count": 37,
   "metadata": {},
   "outputs": [
    {
     "data": {
      "text/plain": [
       "{'a': [10], 'b': [20], 'c': [30, 40]}"
      ]
     },
     "execution_count": 37,
     "metadata": {},
     "output_type": "execute_result"
    }
   ],
   "source": [
    "d"
   ]
  },
  {
   "cell_type": "code",
   "execution_count": 38,
   "metadata": {},
   "outputs": [
    {
     "data": {
      "text/plain": [
       "[10]"
      ]
     },
     "execution_count": 38,
     "metadata": {},
     "output_type": "execute_result"
    }
   ],
   "source": [
    "d['a']"
   ]
  },
  {
   "cell_type": "code",
   "execution_count": null,
   "metadata": {},
   "outputs": [],
   "source": []
  },
  {
   "cell_type": "code",
   "execution_count": 39,
   "metadata": {},
   "outputs": [
    {
     "data": {
      "text/plain": [
       "10"
      ]
     },
     "execution_count": 39,
     "metadata": {},
     "output_type": "execute_result"
    }
   ],
   "source": [
    "d['a'][0]"
   ]
  },
  {
   "cell_type": "markdown",
   "metadata": {},
   "source": [
    "# Read-only databases\n",
    "\n",
    "In the restaurant example, we used a dict as a read-only database in memory. We could have updated/changed it, but we didn't -- it was set, and we read from it.\n",
    "\n",
    "I've seen this in a wide variety of places:\n",
    "\n",
    "- Month names -> month numbers\n",
    "- Month numbers -> month names\n",
    "- User IDs -> user records\n",
    "- Country names -> international calling area codes"
   ]
  },
  {
   "cell_type": "markdown",
   "metadata": {},
   "source": [
    "# Next up: Using dicts\n",
    "\n",
    "- Accumulating with dicts\n",
    "- Accumulating the unknown"
   ]
  },
  {
   "cell_type": "markdown",
   "metadata": {},
   "source": [
    "# Accumulating\n",
    "\n",
    "We've seen already that we can use a list for accumulating information when a program is running:\n",
    "\n",
    "- Track inputs from the user\n",
    "- Track error messages\n",
    "- Track user logins\n",
    "\n",
    "If we use a dict, then we can have a number of these accumulators tracking all together. Each key represents one item we're tracking, and each value represents the number of times it appeared."
   ]
  },
  {
   "cell_type": "code",
   "execution_count": 40,
   "metadata": {},
   "outputs": [
    {
     "name": "stdin",
     "output_type": "stream",
     "text": [
      "Enter a number:  10\n",
      "Enter a number:  15\n",
      "Enter a number:  18\n",
      "Enter a number:  23\n",
      "Enter a number:  24\n",
      "Enter a number:  29\n",
      "Enter a number:  712\n",
      "Enter a number:  hello\n"
     ]
    },
    {
     "name": "stdout",
     "output_type": "stream",
     "text": [
      "hello is not numeric; try again\n"
     ]
    },
    {
     "name": "stdin",
     "output_type": "stream",
     "text": [
      "Enter a number:  \n"
     ]
    },
    {
     "name": "stdout",
     "output_type": "stream",
     "text": [
      "{'odds': 3, 'evens': 4}\n"
     ]
    }
   ],
   "source": [
    "# Example: Odds and evens\n",
    "\n",
    "counts = {'odds':0, 'evens':0}  # setting up my accumulation dict\n",
    "\n",
    "while True:\n",
    "    s = input('Enter a number: ').strip()\n",
    "\n",
    "    if s == '':\n",
    "        break\n",
    "\n",
    "    if not s.isdigit():\n",
    "        print(f'{s} is not numeric; try again')\n",
    "        continue\n",
    "\n",
    "    n = int(s)\n",
    "\n",
    "    if n % 2 == 0:             # if, when we divide n by 2, we have a remainder of 0\n",
    "        counts['evens'] += 1   # ... increment counts['evens'] by 1\n",
    "    else:\n",
    "        counts['odds'] += 1    # otherwise, increment counts['odds']\n",
    "\n",
    "print(counts)        "
   ]
  },
  {
   "cell_type": "markdown",
   "metadata": {},
   "source": [
    "# Exercise: Digits, vowels, and others (dict edition)\n",
    "\n",
    "1. Set up a dict with keys `digits`, `vowels`, and `others`, and all of them having 0 for values.\n",
    "2. Ask the user, repeatedly, to enter a string.\n",
    "    - If the user enters an empty string, stop asking\n",
    "3. Go through each character in the user's input\n",
    "    - If the character is a digit, add 1 to `counts['digits']`\n",
    "    - If the character is a vowel, add 1 to `counts['vowels']`\n",
    "    - Otherwise, add 1 to `counts['others']`\n",
    "4. Print `counts`"
   ]
  },
  {
   "cell_type": "code",
   "execution_count": 41,
   "metadata": {},
   "outputs": [
    {
     "name": "stdin",
     "output_type": "stream",
     "text": [
      "Enter text:  hello out there\n",
      "Enter text:  this is great!\n",
      "Enter text:  my shoe size is 46\n",
      "Enter text:  \n"
     ]
    },
    {
     "name": "stdout",
     "output_type": "stream",
     "text": [
      "{'digits': 2, 'vowels': 15, 'others': 30}\n"
     ]
    }
   ],
   "source": [
    "counts = {'digits':0,\n",
    "          'vowels':0,\n",
    "          'others':0}\n",
    "\n",
    "while True:\n",
    "    s = input('Enter text: ').strip()\n",
    "\n",
    "    if s == '':\n",
    "        break\n",
    "\n",
    "    for one_character in s:\n",
    "        if one_character.isdigit():\n",
    "            counts['digits'] += 1\n",
    "        elif one_character in 'aeiou':\n",
    "            counts['vowels'] += 1\n",
    "        else:\n",
    "            counts['others'] += 1\n",
    "\n",
    "print(counts)            "
   ]
  },
  {
   "cell_type": "code",
   "execution_count": 42,
   "metadata": {},
   "outputs": [
    {
     "name": "stdin",
     "output_type": "stream",
     "text": [
      "Enter a string (or press Enter to quit):  hello!! 123\n",
      "Enter a string (or press Enter to quit):  goodbye!\n",
      "Enter a string (or press Enter to quit):  \n"
     ]
    },
    {
     "name": "stdout",
     "output_type": "stream",
     "text": [
      "{'digits': 3, 'vowels': 5, 'others': 11}\n"
     ]
    }
   ],
   "source": [
    "# AE\n",
    "\n",
    "counts = {'digits':0, 'vowels':0, 'others':0}\n",
    "\n",
    "while True:\n",
    "      stringy = input(\"Enter a string (or press Enter to quit): \")\n",
    "      if stringy == '':\n",
    "            break\n",
    "      \n",
    "      for char in stringy:\n",
    "            if char.isdigit():\n",
    "                  counts['digits'] += 1\n",
    "            elif char.lower() in 'aeiou':\n",
    "                  counts['vowels'] += 1\n",
    "            else:\n",
    "                  counts['others'] += 1\n",
    "\n",
    "print(counts)"
   ]
  },
  {
   "cell_type": "code",
   "execution_count": 43,
   "metadata": {},
   "outputs": [
    {
     "name": "stdin",
     "output_type": "stream",
     "text": [
      "Please, enter a string:  hello!! 123\n",
      "Please, enter a string:  \n"
     ]
    },
    {
     "name": "stdout",
     "output_type": "stream",
     "text": [
      "vowels: 2\n",
      "vowels: 3\n",
      "vowels: 6\n"
     ]
    }
   ],
   "source": [
    "# ID\n",
    "\n",
    "counts = {'digits':0, 'vowels': 0, 'others': 0}\n",
    "\n",
    "while True:\n",
    "    inpt = input('Please, enter a string: ')\n",
    "    \n",
    "    if inpt == '':\n",
    "        break\n",
    "    for char in inpt:\n",
    "        if char.isdigit():\n",
    "            counts['digits'] += 1\n",
    "        elif char in 'aeouiAEOUI':\n",
    "            counts['vowels'] += 1\n",
    "        else:\n",
    "            counts['others'] += 1\n",
    "            \n",
    "print(f'vowels: {counts['vowels']}')\n",
    "print(f'vowels: {counts['digits']}')\n",
    "print(f'vowels: {counts['others']}')"
   ]
  },
  {
   "cell_type": "markdown",
   "metadata": {},
   "source": [
    "# Accumulate the unknown\n",
    "\n",
    "What if I don't know what data I'm going to get? I can still count what comes in, but I'll need a different strategy.\n",
    "\n",
    "For example, let's say that I want to count how many times each character appears in a user's input string. I can use a dict for this, but I don't want to create a dict in which the keys are EVERY CHARACTER IN THE WORLD and the values are all 0.\n",
    "\n",
    "Instead, we can start with an empty dict. As we go through each character:\n",
    "\n",
    "- If we've seen the character before, we'll add 1 to its count\n",
    "- If we haven't seen the character before, we'll add a new key-value pair with the character and 1\n",
    "\n",
    "In the end, we can print the whole dict"
   ]
  },
  {
   "cell_type": "code",
   "execution_count": 44,
   "metadata": {},
   "outputs": [
    {
     "name": "stdin",
     "output_type": "stream",
     "text": [
      "Enter text:  hello\n"
     ]
    },
    {
     "ename": "KeyError",
     "evalue": "'h'",
     "output_type": "error",
     "traceback": [
      "\u001b[31m---------------------------------------------------------------------------\u001b[39m",
      "\u001b[31mKeyError\u001b[39m                                  Traceback (most recent call last)",
      "\u001b[36mCell\u001b[39m\u001b[36m \u001b[39m\u001b[32mIn[44]\u001b[39m\u001b[32m, line 8\u001b[39m\n\u001b[32m      5\u001b[39m s = \u001b[38;5;28minput\u001b[39m(\u001b[33m'\u001b[39m\u001b[33mEnter text: \u001b[39m\u001b[33m'\u001b[39m).strip()\n\u001b[32m      7\u001b[39m \u001b[38;5;28;01mfor\u001b[39;00m one_character \u001b[38;5;129;01min\u001b[39;00m s:\n\u001b[32m----> \u001b[39m\u001b[32m8\u001b[39m     \u001b[43mcounts\u001b[49m\u001b[43m[\u001b[49m\u001b[43mone_character\u001b[49m\u001b[43m]\u001b[49m += \u001b[32m1\u001b[39m   \u001b[38;5;66;03m# this is what I want!\u001b[39;00m\n\u001b[32m     10\u001b[39m \u001b[38;5;28mprint\u001b[39m(counts)    \n",
      "\u001b[31mKeyError\u001b[39m: 'h'"
     ]
    }
   ],
   "source": [
    "# Example\n",
    "\n",
    "counts = {}  # empty dict -- it will be populated by characters as keys and integers (counts) as values\n",
    "\n",
    "s = input('Enter text: ').strip()\n",
    "\n",
    "for one_character in s:\n",
    "    counts[one_character] += 1   # this is what I want!\n",
    "\n",
    "print(counts)    "
   ]
  },
  {
   "cell_type": "code",
   "execution_count": 46,
   "metadata": {},
   "outputs": [
    {
     "name": "stdin",
     "output_type": "stream",
     "text": [
      "Enter text:  whatever you say\n"
     ]
    },
    {
     "name": "stdout",
     "output_type": "stream",
     "text": [
      "{'w': 1, 'h': 1, 'a': 2, 't': 1, 'e': 2, 'v': 1, 'r': 1, ' ': 2, 'y': 2, 'o': 1, 'u': 1, 's': 1}\n"
     ]
    }
   ],
   "source": [
    "# Example\n",
    "\n",
    "counts = {}  # empty dict -- it will be populated by characters as keys and integers (counts) as values\n",
    "\n",
    "s = input('Enter text: ').strip()\n",
    "\n",
    "for one_character in s:\n",
    "    if one_character in counts:      # if one_character is already a key in counts...\n",
    "        counts[one_character] += 1   #     increment by 1\n",
    "    else:\n",
    "        counts[one_character] = 1    # add a new key-value pair\n",
    "\n",
    "print(counts)    "
   ]
  },
  {
   "cell_type": "markdown",
   "metadata": {},
   "source": [
    "# Exercise: Rainfall\n",
    "\n",
    "1. Define an empty dict, `rainfall`. We will fill it with city names (strings) as keys and mm of rain (integers) as values.\n",
    "2. Ask the user, repeatedly to enter the name of a city.\n",
    "    - If the city name is empty, stop asking\n",
    "3. If you got a city, ask (a separate question) the user for the number of mm of rain that fell in that city most recently.\n",
    "    - Let's assume that you will get numeric input.\n",
    "4. If you've seen this city before, add its rainfall to the existing total\n",
    "5. If you haven't seen this city before, add the city + the mm rain as a key-value pair.\n",
    "6. When you're done, print the entire dict.\n",
    "\n",
    "Example:\n",
    "\n",
    "    City: Tel Aviv\n",
    "    Rain: 4\n",
    "    City: Jerusalem\n",
    "    Rain: 3\n",
    "    City: Tel Aviv\n",
    "    Rain: 2\n",
    "    City: [ENTER]\n",
    "\n",
    "    {'Tel Aviv': 6,\n",
    "     'Jerusalem': 3}"
   ]
  },
  {
   "cell_type": "code",
   "execution_count": 48,
   "metadata": {},
   "outputs": [
    {
     "name": "stdin",
     "output_type": "stream",
     "text": [
      "City:  a\n",
      "Rain:  5\n",
      "City:  b\n",
      "Rain:  4\n",
      "City:  a\n",
      "Rain:  3\n",
      "City:  \n"
     ]
    },
    {
     "name": "stdout",
     "output_type": "stream",
     "text": [
      "{'a': 8, 'b': 4}\n"
     ]
    }
   ],
   "source": [
    "rainfall = {}\n",
    "\n",
    "while True:\n",
    "    city_name = input('City: ').strip()\n",
    "\n",
    "    if city_name == '':   # didn't get a city name? break!\n",
    "        break\n",
    "\n",
    "    s = input('Rain: ').strip()\n",
    "    mm_rain = int(s)  # we should, at some point, check to see if this won't break things\n",
    "\n",
    "    if city_name in rainfall:            # if we've seen city_name before...\n",
    "        rainfall[city_name] += mm_rain   # ... add mm_rain to the existing value\n",
    "    else:\n",
    "        rainfall[city_name] = mm_rain    # if this city is new, then add the key, value pair\n",
    "\n",
    "print(rainfall)        "
   ]
  },
  {
   "cell_type": "code",
   "execution_count": null,
   "metadata": {},
   "outputs": [],
   "source": [
    "# ID\n",
    "\n",
    "\n",
    "rainfall = {}\n",
    "\n",
    "while True:\n",
    "    city = input('Enter a City name: ').strip()\n",
    "\n",
    "    if city == '':\n",
    "        break\n",
    "    \n",
    "    rain = int(input('Enter the amount of rain in mm: ').strip())\n",
    "    if city not in rainfall:\n",
    "        rainfall[city] = rain\n",
    "    else:\n",
    "        rainfall[city] += rain\n",
    "\n",
    "print(rainfall)\n",
    "    \n",
    "\n"
   ]
  },
  {
   "cell_type": "markdown",
   "metadata": {},
   "source": [
    "# Getting valid numeric input\n",
    "\n",
    "If we want to ensure that we got valid numeric input, so far we've used `str.isdigit`. It's imperfect, but it works for simple cases.\n",
    "\n",
    "But what if we want a more sophisticated check? What if we want to let people enter fractional numbers (i.e., floats)? How can we check for that?\n",
    "\n",
    "Python basically says: Don't check. Assume the best, but prepare for the worst.\n",
    "\n",
    "Meaning: Assume it'll work, but put that code inside of a `try` block. And that means, let's hope that it works ... but if it doesn't, and we get an \"Exception\" (a fancy for error), then we can trap that error and go on."
   ]
  },
  {
   "cell_type": "code",
   "execution_count": null,
   "metadata": {},
   "outputs": [],
   "source": [
    "try:\n",
    "    amount = float(input(f\"Enter rainfall amount for {city}: \"))\n",
    "    rainfall[city] += amount\n",
    "except ValueError:\n",
    "    print(\"Invalid input. Please enter a numeric value.\")"
   ]
  },
  {
   "cell_type": "markdown",
   "metadata": {},
   "source": [
    "# Rainfall, data analytics edition\n",
    "\n",
    "What if, instead of wanting to know the total amount of rain in a given city, we wanted to know some more general stats about the rain in that city:\n",
    "\n",
    "- min rainfall (least in a day)\n",
    "- max rainfall (most in a day)\n",
    "- mean (average)\n",
    "- total\n",
    "\n",
    "To do this, it's probably easiest not to add to the accumulation each time, but rather to have a list of integers for each city."
   ]
  },
  {
   "cell_type": "code",
   "execution_count": 49,
   "metadata": {},
   "outputs": [
    {
     "name": "stdin",
     "output_type": "stream",
     "text": [
      "City:  a\n",
      "Rain:  5\n",
      "City:  b\n",
      "Rain:  4\n",
      "City:  c\n",
      "Rain:  3\n",
      "City:  a\n",
      "Rain:  10\n",
      "City:  b\n",
      "Rain:  9\n",
      "City:  c\n",
      "Rain:  8\n",
      "City:  \n"
     ]
    },
    {
     "name": "stdout",
     "output_type": "stream",
     "text": [
      "{'a': [5, 10], 'b': [4, 9], 'c': [3, 8]}\n"
     ]
    }
   ],
   "source": [
    "rainfall = {}\n",
    "\n",
    "while True:\n",
    "    city_name = input('City: ').strip()\n",
    "\n",
    "    if city_name == '':   # didn't get a city name? break!\n",
    "        break\n",
    "\n",
    "    s = input('Rain: ').strip()\n",
    "    mm_rain = int(s)  # we should, at some point, check to see if this won't break things\n",
    "\n",
    "    if city_name in rainfall:                 # if we've seen city_name before...\n",
    "        rainfall[city_name].append(mm_rain)   # ... add mm_rain to the existing value\n",
    "    else:\n",
    "        rainfall[city_name] = [mm_rain]      # if this city is new, then add the key, value pair with the value in a 1-element list\n",
    "\n",
    "print(rainfall)        "
   ]
  },
  {
   "cell_type": "code",
   "execution_count": 52,
   "metadata": {},
   "outputs": [
    {
     "data": {
      "text/plain": [
       "5"
      ]
     },
     "execution_count": 52,
     "metadata": {},
     "output_type": "execute_result"
    }
   ],
   "source": [
    "# how can I calculate the min, max, mean, and total on city a?\n",
    "\n",
    "city = 'a'\n",
    "\n",
    "min(rainfall[city])  # the min function returns the smallest value in a list"
   ]
  },
  {
   "cell_type": "code",
   "execution_count": 53,
   "metadata": {},
   "outputs": [
    {
     "data": {
      "text/plain": [
       "10"
      ]
     },
     "execution_count": 53,
     "metadata": {},
     "output_type": "execute_result"
    }
   ],
   "source": [
    "max(rainfall[city])  # the max function returns the largest value in a list"
   ]
  },
  {
   "cell_type": "code",
   "execution_count": 54,
   "metadata": {},
   "outputs": [
    {
     "data": {
      "text/plain": [
       "15"
      ]
     },
     "execution_count": 54,
     "metadata": {},
     "output_type": "execute_result"
    }
   ],
   "source": [
    "sum(rainfall[city])  # the sum function returns the total of a list"
   ]
  },
  {
   "cell_type": "code",
   "execution_count": 55,
   "metadata": {},
   "outputs": [
    {
     "data": {
      "text/plain": [
       "7.5"
      ]
     },
     "execution_count": 55,
     "metadata": {},
     "output_type": "execute_result"
    }
   ],
   "source": [
    "sum(rainfall[city]) / len(rainfall[city])  # get the mean"
   ]
  },
  {
   "cell_type": "markdown",
   "metadata": {},
   "source": [
    "# Next up\n",
    "\n",
    "1. Iterating over a dict (different ways to do it)\n",
    "2. How are dicts implemented?\n",
    "3. Files\n",
    "\n",
    "You'll want to download a zipfile with a few text files I'll use in exercises.\n",
    "\n",
    "https://files.lerner.co.il/exercise-files.zip"
   ]
  },
  {
   "cell_type": "markdown",
   "metadata": {},
   "source": [
    "# Iterating over a dict\n",
    "\n",
    "We've seen that we can iterate over a variety of data structures in Python:\n",
    "\n",
    "- strings (we get each character)\n",
    "- lists (we get each element)\n",
    "- tuples (we get each element)\n",
    "\n",
    "What happens if we iterate over a dict?\n",
    "\n",
    "We get the keys!"
   ]
  },
  {
   "cell_type": "code",
   "execution_count": 59,
   "metadata": {},
   "outputs": [
    {
     "name": "stdout",
     "output_type": "stream",
     "text": [
      "a\n",
      "b\n",
      "c\n"
     ]
    }
   ],
   "source": [
    "d = {'a':10, 'b':20, 'c':30}\n",
    "\n",
    "for one_item in d:\n",
    "    print(one_item)"
   ]
  },
  {
   "cell_type": "code",
   "execution_count": 60,
   "metadata": {},
   "outputs": [
    {
     "name": "stdout",
     "output_type": "stream",
     "text": [
      "a: 10\n",
      "b: 20\n",
      "c: 30\n"
     ]
    }
   ],
   "source": [
    "for one_key in d:\n",
    "    print(f'{one_key}: {d[one_key]}')"
   ]
  },
  {
   "cell_type": "code",
   "execution_count": 61,
   "metadata": {},
   "outputs": [
    {
     "data": {
      "text/plain": [
       "dict_keys(['a', 'b', 'c'])"
      ]
     },
     "execution_count": 61,
     "metadata": {},
     "output_type": "execute_result"
    }
   ],
   "source": [
    "# someone has probably noticed that there is a dict method called dict.keys\n",
    "# if we call it, we get the keys back\n",
    "\n",
    "d.keys()"
   ]
  },
  {
   "cell_type": "code",
   "execution_count": 62,
   "metadata": {},
   "outputs": [
    {
     "name": "stdout",
     "output_type": "stream",
     "text": [
      "a: 10\n",
      "b: 20\n",
      "c: 30\n"
     ]
    }
   ],
   "source": [
    "for one_key in d.keys():\n",
    "    print(f'{one_key}: {d[one_key]}')"
   ]
  },
  {
   "cell_type": "markdown",
   "metadata": {},
   "source": [
    "Should we prefer iterating over `d` or `d.keys()`?\n",
    "\n",
    "Answer: `d`, by a *LOT*.\n",
    "\n",
    "If we iterate over `d`, it's shorter (to write) and faster (to execute), because it doesn't need to search for the method and then execute it.\n",
    "\n",
    "In general, iterating over `d.keys()`, searching using `in` with `d.keys()` or I'd even say using `d.keys()` in general is a bad idea. You should have a very good reason for invoking `d.keys()`."
   ]
  },
  {
   "cell_type": "code",
   "execution_count": 63,
   "metadata": {},
   "outputs": [
    {
     "name": "stdout",
     "output_type": "stream",
     "text": [
      "10\n",
      "20\n",
      "30\n"
     ]
    }
   ],
   "source": [
    "# what if I want to iterate over the values?\n",
    "# we can do this with the dict.values method, *but* we won't have the keys\n",
    "\n",
    "for one_value in d.values():\n",
    "    print(one_value)"
   ]
  },
  {
   "cell_type": "code",
   "execution_count": 64,
   "metadata": {},
   "outputs": [
    {
     "name": "stdout",
     "output_type": "stream",
     "text": [
      "('a', 10)\n",
      "('b', 20)\n",
      "('c', 30)\n"
     ]
    }
   ],
   "source": [
    "# My favorite way to iterate over a dict is to use the dict.items method\n",
    "\n",
    "for one_item in d.items():\n",
    "    print(one_item)"
   ]
  },
  {
   "cell_type": "code",
   "execution_count": 66,
   "metadata": {},
   "outputs": [
    {
     "name": "stdout",
     "output_type": "stream",
     "text": [
      "a: 10\n",
      "b: 20\n",
      "c: 30\n"
     ]
    }
   ],
   "source": [
    "# you might remember from last week that we saw how we can use \"tuple unpacking\"\n",
    "# right in the for loop\n",
    "\n",
    "for key, value in d.items():\n",
    "    print(f'{key}: {value}')"
   ]
  },
  {
   "cell_type": "markdown",
   "metadata": {},
   "source": [
    "Why do I like `dict.items`?\n",
    "\n",
    "1. We get both the key and the value. We don't need to start rooting around and retrieving them.\n",
    "2. They're in variables we can name, which makes our code more expressive.\n"
   ]
  },
  {
   "cell_type": "code",
   "execution_count": 67,
   "metadata": {},
   "outputs": [
    {
     "data": {
      "text/plain": [
       "{'a': [5, 10], 'b': [4, 9], 'c': [3, 8]}"
      ]
     },
     "execution_count": 67,
     "metadata": {},
     "output_type": "execute_result"
    }
   ],
   "source": [
    "rainfall"
   ]
  },
  {
   "cell_type": "code",
   "execution_count": 70,
   "metadata": {},
   "outputs": [
    {
     "name": "stdout",
     "output_type": "stream",
     "text": [
      "a\n",
      "\ttotal=15\n",
      "\tmin_rain=5\n",
      "\tmax_rain=10\n",
      "\tmean=7.5\n",
      "b\n",
      "\ttotal=13\n",
      "\tmin_rain=4\n",
      "\tmax_rain=9\n",
      "\tmean=6.5\n",
      "c\n",
      "\ttotal=11\n",
      "\tmin_rain=3\n",
      "\tmax_rain=8\n",
      "\tmean=5.5\n"
     ]
    }
   ],
   "source": [
    "# now I can use a \"for\" loop on rainfall to calculate all of our stats for each city\n",
    "\n",
    "for city_name, rain_list in rainfall.items():\n",
    "    print(city_name)\n",
    "    total = sum(rain_list)\n",
    "    min_rain = min(rain_list)\n",
    "    max_rain = max(rain_list)\n",
    "    mean = total / len(rain_list)\n",
    "\n",
    "    print(f'\\t{total=}\\n\\t{min_rain=}\\n\\t{max_rain=}\\n\\t{mean=}')\n",
    "    "
   ]
  },
  {
   "cell_type": "markdown",
   "metadata": {},
   "source": [
    "# Exercise: Input to dict\n",
    "\n",
    "1. Create an empty dict.\n",
    "2. Repeatedly ask the user to enter both a word and number, separated by whitespace.\n",
    "   - If they enter the empty string, break out of the loop\n",
    "3. Add the new key-value pair to the dict, where the word is the key and the number is the value.\n",
    "4. After adding all of the key-value pairs, iterate over the dict and display each key-value pair.\n",
    "5. Print the pair with the highest number and the lowest number.\n",
    "\n",
    "Example:\n",
    "\n",
    "    Enter pair: a 17\n",
    "    Enter pair: b 20\n",
    "    Enter pair: c 7\n",
    "    Enter pair: d 35\n",
    "    Enter pair: [ENTER]\n",
    "\n",
    "    a 17\n",
    "    b 20\n",
    "    c 7\n",
    "    d 35\n",
    "\n",
    "    lowest is c:7\n",
    "    highest is d:35    "
   ]
  },
  {
   "cell_type": "code",
   "execution_count": 75,
   "metadata": {},
   "outputs": [
    {
     "name": "stdin",
     "output_type": "stream",
     "text": [
      "Enter pair:  a 10\n",
      "Enter pair:  b 20\n",
      "Enter pair:  c 30\n",
      "Enter pair:  d 17\n",
      "Enter pair:  e 5\n",
      "Enter pair:  f 32\n",
      "Enter pair:  \n"
     ]
    },
    {
     "name": "stdout",
     "output_type": "stream",
     "text": [
      "a: 10 \n",
      "b: 20 \n",
      "c: 30 \n",
      "d: 17 \n",
      "e: 5 (lowest)\n",
      "f: 32 (highest)\n"
     ]
    }
   ],
   "source": [
    "pairs = {}\n",
    "lowest_value = None\n",
    "highest_value = None\n",
    "\n",
    "# add to the dict\n",
    "while True:\n",
    "    s = input('Enter pair: ').strip()\n",
    "\n",
    "    if s == '':\n",
    "        break\n",
    "\n",
    "    key, value = s.split()   # assumption #1: we only have two items here, key and value\n",
    "    value = int(value)\n",
    "    pairs[key] = value  # assumption #2: value can be turned into an int\n",
    "\n",
    "    if lowest_value == None: # first time? Just use value\n",
    "        lowest_value = value\n",
    "\n",
    "    if highest_value == None: # first time? Just use value\n",
    "        highest_value = value\n",
    "\n",
    "    if value < lowest_value:  # do we have a new lowest_value?\n",
    "        lowest_value = value\n",
    "\n",
    "    if value > highest_value:  # do we have a new highest_value?\n",
    "        highest_value = value\n",
    "\n",
    "# iterate over the dict, printing it\n",
    "for key, value in pairs.items():\n",
    "    if value == lowest_value:\n",
    "        note = '(lowest)'\n",
    "    elif value == highest_value:\n",
    "        note = '(highest)'\n",
    "    else:\n",
    "        note = ''\n",
    "\n",
    "    print(f'{key}: {value} {note}')"
   ]
  },
  {
   "cell_type": "code",
   "execution_count": 74,
   "metadata": {},
   "outputs": [
    {
     "data": {
      "text/plain": [
       "'7'"
      ]
     },
     "execution_count": 74,
     "metadata": {},
     "output_type": "execute_result"
    }
   ],
   "source": [
    "highest_value"
   ]
  },
  {
   "cell_type": "code",
   "execution_count": 76,
   "metadata": {},
   "outputs": [],
   "source": [
    "# can we have a list of dicts?\n",
    "\n",
    "mylist = [{'a':10, 'b':20},\n",
    "          {'a':15, 'b':25},\n",
    "          {'a':30, 'b':35}]"
   ]
  },
  {
   "cell_type": "markdown",
   "metadata": {},
   "source": [
    "# How do dicts work?\n",
    "\n",
    "When you search for a value in a list, Python basically runs a `for` loop. As you can imagine, that means if you have a very long list, finding something there (or finding if it is there) can take a long time. \n",
    "\n",
    "By contrast, finding a key in a dict is almost instantaneous. \n",
    "\n",
    "The reason is how they are designed.\n",
    "\n",
    "Lists work as you might expect:\n",
    "\n",
    "- Each value has an index\n",
    "- The indexes start at 0\n",
    "- As we add new values, they go at the end (usually)\n",
    "\n",
    "Dicts, though, work a different way:\n",
    "- We store each key-value pair together\n",
    "- Where do we store it? At a memory location determined by running a function on the key\n",
    "- That function, known as a \"hash\" function, gives us what looks like a random number, but is consistent\n",
    "- hash('a') and hash('b') are nowhere near each other, but will always give the same answer\n",
    "- When we store ('a', 10), Python runs `hash('a')`, gets a memory location, and stores it there.\n",
    "- If we want `d['a']`, it runs `hash('a')`, jumps to that location, and retrieves the value (10).\n",
    "- Or it jumps to that location and finds that the pair isn't there.\n",
    "\n",
    "Dicts are flexible, in that we can use whatever we want (almost) as a dict key. Our data doesn't need artificial IDs, as in a list.\n",
    "\n",
    "Dicts are fast, in that the lookup is very speedy."
   ]
  },
  {
   "cell_type": "markdown",
   "metadata": {},
   "source": [
    "# Files\n",
    "\n",
    "What are files?\n",
    "\n",
    "As a programmer, we think of files as stored versions of data structures.\n",
    "\n",
    "We have in-memory data structures. But when we turn the computer off, then those go away. Having a file means that we can (later on) retrieve those data structures, and continue from where we left off.\n",
    "\n",
    "There are lots of formats for doing this, but we are going to use text files. \n",
    "\n",
    "How can we read from a text file?\n",
    "\n",
    "In olden times, a program could just talk to the disk and read from it. Nowadays, that's a problem both from a security perspective and an OS API perspective. \n",
    "\n",
    "If you want to talk to a file, you thus need to:\n",
    "\n",
    "- Tell the operating system that you want to open it\n",
    "- Open it for reading\n",
    "- This gives you a \"file object,\" or \"file handle,\" or \"file agent\" that works on your behalf\n",
    "- You ask the file handle to read from the file\n",
    "- When you're done, it's a good idea to close the file object, so that it restores the memory."
   ]
  },
  {
   "cell_type": "code",
   "execution_count": 78,
   "metadata": {},
   "outputs": [],
   "source": [
    "# open our file!\n",
    "f = open('/etc/passwd')  "
   ]
  },
  {
   "cell_type": "code",
   "execution_count": 79,
   "metadata": {},
   "outputs": [
    {
     "data": {
      "text/plain": [
       "'##\\n# User Database\\n# \\n# Note that this file is consulted directly only when the system is running\\n# in single-user mode.  At other times this information is provided by\\n# Open Directory.\\n#\\n# See the opendirectoryd(8) man page for additional information about\\n# Open Directory.\\n##\\nnobody:*:-2:-2:Unprivileged User:/var/empty:/usr/bin/false\\nroot:*:0:0:System Administrator:/var/root:/bin/sh\\ndaemon:*:1:1:System Services:/var/root:/usr/bin/false\\n_uucp:*:4:4:Unix to Unix Copy Protocol:/var/spool/uucp:/usr/sbin/uucico\\n_taskgated:*:13:13:Task Gate Daemon:/var/empty:/usr/bin/false\\n_networkd:*:24:24:Network Services:/var/networkd:/usr/bin/false\\n_installassistant:*:25:25:Install Assistant:/var/empty:/usr/bin/false\\n_lp:*:26:26:Printing Services:/var/spool/cups:/usr/bin/false\\n_postfix:*:27:27:Postfix Mail Server:/var/spool/postfix:/usr/bin/false\\n_scsd:*:31:31:Service Configuration Service:/var/empty:/usr/bin/false\\n_ces:*:32:32:Certificate Enrollment Service:/var/empty:/usr/bin/false\\n_appstore:*:33:33:Mac App Store Service:/var/db/appstore:/usr/bin/false\\n_mcxalr:*:54:54:MCX AppLaunch:/var/empty:/usr/bin/false\\n_appleevents:*:55:55:AppleEvents Daemon:/var/empty:/usr/bin/false\\n_geod:*:56:56:Geo Services Daemon:/var/db/geod:/usr/bin/false\\n_devdocs:*:59:59:Developer Documentation:/var/empty:/usr/bin/false\\n_sandbox:*:60:60:Seatbelt:/var/empty:/usr/bin/false\\n_mdnsresponder:*:65:65:mDNSResponder:/var/empty:/usr/bin/false\\n_ard:*:67:67:Apple Remote Desktop:/var/empty:/usr/bin/false\\n_www:*:70:70:World Wide Web Server:/Library/WebServer:/usr/bin/false\\n_eppc:*:71:71:Apple Events User:/var/empty:/usr/bin/false\\n_cvs:*:72:72:CVS Server:/var/empty:/usr/bin/false\\n_svn:*:73:73:SVN Server:/var/empty:/usr/bin/false\\n_mysql:*:74:74:MySQL Server:/var/empty:/usr/bin/false\\n_sshd:*:75:75:sshd Privilege separation:/var/empty:/usr/bin/false\\n_qtss:*:76:76:QuickTime Streaming Server:/var/empty:/usr/bin/false\\n_cyrus:*:77:6:Cyrus Administrator:/var/imap:/usr/bin/false\\n_mailman:*:78:78:Mailman List Server:/var/empty:/usr/bin/false\\n_appserver:*:79:79:Application Server:/var/empty:/usr/bin/false\\n_clamav:*:82:82:ClamAV Daemon:/var/virusmails:/usr/bin/false\\n_amavisd:*:83:83:AMaViS Daemon:/var/virusmails:/usr/bin/false\\n_jabber:*:84:84:Jabber XMPP Server:/var/empty:/usr/bin/false\\n_appowner:*:87:87:Application Owner:/var/empty:/usr/bin/false\\n_windowserver:*:88:88:WindowServer:/var/empty:/usr/bin/false\\n_spotlight:*:89:89:Spotlight:/var/empty:/usr/bin/false\\n_tokend:*:91:91:Token Daemon:/var/empty:/usr/bin/false\\n_securityagent:*:92:92:SecurityAgent:/var/db/securityagent:/usr/bin/false\\n_calendar:*:93:93:Calendar:/var/empty:/usr/bin/false\\n_teamsserver:*:94:94:TeamsServer:/var/teamsserver:/usr/bin/false\\n_update_sharing:*:95:-2:Update Sharing:/var/empty:/usr/bin/false\\n_installer:*:96:-2:Installer:/var/empty:/usr/bin/false\\n_atsserver:*:97:97:ATS Server:/var/empty:/usr/bin/false\\n_ftp:*:98:-2:FTP Daemon:/var/empty:/usr/bin/false\\n_unknown:*:99:99:Unknown User:/var/empty:/usr/bin/false\\n_softwareupdate:*:200:200:Software Update Service:/var/db/softwareupdate:/usr/bin/false\\n_coreaudiod:*:202:202:Core Audio Daemon:/var/empty:/usr/bin/false\\n_screensaver:*:203:203:Screensaver:/var/empty:/usr/bin/false\\n_locationd:*:205:205:Location Daemon:/var/db/locationd:/usr/bin/false\\n_trustevaluationagent:*:208:208:Trust Evaluation Agent:/var/empty:/usr/bin/false\\n_timezone:*:210:210:AutoTimeZoneDaemon:/var/empty:/usr/bin/false\\n_lda:*:211:211:Local Delivery Agent:/var/empty:/usr/bin/false\\n_cvmsroot:*:212:212:CVMS Root:/var/empty:/usr/bin/false\\n_usbmuxd:*:213:213:iPhone OS Device Helper:/var/db/lockdown:/usr/bin/false\\n_dovecot:*:214:6:Dovecot Administrator:/var/empty:/usr/bin/false\\n_dpaudio:*:215:215:DP Audio:/var/empty:/usr/bin/false\\n_postgres:*:216:216:PostgreSQL Server:/var/empty:/usr/bin/false\\n_krbtgt:*:217:-2:Kerberos Ticket Granting Ticket:/var/empty:/usr/bin/false\\n_kadmin_admin:*:218:-2:Kerberos Admin Service:/var/empty:/usr/bin/false\\n_kadmin_changepw:*:219:-2:Kerberos Change Password Service:/var/empty:/usr/bin/false\\n_devicemgr:*:220:220:Device Management Server:/var/empty:/usr/bin/false\\n_webauthserver:*:221:221:Web Auth Server:/var/empty:/usr/bin/false\\n_netbios:*:222:222:NetBIOS:/var/empty:/usr/bin/false\\n_warmd:*:224:224:Warm Daemon:/var/empty:/usr/bin/false\\n_dovenull:*:227:227:Dovecot Authentication:/var/empty:/usr/bin/false\\n_netstatistics:*:228:228:Network Statistics Daemon:/var/empty:/usr/bin/false\\n_avbdeviced:*:229:-2:Ethernet AVB Device Daemon:/var/empty:/usr/bin/false\\n_krb_krbtgt:*:230:-2:Open Directory Kerberos Ticket Granting Ticket:/var/empty:/usr/bin/false\\n_krb_kadmin:*:231:-2:Open Directory Kerberos Admin Service:/var/empty:/usr/bin/false\\n_krb_changepw:*:232:-2:Open Directory Kerberos Change Password Service:/var/empty:/usr/bin/false\\n_krb_kerberos:*:233:-2:Open Directory Kerberos:/var/empty:/usr/bin/false\\n_krb_anonymous:*:234:-2:Open Directory Kerberos Anonymous:/var/empty:/usr/bin/false\\n_assetcache:*:235:235:Asset Cache Service:/var/empty:/usr/bin/false\\n_coremediaiod:*:236:236:Core Media IO Daemon:/var/empty:/usr/bin/false\\n_launchservicesd:*:239:239:_launchservicesd:/var/empty:/usr/bin/false\\n_iconservices:*:240:240:IconServices:/var/empty:/usr/bin/false\\n_distnote:*:241:241:DistNote:/var/empty:/usr/bin/false\\n_nsurlsessiond:*:242:242:NSURLSession Daemon:/var/db/nsurlsessiond:/usr/bin/false\\n_displaypolicyd:*:244:244:Display Policy Daemon:/var/empty:/usr/bin/false\\n_astris:*:245:245:Astris Services:/var/db/astris:/usr/bin/false\\n_krbfast:*:246:-2:Kerberos FAST Account:/var/empty:/usr/bin/false\\n_gamecontrollerd:*:247:247:Game Controller Daemon:/var/empty:/usr/bin/false\\n_mbsetupuser:*:248:248:Setup User:/var/setup:/bin/bash\\n_ondemand:*:249:249:On Demand Resource Daemon:/var/db/ondemand:/usr/bin/false\\n_xserverdocs:*:251:251:macOS Server Documents Service:/var/empty:/usr/bin/false\\n_wwwproxy:*:252:252:WWW Proxy:/var/empty:/usr/bin/false\\n_mobileasset:*:253:253:MobileAsset User:/var/ma:/usr/bin/false\\n_findmydevice:*:254:254:Find My Device Daemon:/var/db/findmydevice:/usr/bin/false\\n_datadetectors:*:257:257:DataDetectors:/var/db/datadetectors:/usr/bin/false\\n_captiveagent:*:258:258:captiveagent:/var/empty:/usr/bin/false\\n_ctkd:*:259:259:ctkd Account:/var/empty:/usr/bin/false\\n_applepay:*:260:260:applepay Account:/var/db/applepay:/usr/bin/false\\n_hidd:*:261:261:HID Service User:/var/db/hidd:/usr/bin/false\\n_cmiodalassistants:*:262:262:CoreMedia IO Assistants User:/var/db/cmiodalassistants:/usr/bin/false\\n_analyticsd:*:263:263:Analytics Daemon:/var/db/analyticsd:/usr/bin/false\\n_fpsd:*:265:265:FPS Daemon:/var/db/fpsd:/usr/bin/false\\n_timed:*:266:266:Time Sync Daemon:/var/db/timed:/usr/bin/false\\n_nearbyd:*:268:268:Proximity and Ranging Daemon:/var/db/nearbyd:/usr/bin/false\\n_reportmemoryexception:*:269:269:ReportMemoryException:/var/db/reportmemoryexception:/usr/bin/false\\n_driverkit:*:270:270:DriverKit:/var/empty:/usr/bin/false\\n_diskimagesiod:*:271:271:DiskImages IO Daemon:/var/db/diskimagesiod:/usr/bin/false\\n_logd:*:272:272:Log Daemon:/var/db/diagnostics:/usr/bin/false\\n_appinstalld:*:273:273:App Install Daemon:/var/db/appinstalld:/usr/bin/false\\n_installcoordinationd:*:274:274:Install Coordination Daemon:/var/db/installcoordinationd:/usr/bin/false\\n_demod:*:275:275:Demo Daemon:/var/empty:/usr/bin/false\\n_rmd:*:277:277:Remote Management Daemon:/var/db/rmd:/usr/bin/false\\n_accessoryupdater:*:278:278:Accessory Update Daemon:/var/db/accessoryupdater:/usr/bin/false\\n_knowledgegraphd:*:279:279:Knowledge Graph Daemon:/var/db/knowledgegraphd:/usr/bin/false\\n_coreml:*:280:280:CoreML Services:/var/db/coreml:/usr/bin/false\\n_sntpd:*:281:281:SNTP Server Daemon:/var/empty:/usr/bin/false\\n_trustd:*:282:282:trustd:/var/empty:/usr/bin/false\\n_mmaintenanced:*:283:283:mmaintenanced:/var/db/mmaintenanced:/usr/bin/false\\n_darwindaemon:*:284:284:Darwin Daemon:/var/db/darwindaemon:/usr/bin/false\\n_notification_proxy:*:285:285:Notification Proxy:/var/empty:/usr/bin/false\\n_avphidbridge:*:288:288:Apple Virtual Platform HID Bridge:/var/empty:/usr/bin/false\\n_biome:*:289:289:Biome:/var/db/biome:/usr/bin/false\\n_backgroundassets:*:291:291:Background Assets Service:/var/empty:/usr/bin/false\\n_mobilegestalthelper:*:293:293:MobileGestaltHelper:/var/empty:/usr/bin/false\\n_audiomxd:*:294:294:Audio and MediaExperience Daemon:/var/db/audiomxd:/usr/bin/false\\n_terminusd:*:295:295:Terminus:/var/db/terminus:/usr/bin/false\\n_neuralengine:*:296:296:AppleNeuralEngine:/var/db/neuralengine:/usr/bin/false\\n_eligibilityd:*:297:297:OS Eligibility Daemon:/var/db/eligibilityd:/usr/bin/false\\n_systemstatusd:*:298:298:SystemStatus Services:/var/empty:/usr/bin/false\\n_aonsensed:*:300:300:Always On Sense Daemon:/var/db/aonsensed:/usr/bin/false\\n_modelmanagerd:*:301:301:Model Manager:/var/db/modelmanagerd:/usr/bin/false\\n_reportsystemmemory:*:302:302:ReportSystemMemory:/var/empty:/usr/bin/false\\n_swtransparencyd:*:303:303:Software Transparency Services:/var/db/swtransparencyd:/usr/bin/false\\n_naturallanguaged:*:304:304:Natural Language Services:/var/db/com.apple.naturallanguaged:/usr/bin/false\\n_corespeechd:*:306:306:CoreSpeech Services:/var/empty:/usr/bin/false\\n_diagnosticservicesd:*:307:307:Diagnostic Services:/var/empty:/usr/bin/false\\n_oahd:*:441:441:OAH Daemon:/var/empty:/usr/bin/false\\n'"
      ]
     },
     "execution_count": 79,
     "metadata": {},
     "output_type": "execute_result"
    }
   ],
   "source": [
    "# I want to see the contents of this file\n",
    "# I can thus invoke the method f.read()\n",
    "# this will return the entire contents of the file as a (potentially very long) string\n",
    "\n",
    "f.read()"
   ]
  },
  {
   "cell_type": "code",
   "execution_count": 81,
   "metadata": {},
   "outputs": [
    {
     "name": "stdout",
     "output_type": "stream",
     "text": [
      "##\n",
      "# User Database\n",
      "#\n",
      "# Note that this file is consulted directly only when the system is running\n",
      "# in single-user mode.  At other times this information is provided by\n",
      "# Open Directory.\n",
      "#\n",
      "# See the opendirectoryd(8) man page for additional information about\n",
      "# Open Directory.\n",
      "##\n",
      "nobody:*:-2:-2:Unprivileged User:/var/empty:/usr/bin/false\n",
      "root:*:0:0:System Administrator:/var/root:/bin/sh\n",
      "daemon:*:1:1:System Services:/var/root:/usr/bin/false\n",
      "_uucp:*:4:4:Unix to Unix Copy Protocol:/var/spool/uucp:/usr/sbin/uucico\n",
      "_taskgated:*:13:13:Task Gate Daemon:/var/empty:/usr/bin/false\n",
      "_networkd:*:24:24:Network Services:/var/networkd:/usr/bin/false\n",
      "_installassistant:*:25:25:Install Assistant:/var/empty:/usr/bin/false\n",
      "_lp:*:26:26:Printing Services:/var/spool/cups:/usr/bin/false\n",
      "_postfix:*:27:27:Postfix Mail Server:/var/spool/postfix:/usr/bin/false\n",
      "_scsd:*:31:31:Service Configuration Service:/var/empty:/usr/bin/false\n",
      "_ces:*:32:32:Certificate Enrollment Service:/var/empty:/usr/bin/false\n",
      "_appstore:*:33:33:Mac App Store Service:/var/db/appstore:/usr/bin/false\n",
      "_mcxalr:*:54:54:MCX AppLaunch:/var/empty:/usr/bin/false\n",
      "_appleevents:*:55:55:AppleEvents Daemon:/var/empty:/usr/bin/false\n",
      "_geod:*:56:56:Geo Services Daemon:/var/db/geod:/usr/bin/false\n",
      "_devdocs:*:59:59:Developer Documentation:/var/empty:/usr/bin/false\n",
      "_sandbox:*:60:60:Seatbelt:/var/empty:/usr/bin/false\n",
      "_mdnsresponder:*:65:65:mDNSResponder:/var/empty:/usr/bin/false\n",
      "_ard:*:67:67:Apple Remote Desktop:/var/empty:/usr/bin/false\n",
      "_www:*:70:70:World Wide Web Server:/Library/WebServer:/usr/bin/false\n",
      "_eppc:*:71:71:Apple Events User:/var/empty:/usr/bin/false\n",
      "_cvs:*:72:72:CVS Server:/var/empty:/usr/bin/false\n",
      "_svn:*:73:73:SVN Server:/var/empty:/usr/bin/false\n",
      "_mysql:*:74:74:MySQL Server:/var/empty:/usr/bin/false\n",
      "_sshd:*:75:75:sshd Privilege separation:/var/empty:/usr/bin/false\n",
      "_qtss:*:76:76:QuickTime Streaming Server:/var/empty:/usr/bin/false\n",
      "_cyrus:*:77:6:Cyrus Administrator:/var/imap:/usr/bin/false\n",
      "_mailman:*:78:78:Mailman List Server:/var/empty:/usr/bin/false\n",
      "_appserver:*:79:79:Application Server:/var/empty:/usr/bin/false\n",
      "_clamav:*:82:82:ClamAV Daemon:/var/virusmails:/usr/bin/false\n",
      "_amavisd:*:83:83:AMaViS Daemon:/var/virusmails:/usr/bin/false\n",
      "_jabber:*:84:84:Jabber XMPP Server:/var/empty:/usr/bin/false\n",
      "_appowner:*:87:87:Application Owner:/var/empty:/usr/bin/false\n",
      "_windowserver:*:88:88:WindowServer:/var/empty:/usr/bin/false\n",
      "_spotlight:*:89:89:Spotlight:/var/empty:/usr/bin/false\n",
      "_tokend:*:91:91:Token Daemon:/var/empty:/usr/bin/false\n",
      "_securityagent:*:92:92:SecurityAgent:/var/db/securityagent:/usr/bin/false\n",
      "_calendar:*:93:93:Calendar:/var/empty:/usr/bin/false\n",
      "_teamsserver:*:94:94:TeamsServer:/var/teamsserver:/usr/bin/false\n",
      "_update_sharing:*:95:-2:Update Sharing:/var/empty:/usr/bin/false\n",
      "_installer:*:96:-2:Installer:/var/empty:/usr/bin/false\n",
      "_atsserver:*:97:97:ATS Server:/var/empty:/usr/bin/false\n",
      "_ftp:*:98:-2:FTP Daemon:/var/empty:/usr/bin/false\n",
      "_unknown:*:99:99:Unknown User:/var/empty:/usr/bin/false\n",
      "_softwareupdate:*:200:200:Software Update Service:/var/db/softwareupdate:/usr/bin/false\n",
      "_coreaudiod:*:202:202:Core Audio Daemon:/var/empty:/usr/bin/false\n",
      "_screensaver:*:203:203:Screensaver:/var/empty:/usr/bin/false\n",
      "_locationd:*:205:205:Location Daemon:/var/db/locationd:/usr/bin/false\n",
      "_trustevaluationagent:*:208:208:Trust Evaluation Agent:/var/empty:/usr/bin/false\n",
      "_timezone:*:210:210:AutoTimeZoneDaemon:/var/empty:/usr/bin/false\n",
      "_lda:*:211:211:Local Delivery Agent:/var/empty:/usr/bin/false\n",
      "_cvmsroot:*:212:212:CVMS Root:/var/empty:/usr/bin/false\n",
      "_usbmuxd:*:213:213:iPhone OS Device Helper:/var/db/lockdown:/usr/bin/false\n",
      "_dovecot:*:214:6:Dovecot Administrator:/var/empty:/usr/bin/false\n",
      "_dpaudio:*:215:215:DP Audio:/var/empty:/usr/bin/false\n",
      "_postgres:*:216:216:PostgreSQL Server:/var/empty:/usr/bin/false\n",
      "_krbtgt:*:217:-2:Kerberos Ticket Granting Ticket:/var/empty:/usr/bin/false\n",
      "_kadmin_admin:*:218:-2:Kerberos Admin Service:/var/empty:/usr/bin/false\n",
      "_kadmin_changepw:*:219:-2:Kerberos Change Password Service:/var/empty:/usr/bin/false\n",
      "_devicemgr:*:220:220:Device Management Server:/var/empty:/usr/bin/false\n",
      "_webauthserver:*:221:221:Web Auth Server:/var/empty:/usr/bin/false\n",
      "_netbios:*:222:222:NetBIOS:/var/empty:/usr/bin/false\n",
      "_warmd:*:224:224:Warm Daemon:/var/empty:/usr/bin/false\n",
      "_dovenull:*:227:227:Dovecot Authentication:/var/empty:/usr/bin/false\n",
      "_netstatistics:*:228:228:Network Statistics Daemon:/var/empty:/usr/bin/false\n",
      "_avbdeviced:*:229:-2:Ethernet AVB Device Daemon:/var/empty:/usr/bin/false\n",
      "_krb_krbtgt:*:230:-2:Open Directory Kerberos Ticket Granting Ticket:/var/empty:/usr/bin/false\n",
      "_krb_kadmin:*:231:-2:Open Directory Kerberos Admin Service:/var/empty:/usr/bin/false\n",
      "_krb_changepw:*:232:-2:Open Directory Kerberos Change Password Service:/var/empty:/usr/bin/false\n",
      "_krb_kerberos:*:233:-2:Open Directory Kerberos:/var/empty:/usr/bin/false\n",
      "_krb_anonymous:*:234:-2:Open Directory Kerberos Anonymous:/var/empty:/usr/bin/false\n",
      "_assetcache:*:235:235:Asset Cache Service:/var/empty:/usr/bin/false\n",
      "_coremediaiod:*:236:236:Core Media IO Daemon:/var/empty:/usr/bin/false\n",
      "_launchservicesd:*:239:239:_launchservicesd:/var/empty:/usr/bin/false\n",
      "_iconservices:*:240:240:IconServices:/var/empty:/usr/bin/false\n",
      "_distnote:*:241:241:DistNote:/var/empty:/usr/bin/false\n",
      "_nsurlsessiond:*:242:242:NSURLSession Daemon:/var/db/nsurlsessiond:/usr/bin/false\n",
      "_displaypolicyd:*:244:244:Display Policy Daemon:/var/empty:/usr/bin/false\n",
      "_astris:*:245:245:Astris Services:/var/db/astris:/usr/bin/false\n",
      "_krbfast:*:246:-2:Kerberos FAST Account:/var/empty:/usr/bin/false\n",
      "_gamecontrollerd:*:247:247:Game Controller Daemon:/var/empty:/usr/bin/false\n",
      "_mbsetupuser:*:248:248:Setup User:/var/setup:/bin/bash\n",
      "_ondemand:*:249:249:On Demand Resource Daemon:/var/db/ondemand:/usr/bin/false\n",
      "_xserverdocs:*:251:251:macOS Server Documents Service:/var/empty:/usr/bin/false\n",
      "_wwwproxy:*:252:252:WWW Proxy:/var/empty:/usr/bin/false\n",
      "_mobileasset:*:253:253:MobileAsset User:/var/ma:/usr/bin/false\n",
      "_findmydevice:*:254:254:Find My Device Daemon:/var/db/findmydevice:/usr/bin/false\n",
      "_datadetectors:*:257:257:DataDetectors:/var/db/datadetectors:/usr/bin/false\n",
      "_captiveagent:*:258:258:captiveagent:/var/empty:/usr/bin/false\n",
      "_ctkd:*:259:259:ctkd Account:/var/empty:/usr/bin/false\n",
      "_applepay:*:260:260:applepay Account:/var/db/applepay:/usr/bin/false\n",
      "_hidd:*:261:261:HID Service User:/var/db/hidd:/usr/bin/false\n",
      "_cmiodalassistants:*:262:262:CoreMedia IO Assistants User:/var/db/cmiodalassistants:/usr/bin/false\n",
      "_analyticsd:*:263:263:Analytics Daemon:/var/db/analyticsd:/usr/bin/false\n",
      "_fpsd:*:265:265:FPS Daemon:/var/db/fpsd:/usr/bin/false\n",
      "_timed:*:266:266:Time Sync Daemon:/var/db/timed:/usr/bin/false\n",
      "_nearbyd:*:268:268:Proximity and Ranging Daemon:/var/db/nearbyd:/usr/bin/false\n",
      "_reportmemoryexception:*:269:269:ReportMemoryException:/var/db/reportmemoryexception:/usr/bin/false\n",
      "_driverkit:*:270:270:DriverKit:/var/empty:/usr/bin/false\n",
      "_diskimagesiod:*:271:271:DiskImages IO Daemon:/var/db/diskimagesiod:/usr/bin/false\n",
      "_logd:*:272:272:Log Daemon:/var/db/diagnostics:/usr/bin/false\n",
      "_appinstalld:*:273:273:App Install Daemon:/var/db/appinstalld:/usr/bin/false\n",
      "_installcoordinationd:*:274:274:Install Coordination Daemon:/var/db/installcoordinationd:/usr/bin/false\n",
      "_demod:*:275:275:Demo Daemon:/var/empty:/usr/bin/false\n",
      "_rmd:*:277:277:Remote Management Daemon:/var/db/rmd:/usr/bin/false\n",
      "_accessoryupdater:*:278:278:Accessory Update Daemon:/var/db/accessoryupdater:/usr/bin/false\n",
      "_knowledgegraphd:*:279:279:Knowledge Graph Daemon:/var/db/knowledgegraphd:/usr/bin/false\n",
      "_coreml:*:280:280:CoreML Services:/var/db/coreml:/usr/bin/false\n",
      "_sntpd:*:281:281:SNTP Server Daemon:/var/empty:/usr/bin/false\n",
      "_trustd:*:282:282:trustd:/var/empty:/usr/bin/false\n",
      "_mmaintenanced:*:283:283:mmaintenanced:/var/db/mmaintenanced:/usr/bin/false\n",
      "_darwindaemon:*:284:284:Darwin Daemon:/var/db/darwindaemon:/usr/bin/false\n",
      "_notification_proxy:*:285:285:Notification Proxy:/var/empty:/usr/bin/false\n",
      "_avphidbridge:*:288:288:Apple Virtual Platform HID Bridge:/var/empty:/usr/bin/false\n",
      "_biome:*:289:289:Biome:/var/db/biome:/usr/bin/false\n",
      "_backgroundassets:*:291:291:Background Assets Service:/var/empty:/usr/bin/false\n",
      "_mobilegestalthelper:*:293:293:MobileGestaltHelper:/var/empty:/usr/bin/false\n",
      "_audiomxd:*:294:294:Audio and MediaExperience Daemon:/var/db/audiomxd:/usr/bin/false\n",
      "_terminusd:*:295:295:Terminus:/var/db/terminus:/usr/bin/false\n",
      "_neuralengine:*:296:296:AppleNeuralEngine:/var/db/neuralengine:/usr/bin/false\n",
      "_eligibilityd:*:297:297:OS Eligibility Daemon:/var/db/eligibilityd:/usr/bin/false\n",
      "_systemstatusd:*:298:298:SystemStatus Services:/var/empty:/usr/bin/false\n",
      "_aonsensed:*:300:300:Always On Sense Daemon:/var/db/aonsensed:/usr/bin/false\n",
      "_modelmanagerd:*:301:301:Model Manager:/var/db/modelmanagerd:/usr/bin/false\n",
      "_reportsystemmemory:*:302:302:ReportSystemMemory:/var/empty:/usr/bin/false\n",
      "_swtransparencyd:*:303:303:Software Transparency Services:/var/db/swtransparencyd:/usr/bin/false\n",
      "_naturallanguaged:*:304:304:Natural Language Services:/var/db/com.apple.naturallanguaged:/usr/bin/false\n",
      "_corespeechd:*:306:306:CoreSpeech Services:/var/empty:/usr/bin/false\n",
      "_diagnosticservicesd:*:307:307:Diagnostic Services:/var/empty:/usr/bin/false\n",
      "_oahd:*:441:441:OAH Daemon:/var/empty:/usr/bin/false\n"
     ]
    }
   ],
   "source": [
    "# what happens if the file is 200 GB in size?\n",
    "# in theory, this works fine\n",
    "# if the file is small, it's convenient to get it in one string\n",
    "\n",
    "# but there is another way, and a more idiomatic way\n",
    "\n",
    "f = open('/etc/passwd')\n",
    "\n",
    "for one_line in f:   # iterate over a file object, you get each line, as a string, one at a time\n",
    "    print(one_line.strip())  # print always adds a newline when it displays things, and we already had a newline in one_line"
   ]
  },
  {
   "cell_type": "code",
   "execution_count": null,
   "metadata": {},
   "outputs": [],
   "source": [
    "for one_line in open('/etc/passwd'):   # this is an \"absolute path\" on my computer -- sort of like c:\\abcd\\efgh.txt\n",
    "    print(one_line.strip())  "
   ]
  },
  {
   "cell_type": "markdown",
   "metadata": {},
   "source": [
    "# Filenames 101\n",
    "\n",
    "- If the filename doesn't contain any `/` (or `\\` on Windows), then we just look in the current directory, the same one that's running Jupyter.\n",
    "- If the file contains `/` but doesn't start with it, then it's a \"relative path,\" starting in the current directory but either looking in a subdirectory or in a parallel directory (if contains `..` in it)\n",
    "- If the file starts with `/`, then it's an \"absolute path,\" an unambiguous description of a file's location on disk."
   ]
  },
  {
   "cell_type": "code",
   "execution_count": 82,
   "metadata": {},
   "outputs": [
    {
     "data": {
      "text/plain": [
       "'/Users/reuven/Courses/Current/OReilly-2025-06June-python'"
      ]
     },
     "execution_count": 82,
     "metadata": {},
     "output_type": "execute_result"
    }
   ],
   "source": [
    "%pwd"
   ]
  },
  {
   "cell_type": "markdown",
   "metadata": {},
   "source": [
    "# Next up\n",
    "\n",
    "1. Doing things with the files we read\n",
    "2. A little bit about writing\n",
    "3. A little about `with`"
   ]
  },
  {
   "cell_type": "code",
   "execution_count": 85,
   "metadata": {},
   "outputs": [
    {
     "name": "stdout",
     "output_type": "stream",
     "text": [
      "nobody\n",
      "root\n",
      "daemon\n",
      "_uucp\n",
      "_taskgated\n",
      "_networkd\n",
      "_installassistant\n",
      "_lp\n",
      "_postfix\n",
      "_scsd\n",
      "_ces\n",
      "_appstore\n",
      "_mcxalr\n",
      "_appleevents\n",
      "_geod\n",
      "_devdocs\n",
      "_sandbox\n",
      "_mdnsresponder\n",
      "_ard\n",
      "_www\n",
      "_eppc\n",
      "_cvs\n",
      "_svn\n",
      "_mysql\n",
      "_sshd\n",
      "_qtss\n",
      "_cyrus\n",
      "_mailman\n",
      "_appserver\n",
      "_clamav\n",
      "_amavisd\n",
      "_jabber\n",
      "_appowner\n",
      "_windowserver\n",
      "_spotlight\n",
      "_tokend\n",
      "_securityagent\n",
      "_calendar\n",
      "_teamsserver\n",
      "_update_sharing\n",
      "_installer\n",
      "_atsserver\n",
      "_ftp\n",
      "_unknown\n",
      "_softwareupdate\n",
      "_coreaudiod\n",
      "_screensaver\n",
      "_locationd\n",
      "_trustevaluationagent\n",
      "_timezone\n",
      "_lda\n",
      "_cvmsroot\n",
      "_usbmuxd\n",
      "_dovecot\n",
      "_dpaudio\n",
      "_postgres\n",
      "_krbtgt\n",
      "_kadmin_admin\n",
      "_kadmin_changepw\n",
      "_devicemgr\n",
      "_webauthserver\n",
      "_netbios\n",
      "_warmd\n",
      "_dovenull\n",
      "_netstatistics\n",
      "_avbdeviced\n",
      "_krb_krbtgt\n",
      "_krb_kadmin\n",
      "_krb_changepw\n",
      "_krb_kerberos\n",
      "_krb_anonymous\n",
      "_assetcache\n",
      "_coremediaiod\n",
      "_launchservicesd\n",
      "_iconservices\n",
      "_distnote\n",
      "_nsurlsessiond\n",
      "_displaypolicyd\n",
      "_astris\n",
      "_krbfast\n",
      "_gamecontrollerd\n",
      "_mbsetupuser\n",
      "_ondemand\n",
      "_xserverdocs\n",
      "_wwwproxy\n",
      "_mobileasset\n",
      "_findmydevice\n",
      "_datadetectors\n",
      "_captiveagent\n",
      "_ctkd\n",
      "_applepay\n",
      "_hidd\n",
      "_cmiodalassistants\n",
      "_analyticsd\n",
      "_fpsd\n",
      "_timed\n",
      "_nearbyd\n",
      "_reportmemoryexception\n",
      "_driverkit\n",
      "_diskimagesiod\n",
      "_logd\n",
      "_appinstalld\n",
      "_installcoordinationd\n",
      "_demod\n",
      "_rmd\n",
      "_accessoryupdater\n",
      "_knowledgegraphd\n",
      "_coreml\n",
      "_sntpd\n",
      "_trustd\n",
      "_mmaintenanced\n",
      "_darwindaemon\n",
      "_notification_proxy\n",
      "_avphidbridge\n",
      "_biome\n",
      "_backgroundassets\n",
      "_mobilegestalthelper\n",
      "_audiomxd\n",
      "_terminusd\n",
      "_neuralengine\n",
      "_eligibilityd\n",
      "_systemstatusd\n",
      "_aonsensed\n",
      "_modelmanagerd\n",
      "_reportsystemmemory\n",
      "_swtransparencyd\n",
      "_naturallanguaged\n",
      "_corespeechd\n",
      "_diagnosticservicesd\n",
      "_oahd\n"
     ]
    }
   ],
   "source": [
    "# I can read through /etc/passwd\n",
    "# let's print the usernames from this file\n",
    "\n",
    "for one_line in open('/etc/passwd'):\n",
    "    if one_line[0] == '#':\n",
    "        continue\n",
    "    print(one_line.split(':')[0])  "
   ]
  },
  {
   "cell_type": "code",
   "execution_count": 87,
   "metadata": {},
   "outputs": [
    {
     "name": "stdout",
     "output_type": "stream",
     "text": [
      "root\n",
      "daemon\n",
      "bin\n",
      "sys\n",
      "sync\n",
      "games\n",
      "man\n",
      "lp\n",
      "mail\n",
      "news\n",
      "uucp\n",
      "proxy\n",
      "www-data\n",
      "backup\n",
      "list\n",
      "irc\n",
      "gnats\n",
      "nobody\n",
      "syslog\n",
      "messagebus\n",
      "landscape\n",
      "jci\n",
      "sshd\n",
      "user\n",
      "reuven\n",
      "postfix\n",
      "colord\n",
      "postgres\n",
      "dovecot\n",
      "dovenull\n",
      "postgrey\n",
      "debian-spamd\n",
      "memcache\n",
      "genadi\n",
      "shira\n",
      "atara\n",
      "shikma\n",
      "amotz\n",
      "mysql\n",
      "clamav\n",
      "amavis\n",
      "opendkim\n",
      "gitlab-redis\n",
      "gitlab-psql\n",
      "git\n",
      "opendmarc\n",
      "dkim-milter-python\n",
      "deploy\n",
      "redis\n"
     ]
    }
   ],
   "source": [
    "for one_line in open('linux-etc-passwd.txt'):\n",
    "\n",
    "    if one_line[0] == '#':\n",
    "        continue\n",
    "\n",
    "    if one_line.strip() == '':   # if the line only contains whitespace...\n",
    "        continue\n",
    "    \n",
    "    print(one_line.split(':')[0])  "
   ]
  },
  {
   "cell_type": "code",
   "execution_count": 88,
   "metadata": {},
   "outputs": [
    {
     "name": "stdout",
     "output_type": "stream",
     "text": [
      "67.218.116.165 - - [30/Jan/2010:00:03:18 +0200] \"GET /robots.txt HTTP/1.0\" 200 99 \"-\" \"Mozilla/5.0 (Twiceler-0.9 http://www.cuil.com/twiceler/robot.html)\"\n",
      "66.249.71.65 - - [30/Jan/2010:00:12:06 +0200] \"GET /browse/one_node/1557 HTTP/1.1\" 200 39208 \"-\" \"Mozilla/5.0 (compatible; Googlebot/2.1; +http://www.google.com/bot.html)\"\n",
      "65.55.106.183 - - [30/Jan/2010:01:29:23 +0200] \"GET /robots.txt HTTP/1.1\" 200 99 \"-\" \"msnbot/2.0b (+http://search.msn.com/msnbot.htm)\"\n",
      "65.55.106.183 - - [30/Jan/2010:01:30:06 +0200] \"GET /browse/one_model/2162 HTTP/1.1\" 200 2181 \"-\" \"msnbot/2.0b (+http://search.msn.com/msnbot.htm)\"\n",
      "66.249.71.65 - - [30/Jan/2010:02:07:14 +0200] \"GET /browse/browse_applet_tab/2593 HTTP/1.1\" 200 10305 \"-\" \"Mozilla/5.0 (compatible; Googlebot/2.1; +http://www.google.com/bot.html)\"\n",
      "66.249.71.65 - - [30/Jan/2010:02:10:39 +0200] \"GET /browse/browse_files_tab/2499?tab=true HTTP/1.1\" 200 446 \"-\" \"Mozilla/5.0 (compatible; Googlebot/2.1; +http://www.google.com/bot.html)\"\n",
      "66.249.65.12 - - [30/Jan/2010:03:13:34 +0200] \"GET /robots.txt HTTP/1.1\" 200 99 \"-\" \"Mozilla/5.0 (compatible; Googlebot/2.1; +http://www.google.com/bot.html)\"\n",
      "66.249.65.12 - - [30/Jan/2010:03:13:34 +0200] \"GET /browse/one_node/2715 HTTP/1.1\" 200 26433 \"-\" \"Mozilla/5.0 (compatible; Googlebot/2.1; +http://www.google.com/bot.html)\"\n",
      "66.249.65.12 - - [30/Jan/2010:03:43:39 +0200] \"GET /browse/download_model/1969 HTTP/1.1\" 200 31713 \"-\" \"Mozilla/5.0 (compatible; Googlebot/2.1; +http://www.google.com/bot.html)\"\n",
      "66.249.65.12 - - [30/Jan/2010:04:05:43 +0200] \"GET /browse/one_node/1406 HTTP/1.1\" 302 118 \"-\" \"Mozilla/5.0 (compatible; Googlebot/2.1; +http://www.google.com/bot.html)\"\n"
     ]
    }
   ],
   "source": [
    "!head mini-access-log.txt"
   ]
  },
  {
   "cell_type": "markdown",
   "metadata": {},
   "source": [
    "# Exercise: IP address count\n",
    "\n",
    "1. Create an empty dict, `counts`. We will fill this with IP addresses (strings) as keys and counts (integers) as values.\n",
    "2. Go through the `mini-access-log.txt` file, one line at a time.\n",
    "3. Grab the IP address:\n",
    "    - If it's already in our dict as a key, increment the count by 1\n",
    "    - If it isn't in our dict as a key, add it, with a value of 1\n",
    "4. Iterate over the dict, printing each key-value pair"
   ]
  },
  {
   "cell_type": "code",
   "execution_count": 90,
   "metadata": {},
   "outputs": [
    {
     "name": "stdout",
     "output_type": "stream",
     "text": [
      "['67.218.116.165', '-', '-', '[30/Jan/2010:00:03:18', '+0200]', '\"GET', '/robots.txt', 'HTTP/1.0\"', '200', '99', '\"-\"', '\"Mozilla/5.0', '(Twiceler-0.9', 'http://www.cuil.com/twiceler/robot.html)\"']\n",
      "['66.249.71.65', '-', '-', '[30/Jan/2010:00:12:06', '+0200]', '\"GET', '/browse/one_node/1557', 'HTTP/1.1\"', '200', '39208', '\"-\"', '\"Mozilla/5.0', '(compatible;', 'Googlebot/2.1;', '+http://www.google.com/bot.html)\"']\n",
      "['65.55.106.183', '-', '-', '[30/Jan/2010:01:29:23', '+0200]', '\"GET', '/robots.txt', 'HTTP/1.1\"', '200', '99', '\"-\"', '\"msnbot/2.0b', '(+http://search.msn.com/msnbot.htm)\"']\n",
      "['65.55.106.183', '-', '-', '[30/Jan/2010:01:30:06', '+0200]', '\"GET', '/browse/one_model/2162', 'HTTP/1.1\"', '200', '2181', '\"-\"', '\"msnbot/2.0b', '(+http://search.msn.com/msnbot.htm)\"']\n",
      "['66.249.71.65', '-', '-', '[30/Jan/2010:02:07:14', '+0200]', '\"GET', '/browse/browse_applet_tab/2593', 'HTTP/1.1\"', '200', '10305', '\"-\"', '\"Mozilla/5.0', '(compatible;', 'Googlebot/2.1;', '+http://www.google.com/bot.html)\"']\n",
      "['66.249.71.65', '-', '-', '[30/Jan/2010:02:10:39', '+0200]', '\"GET', '/browse/browse_files_tab/2499?tab=true', 'HTTP/1.1\"', '200', '446', '\"-\"', '\"Mozilla/5.0', '(compatible;', 'Googlebot/2.1;', '+http://www.google.com/bot.html)\"']\n",
      "['66.249.65.12', '-', '-', '[30/Jan/2010:03:13:34', '+0200]', '\"GET', '/robots.txt', 'HTTP/1.1\"', '200', '99', '\"-\"', '\"Mozilla/5.0', '(compatible;', 'Googlebot/2.1;', '+http://www.google.com/bot.html)\"']\n",
      "['66.249.65.12', '-', '-', '[30/Jan/2010:03:13:34', '+0200]', '\"GET', '/browse/one_node/2715', 'HTTP/1.1\"', '200', '26433', '\"-\"', '\"Mozilla/5.0', '(compatible;', 'Googlebot/2.1;', '+http://www.google.com/bot.html)\"']\n",
      "['66.249.65.12', '-', '-', '[30/Jan/2010:03:43:39', '+0200]', '\"GET', '/browse/download_model/1969', 'HTTP/1.1\"', '200', '31713', '\"-\"', '\"Mozilla/5.0', '(compatible;', 'Googlebot/2.1;', '+http://www.google.com/bot.html)\"']\n",
      "['66.249.65.12', '-', '-', '[30/Jan/2010:04:05:43', '+0200]', '\"GET', '/browse/one_node/1406', 'HTTP/1.1\"', '302', '118', '\"-\"', '\"Mozilla/5.0', '(compatible;', 'Googlebot/2.1;', '+http://www.google.com/bot.html)\"']\n",
      "['66.249.65.12', '-', '-', '[30/Jan/2010:04:05:51', '+0200]', '\"GET', '/browse/one_model/1406', 'HTTP/1.1\"', '200', '2179', '\"-\"', '\"Mozilla/5.0', '(compatible;', 'Googlebot/2.1;', '+http://www.google.com/bot.html)\"']\n",
      "['65.55.106.131', '-', '-', '[30/Jan/2010:04:24:33', '+0200]', '\"GET', '/robots.txt', 'HTTP/1.1\"', '200', '99', '\"-\"', '\"msnbot/2.0b', '(+http://search.msn.com/msnbot.htm)\"']\n",
      "['65.55.106.131', '-', '-', '[30/Jan/2010:04:25:36', '+0200]', '\"GET', '/browse/one_model/1200', 'HTTP/1.1\"', '200', '2180', '\"-\"', '\"msnbot/2.0b', '(+http://search.msn.com/msnbot.htm)\"']\n",
      "['66.249.65.12', '-', '-', '[30/Jan/2010:04:34:36', '+0200]', '\"GET', '/browse/download_model/2170', 'HTTP/1.1\"', '200', '11772', '\"-\"', '\"Mozilla/5.0', '(compatible;', 'Googlebot/2.1;', '+http://www.google.com/bot.html)\"']\n",
      "['66.249.65.12', '-', '-', '[30/Jan/2010:04:39:37', '+0200]', '\"GET', '/browse/browse_preview_tab/2499?tab=true', 'HTTP/1.1\"', '200', '452', '\"-\"', '\"Mozilla/5.0', '(compatible;', 'Googlebot/2.1;', '+http://www.google.com/bot.html)\"']\n",
      "['66.249.65.12', '-', '-', '[30/Jan/2010:05:03:34', '+0200]', '\"GET', '/browse/download_model/2244', 'HTTP/1.1\"', '200', '7215', '\"-\"', '\"Mozilla/5.0', '(compatible;', 'Googlebot/2.1;', '+http://www.google.com/bot.html)\"']\n",
      "['66.249.65.12', '-', '-', '[30/Jan/2010:05:32:31', '+0200]', '\"GET', '/browse/download_model/1002', 'HTTP/1.1\"', '200', '3658', '\"-\"', '\"Mozilla/5.0', '(compatible;', 'Googlebot/2.1;', '+http://www.google.com/bot.html)\"']\n",
      "['66.249.65.12', '-', '-', '[30/Jan/2010:06:01:22', '+0200]', '\"GET', '/browse/download_model/1200', 'HTTP/1.1\"', '200', '31950', '\"-\"', '\"Mozilla/5.0', '(compatible;', 'Googlebot/2.1;', '+http://www.google.com/bot.html)\"']\n",
      "['66.249.65.12', '-', '-', '[30/Jan/2010:06:30:19', '+0200]', '\"GET', '/browse/download_model/2463', 'HTTP/1.1\"', '200', '3357', '\"-\"', '\"Mozilla/5.0', '(compatible;', 'Googlebot/2.1;', '+http://www.google.com/bot.html)\"']\n",
      "['66.249.65.12', '-', '-', '[30/Jan/2010:06:59:14', '+0200]', '\"GET', '/browse/download_model/1861', 'HTTP/1.1\"', '200', '5136', '\"-\"', '\"Mozilla/5.0', '(compatible;', 'Googlebot/2.1;', '+http://www.google.com/bot.html)\"']\n",
      "['65.55.106.186', '-', '-', '[30/Jan/2010:07:07:13', '+0200]', '\"GET', '/robots.txt', 'HTTP/1.1\"', '200', '99', '\"-\"', '\"msnbot/2.0b', '(+http://search.msn.com/msnbot.htm)\"']\n",
      "['65.55.106.186', '-', '-', '[30/Jan/2010:07:08:06', '+0200]', '\"GET', '/browse/about', 'HTTP/1.1\"', '200', '2315', '\"-\"', '\"msnbot/2.0b', '(+http://search.msn.com/msnbot.htm)\"']\n",
      "['66.249.65.12', '-', '-', '[30/Jan/2010:07:28:09', '+0200]', '\"GET', '/browse/download_model/1712', 'HTTP/1.1\"', '200', '11605', '\"-\"', '\"Mozilla/5.0', '(compatible;', 'Googlebot/2.1;', '+http://www.google.com/bot.html)\"']\n",
      "['66.249.65.12', '-', '-', '[30/Jan/2010:07:57:06', '+0200]', '\"GET', '/browse/download_model/1192', 'HTTP/1.1\"', '200', '31656', '\"-\"', '\"Mozilla/5.0', '(compatible;', 'Googlebot/2.1;', '+http://www.google.com/bot.html)\"']\n",
      "['66.249.65.12', '-', '-', '[30/Jan/2010:08:26:00', '+0200]', '\"GET', '/browse/download_model/1140', 'HTTP/1.1\"', '200', '4370', '\"-\"', '\"Mozilla/5.0', '(compatible;', 'Googlebot/2.1;', '+http://www.google.com/bot.html)\"']\n",
      "['74.52.245.146', '-', '-', '[30/Jan/2010:08:40:26', '+0200]', '\"GET', '/', 'HTTP/1.0\"', '302', '110', '\"-\"', '\"Mozilla/5.0', '(X11;', 'U;', 'Linux', 'i686;', 'en-US;', 'rv:1.7.5)', 'Gecko/20041107', 'Firefox/1.0\"']\n",
      "['74.52.245.146', '-', '-', '[30/Jan/2010:08:40:26', '+0200]', '\"GET', '/account/login', 'HTTP/1.0\"', '200', '5801', '\"-\"', '\"Mozilla/5.0', '(X11;', 'U;', 'Linux', 'i686;', 'en-US;', 'rv:1.7.5)', 'Gecko/20041107', 'Firefox/1.0\"']\n",
      "['66.249.65.43', '-', '-', '[30/Jan/2010:08:44:51', '+0200]', '\"GET', '/robots.txt', 'HTTP/1.1\"', '200', '99', '\"-\"', '\"Mozilla/5.0', '(compatible;', 'Googlebot/2.1;', '+http://www.google.com/bot.html)\"']\n",
      "['66.249.65.43', '-', '-', '[30/Jan/2010:08:44:52', '+0200]', '\"GET', '/', 'HTTP/1.1\"', '302', '112', '\"-\"', '\"Mozilla/5.0', '(compatible;', 'Googlebot/2.1;', '+http://www.google.com/bot.html)\"']\n",
      "['66.249.65.43', '-', '-', '[30/Jan/2010:08:44:52', '+0200]', '\"GET', '/account/login', 'HTTP/1.1\"', '200', '1935', '\"-\"', '\"Mozilla/5.0', '(compatible;', 'Googlebot/2.1;', '+http://www.google.com/bot.html)\"']\n",
      "['66.249.65.12', '-', '-', '[30/Jan/2010:08:54:53', '+0200]', '\"GET', '/browse/download_model/2152', 'HTTP/1.1\"', '200', '7285', '\"-\"', '\"Mozilla/5.0', '(compatible;', 'Googlebot/2.1;', '+http://www.google.com/bot.html)\"']\n",
      "['66.249.65.12', '-', '-', '[30/Jan/2010:09:23:46', '+0200]', '\"GET', '/browse/download_model/796', 'HTTP/1.1\"', '200', '3241', '\"-\"', '\"Mozilla/5.0', '(compatible;', 'Googlebot/2.1;', '+http://www.google.com/bot.html)\"']\n",
      "['66.249.65.12', '-', '-', '[30/Jan/2010:09:52:42', '+0200]', '\"GET', '/browse/one_node/2177', 'HTTP/1.1\"', '200', '1556', '\"-\"', '\"Mozilla/5.0', '(compatible;', 'Googlebot/2.1;', '+http://www.google.com/bot.html)\"']\n",
      "['66.249.65.12', '-', '-', '[30/Jan/2010:10:21:43', '+0200]', '\"GET', '/browse/one_node/2163', 'HTTP/1.1\"', '200', '4124', '\"-\"', '\"Mozilla/5.0', '(compatible;', 'Googlebot/2.1;', '+http://www.google.com/bot.html)\"']\n",
      "['66.249.65.12', '-', '-', '[30/Jan/2010:10:50:35', '+0200]', '\"GET', '/browse/one_node/1193', 'HTTP/1.1\"', '200', '29168', '\"-\"', '\"Mozilla/5.0', '(compatible;', 'Googlebot/2.1;', '+http://www.google.com/bot.html)\"']\n",
      "['66.249.65.12', '-', '-', '[30/Jan/2010:11:19:27', '+0200]', '\"GET', '/browse/one_node/1241', 'HTTP/1.1\"', '200', '7032', '\"-\"', '\"Mozilla/5.0', '(compatible;', 'Googlebot/2.1;', '+http://www.google.com/bot.html)\"']\n",
      "['65.55.207.25', '-', '-', '[30/Jan/2010:11:43:56', '+0200]', '\"GET', '/robots.txt', 'HTTP/1.1\"', '200', '99', '\"-\"', '\"msnbot/2.0b', '(+http://search.msn.com/msnbot.htm)\"']\n",
      "['65.55.207.25', '-', '-', '[30/Jan/2010:11:44:35', '+0200]', '\"GET', '/help', 'HTTP/1.1\"', '304', '-', '\"-\"', '\"msnbot/2.0b', '(+http://search.msn.com/msnbot.htm)\"']\n",
      "['66.249.65.12', '-', '-', '[30/Jan/2010:11:48:31', '+0200]', '\"GET', '/browse/download_model/2508', 'HTTP/1.1\"', '200', '11374', '\"-\"', '\"Mozilla/5.0', '(compatible;', 'Googlebot/2.1;', '+http://www.google.com/bot.html)\"']\n",
      "['66.249.65.12', '-', '-', '[30/Jan/2010:12:17:24', '+0200]', '\"GET', '/browse/one_node/2509', 'HTTP/1.1\"', '200', '4766', '\"-\"', '\"Mozilla/5.0', '(compatible;', 'Googlebot/2.1;', '+http://www.google.com/bot.html)\"']\n",
      "['66.249.65.12', '-', '-', '[30/Jan/2010:12:46:17', '+0200]', '\"GET', '/browse/one_node/1233', 'HTTP/1.1\"', '200', '79301', '\"-\"', '\"Mozilla/5.0', '(compatible;', 'Googlebot/2.1;', '+http://www.google.com/bot.html)\"']\n",
      "['66.249.65.12', '-', '-', '[30/Jan/2010:13:15:09', '+0200]', '\"GET', '/browse/download_model/2508?version=1819', 'HTTP/1.1\"', '200', '11374', '\"-\"', '\"Mozilla/5.0', '(compatible;', 'Googlebot/2.1;', '+http://www.google.com/bot.html)\"']\n",
      "['66.249.65.12', '-', '-', '[30/Jan/2010:13:44:01', '+0200]', '\"GET', '/browse/download_model/2508?version=1821', 'HTTP/1.1\"', '200', '11374', '\"-\"', '\"Mozilla/5.0', '(compatible;', 'Googlebot/2.1;', '+http://www.google.com/bot.html)\"']\n",
      "['66.249.65.12', '-', '-', '[30/Jan/2010:14:12:55', '+0200]', '\"GET', '/browse/download_model/902', 'HTTP/1.1\"', '200', '5050', '\"-\"', '\"Mozilla/5.0', '(compatible;', 'Googlebot/2.1;', '+http://www.google.com/bot.html)\"']\n",
      "['66.249.65.12', '-', '-', '[30/Jan/2010:14:42:01', '+0200]', '\"GET', '/browse/download_model/1679', 'HTTP/1.1\"', '200', '11290', '\"-\"', '\"Mozilla/5.0', '(compatible;', 'Googlebot/2.1;', '+http://www.google.com/bot.html)\"']\n",
      "['65.55.207.94', '-', '-', '[30/Jan/2010:15:02:52', '+0200]', '\"GET', '/robots.txt', 'HTTP/1.1\"', '200', '99', '\"-\"', '\"msnbot/2.0b', '(+http://search.msn.com/msnbot.htm)\"']\n",
      "['65.55.207.94', '-', '-', '[30/Jan/2010:15:03:36', '+0200]', '\"GET', '/browse/one_model/900', 'HTTP/1.1\"', '200', '2165', '\"-\"', '\"msnbot/2.0b', '(+http://search.msn.com/msnbot.htm)\"']\n",
      "['66.249.65.12', '-', '-', '[30/Jan/2010:15:10:51', '+0200]', '\"GET', '/browse/download_model/1612', 'HTTP/1.1\"', '200', '30540', '\"-\"', '\"Mozilla/5.0', '(compatible;', 'Googlebot/2.1;', '+http://www.google.com/bot.html)\"']\n",
      "['65.55.207.71', '-', '-', '[30/Jan/2010:15:32:04', '+0200]', '\"GET', '/account/new', 'HTTP/1.1\"', '304', '-', '\"-\"', '\"msnbot/2.0b', '(+http://search.msn.com/msnbot.htm)\"']\n",
      "['66.249.65.12', '-', '-', '[30/Jan/2010:15:39:45', '+0200]', '\"GET', '/browse/download_model/892', 'HTTP/1.1\"', '200', '4195', '\"-\"', '\"Mozilla/5.0', '(compatible;', 'Googlebot/2.1;', '+http://www.google.com/bot.html)\"']\n",
      "['66.249.65.12', '-', '-', '[30/Jan/2010:15:52:21', '+0200]', '\"GET', '/system/avatars/7/thumb/fractal-tree-on-transparent-sm.png?1237131134', 'HTTP/1.1\"', '304', '-', '\"-\"', '\"Googlebot-Image/1.0\"']\n",
      "['66.249.65.12', '-', '-', '[30/Jan/2010:16:08:36', '+0200]', '\"GET', '/browse/download_model/1865', 'HTTP/1.1\"', '200', '19432', '\"-\"', '\"Mozilla/5.0', '(compatible;', 'Googlebot/2.1;', '+http://www.google.com/bot.html)\"']\n",
      "['98.242.170.241', '-', '-', '[30/Jan/2010:16:10:49', '+0200]', '\"GET', '/dvdrental.com', 'HTTP/1.1\"', '404', '947', '\"http://www.dvdrental.com/modelingcommons.org\"', '\"Opera/9.80', '(Windows', 'NT', '5.2;', 'U;', 'en)', 'Presto/2.2.15', 'Version/10.10\"']\n",
      "['66.249.65.38', '-', '-', '[30/Jan/2010:16:37:33', '+0200]', '\"GET', '/browse/download_model/914', 'HTTP/1.1\"', '200', '6181', '\"-\"', '\"Mozilla/5.0', '(compatible;', 'Googlebot/2.1;', '+http://www.google.com/bot.html)\"']\n",
      "['66.249.65.38', '-', '-', '[30/Jan/2010:16:45:12', '+0200]', '\"GET', '/browse/browse_applet_tab/2593?tab=true', 'HTTP/1.1\"', '200', '10237', '\"-\"', '\"Mozilla/5.0', '(compatible;', 'Googlebot/2.1;', '+http://www.google.com/bot.html)\"']\n",
      "['66.249.65.38', '-', '-', '[30/Jan/2010:17:02:28', '+0200]', '\"GET', '/javascripts/application.js?1264605648', 'HTTP/1.1\"', '200', '698', '\"-\"', '\"Mozilla/5.0', '(compatible;', 'Googlebot/2.1;', '+http://www.google.com/bot.html)\"']\n",
      "['66.249.65.38', '-', '-', '[30/Jan/2010:17:02:29', '+0200]', '\"GET', '/stylesheets/browse.css?1264605648', 'HTTP/1.1\"', '200', '422', '\"-\"', '\"Mozilla/5.0', '(compatible;', 'Googlebot/2.1;', '+http://www.google.com/bot.html)\"']\n",
      "['66.249.65.38', '-', '-', '[30/Jan/2010:17:02:30', '+0200]', '\"GET', '/javascripts/jquery.livequery.js?1264605648', 'HTTP/1.1\"', '200', '2135', '\"-\"', '\"Mozilla/5.0', '(compatible;', 'Googlebot/2.1;', '+http://www.google.com/bot.html)\"']\n",
      "['66.249.65.38', '-', '-', '[30/Jan/2010:17:02:30', '+0200]', '\"GET', '/javascripts/jrails.js?1264605648', 'HTTP/1.1\"', '200', '1093', '\"-\"', '\"Mozilla/5.0', '(compatible;', 'Googlebot/2.1;', '+http://www.google.com/bot.html)\"']\n",
      "['66.249.65.38', '-', '-', '[30/Jan/2010:17:02:31', '+0200]', '\"GET', '/stylesheets/themes/nlcommons/ui.all.css?1264605648', 'HTTP/1.1\"', '200', '52', '\"-\"', '\"Mozilla/5.0', '(compatible;', 'Googlebot/2.1;', '+http://www.google.com/bot.html)\"']\n",
      "['66.249.65.38', '-', '-', '[30/Jan/2010:17:02:31', '+0200]', '\"GET', '/stylesheets/jquery.autocomplete.css?1264605648', 'HTTP/1.1\"', '200', '447', '\"-\"', '\"Mozilla/5.0', '(compatible;', 'Googlebot/2.1;', '+http://www.google.com/bot.html)\"']\n",
      "['66.249.65.38', '-', '-', '[30/Jan/2010:17:02:32', '+0200]', '\"GET', '/stylesheets/nlcommons.css?1264605648', 'HTTP/1.1\"', '200', '1179', '\"-\"', '\"Mozilla/5.0', '(compatible;', 'Googlebot/2.1;', '+http://www.google.com/bot.html)\"']\n",
      "['66.249.65.38', '-', '-', '[30/Jan/2010:17:02:32', '+0200]', '\"GET', '/javascripts/jquery.dataTables.js?1264605648', 'HTTP/1.1\"', '200', '15537', '\"-\"', '\"Mozilla/5.0', '(compatible;', 'Googlebot/2.1;', '+http://www.google.com/bot.html)\"']\n",
      "['66.249.65.38', '-', '-', '[30/Jan/2010:17:02:33', '+0200]', '\"GET', '/javascripts/jquery.js?1264605648', 'HTTP/1.1\"', '200', '19740', '\"-\"', '\"Mozilla/5.0', '(compatible;', 'Googlebot/2.1;', '+http://www.google.com/bot.html)\"']\n",
      "['66.249.65.38', '-', '-', '[30/Jan/2010:17:02:34', '+0200]', '\"GET', '/javascripts/nlcommons.js?1264605648', 'HTTP/1.1\"', '200', '20', '\"-\"', '\"Mozilla/5.0', '(compatible;', 'Googlebot/2.1;', '+http://www.google.com/bot.html)\"']\n",
      "['66.249.65.38', '-', '-', '[30/Jan/2010:17:02:34', '+0200]', '\"GET', '/javascripts/jquery-ui.js?1264605648', 'HTTP/1.1\"', '200', '72080', '\"-\"', '\"Mozilla/5.0', '(compatible;', 'Googlebot/2.1;', '+http://www.google.com/bot.html)\"']\n",
      "['66.249.65.38', '-', '-', '[30/Jan/2010:17:02:35', '+0200]', '\"GET', '/javascripts/jquery.autocomplete.js?1264605648', 'HTTP/1.1\"', '200', '6433', '\"-\"', '\"Mozilla/5.0', '(compatible;', 'Googlebot/2.1;', '+http://www.google.com/bot.html)\"']\n",
      "['66.249.65.38', '-', '-', '[30/Jan/2010:17:03:16', '+0200]', '\"GET', '/stylesheets/themes/nlcommons/ui.base.css', 'HTTP/1.1\"', '200', '111', '\"-\"', '\"Mozilla/5.0', '(compatible;', 'Googlebot/2.1;', '+http://www.google.com/bot.html)\"']\n",
      "['66.249.65.38', '-', '-', '[30/Jan/2010:17:03:16', '+0200]', '\"GET', '/stylesheets/themes/nlcommons/ui.theme.css', 'HTTP/1.1\"', '200', '2862', '\"-\"', '\"Mozilla/5.0', '(compatible;', 'Googlebot/2.1;', '+http://www.google.com/bot.html)\"']\n",
      "['66.249.65.38', '-', '-', '[30/Jan/2010:17:03:30', '+0200]', '\"GET', '/stylesheets/themes/nlcommons/ui.core.css', 'HTTP/1.1\"', '200', '624', '\"-\"', '\"Mozilla/5.0', '(compatible;', 'Googlebot/2.1;', '+http://www.google.com/bot.html)\"']\n",
      "['66.249.65.38', '-', '-', '[30/Jan/2010:17:03:31', '+0200]', '\"GET', '/stylesheets/themes/nlcommons/ui.accordion.css', 'HTTP/1.1\"', '200', '295', '\"-\"', '\"Mozilla/5.0', '(compatible;', 'Googlebot/2.1;', '+http://www.google.com/bot.html)\"']\n",
      "['66.249.65.38', '-', '-', '[30/Jan/2010:17:03:31', '+0200]', '\"GET', '/stylesheets/themes/nlcommons/ui.datepicker.css', 'HTTP/1.1\"', '200', '965', '\"-\"', '\"Mozilla/5.0', '(compatible;', 'Googlebot/2.1;', '+http://www.google.com/bot.html)\"']\n",
      "['66.249.65.38', '-', '-', '[30/Jan/2010:17:03:32', '+0200]', '\"GET', '/stylesheets/themes/nlcommons/ui.dialog.css', 'HTTP/1.1\"', '200', '442', '\"-\"', '\"Mozilla/5.0', '(compatible;', 'Googlebot/2.1;', '+http://www.google.com/bot.html)\"']\n",
      "['66.249.65.38', '-', '-', '[30/Jan/2010:17:03:32', '+0200]', '\"GET', '/stylesheets/themes/nlcommons/ui.slider.css', 'HTTP/1.1\"', '200', '318', '\"-\"', '\"Mozilla/5.0', '(compatible;', 'Googlebot/2.1;', '+http://www.google.com/bot.html)\"']\n",
      "['66.249.65.38', '-', '-', '[30/Jan/2010:17:03:33', '+0200]', '\"GET', '/stylesheets/themes/nlcommons/ui.progressbar.css', 'HTTP/1.1\"', '200', '114', '\"-\"', '\"Mozilla/5.0', '(compatible;', 'Googlebot/2.1;', '+http://www.google.com/bot.html)\"']\n",
      "['66.249.65.38', '-', '-', '[30/Jan/2010:17:03:34', '+0200]', '\"GET', '/stylesheets/themes/nlcommons/ui.tabs.css', 'HTTP/1.1\"', '200', '414', '\"-\"', '\"Mozilla/5.0', '(compatible;', 'Googlebot/2.1;', '+http://www.google.com/bot.html)\"']\n",
      "['66.249.65.38', '-', '-', '[30/Jan/2010:17:03:34', '+0200]', '\"GET', '/stylesheets/themes/nlcommons/ui.resizable.css', 'HTTP/1.1\"', '200', '307', '\"-\"', '\"Mozilla/5.0', '(compatible;', 'Googlebot/2.1;', '+http://www.google.com/bot.html)\"']\n",
      "['66.249.65.38', '-', '-', '[30/Jan/2010:17:06:29', '+0200]', '\"GET', '/browse/download_model/743', 'HTTP/1.1\"', '200', '10552', '\"-\"', '\"Mozilla/5.0', '(compatible;', 'Googlebot/2.1;', '+http://www.google.com/bot.html)\"']\n",
      "['66.249.65.38', '-', '-', '[30/Jan/2010:17:35:24', '+0200]', '\"GET', '/browse/download_model/2547', 'HTTP/1.1\"', '200', '40914', '\"-\"', '\"Mozilla/5.0', '(compatible;', 'Googlebot/2.1;', '+http://www.google.com/bot.html)\"']\n",
      "['65.55.207.126', '-', '-', '[30/Jan/2010:17:46:11', '+0200]', '\"GET', '/robots.txt', 'HTTP/1.1\"', '200', '99', '\"-\"', '\"msnbot/2.0b', '(+http://search.msn.com/msnbot.htm)\"']\n",
      "['65.55.207.126', '-', '-', '[30/Jan/2010:17:48:32', '+0200]', '\"GET', '/browse/one_model/1002', 'HTTP/1.1\"', '200', '2173', '\"-\"', '\"msnbot/2.0b', '(+http://search.msn.com/msnbot.htm)\"']\n",
      "['66.249.65.38', '-', '-', '[30/Jan/2010:18:04:31', '+0200]', '\"GET', '/browse/download_model/1210', 'HTTP/1.1\"', '200', '11948', '\"-\"', '\"Mozilla/5.0', '(compatible;', 'Googlebot/2.1;', '+http://www.google.com/bot.html)\"']\n",
      "['66.249.65.38', '-', '-', '[30/Jan/2010:18:33:30', '+0200]', '\"GET', '/browse/download_model/849', 'HTTP/1.1\"', '200', '6836', '\"-\"', '\"Mozilla/5.0', '(compatible;', 'Googlebot/2.1;', '+http://www.google.com/bot.html)\"']\n",
      "['66.249.65.38', '-', '-', '[30/Jan/2010:18:53:53', '+0200]', '\"GET', '/tags/one_tag/27', 'HTTP/1.1\"', '200', '2033', '\"-\"', '\"Mozilla/5.0', '(compatible;', 'Googlebot/2.1;', '+http://www.google.com/bot.html)\"']\n",
      "['66.249.65.38', '-', '-', '[30/Jan/2010:19:02:20', '+0200]', '\"GET', '/browse/download_model/739', 'HTTP/1.1\"', '200', '11302', '\"-\"', '\"Mozilla/5.0', '(compatible;', 'Googlebot/2.1;', '+http://www.google.com/bot.html)\"']\n",
      "['82.34.9.20', '-', '-', '[30/Jan/2010:19:18:24', '+0200]', '\"GET', '/account/models/33', 'HTTP/1.1\"', '200', '23774', '\"http://www.google.co.uk/search?hl=en&q=%22netlogo%22+sokoban&btnG=Search&meta=&aq=f&oq=\"', '\"Mozilla/4.0', '(compatible;', 'MSIE', '8.0;', 'Windows', 'NT', '5.1;', 'Trident/4.0;', '.NET', 'CLR', '2.0.50727;', '.NET', 'CLR', '3.0.4506.2152;', '.NET', 'CLR', '3.5.30729;', 'InfoPath.1)\"']\n",
      "['82.34.9.20', '-', '-', '[30/Jan/2010:19:18:18', '+0200]', '\"GET', '/account/models/33', 'HTTP/1.1\"', '200', '23774', '\"http://www.google.co.uk/search?hl=en&q=%22netlogo%22+sokoban&btnG=Search&meta=&aq=f&oq=\"', '\"Mozilla/4.0', '(compatible;', 'MSIE', '8.0;', 'Windows', 'NT', '5.1;', 'Trident/4.0;', '.NET', 'CLR', '2.0.50727;', '.NET', 'CLR', '3.0.4506.2152;', '.NET', 'CLR', '3.5.30729;', 'InfoPath.1)\"']\n",
      "['66.249.65.38', '-', '-', '[30/Jan/2010:19:31:07', '+0200]', '\"GET', '/browse/download_model/838', 'HTTP/1.1\"', '200', '7691', '\"-\"', '\"Mozilla/5.0', '(compatible;', 'Googlebot/2.1;', '+http://www.google.com/bot.html)\"']\n",
      "['66.249.65.38', '-', '-', '[30/Jan/2010:20:00:20', '+0200]', '\"GET', '/browse/download_model/2316', 'HTTP/1.1\"', '200', '48709', '\"-\"', '\"Mozilla/5.0', '(compatible;', 'Googlebot/2.1;', '+http://www.google.com/bot.html)\"']\n",
      "['66.249.65.38', '-', '-', '[30/Jan/2010:20:28:55', '+0200]', '\"GET', '/browse/download_model/840', 'HTTP/1.1\"', '200', '6063', '\"-\"', '\"Mozilla/5.0', '(compatible;', 'Googlebot/2.1;', '+http://www.google.com/bot.html)\"']\n",
      "['66.249.65.38', '-', '-', '[30/Jan/2010:20:47:05', '+0200]', '\"GET', '/?id=7', 'HTTP/1.1\"', '200', '3058', '\"-\"', '\"Mozilla/5.0', '(compatible;', 'Googlebot/2.1;', '+http://www.google.com/bot.html)\"']\n",
      "['66.249.65.38', '-', '-', '[30/Jan/2010:20:57:43', '+0200]', '\"GET', '/browse/download_model/806', 'HTTP/1.1\"', '200', '4263', '\"-\"', '\"Mozilla/5.0', '(compatible;', 'Googlebot/2.1;', '+http://www.google.com/bot.html)\"']\n",
      "['66.249.65.38', '-', '-', '[30/Jan/2010:21:07:44', '+0200]', '\"GET', '/account/mypage/17', 'HTTP/1.1\"', '200', '3103', '\"-\"', '\"Mozilla/5.0', '(compatible;', 'Googlebot/2.1;', '+http://www.google.com/bot.html)\"']\n",
      "['66.249.65.38', '-', '-', '[30/Jan/2010:21:26:36', '+0200]', '\"GET', '/browse/download_model/1891', 'HTTP/1.1\"', '200', '8570', '\"-\"', '\"Mozilla/5.0', '(compatible;', 'Googlebot/2.1;', '+http://www.google.com/bot.html)\"']\n",
      "['66.249.65.38', '-', '-', '[30/Jan/2010:21:56:01', '+0200]', '\"GET', '/browse/download_model/1881', 'HTTP/1.1\"', '200', '9618', '\"-\"', '\"Mozilla/5.0', '(compatible;', 'Googlebot/2.1;', '+http://www.google.com/bot.html)\"']\n",
      "['66.249.65.38', '-', '-', '[30/Jan/2010:22:25:13', '+0200]', '\"GET', '/browse/download_model/735', 'HTTP/1.1\"', '200', '16848', '\"-\"', '\"Mozilla/5.0', '(compatible;', 'Googlebot/2.1;', '+http://www.google.com/bot.html)\"']\n",
      "['65.55.106.155', '-', '-', '[30/Jan/2010:22:25:26', '+0200]', '\"GET', '/robots.txt', 'HTTP/1.1\"', '200', '99', '\"-\"', '\"msnbot/2.0b', '(+http://search.msn.com/msnbot.htm)\"']\n",
      "['65.55.106.155', '-', '-', '[30/Jan/2010:22:26:11', '+0200]', '\"GET', '/account/send_password', 'HTTP/1.1\"', '304', '-', '\"-\"', '\"msnbot/2.0b', '(+http://search.msn.com/msnbot.htm)\"']\n",
      "['66.249.65.38', '-', '-', '[30/Jan/2010:22:53:40', '+0200]', '\"GET', '/browse/download_model/1779', 'HTTP/1.1\"', '200', '8576', '\"-\"', '\"Mozilla/5.0', '(compatible;', 'Googlebot/2.1;', '+http://www.google.com/bot.html)\"']\n",
      "['66.249.65.38', '-', '-', '[30/Jan/2010:23:21:25', '+0200]', '\"GET', '/browse/follow/2029.atom', 'HTTP/1.1\"', '200', '653', '\"-\"', '\"Mozilla/5.0', '(compatible;', 'Googlebot/2.1;', '+http://www.google.com/bot.html)\"']\n",
      "['66.249.65.38', '-', '-', '[30/Jan/2010:23:22:21', '+0200]', '\"GET', '/browse/download_model/788', 'HTTP/1.1\"', '200', '3865', '\"-\"', '\"Mozilla/5.0', '(compatible;', 'Googlebot/2.1;', '+http://www.google.com/bot.html)\"']\n",
      "['66.249.65.38', '-', '-', '[30/Jan/2010:23:28:41', '+0200]', '\"GET', '/images/default-person.png?1245832850', 'HTTP/1.1\"', '200', '677', '\"-\"', '\"Googlebot-Image/1.0\"']\n",
      "['66.249.65.38', '-', '-', '[30/Jan/2010:23:53:12', '+0200]', '\"GET', '/browse/download_model/2340', 'HTTP/1.1\"', '200', '30305', '\"-\"', '\"Mozilla/5.0', '(compatible;', 'Googlebot/2.1;', '+http://www.google.com/bot.html)\"']\n",
      "['65.55.207.77', '-', '-', '[31/Jan/2010:00:06:37', '+0200]', '\"GET', '/robots.txt', 'HTTP/1.1\"', '200', '99', '\"-\"', '\"msnbot/2.0b', '(+http://search.msn.com/msnbot.htm)\"']\n",
      "['65.55.207.77', '-', '-', '[31/Jan/2010:00:09:36', '+0200]', '\"GET', '/browse/one_model/2152', 'HTTP/1.1\"', '200', '2195', '\"-\"', '\"msnbot/2.0b', '(+http://search.msn.com/msnbot.htm)\"']\n",
      "['66.249.65.38', '-', '-', '[31/Jan/2010:01:15:50', '+0200]', '\"GET', '/account/follow/2029.atom', 'HTTP/1.1\"', '404', '577', '\"-\"', '\"Mozilla/5.0', '(compatible;', 'Googlebot/2.1;', '+http://www.google.com/bot.html)\"']\n",
      "['67.218.116.165', '-', '-', '[31/Jan/2010:01:23:08', '+0200]', '\"GET', '/robots.txt', 'HTTP/1.0\"', '200', '99', '\"-\"', '\"Mozilla/5.0', '(Twiceler-0.9', 'http://www.cuil.com/twiceler/robot.html)\"']\n",
      "['66.249.65.38', '-', '-', '[31/Jan/2010:01:35:43', '+0200]', '\"GET', '/browse/one_model/2099', 'HTTP/1.1\"', '200', '2179', '\"-\"', '\"Mozilla/5.0', '(compatible;', 'Googlebot/2.1;', '+http://www.google.com/bot.html)\"']\n",
      "['208.80.193.28', '-', '-', '[31/Jan/2010:01:50:14', '+0200]', '\"GET', '/', 'HTTP/1.0\"', '302', '106', '\"-\"', '\"Mozilla/4.0', '(compatible;', 'MSIE', '6.0;', 'Windows', 'NT', '5.1;', 'SV1;', 'FunWebProducts;', '.NET', 'CLR', '1.0.3705;', '.NET', 'CLR', '1.1.4322;', 'Media', 'Center', 'PC', '4.0;', 'Hotbar', '10.0.356.0)\"']\n",
      "['66.249.65.38', '-', '-', '[31/Jan/2010:02:17:46', '+0200]', '\"GET', '/browse/download_model/985', 'HTTP/1.1\"', '200', '3204', '\"-\"', '\"Mozilla/5.0', '(compatible;', 'Googlebot/2.1;', '+http://www.google.com/bot.html)\"']\n",
      "['66.249.65.38', '-', '-', '[31/Jan/2010:02:48:17', '+0200]', '\"GET', '/browse/download_model/2162', 'HTTP/1.1\"', '200', '9362', '\"-\"', '\"Mozilla/5.0', '(compatible;', 'Googlebot/2.1;', '+http://www.google.com/bot.html)\"']\n",
      "['66.249.65.38', '-', '-', '[31/Jan/2010:02:51:11', '+0200]', '\"GET', '/browse/display_preview/2099', 'HTTP/1.1\"', '200', '7563', '\"-\"', '\"Googlebot-Image/1.0\"']\n",
      "['66.249.65.38', '-', '-', '[31/Jan/2010:03:04:16', '+0200]', '\"GET', '/browse/download_model/993', 'HTTP/1.1\"', '200', '3175', '\"-\"', '\"Mozilla/5.0', '(compatible;', 'Googlebot/2.1;', '+http://www.google.com/bot.html)\"']\n",
      "['66.249.65.38', '-', '-', '[31/Jan/2010:03:29:31', '+0200]', '\"GET', '/robots.txt', 'HTTP/1.1\"', '200', '99', '\"-\"', '\"Mozilla/5.0', '(compatible;', 'Googlebot/2.1;', '+http://www.google.com/bot.html)\"']\n",
      "['66.249.65.38', '-', '-', '[31/Jan/2010:03:29:31', '+0200]', '\"GET', '/browse/download_model/977', 'HTTP/1.1\"', '200', '2992', '\"-\"', '\"Mozilla/5.0', '(compatible;', 'Googlebot/2.1;', '+http://www.google.com/bot.html)\"']\n",
      "['66.249.65.38', '-', '-', '[31/Jan/2010:03:49:42', '+0200]', '\"GET', '/tags/one_tag/42', 'HTTP/1.1\"', '200', '2014', '\"-\"', '\"Mozilla/5.0', '(compatible;', 'Googlebot/2.1;', '+http://www.google.com/bot.html)\"']\n",
      "['66.249.65.38', '-', '-', '[31/Jan/2010:03:54:44', '+0200]', '\"GET', '/browse/download_model/746', 'HTTP/1.1\"', '200', '12754', '\"-\"', '\"Mozilla/5.0', '(compatible;', 'Googlebot/2.1;', '+http://www.google.com/bot.html)\"']\n",
      "['66.249.65.38', '-', '-', '[31/Jan/2010:04:19:51', '+0200]', '\"GET', '/browse/download_model/815', 'HTTP/1.1\"', '200', '6284', '\"-\"', '\"Mozilla/5.0', '(compatible;', 'Googlebot/2.1;', '+http://www.google.com/bot.html)\"']\n",
      "['89.248.172.58', '-', '-', '[31/Jan/2010:04:32:52', '+0200]', '\"GET', '/account/mypage/7', 'HTTP/1.1\"', '200', '14292', '\"-\"', '\"Mozilla/4.0', '(compatible;', 'MSIE', '6.0;', 'Windows', 'NT', '5.1;', 'SV1)\"']\n",
      "['89.248.172.58', '-', '-', '[31/Jan/2010:04:33:03', '+0200]', '\"GET', '/', 'HTTP/1.1\"', '302', '106', '\"-\"', '\"Mozilla/4.0', '(compatible;', 'MSIE', '6.0;', 'Windows', 'NT', '5.1;', 'SV1)\"']\n",
      "['89.248.172.58', '-', '-', '[31/Jan/2010:04:33:03', '+0200]', '\"GET', '/account/login', 'HTTP/1.1\"', '200', '5998', '\"-\"', '\"Mozilla/4.0', '(compatible;', 'MSIE', '6.0;', 'Windows', 'NT', '5.1;', 'SV1)\"']\n",
      "['89.248.172.58', '-', '-', '[31/Jan/2010:04:33:04', '+0200]', '\"GET', '/browse/list_models', 'HTTP/1.1\"', '200', '21752', '\"-\"', '\"Mozilla/4.0', '(compatible;', 'MSIE', '6.0;', 'Windows', 'NT', '5.1;', 'SV1)\"']\n",
      "['89.248.172.58', '-', '-', '[31/Jan/2010:04:33:05', '+0200]', '\"GET', '/browse/about', 'HTTP/1.1\"', '200', '6801', '\"-\"', '\"Mozilla/4.0', '(compatible;', 'MSIE', '6.0;', 'Windows', 'NT', '5.1;', 'SV1)\"']\n",
      "['89.248.172.58', '-', '-', '[31/Jan/2010:04:33:06', '+0200]', '\"GET', '/help', 'HTTP/1.1\"', '200', '5683', '\"-\"', '\"Mozilla/4.0', '(compatible;', 'MSIE', '6.0;', 'Windows', 'NT', '5.1;', 'SV1)\"']\n",
      "['89.248.172.58', '-', '-', '[31/Jan/2010:04:33:06', '+0200]', '\"GET', '/account/login', 'HTTP/1.1\"', '200', '5801', '\"-\"', '\"Mozilla/4.0', '(compatible;', 'MSIE', '6.0;', 'Windows', 'NT', '5.1;', 'SV1)\"']\n",
      "['89.248.172.58', '-', '-', '[31/Jan/2010:04:33:07', '+0200]', '\"GET', '/account/follow/7.atom', 'HTTP/1.1\"', '200', '4893', '\"-\"', '\"Mozilla/4.0', '(compatible;', 'MSIE', '6.0;', 'Windows', 'NT', '5.1;', 'SV1)\"']\n",
      "['89.248.172.58', '-', '-', '[31/Jan/2010:04:33:07', '+0200]', '\"GET', '/browse/one_model/1210', 'HTTP/1.1\"', '200', '6905', '\"-\"', '\"Mozilla/4.0', '(compatible;', 'MSIE', '6.0;', 'Windows', 'NT', '5.1;', 'SV1)\"']\n",
      "['89.248.172.58', '-', '-', '[31/Jan/2010:04:33:08', '+0200]', '\"GET', '/browse/one_model/1390', 'HTTP/1.1\"', '200', '6957', '\"-\"', '\"Mozilla/4.0', '(compatible;', 'MSIE', '6.0;', 'Windows', 'NT', '5.1;', 'SV1)\"']\n",
      "['89.248.172.58', '-', '-', '[31/Jan/2010:04:33:09', '+0200]', '\"GET', '/browse/one_model/2495', 'HTTP/1.1\"', '200', '7013', '\"-\"', '\"Mozilla/4.0', '(compatible;', 'MSIE', '6.0;', 'Windows', 'NT', '5.1;', 'SV1)\"']\n",
      "['89.248.172.58', '-', '-', '[31/Jan/2010:04:33:09', '+0200]', '\"GET', '/browse/one_model/2518', 'HTTP/1.1\"', '200', '6869', '\"-\"', '\"Mozilla/4.0', '(compatible;', 'MSIE', '6.0;', 'Windows', 'NT', '5.1;', 'SV1)\"']\n",
      "['89.248.172.58', '-', '-', '[31/Jan/2010:04:33:10', '+0200]', '\"GET', '/browse/one_model/1408', 'HTTP/1.1\"', '200', '6893', '\"-\"', '\"Mozilla/4.0', '(compatible;', 'MSIE', '6.0;', 'Windows', 'NT', '5.1;', 'SV1)\"']\n",
      "['89.248.172.58', '-', '-', '[31/Jan/2010:04:33:11', '+0200]', '\"GET', '/tags/one_tag/48', 'HTTP/1.1\"', '200', '6313', '\"-\"', '\"Mozilla/4.0', '(compatible;', 'MSIE', '6.0;', 'Windows', 'NT', '5.1;', 'SV1)\"']\n",
      "['89.248.172.58', '-', '-', '[31/Jan/2010:04:33:11', '+0200]', '\"GET', '/tags/one_tag/8', 'HTTP/1.1\"', '200', '6295', '\"-\"', '\"Mozilla/4.0', '(compatible;', 'MSIE', '6.0;', 'Windows', 'NT', '5.1;', 'SV1)\"']\n",
      "['89.248.172.58', '-', '-', '[31/Jan/2010:04:33:12', '+0200]', '\"GET', '/browse/one_model/815', 'HTTP/1.1\"', '200', '6839', '\"-\"', '\"Mozilla/4.0', '(compatible;', 'MSIE', '6.0;', 'Windows', 'NT', '5.1;', 'SV1)\"']\n",
      "['89.248.172.58', '-', '-', '[31/Jan/2010:04:33:13', '+0200]', '\"GET', '/browse/one_model/2547', 'HTTP/1.1\"', '200', '6890', '\"-\"', '\"Mozilla/4.0', '(compatible;', 'MSIE', '6.0;', 'Windows', 'NT', '5.1;', 'SV1)\"']\n",
      "['89.248.172.58', '-', '-', '[31/Jan/2010:04:33:13', '+0200]', '\"GET', '/browse/one_model/1578', 'HTTP/1.1\"', '200', '6913', '\"-\"', '\"Mozilla/4.0', '(compatible;', 'MSIE', '6.0;', 'Windows', 'NT', '5.1;', 'SV1)\"']\n",
      "['89.248.172.58', '-', '-', '[31/Jan/2010:04:33:14', '+0200]', '\"GET', '/browse/one_model/2510', 'HTTP/1.1\"', '200', '6829', '\"-\"', '\"Mozilla/4.0', '(compatible;', 'MSIE', '6.0;', 'Windows', 'NT', '5.1;', 'SV1)\"']\n",
      "['89.248.172.58', '-', '-', '[31/Jan/2010:04:33:14', '+0200]', '\"GET', '/browse/one_model/999', 'HTTP/1.1\"', '200', '6860', '\"-\"', '\"Mozilla/4.0', '(compatible;', 'MSIE', '6.0;', 'Windows', 'NT', '5.1;', 'SV1)\"']\n",
      "['89.248.172.58', '-', '-', '[31/Jan/2010:04:33:15', '+0200]', '\"GET', '/account/models/7', 'HTTP/1.1\"', '200', '8787', '\"-\"', '\"Mozilla/4.0', '(compatible;', 'MSIE', '6.0;', 'Windows', 'NT', '5.1;', 'SV1)\"']\n",
      "['89.248.172.58', '-', '-', '[31/Jan/2010:04:33:16', '+0200]', '\"GET', '/?id=17', 'HTTP/1.1\"', '200', '14542', '\"-\"', '\"Mozilla/4.0', '(compatible;', 'MSIE', '6.0;', 'Windows', 'NT', '5.1;', 'SV1)\"']\n",
      "['66.249.65.38', '-', '-', '[31/Jan/2010:04:45:02', '+0200]', '\"GET', '/browse/download_model/2182', 'HTTP/1.1\"', '200', '16607', '\"-\"', '\"Mozilla/5.0', '(compatible;', 'Googlebot/2.1;', '+http://www.google.com/bot.html)\"']\n",
      "['66.249.65.38', '-', '-', '[31/Jan/2010:05:10:16', '+0200]', '\"GET', '/browse/download_model/900', 'HTTP/1.1\"', '200', '3440', '\"-\"', '\"Mozilla/5.0', '(compatible;', 'Googlebot/2.1;', '+http://www.google.com/bot.html)\"']\n",
      "['66.249.65.38', '-', '-', '[31/Jan/2010:05:17:05', '+0200]', '\"GET', '/?id=8', 'HTTP/1.1\"', '200', '3018', '\"-\"', '\"Mozilla/5.0', '(compatible;', 'Googlebot/2.1;', '+http://www.google.com/bot.html)\"']\n",
      "['66.249.65.38', '-', '-', '[31/Jan/2010:05:35:29', '+0200]', '\"GET', '/browse/download_model/797', 'HTTP/1.1\"', '200', '11950', '\"-\"', '\"Mozilla/5.0', '(compatible;', 'Googlebot/2.1;', '+http://www.google.com/bot.html)\"']\n",
      "['66.249.65.38', '-', '-', '[31/Jan/2010:06:00:42', '+0200]', '\"GET', '/browse/download_model/2606', 'HTTP/1.1\"', '200', '357240', '\"-\"', '\"Mozilla/5.0', '(compatible;', 'Googlebot/2.1;', '+http://www.google.com/bot.html)\"']\n",
      "['66.249.65.38', '-', '-', '[31/Jan/2010:06:03:13', '+0200]', '\"GET', '/browse/one_model/993', 'HTTP/1.1\"', '200', '2170', '\"-\"', '\"Mozilla/5.0', '(compatible;', 'Googlebot/2.1;', '+http://www.google.com/bot.html)\"']\n",
      "['66.249.65.38', '-', '-', '[31/Jan/2010:06:25:55', '+0200]', '\"GET', '/browse/download_model/2601', 'HTTP/1.1\"', '200', '2498832', '\"-\"', '\"Mozilla/5.0', '(compatible;', 'Googlebot/2.1;', '+http://www.google.com/bot.html)\"']\n",
      "['66.249.65.38', '-', '-', '[31/Jan/2010:06:51:01', '+0200]', '\"GET', '/browse/download_model/2596', 'HTTP/1.1\"', '200', '220990', '\"-\"', '\"Mozilla/5.0', '(compatible;', 'Googlebot/2.1;', '+http://www.google.com/bot.html)\"']\n",
      "['66.249.65.38', '-', '-', '[31/Jan/2010:07:06:26', '+0200]', '\"GET', '/browse/display_preview/2244', 'HTTP/1.1\"', '200', '4072', '\"-\"', '\"Googlebot-Image/1.0\"']\n",
      "['66.249.65.38', '-', '-', '[31/Jan/2010:07:16:18', '+0200]', '\"GET', '/browse/download_model/2752', 'HTTP/1.1\"', '200', '3146', '\"-\"', '\"Mozilla/5.0', '(compatible;', 'Googlebot/2.1;', '+http://www.google.com/bot.html)\"']\n",
      "['66.249.65.38', '-', '-', '[31/Jan/2010:07:41:27', '+0200]', '\"GET', '/browse/download_model/2492', 'HTTP/1.1\"', '200', '1680079', '\"-\"', '\"Mozilla/5.0', '(compatible;', 'Googlebot/2.1;', '+http://www.google.com/bot.html)\"']\n",
      "['66.249.65.38', '-', '-', '[31/Jan/2010:08:06:40', '+0200]', '\"GET', '/browse/download_model/1408', 'HTTP/1.1\"', '200', '25038', '\"-\"', '\"Mozilla/5.0', '(compatible;', 'Googlebot/2.1;', '+http://www.google.com/bot.html)\"']\n",
      "['66.249.65.38', '-', '-', '[31/Jan/2010:08:31:50', '+0200]', '\"GET', '/browse/download_model/2511', 'HTTP/1.1\"', '200', '39499', '\"-\"', '\"Mozilla/5.0', '(compatible;', 'Googlebot/2.1;', '+http://www.google.com/bot.html)\"']\n",
      "['66.249.65.38', '-', '-', '[31/Jan/2010:08:56:59', '+0200]', '\"GET', '/browse/download_model/2479', 'HTTP/1.1\"', '200', '39598', '\"-\"', '\"Mozilla/5.0', '(compatible;', 'Googlebot/2.1;', '+http://www.google.com/bot.html)\"']\n",
      "['66.249.65.38', '-', '-', '[31/Jan/2010:09:22:13', '+0200]', '\"GET', '/browse/download_model/2754', 'HTTP/1.1\"', '200', '3279', '\"-\"', '\"Mozilla/5.0', '(compatible;', 'Googlebot/2.1;', '+http://www.google.com/bot.html)\"']\n",
      "['66.249.65.38', '-', '-', '[31/Jan/2010:09:47:25', '+0200]', '\"GET', '/browse/download_model/2751', 'HTTP/1.1\"', '200', '3146', '\"-\"', '\"Mozilla/5.0', '(compatible;', 'Googlebot/2.1;', '+http://www.google.com/bot.html)\"']\n",
      "['66.249.65.38', '-', '-', '[31/Jan/2010:10:12:33', '+0200]', '\"GET', '/browse/download_model/2656', 'HTTP/1.1\"', '200', '117532', '\"-\"', '\"Mozilla/5.0', '(compatible;', 'Googlebot/2.1;', '+http://www.google.com/bot.html)\"']\n",
      "['66.249.65.38', '-', '-', '[31/Jan/2010:10:30:53', '+0200]', '\"GET', '/browse/one_node/2701', 'HTTP/1.1\"', '200', '39424', '\"-\"', '\"Mozilla/5.0', '(compatible;', 'Googlebot/2.1;', '+http://www.google.com/bot.html)\"']\n",
      "['66.249.65.38', '-', '-', '[31/Jan/2010:10:37:46', '+0200]', '\"GET', '/browse/download_model/935', 'HTTP/1.1\"', '200', '5014', '\"-\"', '\"Mozilla/5.0', '(compatible;', 'Googlebot/2.1;', '+http://www.google.com/bot.html)\"']\n",
      "['66.249.65.38', '-', '-', '[31/Jan/2010:11:03:00', '+0200]', '\"GET', '/browse/download_model/717', 'HTTP/1.1\"', '200', '30442', '\"-\"', '\"Mozilla/5.0', '(compatible;', 'Googlebot/2.1;', '+http://www.google.com/bot.html)\"']\n",
      "['66.249.65.38', '-', '-', '[31/Jan/2010:11:28:14', '+0200]', '\"GET', '/browse/download_model/751', 'HTTP/1.1\"', '200', '7485', '\"-\"', '\"Mozilla/5.0', '(compatible;', 'Googlebot/2.1;', '+http://www.google.com/bot.html)\"']\n",
      "['66.249.65.38', '-', '-', '[31/Jan/2010:11:53:26', '+0200]', '\"GET', '/browse/download_model/2549', 'HTTP/1.1\"', '200', '5052', '\"-\"', '\"Mozilla/5.0', '(compatible;', 'Googlebot/2.1;', '+http://www.google.com/bot.html)\"']\n",
      "['66.249.65.38', '-', '-', '[31/Jan/2010:12:18:38', '+0200]', '\"GET', '/browse/download_model/2650', 'HTTP/1.1\"', '200', '57739', '\"-\"', '\"Mozilla/5.0', '(compatible;', 'Googlebot/2.1;', '+http://www.google.com/bot.html)\"']\n",
      "['66.249.65.38', '-', '-', '[31/Jan/2010:12:43:41', '+0200]', '\"GET', '/browse/download_model/729', 'HTTP/1.1\"', '200', '13146', '\"-\"', '\"Mozilla/5.0', '(compatible;', 'Googlebot/2.1;', '+http://www.google.com/bot.html)\"']\n",
      "['66.249.65.38', '-', '-', '[31/Jan/2010:12:45:28', '+0200]', '\"GET', '/browse/browse_applet_tab/2593', 'HTTP/1.1\"', '200', '10305', '\"-\"', '\"Mozilla/5.0', '(compatible;', 'Googlebot/2.1;', '+http://www.google.com/bot.html)\"']\n",
      "['66.249.65.38', '-', '-', '[31/Jan/2010:13:09:00', '+0200]', '\"GET', '/browse/download_model/814', 'HTTP/1.1\"', '200', '3066', '\"-\"', '\"Mozilla/5.0', '(compatible;', 'Googlebot/2.1;', '+http://www.google.com/bot.html)\"']\n",
      "['66.249.65.38', '-', '-', '[31/Jan/2010:13:34:05', '+0200]', '\"GET', '/browse/download_model/2629', 'HTTP/1.1\"', '200', '62903', '\"-\"', '\"Mozilla/5.0', '(compatible;', 'Googlebot/2.1;', '+http://www.google.com/bot.html)\"']\n",
      "['66.249.65.38', '-', '-', '[31/Jan/2010:13:59:27', '+0200]', '\"GET', '/browse/download_model/2644', 'HTTP/1.1\"', '200', '12122', '\"-\"', '\"Mozilla/5.0', '(compatible;', 'Googlebot/2.1;', '+http://www.google.com/bot.html)\"']\n",
      "['66.249.65.38', '-', '-', '[31/Jan/2010:14:24:30', '+0200]', '\"GET', '/browse/download_model/804', 'HTTP/1.1\"', '200', '4085', '\"-\"', '\"Mozilla/5.0', '(compatible;', 'Googlebot/2.1;', '+http://www.google.com/bot.html)\"']\n",
      "['67.195.112.35', '-', '-', '[31/Jan/2010:14:45:44', '+0200]', '\"GET', '/robots.txt', 'HTTP/1.0\"', '200', '99', '\"-\"', '\"Mozilla/5.0', '(compatible;', 'Yahoo!', 'Slurp;', 'http://help.yahoo.com/help/us/ysearch/slurp)\"']\n",
      "['67.195.112.35', '-', '-', '[31/Jan/2010:14:45:44', '+0200]', '\"GET', '/account/new', 'HTTP/1.0\"', '200', '2226', '\"-\"', '\"Mozilla/5.0', '(compatible;', 'Yahoo!', 'Slurp/3.0;', 'http://help.yahoo.com/help/us/ysearch/slurp)\"']\n",
      "['67.195.112.35', '-', '-', '[31/Jan/2010:14:45:47', '+0200]', '\"GET', '/stylesheets/nlcommons.css?1264605648', 'HTTP/1.0\"', '200', '1179', '\"http://modelingcommons.org/account/new\"', '\"Mozilla/5.0', '(compatible;', 'Yahoo!', 'Slurp/3.0;', 'http://help.yahoo.com/help/us/ysearch/slurp)\"']\n",
      "['67.195.112.35', '-', '-', '[31/Jan/2010:14:45:50', '+0200]', '\"GET', '/stylesheets/browse.css?1264605648', 'HTTP/1.0\"', '200', '422', '\"http://modelingcommons.org/account/new\"', '\"Mozilla/5.0', '(compatible;', 'Yahoo!', 'Slurp/3.0;', 'http://help.yahoo.com/help/us/ysearch/slurp)\"']\n",
      "['67.195.112.35', '-', '-', '[31/Jan/2010:14:45:52', '+0200]', '\"GET', '/stylesheets/jquery.autocomplete.css?1264605648', 'HTTP/1.0\"', '200', '447', '\"http://modelingcommons.org/account/new\"', '\"Mozilla/5.0', '(compatible;', 'Yahoo!', 'Slurp/3.0;', 'http://help.yahoo.com/help/us/ysearch/slurp)\"']\n",
      "['67.195.112.35', '-', '-', '[31/Jan/2010:14:45:55', '+0200]', '\"GET', '/stylesheets/themes/nlcommons/ui.all.css?1264605648', 'HTTP/1.0\"', '200', '52', '\"http://modelingcommons.org/account/new\"', '\"Mozilla/5.0', '(compatible;', 'Yahoo!', 'Slurp/3.0;', 'http://help.yahoo.com/help/us/ysearch/slurp)\"']\n",
      "['67.195.112.35', '-', '-', '[31/Jan/2010:14:45:57', '+0200]', '\"GET', '/stylesheets/themes/nlcommons/ui.theme.css', 'HTTP/1.0\"', '200', '2862', '\"http://modelingcommons.org/stylesheets/themes/nlcommons/ui.all.css?1264605648\"', '\"Mozilla/5.0', '(compatible;', 'Yahoo!', 'Slurp/3.0;', 'http://help.yahoo.com/help/us/ysearch/slurp)\"']\n",
      "['67.195.112.35', '-', '-', '[31/Jan/2010:14:45:57', '+0200]', '\"GET', '/stylesheets/themes/nlcommons/ui.base.css', 'HTTP/1.0\"', '200', '111', '\"http://modelingcommons.org/stylesheets/themes/nlcommons/ui.all.css?1264605648\"', '\"Mozilla/5.0', '(compatible;', 'Yahoo!', 'Slurp/3.0;', 'http://help.yahoo.com/help/us/ysearch/slurp)\"']\n",
      "['67.195.112.35', '-', '-', '[31/Jan/2010:14:45:59', '+0200]', '\"GET', '/stylesheets/themes/nlcommons/ui.slider.css', 'HTTP/1.0\"', '200', '318', '\"http://modelingcommons.org/stylesheets/themes/nlcommons/ui.base.css\"', '\"Mozilla/5.0', '(compatible;', 'Yahoo!', 'Slurp/3.0;', 'http://help.yahoo.com/help/us/ysearch/slurp)\"']\n",
      "['67.195.112.35', '-', '-', '[31/Jan/2010:14:45:59', '+0200]', '\"GET', '/stylesheets/themes/nlcommons/ui.core.css', 'HTTP/1.0\"', '200', '624', '\"http://modelingcommons.org/stylesheets/themes/nlcommons/ui.base.css\"', '\"Mozilla/5.0', '(compatible;', 'Yahoo!', 'Slurp/3.0;', 'http://help.yahoo.com/help/us/ysearch/slurp)\"']\n",
      "['67.195.112.35', '-', '-', '[31/Jan/2010:14:45:59', '+0200]', '\"GET', '/stylesheets/themes/nlcommons/ui.tabs.css', 'HTTP/1.0\"', '200', '414', '\"http://modelingcommons.org/stylesheets/themes/nlcommons/ui.base.css\"', '\"Mozilla/5.0', '(compatible;', 'Yahoo!', 'Slurp/3.0;', 'http://help.yahoo.com/help/us/ysearch/slurp)\"']\n",
      "['67.195.112.35', '-', '-', '[31/Jan/2010:14:45:59', '+0200]', '\"GET', '/stylesheets/themes/nlcommons/ui.accordion.css', 'HTTP/1.0\"', '200', '295', '\"http://modelingcommons.org/stylesheets/themes/nlcommons/ui.base.css\"', '\"Mozilla/5.0', '(compatible;', 'Yahoo!', 'Slurp/3.0;', 'http://help.yahoo.com/help/us/ysearch/slurp)\"']\n",
      "['67.195.112.35', '-', '-', '[31/Jan/2010:14:45:59', '+0200]', '\"GET', '/stylesheets/themes/nlcommons/ui.dialog.css', 'HTTP/1.0\"', '200', '442', '\"http://modelingcommons.org/stylesheets/themes/nlcommons/ui.base.css\"', '\"Mozilla/5.0', '(compatible;', 'Yahoo!', 'Slurp/3.0;', 'http://help.yahoo.com/help/us/ysearch/slurp)\"']\n",
      "['67.195.112.35', '-', '-', '[31/Jan/2010:14:45:59', '+0200]', '\"GET', '/stylesheets/themes/nlcommons/ui.resizable.css', 'HTTP/1.0\"', '200', '307', '\"http://modelingcommons.org/stylesheets/themes/nlcommons/ui.base.css\"', '\"Mozilla/5.0', '(compatible;', 'Yahoo!', 'Slurp/3.0;', 'http://help.yahoo.com/help/us/ysearch/slurp)\"']\n",
      "['67.195.112.35', '-', '-', '[31/Jan/2010:14:45:59', '+0200]', '\"GET', '/stylesheets/themes/nlcommons/ui.datepicker.css', 'HTTP/1.0\"', '200', '965', '\"http://modelingcommons.org/stylesheets/themes/nlcommons/ui.base.css\"', '\"Mozilla/5.0', '(compatible;', 'Yahoo!', 'Slurp/3.0;', 'http://help.yahoo.com/help/us/ysearch/slurp)\"']\n",
      "['67.195.112.35', '-', '-', '[31/Jan/2010:14:45:59', '+0200]', '\"GET', '/stylesheets/themes/nlcommons/ui.progressbar.css', 'HTTP/1.0\"', '200', '114', '\"http://modelingcommons.org/stylesheets/themes/nlcommons/ui.base.css\"', '\"Mozilla/5.0', '(compatible;', 'Yahoo!', 'Slurp/3.0;', 'http://help.yahoo.com/help/us/ysearch/slurp)\"']\n",
      "['66.249.65.38', '-', '-', '[31/Jan/2010:14:49:40', '+0200]', '\"GET', '/browse/download_model/1420', 'HTTP/1.1\"', '200', '73293', '\"-\"', '\"Mozilla/5.0', '(compatible;', 'Googlebot/2.1;', '+http://www.google.com/bot.html)\"']\n",
      "['65.55.207.50', '-', '-', '[31/Jan/2010:15:07:49', '+0200]', '\"GET', '/robots.txt', 'HTTP/1.1\"', '200', '99', '\"-\"', '\"msnbot/2.0b', '(+http://search.msn.com/msnbot.htm)\"']\n",
      "['65.55.207.50', '-', '-', '[31/Jan/2010:15:09:06', '+0200]', '\"GET', '/', 'HTTP/1.1\"', '302', '109', '\"-\"', '\"msnbot/2.0b', '(+http://search.msn.com/msnbot.htm)\"']\n",
      "['65.55.207.50', '-', '-', '[31/Jan/2010:15:09:14', '+0200]', '\"GET', '/account/login', 'HTTP/1.1\"', '200', '1935', '\"-\"', '\"msnbot/2.0b', '(+http://search.msn.com/msnbot.htm)\"']\n",
      "['66.249.65.38', '-', '-', '[31/Jan/2010:15:14:55', '+0200]', '\"GET', '/browse/download_model/766', 'HTTP/1.1\"', '200', '10923', '\"-\"', '\"Mozilla/5.0', '(compatible;', 'Googlebot/2.1;', '+http://www.google.com/bot.html)\"']\n",
      "['66.249.65.38', '-', '-', '[31/Jan/2010:15:40:01', '+0200]', '\"GET', '/browse/download_model/756', 'HTTP/1.1\"', '200', '4632', '\"-\"', '\"Mozilla/5.0', '(compatible;', 'Googlebot/2.1;', '+http://www.google.com/bot.html)\"']\n",
      "['66.249.65.38', '-', '-', '[31/Jan/2010:16:05:28', '+0200]', '\"GET', '/browse/download_model/757', 'HTTP/1.1\"', '200', '11079', '\"-\"', '\"Mozilla/5.0', '(compatible;', 'Googlebot/2.1;', '+http://www.google.com/bot.html)\"']\n",
      "['66.249.65.38', '-', '-', '[31/Jan/2010:16:30:36', '+0200]', '\"GET', '/browse/download_model/725', 'HTTP/1.1\"', '200', '16082', '\"-\"', '\"Mozilla/5.0', '(compatible;', 'Googlebot/2.1;', '+http://www.google.com/bot.html)\"']\n",
      "['66.249.65.38', '-', '-', '[31/Jan/2010:16:55:37', '+0200]', '\"GET', '/browse/download_model/2473', 'HTTP/1.1\"', '200', '211110', '\"-\"', '\"Mozilla/5.0', '(compatible;', 'Googlebot/2.1;', '+http://www.google.com/bot.html)\"']\n",
      "['66.249.65.38', '-', '-', '[31/Jan/2010:17:20:49', '+0200]', '\"GET', '/browse/download_model/1510', 'HTTP/1.1\"', '200', '35814', '\"-\"', '\"Mozilla/5.0', '(compatible;', 'Googlebot/2.1;', '+http://www.google.com/bot.html)\"']\n",
      "['65.55.215.75', '-', '-', '[31/Jan/2010:17:39:03', '+0200]', '\"GET', '/robots.txt', 'HTTP/1.1\"', '200', '99', '\"-\"', '\"msnbot/2.0b', '(+http://search.msn.com/msnbot.htm)\"']\n",
      "['65.55.215.75', '-', '-', '[31/Jan/2010:17:40:02', '+0200]', '\"GET', '/browse/list_models', 'HTTP/1.1\"', '304', '-', '\"-\"', '\"msnbot/2.0b', '(+http://search.msn.com/msnbot.htm)\"']\n",
      "['66.249.65.38', '-', '-', '[31/Jan/2010:17:46:08', '+0200]', '\"GET', '/browse/download_model/802', 'HTTP/1.1\"', '200', '4800', '\"-\"', '\"Mozilla/5.0', '(compatible;', 'Googlebot/2.1;', '+http://www.google.com/bot.html)\"']\n",
      "['66.249.65.38', '-', '-', '[31/Jan/2010:18:11:17', '+0200]', '\"GET', '/browse/download_model/2194', 'HTTP/1.1\"', '200', '11380', '\"-\"', '\"Mozilla/5.0', '(compatible;', 'Googlebot/2.1;', '+http://www.google.com/bot.html)\"']\n",
      "['66.249.65.38', '-', '-', '[31/Jan/2010:18:36:25', '+0200]', '\"GET', '/browse/download_model/1572', 'HTTP/1.1\"', '200', '10239', '\"-\"', '\"Mozilla/5.0', '(compatible;', 'Googlebot/2.1;', '+http://www.google.com/bot.html)\"']\n",
      "['66.249.65.38', '-', '-', '[31/Jan/2010:19:01:55', '+0200]', '\"GET', '/browse/download_model/1806', 'HTTP/1.1\"', '200', '12739', '\"-\"', '\"Mozilla/5.0', '(compatible;', 'Googlebot/2.1;', '+http://www.google.com/bot.html)\"']\n",
      "['66.249.65.38', '-', '-', '[31/Jan/2010:19:26:45', '+0200]', '\"GET', '/browse/download_model/930', 'HTTP/1.1\"', '200', '8271', '\"-\"', '\"Mozilla/5.0', '(compatible;', 'Googlebot/2.1;', '+http://www.google.com/bot.html)\"']\n",
      "['66.249.65.38', '-', '-', '[31/Jan/2010:19:52:00', '+0200]', '\"GET', '/browse/download_model/2041', 'HTTP/1.1\"', '200', '18891', '\"-\"', '\"Mozilla/5.0', '(compatible;', 'Googlebot/2.1;', '+http://www.google.com/bot.html)\"']\n",
      "['66.249.65.38', '-', '-', '[31/Jan/2010:20:17:07', '+0200]', '\"GET', '/browse/download_model/1800', 'HTTP/1.1\"', '200', '14802', '\"-\"', '\"Mozilla/5.0', '(compatible;', 'Googlebot/2.1;', '+http://www.google.com/bot.html)\"']\n",
      "['66.249.65.38', '-', '-', '[31/Jan/2010:20:42:19', '+0200]', '\"GET', '/browse/one_node/1613', 'HTTP/1.1\"', '200', '27080', '\"-\"', '\"Mozilla/5.0', '(compatible;', 'Googlebot/2.1;', '+http://www.google.com/bot.html)\"']\n",
      "['66.249.65.38', '-', '-', '[31/Jan/2010:21:08:00', '+0200]', '\"GET', '/browse/one_node/1892', 'HTTP/1.1\"', '200', '1296', '\"-\"', '\"Mozilla/5.0', '(compatible;', 'Googlebot/2.1;', '+http://www.google.com/bot.html)\"']\n"
     ]
    }
   ],
   "source": [
    "counts = {}\n",
    "\n",
    "for one_line in open('mini-access-log.txt'):\n",
    "    print(one_line.split())"
   ]
  },
  {
   "cell_type": "code",
   "execution_count": null,
   "metadata": {},
   "outputs": [],
   "source": []
  }
 ],
 "metadata": {
  "kernelspec": {
   "display_name": "Python 3 (ipykernel)",
   "language": "python",
   "name": "python3"
  },
  "language_info": {
   "codemirror_mode": {
    "name": "ipython",
    "version": 3
   },
   "file_extension": ".py",
   "mimetype": "text/x-python",
   "name": "python",
   "nbconvert_exporter": "python",
   "pygments_lexer": "ipython3",
   "version": "3.13.2"
  }
 },
 "nbformat": 4,
 "nbformat_minor": 4
}
