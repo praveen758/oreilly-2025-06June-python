{
 "cells": [
  {
   "cell_type": "markdown",
   "metadata": {},
   "source": [
    "# Agenda, day 3: Dictionaries and files\n",
    "\n",
    "1. Jupyter Lite\n",
    "2. Q&A\n",
    "3. Dictionaries (\"dicts\")\n",
    "    - Creating them\n",
    "    - Retrieving from them\n",
    "    - Iterating over them\n",
    "4. How can we use dictionaries in a variety of ways?\n",
    "    - As a read-only database\n",
    "    - To accumulate values we know of\n",
    "    - To accumulate the unknown\n",
    "5. How do dicts work?\n",
    "6. Files\n",
    "    - Reading from files\n",
    "    - Different ways to read from files\n",
    "    - Writing to files (a little)\n",
    "    - The `with` construct\n",
    "\n"
   ]
  },
  {
   "cell_type": "code",
   "execution_count": 1,
   "metadata": {},
   "outputs": [
    {
     "name": "stdout",
     "output_type": "stream",
     "text": [
      "Hello!\n"
     ]
    }
   ],
   "source": [
    "print('Hello!')"
   ]
  },
  {
   "cell_type": "markdown",
   "metadata": {},
   "source": [
    "# WASM -- Web Assembly\n",
    "\n",
    "WASM is a universal programming language in your browser. Any programming language that knows how to run on a WASM platform can run in your browser.\n",
    "\n",
    "Python can run in WASM! Which means that Python can run in your browser!\n",
    "\n",
    "Does that mean that Jupyter can run in your browser? Until last week, the answer was \"Yes, but\".\n",
    "\n",
    "This is known as Jupyter Lite.\n",
    "\n",
    "It worked great... except for the `input` function, which didn't work so well."
   ]
  },
  {
   "cell_type": "markdown",
   "metadata": {},
   "source": [
    "# Dictionaries\n",
    "\n",
    "Dictionaries are the most important data structure in Python. Let's put that in some context:\n",
    "\n",
    "- Strings are for storing (and retrieving) text.\n",
    "- Lists are for storing and retrieving values of the same type, where we put them in the list, and can retrieve them via their index. We know that lists are mutable, meaning that we can modify their values, make them longer, and make them shorter.\n",
    "- Tuples are for storing and retrieving values of different types. They are immutable, meaning that we cannot change the values, make them longer, or make them shorter.\n",
    "\n",
    "For certain kinds of tasks, none of these is really flexible or efficient enough.\n",
    "\n",
    "Dictionaries are extremely fast and extremely flexible. The idea behind dicts is that you don't have individual values. Rather, you have keys (the indexes) and values. There is no such thing as an individual item in a dict; it's always based on pairs. \n",
    "\n",
    "Some basic things to know about dicts:\n",
    "\n",
    "- Every key has a value, and every value has a key. There isn't any such thing has a valueless key or a keyless value.\n",
    "- Keys are unique within a dict. This is like how a string, list, or tuple only has one item at each index; there aren't 3 items at index 3.\n",
    "- A key can be anything at all in Python... if it is immutable. Meaning, we normally use numbers (ints and floats) and strings as dict keys.\n",
    "- In a dict, I can dictate what the keys are, so long as they are unique and immutable. I am not constrained by any ordering.\n",
    "- The values can be absolutely anything at all, without any restrictions whatsoever -- they can be mutable/immutable, big or small, repeat if you want, etc.\n",
    "\n",
    "So what's the advantage of a dict?\n",
    "\n",
    "The first one that you normally encounter is that whereas a list has integer indexes (0, 1, 2, 3) that don't have anything to do with the data, a dict's keys are set by you, and can be relevant to the data:\n",
    "\n",
    "- ID numbers\n",
    "- Usernames\n",
    "- IP addresses\n",
    "- Dates\n",
    "- SKUs in a store\n",
    "\n",
    "### To create a dict:\n",
    "\n",
    "- We use `{}`\n",
    "- The key and value in each pair are separated by `:`\n",
    "- Pairs are separated by `,`"
   ]
  },
  {
   "cell_type": "code",
   "execution_count": 2,
   "metadata": {},
   "outputs": [],
   "source": [
    "d = {'a':10, 'b':20, 'c':30}"
   ]
  },
  {
   "cell_type": "code",
   "execution_count": 3,
   "metadata": {},
   "outputs": [
    {
     "data": {
      "text/plain": [
       "dict"
      ]
     },
     "execution_count": 3,
     "metadata": {},
     "output_type": "execute_result"
    }
   ],
   "source": [
    "type(d)"
   ]
  },
  {
   "cell_type": "code",
   "execution_count": 4,
   "metadata": {},
   "outputs": [
    {
     "data": {
      "text/plain": [
       "3"
      ]
     },
     "execution_count": 4,
     "metadata": {},
     "output_type": "execute_result"
    }
   ],
   "source": [
    "# How many key-value pairs are in the dict?\n",
    "\n",
    "len(d)  # we count the pairs (not the individual items)"
   ]
  },
  {
   "cell_type": "code",
   "execution_count": 5,
   "metadata": {},
   "outputs": [
    {
     "data": {
      "text/plain": [
       "10"
      ]
     },
     "execution_count": 5,
     "metadata": {},
     "output_type": "execute_result"
    }
   ],
   "source": [
    "# how can I retrieve from a dict? I use [], just like with a string/list/tuple\n",
    "# in the [], I put the key that I want to retrieve\n",
    "\n",
    "d['a'] "
   ]
  },
  {
   "cell_type": "code",
   "execution_count": 6,
   "metadata": {},
   "outputs": [
    {
     "data": {
      "text/plain": [
       "20"
      ]
     },
     "execution_count": 6,
     "metadata": {},
     "output_type": "execute_result"
    }
   ],
   "source": [
    "d['b']"
   ]
  },
  {
   "cell_type": "code",
   "execution_count": 7,
   "metadata": {},
   "outputs": [
    {
     "data": {
      "text/plain": [
       "30"
      ]
     },
     "execution_count": 7,
     "metadata": {},
     "output_type": "execute_result"
    }
   ],
   "source": [
    "d['c']"
   ]
  },
  {
   "cell_type": "code",
   "execution_count": 8,
   "metadata": {},
   "outputs": [
    {
     "ename": "KeyError",
     "evalue": "'x'",
     "output_type": "error",
     "traceback": [
      "\u001b[31m---------------------------------------------------------------------------\u001b[39m",
      "\u001b[31mKeyError\u001b[39m                                  Traceback (most recent call last)",
      "\u001b[36mCell\u001b[39m\u001b[36m \u001b[39m\u001b[32mIn[8]\u001b[39m\u001b[32m, line 1\u001b[39m\n\u001b[32m----> \u001b[39m\u001b[32m1\u001b[39m \u001b[43md\u001b[49m\u001b[43m[\u001b[49m\u001b[33;43m'\u001b[39;49m\u001b[33;43mx\u001b[39;49m\u001b[33;43m'\u001b[39;49m\u001b[43m]\u001b[49m\n",
      "\u001b[31mKeyError\u001b[39m: 'x'"
     ]
    }
   ],
   "source": [
    "d['x']"
   ]
  },
  {
   "cell_type": "code",
   "execution_count": 9,
   "metadata": {},
   "outputs": [
    {
     "ename": "KeyError",
     "evalue": "'a '",
     "output_type": "error",
     "traceback": [
      "\u001b[31m---------------------------------------------------------------------------\u001b[39m",
      "\u001b[31mKeyError\u001b[39m                                  Traceback (most recent call last)",
      "\u001b[36mCell\u001b[39m\u001b[36m \u001b[39m\u001b[32mIn[9]\u001b[39m\u001b[32m, line 2\u001b[39m\n\u001b[32m      1\u001b[39m \u001b[38;5;66;03m# get the key exactly right!\u001b[39;00m\n\u001b[32m----> \u001b[39m\u001b[32m2\u001b[39m \u001b[43md\u001b[49m\u001b[43m[\u001b[49m\u001b[33;43m'\u001b[39;49m\u001b[33;43ma \u001b[39;49m\u001b[33;43m'\u001b[39;49m\u001b[43m]\u001b[49m\n",
      "\u001b[31mKeyError\u001b[39m: 'a '"
     ]
    }
   ],
   "source": [
    "# get the key exactly right!\n",
    "d['a ']"
   ]
  },
  {
   "cell_type": "code",
   "execution_count": 10,
   "metadata": {},
   "outputs": [
    {
     "ename": "KeyError",
     "evalue": "'A'",
     "output_type": "error",
     "traceback": [
      "\u001b[31m---------------------------------------------------------------------------\u001b[39m",
      "\u001b[31mKeyError\u001b[39m                                  Traceback (most recent call last)",
      "\u001b[36mCell\u001b[39m\u001b[36m \u001b[39m\u001b[32mIn[10]\u001b[39m\u001b[32m, line 1\u001b[39m\n\u001b[32m----> \u001b[39m\u001b[32m1\u001b[39m \u001b[43md\u001b[49m\u001b[43m[\u001b[49m\u001b[33;43m'\u001b[39;49m\u001b[33;43mA\u001b[39;49m\u001b[33;43m'\u001b[39;49m\u001b[43m]\u001b[49m\n",
      "\u001b[31mKeyError\u001b[39m: 'A'"
     ]
    }
   ],
   "source": [
    "d['A']"
   ]
  },
  {
   "cell_type": "code",
   "execution_count": null,
   "metadata": {},
   "outputs": [],
   "source": []
  }
 ],
 "metadata": {
  "kernelspec": {
   "display_name": "Python 3 (ipykernel)",
   "language": "python",
   "name": "python3"
  },
  "language_info": {
   "codemirror_mode": {
    "name": "ipython",
    "version": 3
   },
   "file_extension": ".py",
   "mimetype": "text/x-python",
   "name": "python",
   "nbconvert_exporter": "python",
   "pygments_lexer": "ipython3",
   "version": "3.13.2"
  }
 },
 "nbformat": 4,
 "nbformat_minor": 4
}
