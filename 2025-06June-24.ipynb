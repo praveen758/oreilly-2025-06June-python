{
 "cells": [
  {
   "cell_type": "markdown",
   "metadata": {},
   "source": [
    "# Agenda: Functions\n",
    "\n",
    "1. Q&A\n",
    "2. What are functions?\n",
    "3. Writing simple functions\n",
    "4. Arguments and parameters\n",
    "5. Return values\n",
    "6. Complex return values\n",
    "7. Default arguments\n",
    "8. Local vs. global variables\n",
    "9. Special parameters, e.g., `*args`"
   ]
  },
  {
   "cell_type": "code",
   "execution_count": 1,
   "metadata": {},
   "outputs": [
    {
     "name": "stdout",
     "output_type": "stream",
     "text": [
      "Yes, both are what you wanted!\n"
     ]
    }
   ],
   "source": [
    "# ID\n",
    "# more than one operator on a line?\n",
    "\n",
    "x = 'abcdefg'\n",
    "\n",
    "#   True   and   True  --> True\n",
    "if x != '' and 'c' in x:\n",
    "    print('Yes, both are what you wanted!')\n",
    "else:\n",
    "    print('Life is full of disappointments')"
   ]
  },
  {
   "cell_type": "code",
   "execution_count": null,
   "metadata": {},
   "outputs": [],
   "source": []
  },
  {
   "cell_type": "code",
   "execution_count": null,
   "metadata": {},
   "outputs": [],
   "source": [
    "# Make it nicer, option 1: Use parentheses\n",
    "\n",
    "x = 'abcdefg'\n",
    "\n",
    "if (x != '') and ('c' in x):\n",
    "    print('Yes, both are what you wanted!')\n",
    "else:\n",
    "    print('Life is full of disappointments')"
   ]
  },
  {
   "cell_type": "code",
   "execution_count": 4,
   "metadata": {},
   "outputs": [
    {
     "name": "stdout",
     "output_type": "stream",
     "text": [
      "Yes, both are what you wanted!\n"
     ]
    }
   ],
   "source": [
    "# if you open () (of any sort!) Python sees everything inside of the () as being on a single line\n",
    "\n",
    "x = 'abcdefg'\n",
    "\n",
    "if ((x != '') and\n",
    "    ('c' in x)):\n",
    "    print('Yes, both are what you wanted!')\n",
    "else:\n",
    "    print('Life is full of disappointments')"
   ]
  },
  {
   "cell_type": "markdown",
   "metadata": {},
   "source": [
    "# What are functions?\n",
    "\n",
    "We've been using functions (and methods) from the start of this course. Functions are the *verbs* in a programming language. Some functions we've seen include:\n",
    "\n",
    "- `print`\n",
    "- `len`\n",
    "- `input`\n",
    "- `type`\n",
    "- `sum` (returns the total of a list of integers)\n",
    "\n",
    "We could write our software with just these \"builtin\" functions and Python's operators. \n",
    "\n",
    "However, we will find ourselves violating the DRY rule:\n",
    "\n",
    "# DRY rule (\"don't repeat yourself\")\n",
    "\n",
    "- If you have several lines in a row that are roughly the same, replace them with a loop.\n",
    "- If you have several parts of your program that are roughly the same, replace them with a function.\n",
    "\n",
    "This means that we can define a function a single time, and then use it many times. This has a bunch of advantages:\n",
    "\n",
    "- If we need to modify our function (and we will!) then it's easier to change it in one place\n",
    "- It's easier for us to think about a program with fewer lines, and with more function calls\n",
    "- It also provides Python (and other languages) with a chance to optimize the memory/processor use\n",
    "\n",
    "# But there is another reason: Abstraction\n",
    "\n",
    "Abstraction is the idea that we can take a number of low-level ideas, collect them under a single high-level name, and then ignore the details:\n",
    "\n",
    "By collecting a number of pieces of functionality under the name of a single function, you can then see that function as a low-level piece on top of which you build new, higher-level functionality.\n",
    "\n",
    "Your goal is often going to be to take a number of pieces of functionality, put them inside of a function, and then invoke that function -- often inside of another function that is similarly trying to abstract away the details of a lower level.\n"
   ]
  },
  {
   "cell_type": "code",
   "execution_count": 5,
   "metadata": {},
   "outputs": [],
   "source": [
    "# how can we look at the definition of a builtin function like print?\n",
    "# answer: Look at the CPython source code.\n",
    "\n"
   ]
  },
  {
   "cell_type": "markdown",
   "metadata": {},
   "source": [
    "# In Python, functions are nouns -- not just verbs\n",
    "\n",
    "Every programming language has functions, and they are the verbs of every language.\n",
    "\n",
    "But in Python, functions aren't just verbs. They are also nouns. That is, they are values that we can assign to variables, pass to functions as arguments, and do other things with. If you can do it to a string, list, or tuple, then you can almost certainly also do it to a function.\n",
    "\n",
    "The difference between treating a function as a verb and a noun is the `()`. If you use `()` after a function's name, that means: Execute/call this function, and show me the result. But if you don't use `()`, then you end up with the function definition, which will almost certainly give you a different result than you wanted. Think of the function object/value as the blueprints to a house, and the executing function as the house itself -- both important, but not the same thing."
   ]
  },
  {
   "cell_type": "markdown",
   "metadata": {},
   "source": [
    "# Let's define a function!\n",
    "\n",
    "To define a function in Python:\n",
    "\n",
    "- We use the reserved word `def` (short for \"define\")\n",
    "- We put `()` after that; we will soon fill those with parameter names, but for now, they're empty\n",
    "- Then we have a `:`\n",
    "- Then we have an indented block, the \"function body.\"\n",
    "\n",
    "The function body can be as long/short as you want, until the indentation ends. It can have *ANY* code that you want - `input`, `print`, `for`, `open`... \n",
    "\n",
    "The function body does not execute when you define the function. Rather, it executes when you call the function with `()`."
   ]
  },
  {
   "cell_type": "code",
   "execution_count": 6,
   "metadata": {},
   "outputs": [],
   "source": [
    "def hello():\n",
    "    print(f'Hello!')"
   ]
  },
  {
   "cell_type": "markdown",
   "metadata": {},
   "source": [
    "# We just did two things\n",
    "\n",
    "1. We defined a new function object, or function value -- a new noun\n",
    "2. We assigned that function value to the variable `hello`\n",
    "\n",
    "Yes, function names are variable names! For this reason, you cannot have both a function and a variable of the same name at the same time; the second one to be defined will win.\n",
    "\n"
   ]
  },
  {
   "cell_type": "code",
   "execution_count": 7,
   "metadata": {},
   "outputs": [
    {
     "name": "stdout",
     "output_type": "stream",
     "text": [
      "Hello!\n"
     ]
    }
   ],
   "source": [
    "hello()  # let's execute this function!"
   ]
  },
  {
   "cell_type": "code",
   "execution_count": 8,
   "metadata": {},
   "outputs": [],
   "source": [
    "hello = 12345"
   ]
  },
  {
   "cell_type": "code",
   "execution_count": 9,
   "metadata": {},
   "outputs": [
    {
     "ename": "TypeError",
     "evalue": "'int' object is not callable",
     "output_type": "error",
     "traceback": [
      "\u001b[31m---------------------------------------------------------------------------\u001b[39m",
      "\u001b[31mTypeError\u001b[39m                                 Traceback (most recent call last)",
      "\u001b[36mCell\u001b[39m\u001b[36m \u001b[39m\u001b[32mIn[9]\u001b[39m\u001b[32m, line 1\u001b[39m\n\u001b[32m----> \u001b[39m\u001b[32m1\u001b[39m \u001b[43mhello\u001b[49m\u001b[43m(\u001b[49m\u001b[43m)\u001b[49m  \u001b[38;5;66;03m# what happens now when I try to execute the function?\u001b[39;00m\n",
      "\u001b[31mTypeError\u001b[39m: 'int' object is not callable"
     ]
    }
   ],
   "source": [
    "hello()  # what happens now when I try to execute the function?"
   ]
  },
  {
   "cell_type": "code",
   "execution_count": 10,
   "metadata": {},
   "outputs": [],
   "source": [
    "def hello():\n",
    "    name = input('Enter your name: ').strip()\n",
    "    print(f'Hello, {name}!')"
   ]
  },
  {
   "cell_type": "code",
   "execution_count": 11,
   "metadata": {},
   "outputs": [
    {
     "name": "stdin",
     "output_type": "stream",
     "text": [
      "Enter your name:  Reuven\n"
     ]
    },
    {
     "name": "stdout",
     "output_type": "stream",
     "text": [
      "Hello, Reuven!\n"
     ]
    }
   ],
   "source": [
    "hello()"
   ]
  },
  {
   "cell_type": "markdown",
   "metadata": {},
   "source": [
    "# Exercise: Calculator\n",
    "\n",
    "1. Define a function, `calc`, that when invoked asks the user three questions:\n",
    "    - What is the first number\n",
    "    - What is the operator\n",
    "    - What is the second number\n",
    "2. All three answers should be assigned to variables.\n",
    "3. If the numbers can be turned into integers, and if the operator is known (let's say `+` and `-`), then get the result of the calculation and print it, along with the numbers and operator.\n",
    "4. If they cannot be turned into integers, then give the user a scolding.\n",
    "5. If the operator is not `+` or `-`, then scold again, as well.\n",
    "\n",
    "Example:\n",
    "\n",
    "    calc()\n",
    "\n",
    "    Enter first number: 10\n",
    "    Enter operator: +\n",
    "    Enter second number: 15\n",
    "    10 + 15 = 25\n",
    "\n",
    "    Enter first number: 10\n",
    "    Enter operator: +\n",
    "    Enter second number: hello\n",
    "    10 + hello = (bad result)\n",
    "\n",
    "\n",
    "    "
   ]
  },
  {
   "cell_type": "code",
   "execution_count": 17,
   "metadata": {},
   "outputs": [],
   "source": [
    "def calc():\n",
    "    first = input('Enter first number: ').strip()\n",
    "    op = input('Enter operator: ').strip()\n",
    "    second = input('Enter second number: ').strip()\n",
    "\n",
    "    if first.isdigit() and second.isdigit():\n",
    "\n",
    "        first = int(first)\n",
    "        second = int(second)\n",
    "    \n",
    "        if op == '+':\n",
    "            result = first + second\n",
    "        elif op == '-':\n",
    "            result = first - second\n",
    "        else:\n",
    "            result = '(invalid operator)'\n",
    "    \n",
    "        print(f'{first} {op} {second} = {result}')\n",
    "\n",
    "    else:\n",
    "        print(f'{first} and {second} both have to be numeric.')"
   ]
  },
  {
   "cell_type": "code",
   "execution_count": 18,
   "metadata": {},
   "outputs": [
    {
     "name": "stdin",
     "output_type": "stream",
     "text": [
      "Enter first number:  10\n",
      "Enter operator:  +\n",
      "Enter second number:  hello\n"
     ]
    },
    {
     "name": "stdout",
     "output_type": "stream",
     "text": [
      "10 and hello both have to be numeric.\n"
     ]
    }
   ],
   "source": [
    "calc()"
   ]
  },
  {
   "cell_type": "markdown",
   "metadata": {},
   "source": [
    "# This is annoying!\n",
    "\n",
    "The good news is that our `calc` function works.\n",
    "\n",
    "The bad news is that every time we run it, we require user input. That is a huge bottleneck. What if I want to perform 100,000 calculations? I don't want to type 300,000 input values. Besides, we know that Python has a better way to do this, passing values in the `()` when we invoke a function.\n",
    "\n",
    "# Arguments and parameters\n",
    "\n",
    "When we invoke a function, any values we put in the `()` are known as *arguments*. The number of values you pass as arguments depends on the function definition. But generally speaking, we call a function with one or more values, and those values are then assigned to variables in the function known as \"parameters.\"\n",
    "\n",
    "A regular variable in a function gets its value from assignment we do in the function.\n",
    "\n",
    "By contrast, a parameter is a variable that gets assigned a value when the function is invoked. The caller assigns the arguments to the parameters.\n",
    "\n",
    "Nearly every programmer I know confuses the terms \"arguments\" and \"parameters\" -- so if you do as well, that's fine.\n",
    "\n",
    "- arguments are values passed when we invoke the function\n",
    "- parameters are the variables to which the arguments are assigned.\n",
    "\n"
   ]
  },
  {
   "cell_type": "code",
   "execution_count": 19,
   "metadata": {},
   "outputs": [],
   "source": [
    "# I don't need to ask the user to enter a name\n",
    "# but the function prints something different each time, based on the input\n",
    "\n",
    "def hello(name):\n",
    "    print(f'Hello, {name}!')"
   ]
  },
  {
   "cell_type": "code",
   "execution_count": 20,
   "metadata": {},
   "outputs": [
    {
     "name": "stdout",
     "output_type": "stream",
     "text": [
      "Hello, out there!\n"
     ]
    }
   ],
   "source": [
    "hello('out there')"
   ]
  },
  {
   "cell_type": "code",
   "execution_count": 21,
   "metadata": {},
   "outputs": [
    {
     "name": "stdout",
     "output_type": "stream",
     "text": [
      "Hello, Reuven!\n"
     ]
    }
   ],
   "source": [
    "hello('Reuven')"
   ]
  },
  {
   "cell_type": "code",
   "execution_count": 22,
   "metadata": {},
   "outputs": [
    {
     "name": "stdout",
     "output_type": "stream",
     "text": [
      "Hello, a!\n",
      "Hello, b!\n",
      "Hello, c!\n"
     ]
    }
   ],
   "source": [
    "for one_letter in 'abc':\n",
    "    hello(one_letter)"
   ]
  },
  {
   "cell_type": "code",
   "execution_count": 23,
   "metadata": {},
   "outputs": [],
   "source": [
    "def hello(first, last):\n",
    "    print(f'Hello, {first} {last}')"
   ]
  },
  {
   "cell_type": "code",
   "execution_count": 24,
   "metadata": {},
   "outputs": [
    {
     "name": "stdout",
     "output_type": "stream",
     "text": [
      "Hello, Reuven Lerner\n"
     ]
    }
   ],
   "source": [
    "hello('Reuven', 'Lerner')"
   ]
  },
  {
   "cell_type": "markdown",
   "metadata": {},
   "source": [
    "# Remember that function names are variables!\n",
    "\n",
    "In many languages, you can define a function multiple times, so long as each time has a different number of parameters and expects different types of arguments.\n",
    "\n",
    "This is *NOT* the case in Python!\n",
    "\n",
    "Because a function is a variable, defining a new function with the same name as an old one results in removing/erasing the old one!\n",
    "\n",
    "It's like saying\n",
    "\n",
    "    x = 5\n",
    "    x = 7   # hey, why does Python not remember that x was once 5?\n",
    "\n",
    "    "
   ]
  },
  {
   "cell_type": "code",
   "execution_count": 25,
   "metadata": {},
   "outputs": [
    {
     "name": "stdout",
     "output_type": "stream",
     "text": [
      "Hello, a b\n"
     ]
    }
   ],
   "source": [
    "hello('a', 'b')"
   ]
  },
  {
   "cell_type": "code",
   "execution_count": 26,
   "metadata": {},
   "outputs": [
    {
     "ename": "TypeError",
     "evalue": "hello() missing 1 required positional argument: 'last'",
     "output_type": "error",
     "traceback": [
      "\u001b[31m---------------------------------------------------------------------------\u001b[39m",
      "\u001b[31mTypeError\u001b[39m                                 Traceback (most recent call last)",
      "\u001b[36mCell\u001b[39m\u001b[36m \u001b[39m\u001b[32mIn[26]\u001b[39m\u001b[32m, line 1\u001b[39m\n\u001b[32m----> \u001b[39m\u001b[32m1\u001b[39m \u001b[43mhello\u001b[49m\u001b[43m(\u001b[49m\u001b[33;43m'\u001b[39;49m\u001b[33;43ma\u001b[39;49m\u001b[33;43m'\u001b[39;49m\u001b[43m)\u001b[49m\n",
      "\u001b[31mTypeError\u001b[39m: hello() missing 1 required positional argument: 'last'"
     ]
    }
   ],
   "source": [
    "hello('a')"
   ]
  },
  {
   "cell_type": "code",
   "execution_count": 28,
   "metadata": {
    "scrolled": true
   },
   "outputs": [
    {
     "name": "stdin",
     "output_type": "stream",
     "text": [
      "What's the first number?  20\n",
      "What's the operator? -\n",
      "What's the second number?  10\n"
     ]
    },
    {
     "ename": "TypeError",
     "evalue": "unsupported operand type(s) for -: 'str' and 'str'",
     "output_type": "error",
     "traceback": [
      "\u001b[31m---------------------------------------------------------------------------\u001b[39m",
      "\u001b[31mTypeError\u001b[39m                                 Traceback (most recent call last)",
      "\u001b[36mCell\u001b[39m\u001b[36m \u001b[39m\u001b[32mIn[28]\u001b[39m\u001b[32m, line 16\u001b[39m\n\u001b[32m     14\u001b[39m     \u001b[38;5;28;01melse\u001b[39;00m:\n\u001b[32m     15\u001b[39m         \u001b[38;5;28mprint\u001b[39m(\u001b[33m'\u001b[39m\u001b[33mPlease enter a correct assignment\u001b[39m\u001b[33m'\u001b[39m)\n\u001b[32m---> \u001b[39m\u001b[32m16\u001b[39m \u001b[43mcalc\u001b[49m\u001b[43m(\u001b[49m\u001b[43m)\u001b[49m        \n",
      "\u001b[36mCell\u001b[39m\u001b[36m \u001b[39m\u001b[32mIn[28]\u001b[39m\u001b[32m, line 12\u001b[39m, in \u001b[36mcalc\u001b[39m\u001b[34m()\u001b[39m\n\u001b[32m     10\u001b[39m     \u001b[38;5;28mprint\u001b[39m(\u001b[33mf\u001b[39m\u001b[33m'\u001b[39m\u001b[38;5;132;01m{\u001b[39;00mfirstNumber\u001b[38;5;132;01m}\u001b[39;00m\u001b[33m \u001b[39m\u001b[38;5;132;01m{\u001b[39;00mopr\u001b[38;5;132;01m}\u001b[39;00m\u001b[33m \u001b[39m\u001b[38;5;132;01m{\u001b[39;00msecNumber\u001b[38;5;132;01m}\u001b[39;00m\u001b[33m = \u001b[39m\u001b[38;5;132;01m{\u001b[39;00mresult\u001b[38;5;132;01m}\u001b[39;00m\u001b[33m'\u001b[39m)\n\u001b[32m     11\u001b[39m \u001b[38;5;28;01melif\u001b[39;00m firstNumber.isdigit() \u001b[38;5;129;01mand\u001b[39;00m secNumber.isdigit() \u001b[38;5;129;01mand\u001b[39;00m opr \u001b[38;5;129;01min\u001b[39;00m (\u001b[33m'\u001b[39m\u001b[33m-\u001b[39m\u001b[33m'\u001b[39m):\n\u001b[32m---> \u001b[39m\u001b[32m12\u001b[39m     result = \u001b[43mfirstNumber\u001b[49m\u001b[43m \u001b[49m\u001b[43m-\u001b[49m\u001b[43m \u001b[49m\u001b[43msecNumber\u001b[49m\n\u001b[32m     13\u001b[39m     \u001b[38;5;28mprint\u001b[39m(\u001b[33mf\u001b[39m\u001b[33m'\u001b[39m\u001b[38;5;132;01m{\u001b[39;00mfirstNumber\u001b[38;5;132;01m}\u001b[39;00m\u001b[33m \u001b[39m\u001b[38;5;132;01m{\u001b[39;00mopr\u001b[38;5;132;01m}\u001b[39;00m\u001b[33m \u001b[39m\u001b[38;5;132;01m{\u001b[39;00msecNumber\u001b[38;5;132;01m}\u001b[39;00m\u001b[33m = \u001b[39m\u001b[38;5;132;01m{\u001b[39;00mresult\u001b[38;5;132;01m}\u001b[39;00m\u001b[33m'\u001b[39m)\n\u001b[32m     14\u001b[39m \u001b[38;5;28;01melse\u001b[39;00m:\n",
      "\u001b[31mTypeError\u001b[39m: unsupported operand type(s) for -: 'str' and 'str'"
     ]
    }
   ],
   "source": [
    "# ID \n",
    "\n",
    "def calc():\n",
    "    firstNumber = input(\"What's the first number? \").strip()\n",
    "    opr = input(\"What's the operator?\").strip()\n",
    "    secNumber = input(\"What's the second number? \").strip()\n",
    "\n",
    "    if firstNumber.isdigit() and secNumber.isdigit() and opr in ('+'):\n",
    "        result = firstNumber + secNumber\n",
    "        print(f'{firstNumber} {opr} {secNumber} = {result}')\n",
    "    elif firstNumber.isdigit() and secNumber.isdigit() and opr in ('-'):\n",
    "        result = firstNumber - secNumber\n",
    "        print(f'{firstNumber} {opr} {secNumber} = {result}')\n",
    "    else:\n",
    "        print('Please enter a correct assignment')\n",
    "calc()        "
   ]
  },
  {
   "cell_type": "code",
   "execution_count": 29,
   "metadata": {},
   "outputs": [
    {
     "name": "stdin",
     "output_type": "stream",
     "text": [
      "What's the first number?  10\n",
      "What's the operator? +\n",
      "What's the second number?  20\n"
     ]
    },
    {
     "name": "stdout",
     "output_type": "stream",
     "text": [
      "10 + 20 = 30\n"
     ]
    }
   ],
   "source": [
    "# Fix this!\n",
    "\n",
    "# ID \n",
    "\n",
    "def calc():\n",
    "    firstNumber = input(\"What's the first number? \").strip()\n",
    "    opr = input(\"What's the operator?\").strip()\n",
    "    secNumber = input(\"What's the second number? \").strip()\n",
    "\n",
    "    if firstNumber.isdigit() and secNumber.isdigit() and opr in ('+'):\n",
    "        result = int(firstNumber) + int(secNumber)\n",
    "        print(f'{firstNumber} {opr} {secNumber} = {result}')\n",
    "    elif firstNumber.isdigit() and secNumber.isdigit() and opr in ('-'):\n",
    "        result = int(firstNumber) - int(secNumber)\n",
    "        print(f'{firstNumber} {opr} {secNumber} = {result}')\n",
    "    else:\n",
    "        print('Please enter a correct assignment')\n",
    "calc()        "
   ]
  },
  {
   "cell_type": "markdown",
   "metadata": {},
   "source": [
    "# Exercise: Better `calc`\n",
    "\n",
    "Rewrite the `calc` function such that:\n",
    "- It takes three arguments (no longer using `input` to get values from the user)\n",
    "- It assumes (hopefully correctly!) that the values it gets as the first and second arguments are both numbers.\n",
    "- We can also assume that the `op` parameter is a string, hopefully `+` or `-`."
   ]
  },
  {
   "cell_type": "code",
   "execution_count": 30,
   "metadata": {},
   "outputs": [],
   "source": [
    "def calc(first, op, second):\n",
    "    first = int(first)\n",
    "    second = int(second)\n",
    "\n",
    "    if op == '+':\n",
    "        result = first + second\n",
    "    elif op == '-':\n",
    "        result = first - second\n",
    "    else:\n",
    "        result = '(invalid operator)'\n",
    "\n",
    "    print(f'{first} {op} {second} = {result}')\n"
   ]
  },
  {
   "cell_type": "code",
   "execution_count": 31,
   "metadata": {},
   "outputs": [
    {
     "name": "stdout",
     "output_type": "stream",
     "text": [
      "10 + 5 = 15\n"
     ]
    }
   ],
   "source": [
    "calc(10, '+', 5)"
   ]
  },
  {
   "cell_type": "code",
   "execution_count": 32,
   "metadata": {},
   "outputs": [
    {
     "name": "stdout",
     "output_type": "stream",
     "text": [
      "10 + 0 = 10\n",
      "10 - 0 = 10\n",
      "10 + 1 = 11\n",
      "10 - 1 = 9\n",
      "10 + 2 = 12\n",
      "10 - 2 = 8\n",
      "10 + 3 = 13\n",
      "10 - 3 = 7\n",
      "10 + 4 = 14\n",
      "10 - 4 = 6\n",
      "10 + 5 = 15\n",
      "10 - 5 = 5\n",
      "10 + 6 = 16\n",
      "10 - 6 = 4\n",
      "10 + 7 = 17\n",
      "10 - 7 = 3\n",
      "10 + 8 = 18\n",
      "10 - 8 = 2\n",
      "10 + 9 = 19\n",
      "10 - 9 = 1\n"
     ]
    }
   ],
   "source": [
    "for number in range(10):\n",
    "    calc(10, '+', number)\n",
    "    calc(10, '-', number)"
   ]
  },
  {
   "cell_type": "code",
   "execution_count": 33,
   "metadata": {},
   "outputs": [
    {
     "name": "stdout",
     "output_type": "stream",
     "text": [
      "5 + 4 = 9\n",
      "5 - 4 = 1\n"
     ]
    }
   ],
   "source": [
    "# ID\n",
    "\n",
    "def calc(firstNumber, secNumber, opr):\n",
    "\n",
    "    if opr == '+':\n",
    "        result = firstNumber + secNumber\n",
    "        print(f'{firstNumber} {opr} {secNumber} = {result}')\n",
    "    elif opr == '-':\n",
    "        result = firstNumber - secNumber\n",
    "        print(f'{firstNumber} {opr} {secNumber} = {result}')\n",
    "    else:\n",
    "        print('Please enter a correct assignment')\n",
    "calc(5,4,'+')\n",
    "calc(5,4,'-')"
   ]
  },
  {
   "cell_type": "markdown",
   "metadata": {},
   "source": [
    "# Two storage systems\n",
    "\n",
    "Python has *two* storage systems for values:\n",
    "\n",
    "- Variables (which we've talked about and used)\n",
    "- Attributes (which we've used but haven't done more with)\n",
    "\n",
    "An attribute is a private storage area for a value. Every value in Python has attributes. You can always tell what the attributes are, because their names have a `.` before them.\n",
    "\n",
    "If I see\n",
    "\n",
    "    a.b\n",
    "\n",
    "in Python, that means we want the `b` attribute on the object `a`. \n",
    "\n",
    "So far, we've only seen attributes in the form of methods. When you want to invoke a method, you say\n",
    "\n",
    "    s.strip()\n",
    "\n",
    "Methods are stored in attributes, but they aren't the only things.\n",
    "\n",
    "Variables don't have a `.` before their names. They don't belong to any one object."
   ]
  },
  {
   "cell_type": "code",
   "execution_count": 36,
   "metadata": {},
   "outputs": [],
   "source": [
    "# define calc again\n",
    "\n",
    "def calc(first, op, second):\n",
    "    if op == '+':\n",
    "        result = first + second\n",
    "    elif op == '-':\n",
    "        result = first - second\n",
    "    else:\n",
    "        result = '(invalid operator)'\n",
    "\n",
    "    print(f'{first} {op} {second} = {result}')\n"
   ]
  },
  {
   "cell_type": "code",
   "execution_count": 37,
   "metadata": {},
   "outputs": [
    {
     "name": "stdout",
     "output_type": "stream",
     "text": [
      "10 + 2 = 12\n"
     ]
    }
   ],
   "source": [
    "calc(10, '+', 2)   # int 10, '+', int 2"
   ]
  },
  {
   "cell_type": "code",
   "execution_count": 38,
   "metadata": {},
   "outputs": [
    {
     "data": {
      "text/plain": [
       "int"
      ]
     },
     "execution_count": 38,
     "metadata": {},
     "output_type": "execute_result"
    }
   ],
   "source": [
    "type(12345)"
   ]
  },
  {
   "cell_type": "code",
   "execution_count": 39,
   "metadata": {},
   "outputs": [
    {
     "data": {
      "text/plain": [
       "str"
      ]
     },
     "execution_count": 39,
     "metadata": {},
     "output_type": "execute_result"
    }
   ],
   "source": [
    "type('12345')"
   ]
  },
  {
   "cell_type": "code",
   "execution_count": 40,
   "metadata": {},
   "outputs": [
    {
     "ename": "TypeError",
     "evalue": "can only concatenate str (not \"int\") to str",
     "output_type": "error",
     "traceback": [
      "\u001b[31m---------------------------------------------------------------------------\u001b[39m",
      "\u001b[31mTypeError\u001b[39m                                 Traceback (most recent call last)",
      "\u001b[36mCell\u001b[39m\u001b[36m \u001b[39m\u001b[32mIn[40]\u001b[39m\u001b[32m, line 3\u001b[39m\n\u001b[32m      1\u001b[39m \u001b[38;5;66;03m# could someone invoke our function with the wrong type of value?\u001b[39;00m\n\u001b[32m----> \u001b[39m\u001b[32m3\u001b[39m \u001b[43mcalc\u001b[49m\u001b[43m(\u001b[49m\u001b[33;43m'\u001b[39;49m\u001b[33;43m10\u001b[39;49m\u001b[33;43m'\u001b[39;49m\u001b[43m,\u001b[49m\u001b[43m \u001b[49m\u001b[33;43m'\u001b[39;49m\u001b[33;43m+\u001b[39;49m\u001b[33;43m'\u001b[39;49m\u001b[43m,\u001b[49m\u001b[43m \u001b[49m\u001b[32;43m15\u001b[39;49m\u001b[43m)\u001b[49m\n",
      "\u001b[36mCell\u001b[39m\u001b[36m \u001b[39m\u001b[32mIn[36]\u001b[39m\u001b[32m, line 5\u001b[39m, in \u001b[36mcalc\u001b[39m\u001b[34m(first, op, second)\u001b[39m\n\u001b[32m      3\u001b[39m \u001b[38;5;28;01mdef\u001b[39;00m\u001b[38;5;250m \u001b[39m\u001b[34mcalc\u001b[39m(first, op, second):\n\u001b[32m      4\u001b[39m     \u001b[38;5;28;01mif\u001b[39;00m op == \u001b[33m'\u001b[39m\u001b[33m+\u001b[39m\u001b[33m'\u001b[39m:\n\u001b[32m----> \u001b[39m\u001b[32m5\u001b[39m         result = \u001b[43mfirst\u001b[49m\u001b[43m \u001b[49m\u001b[43m+\u001b[49m\u001b[43m \u001b[49m\u001b[43msecond\u001b[49m\n\u001b[32m      6\u001b[39m     \u001b[38;5;28;01melif\u001b[39;00m op == \u001b[33m'\u001b[39m\u001b[33m-\u001b[39m\u001b[33m'\u001b[39m:\n\u001b[32m      7\u001b[39m         result = first - second\n",
      "\u001b[31mTypeError\u001b[39m: can only concatenate str (not \"int\") to str"
     ]
    }
   ],
   "source": [
    "# could someone invoke our function with the wrong type of value?\n",
    "\n",
    "calc('10', '+', 15)"
   ]
  },
  {
   "cell_type": "markdown",
   "metadata": {},
   "source": [
    "In many languages, when you invoke a function, the language compares the types of the arguments with the types of the parameters. If you try to pass an integer argument to a string parameter (or vice versa), you get an error.\n",
    "\n",
    "But that assumes the language allows you to assign a type to the parameters (i.e., to the variables). Python doesn't! In Python, every value has a type, such as `int` or `str` or `dict`. But any variable (or attribute) can be assigned any value of any type."
   ]
  },
  {
   "cell_type": "code",
   "execution_count": 41,
   "metadata": {},
   "outputs": [],
   "source": [
    "def hello(name):\n",
    "    print(f'Hello, {name}!')"
   ]
  },
  {
   "cell_type": "code",
   "execution_count": 42,
   "metadata": {},
   "outputs": [
    {
     "name": "stdout",
     "output_type": "stream",
     "text": [
      "Hello, world!\n"
     ]
    }
   ],
   "source": [
    "hello('world')"
   ]
  },
  {
   "cell_type": "code",
   "execution_count": 43,
   "metadata": {},
   "outputs": [
    {
     "name": "stdout",
     "output_type": "stream",
     "text": [
      "Hello, 5!\n"
     ]
    }
   ],
   "source": [
    "hello(5)"
   ]
  },
  {
   "cell_type": "code",
   "execution_count": 44,
   "metadata": {},
   "outputs": [
    {
     "name": "stdout",
     "output_type": "stream",
     "text": [
      "Hello, [10, 20, 30]!\n"
     ]
    }
   ],
   "source": [
    "hello([10, 20, 30])"
   ]
  },
  {
   "cell_type": "code",
   "execution_count": 45,
   "metadata": {},
   "outputs": [
    {
     "name": "stdout",
     "output_type": "stream",
     "text": [
      "Hello, <function hello at 0x1104adc60>!\n"
     ]
    }
   ],
   "source": [
    "hello(hello)"
   ]
  },
  {
   "cell_type": "markdown",
   "metadata": {},
   "source": [
    "In Python, there is no way to stop someone from invoking a function with a different type than you want. There are two mechanisms we can use to try to avoid that, though:\n",
    "\n",
    "1. Documentation (\"docstrings\")\n",
    "2. Type hints / type annotations -- Python ignores these, but you can add them to your code and have an external program (e.g., mypy) check them for you."
   ]
  },
  {
   "cell_type": "markdown",
   "metadata": {},
   "source": [
    "# Next up\n",
    "\n",
    "1. Return values\n",
    "2. Docstrings\n",
    "3. More complex parameters (including with default arguments)"
   ]
  },
  {
   "cell_type": "markdown",
   "metadata": {},
   "source": [
    "# Return values\n",
    "\n",
    "We've seen that when we invoke a function, it can give us a value back. The most obvious example is `input`, which gives a string and we put on the right side of assignment:\n",
    "\n",
    "    name = input('Enter your name: ').strip()\n",
    "\n",
    "Whatever the user typed isn't printed on the screen. Rather, it's the value on the right side of assignment. You could say that the function call to `input` is replaced by its return value.    \n",
    "\n",
    "    name = input('Enter your name: ').strip()\n",
    "    Enter your name: Reuven\n",
    "\n",
    "    name = 'Reuven'    # effectively, the above code does this -- the function call is replaced by its return value\n",
    "\n",
    "Every function in Python returns a value. In some languages, we distinguish between functions (that return values) and procedures (that don't). But in Python, we only have functions, and they all return values.\n",
    "\n",
    "This is VERY VERY different from printing something on the screen! \n",
    "\n",
    "- A function can print however many things it wants using `print`. There is no limit. After invoking `print`, the function continues to run.\n",
    "- A function can return *one* value from any given invocation. (It can potentially return many different values.) When the value is returned, the function no longer executes; it has finished.\n",
    "\n",
    "Part of the issue in distinguishing between a return value and a printed value is that in Jupyter, any returned value is automatically displayed on the screen.\n",
    "\n",
    "It's usually better to return a value from your function than to print it:\n",
    "\n",
    "- If you return a value, it can be printed, but if you print a value, it's only visible to the user and then disappears\n",
    "- If you return a value, it can be stored in a variable and used later\n",
    "- If you return rather than print a value, it won't clutter up your terminal output\n",
    "\n",
    "You return a value in Python with the `return` statement. You can return *any* Python value you want, without limits.\n",
    "\n",
    "If you don't use `return` in a function, then the function returns the special `None` value."
   ]
  },
  {
   "cell_type": "code",
   "execution_count": 48,
   "metadata": {},
   "outputs": [
    {
     "name": "stdout",
     "output_type": "stream",
     "text": [
      "Hello, Reuven!\n"
     ]
    }
   ],
   "source": [
    "def hello(name):\n",
    "    print(f'Hello, {name}!')\n",
    "\n",
    "output = hello('Reuven')      # every function returns something... what did this return?"
   ]
  },
  {
   "cell_type": "code",
   "execution_count": 49,
   "metadata": {},
   "outputs": [
    {
     "name": "stdout",
     "output_type": "stream",
     "text": [
      "None\n"
     ]
    }
   ],
   "source": [
    "print(output)"
   ]
  },
  {
   "cell_type": "code",
   "execution_count": 50,
   "metadata": {},
   "outputs": [],
   "source": [
    "def hello(name):\n",
    "    return f'Hello, {name}!'\n",
    "\n",
    "output = hello('Reuven')"
   ]
  },
  {
   "cell_type": "code",
   "execution_count": 53,
   "metadata": {},
   "outputs": [
    {
     "name": "stdout",
     "output_type": "stream",
     "text": [
      "Hello, Reuven!\n",
      "Hello, Reuven!\n",
      "Hello, Reuven!\n",
      "Hello, Reuven!\n",
      "Hello, Reuven!\n"
     ]
    }
   ],
   "source": [
    "for i in range(5):\n",
    "    print(output)"
   ]
  },
  {
   "cell_type": "markdown",
   "metadata": {},
   "source": [
    "# Most functions, thus:\n",
    "\n",
    "- Get inputs via arguments that are assigned to parameters\n",
    "- Do their calculations/main work in the function body\n",
    "- Invoke `return` to return their result to the caller"
   ]
  },
  {
   "cell_type": "markdown",
   "metadata": {},
   "source": [
    "# Exercise: Calculator, part 3\n",
    "\n",
    "1. Modify `calc` such that it returns a string, rather than printing it on the screen.\n",
    "2. Invoke it several times, appending each returned result to a list\n",
    "3. Iterate over the list, and print the results."
   ]
  },
  {
   "cell_type": "code",
   "execution_count": 54,
   "metadata": {},
   "outputs": [
    {
     "name": "stdout",
     "output_type": "stream",
     "text": [
      "10 + 3 = 13\n",
      "None\n"
     ]
    }
   ],
   "source": [
    "output = []   # empty list\n",
    "\n",
    "# do this sort of thing several times\n",
    "s = calc(10, '+', 3)\n",
    "output.append(s)\n",
    "\n",
    "for one_output in output:  # get each string that we captured from the function\n",
    "    print(one_output)"
   ]
  },
  {
   "cell_type": "code",
   "execution_count": 57,
   "metadata": {},
   "outputs": [
    {
     "name": "stdout",
     "output_type": "stream",
     "text": [
      "0 + 0 = 0\n",
      "1 + 5 = 6\n",
      "2 + 10 = 12\n",
      "3 + 15 = 18\n",
      "4 + 20 = 24\n",
      "5 + 25 = 30\n",
      "6 + 30 = 36\n",
      "7 + 35 = 42\n",
      "8 + 40 = 48\n",
      "9 + 45 = 54\n"
     ]
    }
   ],
   "source": [
    "def calc(first, op, second):\n",
    "    if op == '+':\n",
    "        result = first + second\n",
    "    elif op == '-':\n",
    "        result = first - second\n",
    "    else:\n",
    "        result = '(invalid operator)'\n",
    "\n",
    "    return f'{first} {op} {second} = {result}'\n",
    "\n",
    "output = []\n",
    "\n",
    "for i in range(10):\n",
    "    output.append(calc(i, '+', i*5))\n",
    "\n",
    "for one_item in output:\n",
    "    print(one_item)"
   ]
  },
  {
   "cell_type": "code",
   "execution_count": 58,
   "metadata": {},
   "outputs": [],
   "source": [
    "# SG\n",
    "\n",
    "def calc(first, op, second):\n",
    "    if op == '+':\n",
    "        result = first + second\n",
    "    elif op == '-':\n",
    "        result = first - second\n",
    "    else:\n",
    "        result = '(invalid operator)'\n",
    "\n",
    "    print(f'{first} {op} {second} = {result}')"
   ]
  },
  {
   "cell_type": "code",
   "execution_count": 60,
   "metadata": {},
   "outputs": [
    {
     "name": "stdout",
     "output_type": "stream",
     "text": [
      "2 + 3 = 5\n",
      "None\n"
     ]
    }
   ],
   "source": [
    "calc(2, '+', 3)"
   ]
  },
  {
   "cell_type": "code",
   "execution_count": 61,
   "metadata": {},
   "outputs": [
    {
     "name": "stdout",
     "output_type": "stream",
     "text": [
      "Please enter a correct assignment\n",
      "None\n",
      "1\n",
      "25\n",
      "120\n"
     ]
    }
   ],
   "source": [
    "# ID\n",
    "\n",
    "out = []\n",
    "def calc(firstNumber, secNumber, opr):\n",
    "    result = 0\n",
    "    \n",
    "    if opr == '+':\n",
    "         result = firstNumber + secNumber\n",
    "         return result\n",
    "    elif opr == '-':\n",
    "        result = firstNumber - secNumber\n",
    "        return result\n",
    "    else:\n",
    "        print('Please enter a correct assignment')\n",
    "\n",
    "s=calc(5,4,'=')\n",
    "out.append(s)\n",
    "s=calc(5,4,'-')\n",
    "out.append(s)\n",
    "s=calc(5,20,'+')\n",
    "out.append(s)\n",
    "s=calc(40,80,'+')\n",
    "out.append(s)\n",
    "\n",
    "for outs in out:\n",
    "    print(outs)        "
   ]
  },
  {
   "cell_type": "code",
   "execution_count": 62,
   "metadata": {},
   "outputs": [
    {
     "data": {
      "text/plain": [
       "[None, 1, 25, 120]"
      ]
     },
     "execution_count": 62,
     "metadata": {},
     "output_type": "execute_result"
    }
   ],
   "source": [
    "out"
   ]
  },
  {
   "cell_type": "code",
   "execution_count": 64,
   "metadata": {},
   "outputs": [
    {
     "name": "stdout",
     "output_type": "stream",
     "text": [
      "3 + 5 = 8\n",
      "1 + 1 = 2\n"
     ]
    }
   ],
   "source": [
    "# SG, part 2\n",
    "\n",
    "def calc(first, op, second):\n",
    "    if op == '+':\n",
    "        result = first + second\n",
    "    elif op == '-':\n",
    "        result = first - second\n",
    "    else:\n",
    "        result = '(invalid operator)'\n",
    "\n",
    "    return f'{first} {op} {second} = {result}'\n",
    "\n",
    "all_results = []\n",
    "\n",
    "all_results.append(calc(3,'+',5))\n",
    "all_results.append(calc(1,'+',1))\n",
    "\n",
    "for one_result in all_results:\n",
    "    print(one_result)"
   ]
  },
  {
   "cell_type": "markdown",
   "metadata": {},
   "source": [
    "# We now have complete functions!\n",
    "\n",
    "We have functions that\n",
    "\n",
    "- Get input via arguments, which are assigned to parameters\n",
    "- Perform calculations in a function body\n",
    "- Return a result to the caller"
   ]
  },
  {
   "cell_type": "code",
   "execution_count": 65,
   "metadata": {},
   "outputs": [
    {
     "name": "stdout",
     "output_type": "stream",
     "text": [
      "Help on built-in function len in module builtins:\n",
      "\n",
      "len(obj, /)\n",
      "    Return the number of items in a container.\n",
      "\n"
     ]
    }
   ],
   "source": [
    "# How can I find out what a function expects, modifies, and returns?\n",
    "# In Python, I can ask the function -- I can invoke the \"help\" function, passing the function we want to it\n",
    "\n",
    "help(len)  # here, I'm not invoking len! I'm passing it as an argument to help!"
   ]
  },
  {
   "cell_type": "code",
   "execution_count": 66,
   "metadata": {},
   "outputs": [
    {
     "name": "stdout",
     "output_type": "stream",
     "text": [
      "Help on function hello in module __main__:\n",
      "\n",
      "hello(name)\n",
      "\n"
     ]
    }
   ],
   "source": [
    "help(hello)"
   ]
  },
  {
   "cell_type": "markdown",
   "metadata": {},
   "source": [
    "# Documenting with \"docstrings\"\n",
    "\n",
    "We've already seen that we can use comments in our code, with `#` until the end of the line. But those comments are meant for whoever will be modifying, or maintaining, our code -- not for the people who will be using it.\n",
    "\n",
    "Think of comments as the instructions for an auto mechanic who will be fixing your car. The average driver doesn't need or want those instructions -- they just want a user's manual!\n",
    "\n",
    "\"Docstrings\" are functions' user manuals.\n",
    "\n",
    "When we define a function, if the first line of the function is a string, then that's the \"docstring,\" the documentation for whoever will invoke the function"
   ]
  }
 ],
 "metadata": {
  "kernelspec": {
   "display_name": "Python 3 (ipykernel)",
   "language": "python",
   "name": "python3"
  },
  "language_info": {
   "codemirror_mode": {
    "name": "ipython",
    "version": 3
   },
   "file_extension": ".py",
   "mimetype": "text/x-python",
   "name": "python",
   "nbconvert_exporter": "python",
   "pygments_lexer": "ipython3",
   "version": "3.13.2"
  }
 },
 "nbformat": 4,
 "nbformat_minor": 4
}
