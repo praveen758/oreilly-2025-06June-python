{
 "cells": [
  {
   "cell_type": "markdown",
   "metadata": {},
   "source": [
    "# Agenda: Functions\n",
    "\n",
    "1. Q&A\n",
    "2. What are functions?\n",
    "3. Writing simple functions\n",
    "4. Arguments and parameters\n",
    "5. Return values\n",
    "6. Complex return values\n",
    "7. Default arguments\n",
    "8. Local vs. global variables\n",
    "9. Special parameters, e.g., `*args`"
   ]
  },
  {
   "cell_type": "markdown",
   "metadata": {},
   "source": [
    "# What are functions?\n",
    "\n",
    "We've been using functions (and methods) from the start of this course. Functions are the *verbs* in a programming language.\n"
   ]
  },
  {
   "cell_type": "code",
   "execution_count": null,
   "metadata": {},
   "outputs": [],
   "source": []
  }
 ],
 "metadata": {
  "kernelspec": {
   "display_name": "Python 3 (ipykernel)",
   "language": "python",
   "name": "python3"
  },
  "language_info": {
   "codemirror_mode": {
    "name": "ipython",
    "version": 3
   },
   "file_extension": ".py",
   "mimetype": "text/x-python",
   "name": "python",
   "nbconvert_exporter": "python",
   "pygments_lexer": "ipython3",
   "version": "3.13.2"
  }
 },
 "nbformat": 4,
 "nbformat_minor": 4
}
