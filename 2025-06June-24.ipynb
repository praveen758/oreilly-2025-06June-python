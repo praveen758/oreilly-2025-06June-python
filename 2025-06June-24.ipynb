{
 "cells": [
  {
   "cell_type": "markdown",
   "metadata": {},
   "source": [
    "# Agenda: Functions\n",
    "\n",
    "1. Q&A\n",
    "2. What are functions?\n",
    "3. Writing simple functions\n",
    "4. Arguments and parameters\n",
    "5. Return values\n",
    "6. Complex return values\n",
    "7. Default arguments\n",
    "8. Local vs. global variables\n",
    "9. Special parameters, e.g., `*args`"
   ]
  },
  {
   "cell_type": "code",
   "execution_count": 1,
   "metadata": {},
   "outputs": [
    {
     "name": "stdout",
     "output_type": "stream",
     "text": [
      "Yes, both are what you wanted!\n"
     ]
    }
   ],
   "source": [
    "# ID\n",
    "# more than one operator on a line?\n",
    "\n",
    "x = 'abcdefg'\n",
    "\n",
    "#   True   and   True  --> True\n",
    "if x != '' and 'c' in x:\n",
    "    print('Yes, both are what you wanted!')\n",
    "else:\n",
    "    print('Life is full of disappointments')"
   ]
  },
  {
   "cell_type": "code",
   "execution_count": null,
   "metadata": {},
   "outputs": [],
   "source": []
  },
  {
   "cell_type": "code",
   "execution_count": null,
   "metadata": {},
   "outputs": [],
   "source": [
    "# Make it nicer, option 1: Use parentheses\n",
    "\n",
    "x = 'abcdefg'\n",
    "\n",
    "if (x != '') and ('c' in x):\n",
    "    print('Yes, both are what you wanted!')\n",
    "else:\n",
    "    print('Life is full of disappointments')"
   ]
  },
  {
   "cell_type": "code",
   "execution_count": 2,
   "metadata": {},
   "outputs": [
    {
     "ename": "SyntaxError",
     "evalue": "invalid syntax (4243348137.py, line 4)",
     "output_type": "error",
     "traceback": [
      "  \u001b[36mCell\u001b[39m\u001b[36m \u001b[39m\u001b[32mIn[2]\u001b[39m\u001b[32m, line 4\u001b[39m\n\u001b[31m    \u001b[39m\u001b[31mif x != '' and\u001b[39m\n                  ^\n\u001b[31mSyntaxError\u001b[39m\u001b[31m:\u001b[39m invalid syntax\n"
     ]
    }
   ],
   "source": [
    "x = 'abcdefg'\n",
    "\n",
    "\n",
    "if x != '' and\n",
    "   'c' in x:\n",
    "    print('Yes, both are what you wanted!')\n",
    "else:\n",
    "    print('Life is full of disappointments')"
   ]
  },
  {
   "cell_type": "markdown",
   "metadata": {},
   "source": [
    "# What are functions?\n",
    "\n",
    "We've been using functions (and methods) from the start of this course. Functions are the *verbs* in a programming language.\n"
   ]
  },
  {
   "cell_type": "code",
   "execution_count": null,
   "metadata": {},
   "outputs": [],
   "source": []
  }
 ],
 "metadata": {
  "kernelspec": {
   "display_name": "Python 3 (ipykernel)",
   "language": "python",
   "name": "python3"
  },
  "language_info": {
   "codemirror_mode": {
    "name": "ipython",
    "version": 3
   },
   "file_extension": ".py",
   "mimetype": "text/x-python",
   "name": "python",
   "nbconvert_exporter": "python",
   "pygments_lexer": "ipython3",
   "version": "3.13.2"
  }
 },
 "nbformat": 4,
 "nbformat_minor": 4
}
