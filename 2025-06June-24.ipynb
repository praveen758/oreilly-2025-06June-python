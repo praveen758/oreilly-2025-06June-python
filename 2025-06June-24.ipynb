{
 "cells": [
  {
   "cell_type": "markdown",
   "metadata": {},
   "source": [
    "# Agenda: Functions\n",
    "\n",
    "1. Q&A\n",
    "2. What are functions?\n",
    "3. Writing simple functions\n",
    "4. Arguments and parameters\n",
    "5. Return values\n",
    "6. Complex return values\n",
    "7. Default arguments\n",
    "8. Local vs. global variables\n",
    "9. Special parameters, e.g., `*args`"
   ]
  },
  {
   "cell_type": "code",
   "execution_count": 1,
   "metadata": {},
   "outputs": [
    {
     "name": "stdout",
     "output_type": "stream",
     "text": [
      "Yes, both are what you wanted!\n"
     ]
    }
   ],
   "source": [
    "# ID\n",
    "# more than one operator on a line?\n",
    "\n",
    "x = 'abcdefg'\n",
    "\n",
    "#   True   and   True  --> True\n",
    "if x != '' and 'c' in x:\n",
    "    print('Yes, both are what you wanted!')\n",
    "else:\n",
    "    print('Life is full of disappointments')"
   ]
  },
  {
   "cell_type": "code",
   "execution_count": null,
   "metadata": {},
   "outputs": [],
   "source": []
  },
  {
   "cell_type": "code",
   "execution_count": null,
   "metadata": {},
   "outputs": [],
   "source": [
    "# Make it nicer, option 1: Use parentheses\n",
    "\n",
    "x = 'abcdefg'\n",
    "\n",
    "if (x != '') and ('c' in x):\n",
    "    print('Yes, both are what you wanted!')\n",
    "else:\n",
    "    print('Life is full of disappointments')"
   ]
  },
  {
   "cell_type": "code",
   "execution_count": 4,
   "metadata": {},
   "outputs": [
    {
     "name": "stdout",
     "output_type": "stream",
     "text": [
      "Yes, both are what you wanted!\n"
     ]
    }
   ],
   "source": [
    "# if you open () (of any sort!) Python sees everything inside of the () as being on a single line\n",
    "\n",
    "x = 'abcdefg'\n",
    "\n",
    "if ((x != '') and\n",
    "    ('c' in x)):\n",
    "    print('Yes, both are what you wanted!')\n",
    "else:\n",
    "    print('Life is full of disappointments')"
   ]
  },
  {
   "cell_type": "markdown",
   "metadata": {},
   "source": [
    "# What are functions?\n",
    "\n",
    "We've been using functions (and methods) from the start of this course. Functions are the *verbs* in a programming language. Some functions we've seen include:\n",
    "\n",
    "- `print`\n",
    "- `len`\n",
    "- `input`\n",
    "- `type`\n",
    "- `sum` (returns the total of a list of integers)\n",
    "\n",
    "We could write our software with just these \"builtin\" functions and Python's operators. \n",
    "\n",
    "However, we will find ourselves violating the DRY rule:\n",
    "\n",
    "# DRY rule (\"don't repeat yourself\")\n",
    "\n",
    "- If you have several lines in a row that are roughly the same, replace them with a loop.\n",
    "- If you have several parts of your program that are roughly the same, replace them with a function.\n",
    "\n",
    "This means that we can define a function a single time, and then use it many times. This has a bunch of advantages:\n",
    "\n",
    "- If we need to modify our function (and we will!) then it's easier to change it in one place\n",
    "- It's easier for us to think about a program with fewer lines, and with more function calls\n",
    "- It also provides Python (and other\n"
   ]
  },
  {
   "cell_type": "code",
   "execution_count": null,
   "metadata": {},
   "outputs": [],
   "source": []
  }
 ],
 "metadata": {
  "kernelspec": {
   "display_name": "Python 3 (ipykernel)",
   "language": "python",
   "name": "python3"
  },
  "language_info": {
   "codemirror_mode": {
    "name": "ipython",
    "version": 3
   },
   "file_extension": ".py",
   "mimetype": "text/x-python",
   "name": "python",
   "nbconvert_exporter": "python",
   "pygments_lexer": "ipython3",
   "version": "3.13.2"
  }
 },
 "nbformat": 4,
 "nbformat_minor": 4
}
