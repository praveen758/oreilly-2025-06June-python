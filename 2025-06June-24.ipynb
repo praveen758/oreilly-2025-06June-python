{
 "cells": [
  {
   "cell_type": "markdown",
   "metadata": {},
   "source": [
    "# Agenda: Functions\n",
    "\n",
    "1. Q&A\n",
    "2. What are functions?\n",
    "3. Writing simple functions\n",
    "4. Arguments and parameters\n",
    "5. Return values\n",
    "6. Complex return values\n",
    "7. Default arguments\n",
    "8. Local vs. global variables\n",
    "9. Special parameters, e.g., `*args`"
   ]
  },
  {
   "cell_type": "code",
   "execution_count": 1,
   "metadata": {},
   "outputs": [
    {
     "name": "stdout",
     "output_type": "stream",
     "text": [
      "Yes, both are what you wanted!\n"
     ]
    }
   ],
   "source": [
    "# ID\n",
    "# more than one operator on a line?\n",
    "\n",
    "x = 'abcdefg'\n",
    "\n",
    "#   True   and   True  --> True\n",
    "if x != '' and 'c' in x:\n",
    "    print('Yes, both are what you wanted!')\n",
    "else:\n",
    "    print('Life is full of disappointments')"
   ]
  },
  {
   "cell_type": "code",
   "execution_count": null,
   "metadata": {},
   "outputs": [],
   "source": []
  },
  {
   "cell_type": "code",
   "execution_count": null,
   "metadata": {},
   "outputs": [],
   "source": [
    "# Make it nicer, option 1: Use parentheses\n",
    "\n",
    "x = 'abcdefg'\n",
    "\n",
    "if (x != '') and ('c' in x):\n",
    "    print('Yes, both are what you wanted!')\n",
    "else:\n",
    "    print('Life is full of disappointments')"
   ]
  },
  {
   "cell_type": "code",
   "execution_count": 4,
   "metadata": {},
   "outputs": [
    {
     "name": "stdout",
     "output_type": "stream",
     "text": [
      "Yes, both are what you wanted!\n"
     ]
    }
   ],
   "source": [
    "# if you open () (of any sort!) Python sees everything inside of the () as being on a single line\n",
    "\n",
    "x = 'abcdefg'\n",
    "\n",
    "if ((x != '') and\n",
    "    ('c' in x)):\n",
    "    print('Yes, both are what you wanted!')\n",
    "else:\n",
    "    print('Life is full of disappointments')"
   ]
  },
  {
   "cell_type": "markdown",
   "metadata": {},
   "source": [
    "# What are functions?\n",
    "\n",
    "We've been using functions (and methods) from the start of this course. Functions are the *verbs* in a programming language. Some functions we've seen include:\n",
    "\n",
    "- `print`\n",
    "- `len`\n",
    "- `input`\n",
    "- `type`\n",
    "- `sum` (returns the total of a list of integers)\n",
    "\n",
    "We could write our software with just these \"builtin\" functions and Python's operators. \n",
    "\n",
    "However, we will find ourselves violating the DRY rule:\n",
    "\n",
    "# DRY rule (\"don't repeat yourself\")\n",
    "\n",
    "- If you have several lines in a row that are roughly the same, replace them with a loop.\n",
    "- If you have several parts of your program that are roughly the same, replace them with a function.\n",
    "\n",
    "This means that we can define a function a single time, and then use it many times. This has a bunch of advantages:\n",
    "\n",
    "- If we need to modify our function (and we will!) then it's easier to change it in one place\n",
    "- It's easier for us to think about a program with fewer lines, and with more function calls\n",
    "- It also provides Python (and other languages) with a chance to optimize the memory/processor use\n",
    "\n",
    "# But there is another reason: Abstraction\n",
    "\n",
    "Abstraction is the idea that we can take a number of low-level ideas, collect them under a single high-level name, and then ignore the details:\n",
    "\n",
    "By collecting a number of pieces of functionality under the name of a single function, you can then see that function as a low-level piece on top of which you build new, higher-level functionality.\n",
    "\n",
    "Your goal is often going to be to take a number of pieces of functionality, put them inside of a function, and then invoke that function -- often inside of another function that is similarly trying to abstract away the details of a lower level.\n"
   ]
  },
  {
   "cell_type": "code",
   "execution_count": 5,
   "metadata": {},
   "outputs": [],
   "source": [
    "# how can we look at the definition of a builtin function like print?\n",
    "# answer: Look at the CPython source code.\n",
    "\n"
   ]
  },
  {
   "cell_type": "markdown",
   "metadata": {},
   "source": [
    "# In Python, functions are nouns -- not just verbs\n",
    "\n",
    "Every programming language has functions, and they are the verbs of every language.\n",
    "\n",
    "But in Python, functions aren't just verbs. They are also nouns. That is, they are values that we can assign to variables, pass to functions as arguments, and do other things with. If you can do it to a string, list, or tuple, then you can almost certainly also do it to a function.\n",
    "\n",
    "The difference between treating a function as a verb and a noun is the `()`. If you use `()` after a function's name, that means: Execute/call this function, and show me the result. But if you don't use `()`, then you end up with the function definition, which will almost certainly give you a different result than you wanted. Think of the function object/value as the blueprints to a house, and the executing function as the house itself -- both important, but not the same thing."
   ]
  },
  {
   "cell_type": "markdown",
   "metadata": {},
   "source": [
    "# Let's define a function!\n",
    "\n",
    "To define a function in Python:\n",
    "\n",
    "- We use the reserved word `def` (short for \"define\")\n",
    "- We put `()` after that; we will soon fill those with parameter names, but for now, they're empty\n",
    "- Then we have a `:`\n",
    "- Then we have an indented block, the \"function body.\"\n",
    "\n",
    "The function body can be as long/short as you want, until the indentation ends. It can have *ANY* code that you want - `input`, `print`, `for`, `open`... \n",
    "\n",
    "The function body does not execute when you define the function. Rather, it executes when you call the function with `()`."
   ]
  },
  {
   "cell_type": "code",
   "execution_count": 6,
   "metadata": {},
   "outputs": [],
   "source": [
    "def hello():\n",
    "    print(f'Hello!')"
   ]
  },
  {
   "cell_type": "markdown",
   "metadata": {},
   "source": [
    "# We just did two things\n",
    "\n",
    "1. We defined a new function object, or function value -- a new noun\n",
    "2. We assigned that function value to the variable `hello`\n",
    "\n",
    "Yes, function names are variable names! For this reason, you cannot have both a function and a variable of the same name at the same time; the second one to be defined will win.\n",
    "\n"
   ]
  },
  {
   "cell_type": "code",
   "execution_count": 7,
   "metadata": {},
   "outputs": [
    {
     "name": "stdout",
     "output_type": "stream",
     "text": [
      "Hello!\n"
     ]
    }
   ],
   "source": [
    "hello()  # let's execute this function!"
   ]
  },
  {
   "cell_type": "code",
   "execution_count": 8,
   "metadata": {},
   "outputs": [],
   "source": [
    "hello = 12345"
   ]
  },
  {
   "cell_type": "code",
   "execution_count": 9,
   "metadata": {},
   "outputs": [
    {
     "ename": "TypeError",
     "evalue": "'int' object is not callable",
     "output_type": "error",
     "traceback": [
      "\u001b[31m---------------------------------------------------------------------------\u001b[39m",
      "\u001b[31mTypeError\u001b[39m                                 Traceback (most recent call last)",
      "\u001b[36mCell\u001b[39m\u001b[36m \u001b[39m\u001b[32mIn[9]\u001b[39m\u001b[32m, line 1\u001b[39m\n\u001b[32m----> \u001b[39m\u001b[32m1\u001b[39m \u001b[43mhello\u001b[49m\u001b[43m(\u001b[49m\u001b[43m)\u001b[49m  \u001b[38;5;66;03m# what happens now when I try to execute the function?\u001b[39;00m\n",
      "\u001b[31mTypeError\u001b[39m: 'int' object is not callable"
     ]
    }
   ],
   "source": [
    "hello()  # what happens now when I try to execute the function?"
   ]
  },
  {
   "cell_type": "code",
   "execution_count": 10,
   "metadata": {},
   "outputs": [],
   "source": [
    "def hello():\n",
    "    name = input('Enter your name: ').strip()\n",
    "    print(f'Hello, {name}!')"
   ]
  },
  {
   "cell_type": "code",
   "execution_count": 11,
   "metadata": {},
   "outputs": [
    {
     "name": "stdin",
     "output_type": "stream",
     "text": [
      "Enter your name:  Reuven\n"
     ]
    },
    {
     "name": "stdout",
     "output_type": "stream",
     "text": [
      "Hello, Reuven!\n"
     ]
    }
   ],
   "source": [
    "hello()"
   ]
  },
  {
   "cell_type": "markdown",
   "metadata": {},
   "source": [
    "# Exercise: Calculator\n",
    "\n",
    "1. Define a function, `calc`, that when invoked asks the user three questions:\n",
    "    - What is the first number\n",
    "    - What is the operator\n",
    "    - What is the second number\n",
    "2. All three answers should be assigned to variables.\n",
    "3. If the numbers can be turned into integers, and if the operator is known (let's say `+` and `-`), then get the result of the calculation and print it, along with the numbers and operator.\n",
    "4. If they cannot be turned into integers, then give the user a scolding.\n",
    "5. If the operator is not `+` or `-`, then scold again, as well."
   ]
  }
 ],
 "metadata": {
  "kernelspec": {
   "display_name": "Python 3 (ipykernel)",
   "language": "python",
   "name": "python3"
  },
  "language_info": {
   "codemirror_mode": {
    "name": "ipython",
    "version": 3
   },
   "file_extension": ".py",
   "mimetype": "text/x-python",
   "name": "python",
   "nbconvert_exporter": "python",
   "pygments_lexer": "ipython3",
   "version": "3.13.2"
  }
 },
 "nbformat": 4,
 "nbformat_minor": 4
}
