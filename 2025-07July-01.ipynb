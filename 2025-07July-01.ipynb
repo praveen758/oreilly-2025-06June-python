{
 "cells": [
  {
   "cell_type": "markdown",
   "metadata": {},
   "source": [
    "# Agenda, week 5\n",
    "\n",
    "1. Q&A\n",
    "2. What are modules? What do they give us?\n",
    "3. The various forms of `import`\n",
    "4. Developing a simple module\n",
    "5. What happens when we import a module -- the special `__name__` variable\n",
    "6. Python's standard library\n",
    "7. Modules and packages\n",
    "8. PyPI and `pip` -- installing third-party modules into your Python system\n",
    "9. Using third-party modules\n",
    "10. AMA -- ask me anything\n",
    "11. What next?"
   ]
  },
  {
   "cell_type": "markdown",
   "metadata": {},
   "source": [
    "# Modules\n",
    "\n",
    "You might remember the \"DRY rule\" (\"Don't repeat yourself\"). We've seen it twice before:\n",
    "\n",
    "- If you have the same code (more or less) several times in a row, you can replace it with a loop.\n",
    "- If you have the same code (more or less) in several places in your program, you can define a function and then invoke the function in those places.\n",
    "- If you have the same code (more or less) in several different programs, you can use a *library* -- define things once, and then use the library in every program that wants such functionality.\n",
    "\n",
    "Just about every programming language has libraries. In Python, our libraries are called \"modules\" (if they have a single file) or \"packages\" (if they are a directory containing multiple module files). We use modules all of the time.\n",
    "\n",
    "A module gives me several benefits:\n",
    "- If someone else has defined code (data or functions) that I can use, I don't have to write it myself\n",
    "- If I have written code that others might want to use in their programs -- or that I might want to use in other programs -- I can save time\n",
    "- More than the time savings, you no longer have to think about the details. Using modules allows us to think at a higher level, and plan higher-level, larger-scale programs.\n",
    "\n",
    "Separately, modules also give us another benefit in Python: Namespaces.\n",
    "\n",
    "What happens if I write a program and I have defined a variable `x`, and then I use a module that someone else wrote, and they also decided to call their variable `x`? Which `x` gets priority? We don't have to worry about this, because every module acts as a \"namespace,\" a sort of last name for the variables it defined.\n"
   ]
  },
  {
   "cell_type": "markdown",
   "metadata": {},
   "source": [
    "# Using a module\n",
    "\n",
    "If we want to use a module, then we have to \"import\" it into Python. For now, we'll assume that any module we want to use is in the standard library, meaning that it comes with Python. \n",
    "\n",
    "If we want to use the `random` module to draw a random number, how can we do it?\n",
    "\n",
    "Notice a few things:\n",
    "\n",
    "1. The keyword is `import`\n",
    "2. `import` is *NOT* a function. Don't use `()` with it.\n",
    "3. The word to the right of `import` is not a string. When we `import` a module, we aren't directly telling Python what file to load. Rather, we're saying what variable we want to be defined as a module. Python takes that variable name (`random`, in this case) and uses it to find a file on disk, `random.py` in this case.\n",
    "4. `import` then loads the file, creates a module object based on it, "
   ]
  },
  {
   "cell_type": "code",
   "execution_count": 1,
   "metadata": {},
   "outputs": [],
   "source": [
    "import random"
   ]
  },
  {
   "cell_type": "code",
   "execution_count": null,
   "metadata": {},
   "outputs": [],
   "source": []
  }
 ],
 "metadata": {
  "kernelspec": {
   "display_name": "Python 3 (ipykernel)",
   "language": "python",
   "name": "python3"
  },
  "language_info": {
   "codemirror_mode": {
    "name": "ipython",
    "version": 3
   },
   "file_extension": ".py",
   "mimetype": "text/x-python",
   "name": "python",
   "nbconvert_exporter": "python",
   "pygments_lexer": "ipython3",
   "version": "3.13.2"
  }
 },
 "nbformat": 4,
 "nbformat_minor": 4
}
