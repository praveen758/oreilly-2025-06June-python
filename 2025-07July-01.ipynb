{
 "cells": [
  {
   "cell_type": "markdown",
   "metadata": {},
   "source": [
    "# Agenda, week 5\n",
    "\n",
    "1. Q&A\n",
    "2. What are modules? What do they give us?\n",
    "3. The various forms of `import`\n",
    "4. Developing a simple module\n",
    "5. What happens when we import a module -- the special `__name__` variable\n",
    "6. Python's standard library\n",
    "7. Modules and packages\n",
    "8. PyPI and `pip` -- installing third-party modules into your Python system\n",
    "9. Using third-party modules\n",
    "10. AMA -- ask me anything\n",
    "11. What next?"
   ]
  },
  {
   "cell_type": "markdown",
   "metadata": {},
   "source": [
    "# Modules\n",
    "\n",
    "You might remember the \"DRY rule\" (\"Don't repeat yourself\"). We've seen it twice before:\n",
    "\n",
    "- If you have the same code (more or less) several times in a row, you can replace it with a loop.\n",
    "- If you have the same code (more or less) in several places in your program, you can define a function and then invoke the function in those places.\n",
    "- If you have the same code (more or less) in several different programs, you can use a *library* -- define things once, and then use the library in every program that wants such "
   ]
  }
 ],
 "metadata": {
  "kernelspec": {
   "display_name": "Python 3 (ipykernel)",
   "language": "python",
   "name": "python3"
  },
  "language_info": {
   "codemirror_mode": {
    "name": "ipython",
    "version": 3
   },
   "file_extension": ".py",
   "mimetype": "text/x-python",
   "name": "python",
   "nbconvert_exporter": "python",
   "pygments_lexer": "ipython3",
   "version": "3.13.2"
  }
 },
 "nbformat": 4,
 "nbformat_minor": 4
}
