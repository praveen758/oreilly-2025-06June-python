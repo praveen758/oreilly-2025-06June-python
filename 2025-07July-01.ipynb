{
 "cells": [
  {
   "cell_type": "markdown",
   "metadata": {},
   "source": [
    "# Agenda, week 5\n",
    "\n",
    "1. Q&A\n",
    "2. What are modules? What do they give us?\n",
    "3. The various forms of `import`\n",
    "4. Developing a simple module\n",
    "5. What happens when we import a module -- the special `__name__` variable\n",
    "6. Python's standard library\n",
    "7. Modules and packages\n",
    "8. PyPI and `pip` -- installing third-party modules into your Python system\n",
    "9. Using third-party modules\n",
    "10. AMA -- ask me anything\n",
    "11. What next?"
   ]
  },
  {
   "cell_type": "markdown",
   "metadata": {},
   "source": [
    "# Modules\n",
    "\n",
    "You might remember the \"DRY rule\" (\"Don't repeat yourself\"). We've seen it twice before:\n",
    "\n",
    "- If you have the same code (more or less) several times in a row, you can replace it with a loop.\n",
    "- If you have the same code (more or less) in several places in your program, you can define a function and then invoke the function in those places.\n",
    "- If you have the same code (more or less) in several different programs, you can use a *library* -- define things once, and then use the library in every program that wants such functionality.\n",
    "\n",
    "Just about every programming language has libraries. In Python, our libraries are called \"modules\" (if they have a single file) or \"packages\" (if they are a directory containing multiple module files). We use modules all of the time.\n",
    "\n",
    "A module gives me several benefits:\n",
    "- If someone else has defined code (data or functions) that I can use, I don't have to write it myself\n",
    "- If I have written code that others might want to use in their programs -- or that I might want to use in other programs -- I can save time\n",
    "- More than the time savings, you no longer have to think about the details. Using modules allows us to think at a higher level, and plan higher-level, larger-scale programs.\n",
    "\n",
    "Separately, modules also give us another benefit in Python: Namespaces.\n",
    "\n",
    "What happens if I write a program and I have defined a variable `x`, and then I use a module that someone else wrote, and they also decided to call their variable `x`? Which `x` gets priority? We don't have to worry about this, because every module acts as a \"namespace,\" a sort of last name for the variables it defined.\n"
   ]
  },
  {
   "cell_type": "markdown",
   "metadata": {},
   "source": [
    "# Using a module\n",
    "\n",
    "If we want to use a module, then we have to \"import\" it into Python. For now, we'll assume that any module we want to use is in the standard library, meaning that it comes with Python. \n",
    "\n",
    "If we want to use the `random` module to draw a random number, how can we do it?\n",
    "\n",
    "Notice a few things:\n",
    "\n",
    "1. The keyword is `import`\n",
    "2. `import` is *NOT* a function. Don't use `()` with it.\n",
    "3. The word to the right of `import` is not a string. When we `import` a module, we aren't directly telling Python what file to load. Rather, we're saying what variable we want to be defined as a module. Python takes that variable name (`random`, in this case) and uses it to find a file on disk, `random.py` in this case.\n",
    "4. `import` then loads the file, creates a module object based on it, and then assigns that module value to a new variable, the one that we mentioned after the `import` keyword.\n",
    "\n",
    "So when I say `import random`, I'm defining `random` to be a variable, a module value, which is basically a warehouse for other names."
   ]
  },
  {
   "cell_type": "code",
   "execution_count": 2,
   "metadata": {},
   "outputs": [],
   "source": [
    "import random"
   ]
  },
  {
   "cell_type": "code",
   "execution_count": 3,
   "metadata": {},
   "outputs": [
    {
     "data": {
      "text/plain": [
       "module"
      ]
     },
     "execution_count": 3,
     "metadata": {},
     "output_type": "execute_result"
    }
   ],
   "source": [
    "type(random)"
   ]
  },
  {
   "cell_type": "code",
   "execution_count": 6,
   "metadata": {},
   "outputs": [
    {
     "data": {
      "text/plain": [
       "74"
      ]
     },
     "execution_count": 6,
     "metadata": {},
     "output_type": "execute_result"
    }
   ],
   "source": [
    "# I can now use functions defined on that module\n",
    "# typically, I'll say module.func_name()\n",
    "\n",
    "random.randint(0, 100)   # this invokes the \"randing\" function in the \"random\" module, returning a value"
   ]
  },
  {
   "cell_type": "code",
   "execution_count": 7,
   "metadata": {},
   "outputs": [
    {
     "data": {
      "text/plain": [
       "5"
      ]
     },
     "execution_count": 7,
     "metadata": {},
     "output_type": "execute_result"
    }
   ],
   "source": [
    "n = random.randint(0, 100)\n",
    "n"
   ]
  },
  {
   "cell_type": "markdown",
   "metadata": {},
   "source": [
    "# What's in a module?\n",
    "\n",
    "We have a few ways to know what a module contains:\n",
    "\n",
    "1. We can invoke the builtin `dir` function on a module value. That will return a long list of strings. Some are data, some are functions, some are internal to the module.\n",
    "2. We can, in Jupyter, invoke `help` on the module object. That'll return some documentation.\n",
    "3. We can look at the documentation at `docs.python.org`. This is the most complete.\n",
    "4. If you're using a Python editor, or a modern notebook like Marimo, then you can often hover over a function's name, and see its documentation."
   ]
  },
  {
   "cell_type": "code",
   "execution_count": 8,
   "metadata": {},
   "outputs": [
    {
     "data": {
      "text/plain": [
       "['BPF',\n",
       " 'LOG4',\n",
       " 'NV_MAGICCONST',\n",
       " 'RECIP_BPF',\n",
       " 'Random',\n",
       " 'SG_MAGICCONST',\n",
       " 'SystemRandom',\n",
       " 'TWOPI',\n",
       " '_ONE',\n",
       " '_Sequence',\n",
       " '__all__',\n",
       " '__builtins__',\n",
       " '__cached__',\n",
       " '__doc__',\n",
       " '__file__',\n",
       " '__loader__',\n",
       " '__name__',\n",
       " '__package__',\n",
       " '__spec__',\n",
       " '_accumulate',\n",
       " '_acos',\n",
       " '_bisect',\n",
       " '_ceil',\n",
       " '_cos',\n",
       " '_e',\n",
       " '_exp',\n",
       " '_fabs',\n",
       " '_floor',\n",
       " '_index',\n",
       " '_inst',\n",
       " '_isfinite',\n",
       " '_lgamma',\n",
       " '_log',\n",
       " '_log2',\n",
       " '_os',\n",
       " '_parse_args',\n",
       " '_pi',\n",
       " '_random',\n",
       " '_repeat',\n",
       " '_sha512',\n",
       " '_sin',\n",
       " '_sqrt',\n",
       " '_test',\n",
       " '_test_generator',\n",
       " '_urandom',\n",
       " 'betavariate',\n",
       " 'binomialvariate',\n",
       " 'choice',\n",
       " 'choices',\n",
       " 'expovariate',\n",
       " 'gammavariate',\n",
       " 'gauss',\n",
       " 'getrandbits',\n",
       " 'getstate',\n",
       " 'lognormvariate',\n",
       " 'main',\n",
       " 'normalvariate',\n",
       " 'paretovariate',\n",
       " 'randbytes',\n",
       " 'randint',\n",
       " 'random',\n",
       " 'randrange',\n",
       " 'sample',\n",
       " 'seed',\n",
       " 'setstate',\n",
       " 'shuffle',\n",
       " 'triangular',\n",
       " 'uniform',\n",
       " 'vonmisesvariate',\n",
       " 'weibullvariate']"
      ]
     },
     "execution_count": 8,
     "metadata": {},
     "output_type": "execute_result"
    }
   ],
   "source": [
    "dir(random)  # the names you see here can come after random.  "
   ]
  },
  {
   "cell_type": "code",
   "execution_count": 9,
   "metadata": {},
   "outputs": [
    {
     "name": "stdout",
     "output_type": "stream",
     "text": [
      "Help on module random:\n",
      "\n",
      "NAME\n",
      "    random - Random variable generators.\n",
      "\n",
      "MODULE REFERENCE\n",
      "    https://docs.python.org/3.13/library/random.html\n",
      "\n",
      "    The following documentation is automatically generated from the Python\n",
      "    source files.  It may be incomplete, incorrect or include features that\n",
      "    are considered implementation detail and may vary between Python\n",
      "    implementations.  When in doubt, consult the module reference at the\n",
      "    location listed above.\n",
      "\n",
      "DESCRIPTION\n",
      "        bytes\n",
      "        -----\n",
      "               uniform bytes (values between 0 and 255)\n",
      "\n",
      "        integers\n",
      "        --------\n",
      "               uniform within range\n",
      "\n",
      "        sequences\n",
      "        ---------\n",
      "               pick random element\n",
      "               pick random sample\n",
      "               pick weighted random sample\n",
      "               generate random permutation\n",
      "\n",
      "        distributions on the real line:\n",
      "        ------------------------------\n",
      "               uniform\n",
      "               triangular\n",
      "               normal (Gaussian)\n",
      "               lognormal\n",
      "               negative exponential\n",
      "               gamma\n",
      "               beta\n",
      "               pareto\n",
      "               Weibull\n",
      "\n",
      "        distributions on the circle (angles 0 to 2pi)\n",
      "        ---------------------------------------------\n",
      "               circular uniform\n",
      "               von Mises\n",
      "\n",
      "        discrete distributions\n",
      "        ----------------------\n",
      "               binomial\n",
      "\n",
      "\n",
      "    General notes on the underlying Mersenne Twister core generator:\n",
      "\n",
      "    * The period is 2**19937-1.\n",
      "    * It is one of the most extensively tested generators in existence.\n",
      "    * The random() method is implemented in C, executes in a single Python step,\n",
      "      and is, therefore, threadsafe.\n",
      "\n",
      "CLASSES\n",
      "    _random.Random(builtins.object)\n",
      "        Random\n",
      "            SystemRandom\n",
      "\n",
      "    class Random(_random.Random)\n",
      "     |  Random(x=None)\n",
      "     |\n",
      "     |  Random number generator base class used by bound module functions.\n",
      "     |\n",
      "     |  Used to instantiate instances of Random to get generators that don't\n",
      "     |  share state.\n",
      "     |\n",
      "     |  Class Random can also be subclassed if you want to use a different basic\n",
      "     |  generator of your own devising: in that case, override the following\n",
      "     |  methods:  random(), seed(), getstate(), and setstate().\n",
      "     |  Optionally, implement a getrandbits() method so that randrange()\n",
      "     |  can cover arbitrarily large ranges.\n",
      "     |\n",
      "     |  Method resolution order:\n",
      "     |      Random\n",
      "     |      _random.Random\n",
      "     |      builtins.object\n",
      "     |\n",
      "     |  Methods defined here:\n",
      "     |\n",
      "     |  __getstate__(self)\n",
      "     |      Helper for pickle.\n",
      "     |\n",
      "     |  __init__(self, x=None)\n",
      "     |      Initialize an instance.\n",
      "     |\n",
      "     |      Optional argument x controls seeding, as for Random.seed().\n",
      "     |\n",
      "     |  __reduce__(self)\n",
      "     |      Helper for pickle.\n",
      "     |\n",
      "     |  __setstate__(self, state)\n",
      "     |\n",
      "     |  betavariate(self, alpha, beta)\n",
      "     |      Beta distribution.\n",
      "     |\n",
      "     |      Conditions on the parameters are alpha > 0 and beta > 0.\n",
      "     |      Returned values range between 0 and 1.\n",
      "     |\n",
      "     |      The mean (expected value) and variance of the random variable are:\n",
      "     |\n",
      "     |          E[X] = alpha / (alpha + beta)\n",
      "     |          Var[X] = alpha * beta / ((alpha + beta)**2 * (alpha + beta + 1))\n",
      "     |\n",
      "     |  binomialvariate(self, n=1, p=0.5)\n",
      "     |      Binomial random variable.\n",
      "     |\n",
      "     |      Gives the number of successes for *n* independent trials\n",
      "     |      with the probability of success in each trial being *p*:\n",
      "     |\n",
      "     |          sum(random() < p for i in range(n))\n",
      "     |\n",
      "     |      Returns an integer in the range:   0 <= X <= n\n",
      "     |\n",
      "     |      The mean (expected value) and variance of the random variable are:\n",
      "     |\n",
      "     |          E[X] = n * p\n",
      "     |          Var[x] = n * p * (1 - p)\n",
      "     |\n",
      "     |  choice(self, seq)\n",
      "     |      Choose a random element from a non-empty sequence.\n",
      "     |\n",
      "     |  choices(self, population, weights=None, *, cum_weights=None, k=1)\n",
      "     |      Return a k sized list of population elements chosen with replacement.\n",
      "     |\n",
      "     |      If the relative weights or cumulative weights are not specified,\n",
      "     |      the selections are made with equal probability.\n",
      "     |\n",
      "     |  expovariate(self, lambd=1.0)\n",
      "     |      Exponential distribution.\n",
      "     |\n",
      "     |      lambd is 1.0 divided by the desired mean.  It should be\n",
      "     |      nonzero.  (The parameter would be called \"lambda\", but that is\n",
      "     |      a reserved word in Python.)  Returned values range from 0 to\n",
      "     |      positive infinity if lambd is positive, and from negative\n",
      "     |      infinity to 0 if lambd is negative.\n",
      "     |\n",
      "     |      The mean (expected value) and variance of the random variable are:\n",
      "     |\n",
      "     |          E[X] = 1 / lambd\n",
      "     |          Var[X] = 1 / lambd ** 2\n",
      "     |\n",
      "     |  gammavariate(self, alpha, beta)\n",
      "     |      Gamma distribution.  Not the gamma function!\n",
      "     |\n",
      "     |      Conditions on the parameters are alpha > 0 and beta > 0.\n",
      "     |\n",
      "     |      The probability distribution function is:\n",
      "     |\n",
      "     |                  x ** (alpha - 1) * math.exp(-x / beta)\n",
      "     |        pdf(x) =  --------------------------------------\n",
      "     |                    math.gamma(alpha) * beta ** alpha\n",
      "     |\n",
      "     |      The mean (expected value) and variance of the random variable are:\n",
      "     |\n",
      "     |          E[X] = alpha * beta\n",
      "     |          Var[X] = alpha * beta ** 2\n",
      "     |\n",
      "     |  gauss(self, mu=0.0, sigma=1.0)\n",
      "     |      Gaussian distribution.\n",
      "     |\n",
      "     |      mu is the mean, and sigma is the standard deviation.  This is\n",
      "     |      slightly faster than the normalvariate() function.\n",
      "     |\n",
      "     |      Not thread-safe without a lock around calls.\n",
      "     |\n",
      "     |  getstate(self)\n",
      "     |      Return internal state; can be passed to setstate() later.\n",
      "     |\n",
      "     |  lognormvariate(self, mu, sigma)\n",
      "     |      Log normal distribution.\n",
      "     |\n",
      "     |      If you take the natural logarithm of this distribution, you'll get a\n",
      "     |      normal distribution with mean mu and standard deviation sigma.\n",
      "     |      mu can have any value, and sigma must be greater than zero.\n",
      "     |\n",
      "     |  normalvariate(self, mu=0.0, sigma=1.0)\n",
      "     |      Normal distribution.\n",
      "     |\n",
      "     |      mu is the mean, and sigma is the standard deviation.\n",
      "     |\n",
      "     |  paretovariate(self, alpha)\n",
      "     |      Pareto distribution.  alpha is the shape parameter.\n",
      "     |\n",
      "     |  randbytes(self, n)\n",
      "     |      Generate n random bytes.\n",
      "     |\n",
      "     |  randint(self, a, b)\n",
      "     |      Return random integer in range [a, b], including both end points.\n",
      "     |\n",
      "     |  randrange(self, start, stop=None, step=1)\n",
      "     |      Choose a random item from range(stop) or range(start, stop[, step]).\n",
      "     |\n",
      "     |      Roughly equivalent to ``choice(range(start, stop, step))`` but\n",
      "     |      supports arbitrarily large ranges and is optimized for common cases.\n",
      "     |\n",
      "     |  sample(self, population, k, *, counts=None)\n",
      "     |      Chooses k unique random elements from a population sequence.\n",
      "     |\n",
      "     |      Returns a new list containing elements from the population while\n",
      "     |      leaving the original population unchanged.  The resulting list is\n",
      "     |      in selection order so that all sub-slices will also be valid random\n",
      "     |      samples.  This allows raffle winners (the sample) to be partitioned\n",
      "     |      into grand prize and second place winners (the subslices).\n",
      "     |\n",
      "     |      Members of the population need not be hashable or unique.  If the\n",
      "     |      population contains repeats, then each occurrence is a possible\n",
      "     |      selection in the sample.\n",
      "     |\n",
      "     |      Repeated elements can be specified one at a time or with the optional\n",
      "     |      counts parameter.  For example:\n",
      "     |\n",
      "     |          sample(['red', 'blue'], counts=[4, 2], k=5)\n",
      "     |\n",
      "     |      is equivalent to:\n",
      "     |\n",
      "     |          sample(['red', 'red', 'red', 'red', 'blue', 'blue'], k=5)\n",
      "     |\n",
      "     |      To choose a sample from a range of integers, use range() for the\n",
      "     |      population argument.  This is especially fast and space efficient\n",
      "     |      for sampling from a large population:\n",
      "     |\n",
      "     |          sample(range(10000000), 60)\n",
      "     |\n",
      "     |  seed(self, a=None, version=2)\n",
      "     |      Initialize internal state from a seed.\n",
      "     |\n",
      "     |      The only supported seed types are None, int, float,\n",
      "     |      str, bytes, and bytearray.\n",
      "     |\n",
      "     |      None or no argument seeds from current time or from an operating\n",
      "     |      system specific randomness source if available.\n",
      "     |\n",
      "     |      If *a* is an int, all bits are used.\n",
      "     |\n",
      "     |      For version 2 (the default), all of the bits are used if *a* is a str,\n",
      "     |      bytes, or bytearray.  For version 1 (provided for reproducing random\n",
      "     |      sequences from older versions of Python), the algorithm for str and\n",
      "     |      bytes generates a narrower range of seeds.\n",
      "     |\n",
      "     |  setstate(self, state)\n",
      "     |      Restore internal state from object returned by getstate().\n",
      "     |\n",
      "     |  shuffle(self, x)\n",
      "     |      Shuffle list x in place, and return None.\n",
      "     |\n",
      "     |  triangular(self, low=0.0, high=1.0, mode=None)\n",
      "     |      Triangular distribution.\n",
      "     |\n",
      "     |      Continuous distribution bounded by given lower and upper limits,\n",
      "     |      and having a given mode value in-between.\n",
      "     |\n",
      "     |      http://en.wikipedia.org/wiki/Triangular_distribution\n",
      "     |\n",
      "     |      The mean (expected value) and variance of the random variable are:\n",
      "     |\n",
      "     |          E[X] = (low + high + mode) / 3\n",
      "     |          Var[X] = (low**2 + high**2 + mode**2 - low*high - low*mode - high*mode) / 18\n",
      "     |\n",
      "     |  uniform(self, a, b)\n",
      "     |      Get a random number in the range [a, b) or [a, b] depending on rounding.\n",
      "     |\n",
      "     |      The mean (expected value) and variance of the random variable are:\n",
      "     |\n",
      "     |          E[X] = (a + b) / 2\n",
      "     |          Var[X] = (b - a) ** 2 / 12\n",
      "     |\n",
      "     |  vonmisesvariate(self, mu, kappa)\n",
      "     |      Circular data distribution.\n",
      "     |\n",
      "     |      mu is the mean angle, expressed in radians between 0 and 2*pi, and\n",
      "     |      kappa is the concentration parameter, which must be greater than or\n",
      "     |      equal to zero.  If kappa is equal to zero, this distribution reduces\n",
      "     |      to a uniform random angle over the range 0 to 2*pi.\n",
      "     |\n",
      "     |  weibullvariate(self, alpha, beta)\n",
      "     |      Weibull distribution.\n",
      "     |\n",
      "     |      alpha is the scale parameter and beta is the shape parameter.\n",
      "     |\n",
      "     |  ----------------------------------------------------------------------\n",
      "     |  Class methods defined here:\n",
      "     |\n",
      "     |  __init_subclass__(**kwargs)\n",
      "     |      Control how subclasses generate random integers.\n",
      "     |\n",
      "     |      The algorithm a subclass can use depends on the random() and/or\n",
      "     |      getrandbits() implementation available to it and determines\n",
      "     |      whether it can generate random integers from arbitrarily large\n",
      "     |      ranges.\n",
      "     |\n",
      "     |  ----------------------------------------------------------------------\n",
      "     |  Data descriptors defined here:\n",
      "     |\n",
      "     |  __dict__\n",
      "     |      dictionary for instance variables\n",
      "     |\n",
      "     |  __weakref__\n",
      "     |      list of weak references to the object\n",
      "     |\n",
      "     |  ----------------------------------------------------------------------\n",
      "     |  Data and other attributes defined here:\n",
      "     |\n",
      "     |  VERSION = 3\n",
      "     |\n",
      "     |  ----------------------------------------------------------------------\n",
      "     |  Methods inherited from _random.Random:\n",
      "     |\n",
      "     |  getrandbits(self, k, /)\n",
      "     |      getrandbits(k) -> x.  Generates an int with k random bits.\n",
      "     |\n",
      "     |  random(self, /)\n",
      "     |      random() -> x in the interval [0, 1).\n",
      "     |\n",
      "     |  ----------------------------------------------------------------------\n",
      "     |  Static methods inherited from _random.Random:\n",
      "     |\n",
      "     |  __new__(*args, **kwargs) class method of _random.Random\n",
      "     |      Create and return a new object.  See help(type) for accurate signature.\n",
      "\n",
      "    class SystemRandom(Random)\n",
      "     |  SystemRandom(x=None)\n",
      "     |\n",
      "     |  Alternate random number generator using sources provided\n",
      "     |  by the operating system (such as /dev/urandom on Unix or\n",
      "     |  CryptGenRandom on Windows).\n",
      "     |\n",
      "     |   Not available on all systems (see os.urandom() for details).\n",
      "     |\n",
      "     |  Method resolution order:\n",
      "     |      SystemRandom\n",
      "     |      Random\n",
      "     |      _random.Random\n",
      "     |      builtins.object\n",
      "     |\n",
      "     |  Methods defined here:\n",
      "     |\n",
      "     |  getrandbits(self, k)\n",
      "     |      getrandbits(k) -> x.  Generates an int with k random bits.\n",
      "     |\n",
      "     |  getstate = _notimplemented(self, *args, **kwds)\n",
      "     |\n",
      "     |  randbytes(self, n)\n",
      "     |      Generate n random bytes.\n",
      "     |\n",
      "     |  random(self)\n",
      "     |      Get the next random number in the range 0.0 <= X < 1.0.\n",
      "     |\n",
      "     |  seed(self, *args, **kwds)\n",
      "     |      Stub method.  Not used for a system random number generator.\n",
      "     |\n",
      "     |  setstate = _notimplemented(self, *args, **kwds)\n",
      "     |\n",
      "     |  ----------------------------------------------------------------------\n",
      "     |  Methods inherited from Random:\n",
      "     |\n",
      "     |  __getstate__(self)\n",
      "     |      Helper for pickle.\n",
      "     |\n",
      "     |  __init__(self, x=None)\n",
      "     |      Initialize an instance.\n",
      "     |\n",
      "     |      Optional argument x controls seeding, as for Random.seed().\n",
      "     |\n",
      "     |  __reduce__(self)\n",
      "     |      Helper for pickle.\n",
      "     |\n",
      "     |  __setstate__(self, state)\n",
      "     |\n",
      "     |  betavariate(self, alpha, beta)\n",
      "     |      Beta distribution.\n",
      "     |\n",
      "     |      Conditions on the parameters are alpha > 0 and beta > 0.\n",
      "     |      Returned values range between 0 and 1.\n",
      "     |\n",
      "     |      The mean (expected value) and variance of the random variable are:\n",
      "     |\n",
      "     |          E[X] = alpha / (alpha + beta)\n",
      "     |          Var[X] = alpha * beta / ((alpha + beta)**2 * (alpha + beta + 1))\n",
      "     |\n",
      "     |  binomialvariate(self, n=1, p=0.5)\n",
      "     |      Binomial random variable.\n",
      "     |\n",
      "     |      Gives the number of successes for *n* independent trials\n",
      "     |      with the probability of success in each trial being *p*:\n",
      "     |\n",
      "     |          sum(random() < p for i in range(n))\n",
      "     |\n",
      "     |      Returns an integer in the range:   0 <= X <= n\n",
      "     |\n",
      "     |      The mean (expected value) and variance of the random variable are:\n",
      "     |\n",
      "     |          E[X] = n * p\n",
      "     |          Var[x] = n * p * (1 - p)\n",
      "     |\n",
      "     |  choice(self, seq)\n",
      "     |      Choose a random element from a non-empty sequence.\n",
      "     |\n",
      "     |  choices(self, population, weights=None, *, cum_weights=None, k=1)\n",
      "     |      Return a k sized list of population elements chosen with replacement.\n",
      "     |\n",
      "     |      If the relative weights or cumulative weights are not specified,\n",
      "     |      the selections are made with equal probability.\n",
      "     |\n",
      "     |  expovariate(self, lambd=1.0)\n",
      "     |      Exponential distribution.\n",
      "     |\n",
      "     |      lambd is 1.0 divided by the desired mean.  It should be\n",
      "     |      nonzero.  (The parameter would be called \"lambda\", but that is\n",
      "     |      a reserved word in Python.)  Returned values range from 0 to\n",
      "     |      positive infinity if lambd is positive, and from negative\n",
      "     |      infinity to 0 if lambd is negative.\n",
      "     |\n",
      "     |      The mean (expected value) and variance of the random variable are:\n",
      "     |\n",
      "     |          E[X] = 1 / lambd\n",
      "     |          Var[X] = 1 / lambd ** 2\n",
      "     |\n",
      "     |  gammavariate(self, alpha, beta)\n",
      "     |      Gamma distribution.  Not the gamma function!\n",
      "     |\n",
      "     |      Conditions on the parameters are alpha > 0 and beta > 0.\n",
      "     |\n",
      "     |      The probability distribution function is:\n",
      "     |\n",
      "     |                  x ** (alpha - 1) * math.exp(-x / beta)\n",
      "     |        pdf(x) =  --------------------------------------\n",
      "     |                    math.gamma(alpha) * beta ** alpha\n",
      "     |\n",
      "     |      The mean (expected value) and variance of the random variable are:\n",
      "     |\n",
      "     |          E[X] = alpha * beta\n",
      "     |          Var[X] = alpha * beta ** 2\n",
      "     |\n",
      "     |  gauss(self, mu=0.0, sigma=1.0)\n",
      "     |      Gaussian distribution.\n",
      "     |\n",
      "     |      mu is the mean, and sigma is the standard deviation.  This is\n",
      "     |      slightly faster than the normalvariate() function.\n",
      "     |\n",
      "     |      Not thread-safe without a lock around calls.\n",
      "     |\n",
      "     |  lognormvariate(self, mu, sigma)\n",
      "     |      Log normal distribution.\n",
      "     |\n",
      "     |      If you take the natural logarithm of this distribution, you'll get a\n",
      "     |      normal distribution with mean mu and standard deviation sigma.\n",
      "     |      mu can have any value, and sigma must be greater than zero.\n",
      "     |\n",
      "     |  normalvariate(self, mu=0.0, sigma=1.0)\n",
      "     |      Normal distribution.\n",
      "     |\n",
      "     |      mu is the mean, and sigma is the standard deviation.\n",
      "     |\n",
      "     |  paretovariate(self, alpha)\n",
      "     |      Pareto distribution.  alpha is the shape parameter.\n",
      "     |\n",
      "     |  randint(self, a, b)\n",
      "     |      Return random integer in range [a, b], including both end points.\n",
      "     |\n",
      "     |  randrange(self, start, stop=None, step=1)\n",
      "     |      Choose a random item from range(stop) or range(start, stop[, step]).\n",
      "     |\n",
      "     |      Roughly equivalent to ``choice(range(start, stop, step))`` but\n",
      "     |      supports arbitrarily large ranges and is optimized for common cases.\n",
      "     |\n",
      "     |  sample(self, population, k, *, counts=None)\n",
      "     |      Chooses k unique random elements from a population sequence.\n",
      "     |\n",
      "     |      Returns a new list containing elements from the population while\n",
      "     |      leaving the original population unchanged.  The resulting list is\n",
      "     |      in selection order so that all sub-slices will also be valid random\n",
      "     |      samples.  This allows raffle winners (the sample) to be partitioned\n",
      "     |      into grand prize and second place winners (the subslices).\n",
      "     |\n",
      "     |      Members of the population need not be hashable or unique.  If the\n",
      "     |      population contains repeats, then each occurrence is a possible\n",
      "     |      selection in the sample.\n",
      "     |\n",
      "     |      Repeated elements can be specified one at a time or with the optional\n",
      "     |      counts parameter.  For example:\n",
      "     |\n",
      "     |          sample(['red', 'blue'], counts=[4, 2], k=5)\n",
      "     |\n",
      "     |      is equivalent to:\n",
      "     |\n",
      "     |          sample(['red', 'red', 'red', 'red', 'blue', 'blue'], k=5)\n",
      "     |\n",
      "     |      To choose a sample from a range of integers, use range() for the\n",
      "     |      population argument.  This is especially fast and space efficient\n",
      "     |      for sampling from a large population:\n",
      "     |\n",
      "     |          sample(range(10000000), 60)\n",
      "     |\n",
      "     |  shuffle(self, x)\n",
      "     |      Shuffle list x in place, and return None.\n",
      "     |\n",
      "     |  triangular(self, low=0.0, high=1.0, mode=None)\n",
      "     |      Triangular distribution.\n",
      "     |\n",
      "     |      Continuous distribution bounded by given lower and upper limits,\n",
      "     |      and having a given mode value in-between.\n",
      "     |\n",
      "     |      http://en.wikipedia.org/wiki/Triangular_distribution\n",
      "     |\n",
      "     |      The mean (expected value) and variance of the random variable are:\n",
      "     |\n",
      "     |          E[X] = (low + high + mode) / 3\n",
      "     |          Var[X] = (low**2 + high**2 + mode**2 - low*high - low*mode - high*mode) / 18\n",
      "     |\n",
      "     |  uniform(self, a, b)\n",
      "     |      Get a random number in the range [a, b) or [a, b] depending on rounding.\n",
      "     |\n",
      "     |      The mean (expected value) and variance of the random variable are:\n",
      "     |\n",
      "     |          E[X] = (a + b) / 2\n",
      "     |          Var[X] = (b - a) ** 2 / 12\n",
      "     |\n",
      "     |  vonmisesvariate(self, mu, kappa)\n",
      "     |      Circular data distribution.\n",
      "     |\n",
      "     |      mu is the mean angle, expressed in radians between 0 and 2*pi, and\n",
      "     |      kappa is the concentration parameter, which must be greater than or\n",
      "     |      equal to zero.  If kappa is equal to zero, this distribution reduces\n",
      "     |      to a uniform random angle over the range 0 to 2*pi.\n",
      "     |\n",
      "     |  weibullvariate(self, alpha, beta)\n",
      "     |      Weibull distribution.\n",
      "     |\n",
      "     |      alpha is the scale parameter and beta is the shape parameter.\n",
      "     |\n",
      "     |  ----------------------------------------------------------------------\n",
      "     |  Class methods inherited from Random:\n",
      "     |\n",
      "     |  __init_subclass__(**kwargs)\n",
      "     |      Control how subclasses generate random integers.\n",
      "     |\n",
      "     |      The algorithm a subclass can use depends on the random() and/or\n",
      "     |      getrandbits() implementation available to it and determines\n",
      "     |      whether it can generate random integers from arbitrarily large\n",
      "     |      ranges.\n",
      "     |\n",
      "     |  ----------------------------------------------------------------------\n",
      "     |  Data descriptors inherited from Random:\n",
      "     |\n",
      "     |  __dict__\n",
      "     |      dictionary for instance variables\n",
      "     |\n",
      "     |  __weakref__\n",
      "     |      list of weak references to the object\n",
      "     |\n",
      "     |  ----------------------------------------------------------------------\n",
      "     |  Data and other attributes inherited from Random:\n",
      "     |\n",
      "     |  VERSION = 3\n",
      "     |\n",
      "     |  ----------------------------------------------------------------------\n",
      "     |  Static methods inherited from _random.Random:\n",
      "     |\n",
      "     |  __new__(*args, **kwargs) class method of _random.Random\n",
      "     |      Create and return a new object.  See help(type) for accurate signature.\n",
      "\n",
      "FUNCTIONS\n",
      "    betavariate(alpha, beta) method of Random instance\n",
      "        Beta distribution.\n",
      "\n",
      "        Conditions on the parameters are alpha > 0 and beta > 0.\n",
      "        Returned values range between 0 and 1.\n",
      "\n",
      "        The mean (expected value) and variance of the random variable are:\n",
      "\n",
      "            E[X] = alpha / (alpha + beta)\n",
      "            Var[X] = alpha * beta / ((alpha + beta)**2 * (alpha + beta + 1))\n",
      "\n",
      "    binomialvariate(n=1, p=0.5) method of Random instance\n",
      "        Binomial random variable.\n",
      "\n",
      "        Gives the number of successes for *n* independent trials\n",
      "        with the probability of success in each trial being *p*:\n",
      "\n",
      "            sum(random() < p for i in range(n))\n",
      "\n",
      "        Returns an integer in the range:   0 <= X <= n\n",
      "\n",
      "        The mean (expected value) and variance of the random variable are:\n",
      "\n",
      "            E[X] = n * p\n",
      "            Var[x] = n * p * (1 - p)\n",
      "\n",
      "    choice(seq) method of Random instance\n",
      "        Choose a random element from a non-empty sequence.\n",
      "\n",
      "    choices(population, weights=None, *, cum_weights=None, k=1) method of Random instance\n",
      "        Return a k sized list of population elements chosen with replacement.\n",
      "\n",
      "        If the relative weights or cumulative weights are not specified,\n",
      "        the selections are made with equal probability.\n",
      "\n",
      "    expovariate(lambd=1.0) method of Random instance\n",
      "        Exponential distribution.\n",
      "\n",
      "        lambd is 1.0 divided by the desired mean.  It should be\n",
      "        nonzero.  (The parameter would be called \"lambda\", but that is\n",
      "        a reserved word in Python.)  Returned values range from 0 to\n",
      "        positive infinity if lambd is positive, and from negative\n",
      "        infinity to 0 if lambd is negative.\n",
      "\n",
      "        The mean (expected value) and variance of the random variable are:\n",
      "\n",
      "            E[X] = 1 / lambd\n",
      "            Var[X] = 1 / lambd ** 2\n",
      "\n",
      "    gammavariate(alpha, beta) method of Random instance\n",
      "        Gamma distribution.  Not the gamma function!\n",
      "\n",
      "        Conditions on the parameters are alpha > 0 and beta > 0.\n",
      "\n",
      "        The probability distribution function is:\n",
      "\n",
      "                    x ** (alpha - 1) * math.exp(-x / beta)\n",
      "          pdf(x) =  --------------------------------------\n",
      "                      math.gamma(alpha) * beta ** alpha\n",
      "\n",
      "        The mean (expected value) and variance of the random variable are:\n",
      "\n",
      "            E[X] = alpha * beta\n",
      "            Var[X] = alpha * beta ** 2\n",
      "\n",
      "    gauss(mu=0.0, sigma=1.0) method of Random instance\n",
      "        Gaussian distribution.\n",
      "\n",
      "        mu is the mean, and sigma is the standard deviation.  This is\n",
      "        slightly faster than the normalvariate() function.\n",
      "\n",
      "        Not thread-safe without a lock around calls.\n",
      "\n",
      "    getrandbits(k, /) method of Random instance\n",
      "        getrandbits(k) -> x.  Generates an int with k random bits.\n",
      "\n",
      "    getstate() method of Random instance\n",
      "        Return internal state; can be passed to setstate() later.\n",
      "\n",
      "    lognormvariate(mu, sigma) method of Random instance\n",
      "        Log normal distribution.\n",
      "\n",
      "        If you take the natural logarithm of this distribution, you'll get a\n",
      "        normal distribution with mean mu and standard deviation sigma.\n",
      "        mu can have any value, and sigma must be greater than zero.\n",
      "\n",
      "    normalvariate(mu=0.0, sigma=1.0) method of Random instance\n",
      "        Normal distribution.\n",
      "\n",
      "        mu is the mean, and sigma is the standard deviation.\n",
      "\n",
      "    paretovariate(alpha) method of Random instance\n",
      "        Pareto distribution.  alpha is the shape parameter.\n",
      "\n",
      "    randbytes(n) method of Random instance\n",
      "        Generate n random bytes.\n",
      "\n",
      "    randint(a, b) method of Random instance\n",
      "        Return random integer in range [a, b], including both end points.\n",
      "\n",
      "    random() method of Random instance\n",
      "        random() -> x in the interval [0, 1).\n",
      "\n",
      "    randrange(start, stop=None, step=1) method of Random instance\n",
      "        Choose a random item from range(stop) or range(start, stop[, step]).\n",
      "\n",
      "        Roughly equivalent to ``choice(range(start, stop, step))`` but\n",
      "        supports arbitrarily large ranges and is optimized for common cases.\n",
      "\n",
      "    sample(population, k, *, counts=None) method of Random instance\n",
      "        Chooses k unique random elements from a population sequence.\n",
      "\n",
      "        Returns a new list containing elements from the population while\n",
      "        leaving the original population unchanged.  The resulting list is\n",
      "        in selection order so that all sub-slices will also be valid random\n",
      "        samples.  This allows raffle winners (the sample) to be partitioned\n",
      "        into grand prize and second place winners (the subslices).\n",
      "\n",
      "        Members of the population need not be hashable or unique.  If the\n",
      "        population contains repeats, then each occurrence is a possible\n",
      "        selection in the sample.\n",
      "\n",
      "        Repeated elements can be specified one at a time or with the optional\n",
      "        counts parameter.  For example:\n",
      "\n",
      "            sample(['red', 'blue'], counts=[4, 2], k=5)\n",
      "\n",
      "        is equivalent to:\n",
      "\n",
      "            sample(['red', 'red', 'red', 'red', 'blue', 'blue'], k=5)\n",
      "\n",
      "        To choose a sample from a range of integers, use range() for the\n",
      "        population argument.  This is especially fast and space efficient\n",
      "        for sampling from a large population:\n",
      "\n",
      "            sample(range(10000000), 60)\n",
      "\n",
      "    seed(a=None, version=2) method of Random instance\n",
      "        Initialize internal state from a seed.\n",
      "\n",
      "        The only supported seed types are None, int, float,\n",
      "        str, bytes, and bytearray.\n",
      "\n",
      "        None or no argument seeds from current time or from an operating\n",
      "        system specific randomness source if available.\n",
      "\n",
      "        If *a* is an int, all bits are used.\n",
      "\n",
      "        For version 2 (the default), all of the bits are used if *a* is a str,\n",
      "        bytes, or bytearray.  For version 1 (provided for reproducing random\n",
      "        sequences from older versions of Python), the algorithm for str and\n",
      "        bytes generates a narrower range of seeds.\n",
      "\n",
      "    setstate(state) method of Random instance\n",
      "        Restore internal state from object returned by getstate().\n",
      "\n",
      "    shuffle(x) method of Random instance\n",
      "        Shuffle list x in place, and return None.\n",
      "\n",
      "    triangular(low=0.0, high=1.0, mode=None) method of Random instance\n",
      "        Triangular distribution.\n",
      "\n",
      "        Continuous distribution bounded by given lower and upper limits,\n",
      "        and having a given mode value in-between.\n",
      "\n",
      "        http://en.wikipedia.org/wiki/Triangular_distribution\n",
      "\n",
      "        The mean (expected value) and variance of the random variable are:\n",
      "\n",
      "            E[X] = (low + high + mode) / 3\n",
      "            Var[X] = (low**2 + high**2 + mode**2 - low*high - low*mode - high*mode) / 18\n",
      "\n",
      "    uniform(a, b) method of Random instance\n",
      "        Get a random number in the range [a, b) or [a, b] depending on rounding.\n",
      "\n",
      "        The mean (expected value) and variance of the random variable are:\n",
      "\n",
      "            E[X] = (a + b) / 2\n",
      "            Var[X] = (b - a) ** 2 / 12\n",
      "\n",
      "    vonmisesvariate(mu, kappa) method of Random instance\n",
      "        Circular data distribution.\n",
      "\n",
      "        mu is the mean angle, expressed in radians between 0 and 2*pi, and\n",
      "        kappa is the concentration parameter, which must be greater than or\n",
      "        equal to zero.  If kappa is equal to zero, this distribution reduces\n",
      "        to a uniform random angle over the range 0 to 2*pi.\n",
      "\n",
      "    weibullvariate(alpha, beta) method of Random instance\n",
      "        Weibull distribution.\n",
      "\n",
      "        alpha is the scale parameter and beta is the shape parameter.\n",
      "\n",
      "DATA\n",
      "    __all__ = ['Random', 'SystemRandom', 'betavariate', 'binomialvariate',...\n",
      "\n",
      "FILE\n",
      "    /Users/reuven/.pyenv/versions/3.13.2/lib/python3.13/random.py\n",
      "\n",
      "\n"
     ]
    }
   ],
   "source": [
    "help(random)"
   ]
  },
  {
   "cell_type": "markdown",
   "metadata": {},
   "source": [
    "# What is a module?\n",
    "\n",
    "A module is a container for:\n",
    "\n",
    "- Python data structures (strings, lists, tuples, etc.)\n",
    "- Python functions that you have defined\n",
    "- New Python data types you have defined (\"classes\") "
   ]
  },
  {
   "cell_type": "markdown",
   "metadata": {},
   "source": [
    "# Exercise: Guessing game\n",
    "\n",
    "1. Have the computer choose a random integer from 0-100 using `random.randint`, and assign to `number`.\n",
    "2. Ask the user, repeatedly, to guess a number.\n",
    "    - If it's too high, say \"too high\"\n",
    "    - If it's too low, say \"too low\"\n",
    "    - Otherwise, say \"just right\" and exit\n",
    "3. If it's not right, then keep going, and let the user guess again.\n",
    "4. When exiting the program, print not only that the user got it right, but also how many guesses they needed.\n",
    "\n",
    "How much will you need a module in this program? Not very much at all... but it is a crucial part!"
   ]
  },
  {
   "cell_type": "code",
   "execution_count": 21,
   "metadata": {},
   "outputs": [
    {
     "name": "stdin",
     "output_type": "stream",
     "text": [
      "Guess:  hello\n"
     ]
    },
    {
     "name": "stdout",
     "output_type": "stream",
     "text": [
      "hello is not numeric; try again\n"
     ]
    },
    {
     "name": "stdin",
     "output_type": "stream",
     "text": [
      "Guess:  50\n"
     ]
    },
    {
     "name": "stdout",
     "output_type": "stream",
     "text": [
      "Too high\n"
     ]
    },
    {
     "name": "stdin",
     "output_type": "stream",
     "text": [
      "Guess:  25\n"
     ]
    },
    {
     "name": "stdout",
     "output_type": "stream",
     "text": [
      "Too low\n"
     ]
    },
    {
     "name": "stdin",
     "output_type": "stream",
     "text": [
      "Guess:  32\n"
     ]
    },
    {
     "name": "stdout",
     "output_type": "stream",
     "text": [
      "Too low\n"
     ]
    },
    {
     "name": "stdin",
     "output_type": "stream",
     "text": [
      "Guess:  42\n"
     ]
    },
    {
     "name": "stdout",
     "output_type": "stream",
     "text": [
      "Too low\n"
     ]
    },
    {
     "name": "stdin",
     "output_type": "stream",
     "text": [
      "Guess:  45\n"
     ]
    },
    {
     "name": "stdout",
     "output_type": "stream",
     "text": [
      "Too high\n"
     ]
    },
    {
     "name": "stdin",
     "output_type": "stream",
     "text": [
      "Guess:  43\n"
     ]
    },
    {
     "name": "stdout",
     "output_type": "stream",
     "text": [
      "You got it after 6 guesses!\n"
     ]
    }
   ],
   "source": [
    "import random\n",
    "\n",
    "number = random.randint(0, 100)\n",
    "guess_count = 0\n",
    "\n",
    "while True:\n",
    "    guess = input('Guess: ').strip()\n",
    "\n",
    "    if not guess.isdigit():\n",
    "        print(f'{guess} is not numeric; try again')\n",
    "        continue\n",
    "    \n",
    "    guess = int(guess)\n",
    "    guess_count += 1\n",
    "    \n",
    "    if guess == number:\n",
    "        print(f'You got it after {guess_count} guesses!')\n",
    "        break   # get out of the while loop!\n",
    "    elif guess < number:\n",
    "        print('Too low')\n",
    "    else:\n",
    "        print('Too high')\n",
    "        "
   ]
  },
  {
   "cell_type": "markdown",
   "metadata": {},
   "source": [
    "# Where did Python load `random` from?\n",
    "\n",
    "In other languages, we typically use `import` (or its equivalent) with a filename, so that we can tell the language where the module should be loaded from. But in Python, we give `import` a variable name, what should be defined with the module that's loaded.\n",
    "\n",
    "But where is Python loading `import` from? We can get a hint if we look at the `__file__` attribute on the `random` module. `__file__` is pronounced \"dunder file,\" for \"double underscores before and after the word 'file'.\" This is Python slang, and the \"dunders\" are typically special values that either Python sets for internal use or that we set so that Python will notice them."
   ]
  },
  {
   "cell_type": "code",
   "execution_count": 22,
   "metadata": {},
   "outputs": [
    {
     "data": {
      "text/plain": [
       "'/Users/reuven/.pyenv/versions/3.13.2/lib/python3.13/random.py'"
      ]
     },
     "execution_count": 22,
     "metadata": {},
     "output_type": "execute_result"
    }
   ],
   "source": [
    "random.__file__"
   ]
  },
  {
   "cell_type": "markdown",
   "metadata": {},
   "source": [
    "When we say `import random`, Python looks for `random.py` in a number of directories on your computer. The directories are a list of strings known as `sys.path`."
   ]
  },
  {
   "cell_type": "code",
   "execution_count": 24,
   "metadata": {},
   "outputs": [
    {
     "data": {
      "text/plain": [
       "['/Users/reuven/.pyenv/versions/3.13.2/lib/python313.zip',\n",
       " '/Users/reuven/.pyenv/versions/3.13.2/lib/python3.13',\n",
       " '/Users/reuven/.pyenv/versions/3.13.2/lib/python3.13/lib-dynload',\n",
       " '',\n",
       " '/Users/reuven/.pyenv/versions/3.13.2/lib/python3.13/site-packages']"
      ]
     },
     "execution_count": 24,
     "metadata": {},
     "output_type": "execute_result"
    }
   ],
   "source": [
    "import sys\n",
    "sys.path"
   ]
  },
  {
   "cell_type": "markdown",
   "metadata": {},
   "source": [
    "With `random` loaded, I can say `random.XYZ` for any `XYZ`. If it's a function, I can execute it with `()`, and if it's data, I can just retrieve it.\n",
    "\n",
    "But... if I'm going to use `random.randint` a lot of times in my program, it'll get very annoying to write `random.randint` many times. I'd rather just say `randint`."
   ]
  },
  {
   "cell_type": "code",
   "execution_count": 25,
   "metadata": {},
   "outputs": [
    {
     "ename": "NameError",
     "evalue": "name 'randint' is not defined",
     "output_type": "error",
     "traceback": [
      "\u001b[31m---------------------------------------------------------------------------\u001b[39m",
      "\u001b[31mNameError\u001b[39m                                 Traceback (most recent call last)",
      "\u001b[36mCell\u001b[39m\u001b[36m \u001b[39m\u001b[32mIn[25]\u001b[39m\u001b[32m, line 1\u001b[39m\n\u001b[32m----> \u001b[39m\u001b[32m1\u001b[39m \u001b[43mrandint\u001b[49m(\u001b[32m0\u001b[39m, \u001b[32m100\u001b[39m)\n",
      "\u001b[31mNameError\u001b[39m: name 'randint' is not defined"
     ]
    }
   ],
   "source": [
    "randint(0, 100)"
   ]
  },
  {
   "cell_type": "markdown",
   "metadata": {},
   "source": [
    "If we want to take one or more names from a module, and make them global variables, such that we don't need to say `random.NAME`, we can use an alternative syntax:\n",
    "\n",
    "    from random import randint\n",
    "\n",
    "What does this do?\n",
    "\n",
    "1. It looks for `random.py` on `sys.path`\n",
    "2. If it finds `random.py`, then it loads it into memory.\n",
    "3. However, it does *NOT* assign anything to a variable called `random`.\n",
    "4. It does define `randint` to a global variable.\n",
    "\n",
    "Many (MANY!) people believe that if they want to save memory in their program, they should use `from .. import`, and then only the part they want will be loaded. This is VERY VERY NOT TRUE. When you use `from .. import`, you're still importing the entire module into memory. However, the only name that is defined is what you said after `from`."
   ]
  },
  {
   "cell_type": "code",
   "execution_count": null,
   "metadata": {},
   "outputs": [],
   "source": [
    "import random\n",
    "\n",
    "def randint(low, high):\n",
    "    return random.randint(low, high)\n",
    "\n",
    "randint(0,10)"
   ]
  },
  {
   "cell_type": "code",
   "execution_count": 26,
   "metadata": {},
   "outputs": [],
   "source": [
    "# we can do exactly the same thing with less code:\n",
    "\n",
    "from random import randint    # this defines the function as a global variable, much as \"def\" did above!"
   ]
  },
  {
   "cell_type": "markdown",
   "metadata": {},
   "source": [
    "# What if I want to give the module an alias?\n",
    "\n",
    "What if I'm tired of writing `random` all of the time, and want to call it `r`? So I could then invoke `r.randint`.\n",
    "\n",
    "You can do this with the longer `import` syntax:\n",
    "\n"
   ]
  },
  {
   "cell_type": "code",
   "execution_count": 27,
   "metadata": {},
   "outputs": [],
   "source": [
    "import random as r   # in this case, we load random.py, but define a variable \"r\". There is no \"random\" variable."
   ]
  },
  {
   "cell_type": "code",
   "execution_count": 28,
   "metadata": {},
   "outputs": [
    {
     "data": {
      "text/plain": [
       "15"
      ]
     },
     "execution_count": 28,
     "metadata": {},
     "output_type": "execute_result"
    }
   ],
   "source": [
    "r.randint(0, 100)"
   ]
  },
  {
   "cell_type": "code",
   "execution_count": 29,
   "metadata": {},
   "outputs": [],
   "source": [
    "# similarly, we can say\n",
    "# from .. import .. as\n",
    "\n",
    "# this imports a module, without defining its variable\n",
    "# then it defines as a top-level, global variable an alias for one name in the module\n",
    "\n",
    "\n",
    "from random import randint as ri"
   ]
  },
  {
   "cell_type": "markdown",
   "metadata": {},
   "source": [
    "# The four main ways to use `import`\n",
    "\n",
    "- `import MODNAME` -- import a module name, defining the module name as a variable\n",
    "- `from MODNAME import NAME` -- import an entire module, but only define `NAME`, which refers to `MODNAME.NAME`\n",
    "- `import MODNAME as ALIAS` -- import a module name, defining `ALIAS` as the module\n",
    "- `from MODNAME import NAME as ALIAS` -- import one name in the module"
   ]
  },
  {
   "cell_type": "markdown",
   "metadata": {},
   "source": [
    "# Why an alias?\n",
    "\n",
    "1. You don't want to type a very long name.\n",
    "2. You don't want to collide with another variable name\n",
    "3. Everyone else does -- for example, everyone in Pandas says `import pandas as pd`"
   ]
  },
  {
   "cell_type": "markdown",
   "metadata": {},
   "source": [
    "# Importing more than one module\n",
    "\n",
    "Each `import` needs to be on a line by itself, specifying what module you want to load. So it's not unusual for a program to start with\n",
    "\n",
    "```python\n",
    "import moda\n",
    "import modb\n",
    "import modc\n",
    "from modd import thinge\n",
    "```\n",
    "\n",
    "You can, however, import more than one name in a `from .. import` statement:\n",
    "\n",
    "```python\n",
    "from modd import thinge, thingf, thingg\n",
    "```"
   ]
  },
  {
   "cell_type": "markdown",
   "metadata": {},
   "source": [
    "# Next up\n",
    "\n",
    "1. Write a simple module and `import` it, as well!\n",
    "2. How do modules work?"
   ]
  },
  {
   "cell_type": "markdown",
   "metadata": {},
   "source": [
    "# Writing a simple module\n",
    "\n",
    "A module is a file containing Python code. That's basically it!\n",
    "\n",
    "If the file is in the current directory/folder, and if its name is a legal Python variable (e.g., no spaces or `-`), and if it has a `.py` extension, then it should be importable.\n",
    "\n",
    "I'm going to create a new Python file:\n",
    "\n",
    "- I'll call it `mymod.py`\n",
    "- I'll make it in the current directory (easy with Jupyter, since the default is the current directory)\n",
    "- I won't put any code or definitions in it, just yet"
   ]
  },
  {
   "cell_type": "markdown",
   "metadata": {},
   "source": [
    "# Now that I've created the module, I can load it"
   ]
  },
  {
   "cell_type": "code",
   "execution_count": 30,
   "metadata": {},
   "outputs": [],
   "source": [
    "import mymod"
   ]
  },
  {
   "cell_type": "code",
   "execution_count": 31,
   "metadata": {},
   "outputs": [
    {
     "data": {
      "text/plain": [
       "['__builtins__',\n",
       " '__cached__',\n",
       " '__doc__',\n",
       " '__file__',\n",
       " '__loader__',\n",
       " '__name__',\n",
       " '__package__',\n",
       " '__spec__']"
      ]
     },
     "execution_count": 31,
     "metadata": {},
     "output_type": "execute_result"
    }
   ],
   "source": [
    "# we can see what names are defined in mymod with \"dir\"\n",
    "\n",
    "dir(mymod)"
   ]
  },
  {
   "cell_type": "markdown",
   "metadata": {},
   "source": [
    "# Special names\n",
    "\n",
    "We can see that even an empty module has a bunch of \"dunder\" names defined. These are set by Python when we create the module, as it's read from disk.  Some of these names are:\n",
    "\n",
    "- `__builtins__` -- this is where the builtin names in Python are defined; it's an alias to the normal \"builtins\" namespace\n",
    "- `__file__` -- the name of the file from which we read the module\n",
    "- `__name__` -- the name of the module, as a string"
   ]
  },
  {
   "cell_type": "code",
   "execution_count": 32,
   "metadata": {},
   "outputs": [
    {
     "data": {
      "text/plain": [
       "'/Users/reuven/Courses/Current/OReilly-2025-06June-python/mymod.py'"
      ]
     },
     "execution_count": 32,
     "metadata": {},
     "output_type": "execute_result"
    }
   ],
   "source": [
    "mymod.__file__"
   ]
  },
  {
   "cell_type": "code",
   "execution_count": 33,
   "metadata": {},
   "outputs": [
    {
     "data": {
      "text/plain": [
       "'mymod'"
      ]
     },
     "execution_count": 33,
     "metadata": {},
     "output_type": "execute_result"
    }
   ],
   "source": [
    "mymod.__name__"
   ]
  },
  {
   "cell_type": "code",
   "execution_count": 34,
   "metadata": {},
   "outputs": [],
   "source": [
    "# let's reload our module\n",
    "\n",
    "import mymod"
   ]
  },
  {
   "cell_type": "code",
   "execution_count": 35,
   "metadata": {},
   "outputs": [
    {
     "data": {
      "text/plain": [
       "['__builtins__',\n",
       " '__cached__',\n",
       " '__doc__',\n",
       " '__file__',\n",
       " '__loader__',\n",
       " '__name__',\n",
       " '__package__',\n",
       " '__spec__']"
      ]
     },
     "execution_count": 35,
     "metadata": {},
     "output_type": "execute_result"
    }
   ],
   "source": [
    "dir(mymod)"
   ]
  },
  {
   "cell_type": "markdown",
   "metadata": {},
   "source": [
    "Why don't we see `x`, `y`, and `hello`?\n",
    "\n",
    "The answer: If we've already imported a module during a Python session, then subsequent calls to `import` that module are ignored.\n",
    "\n",
    "If we want to reload the module, we'll have to use special functionality. That functionality is in the `importlib` module, in a function called `reload`. "
   ]
  },
  {
   "cell_type": "code",
   "execution_count": 36,
   "metadata": {},
   "outputs": [],
   "source": [
    "from importlib import reload"
   ]
  },
  {
   "cell_type": "code",
   "execution_count": 37,
   "metadata": {},
   "outputs": [
    {
     "data": {
      "text/plain": [
       "<module 'mymod' from '/Users/reuven/Courses/Current/OReilly-2025-06June-python/mymod.py'>"
      ]
     },
     "execution_count": 37,
     "metadata": {},
     "output_type": "execute_result"
    }
   ],
   "source": [
    "reload(mymod)  # this forces a reload of whatever mymod was, removing the previous definition"
   ]
  },
  {
   "cell_type": "code",
   "execution_count": 38,
   "metadata": {},
   "outputs": [
    {
     "data": {
      "text/plain": [
       "['__builtins__',\n",
       " '__cached__',\n",
       " '__doc__',\n",
       " '__file__',\n",
       " '__loader__',\n",
       " '__name__',\n",
       " '__package__',\n",
       " '__spec__',\n",
       " 'hello',\n",
       " 'x',\n",
       " 'y']"
      ]
     },
     "execution_count": 38,
     "metadata": {},
     "output_type": "execute_result"
    }
   ],
   "source": [
    "dir(mymod)"
   ]
  },
  {
   "cell_type": "code",
   "execution_count": 39,
   "metadata": {},
   "outputs": [
    {
     "data": {
      "text/plain": [
       "100"
      ]
     },
     "execution_count": 39,
     "metadata": {},
     "output_type": "execute_result"
    }
   ],
   "source": [
    "mymod.x"
   ]
  },
  {
   "cell_type": "code",
   "execution_count": 40,
   "metadata": {},
   "outputs": [
    {
     "data": {
      "text/plain": [
       "[10, 20, 30]"
      ]
     },
     "execution_count": 40,
     "metadata": {},
     "output_type": "execute_result"
    }
   ],
   "source": [
    "mymod.y"
   ]
  },
  {
   "cell_type": "code",
   "execution_count": 41,
   "metadata": {},
   "outputs": [
    {
     "data": {
      "text/plain": [
       "'Hello, world from mymod!'"
      ]
     },
     "execution_count": 41,
     "metadata": {},
     "output_type": "execute_result"
    }
   ],
   "source": [
    "mymod.hello('world')"
   ]
  },
  {
   "cell_type": "markdown",
   "metadata": {},
   "source": [
    "# Exercise: `menu` module\n",
    "\n",
    "1. Create a new file in the same directory as Jupyter, `menu.py`. This module will be used across many programs that want to let a user choose from a number of options.\n",
    "2. In `menu.py`, define a function called `menu`. This function should take a list of strings as an argument, and then ask the user to enter a choice.\n",
    "3. If the user chooses one of the strings in the argument, return that value. Otherwise, force the user to try again.\n",
    "\n",
    "From your notebook, you will then say\n",
    "\n",
    "```python\n",
    "import menu\n",
    "\n",
    "user_choice = menu.menu(['a', 'b', 'c'])  # force the user to choose a/b/c\n",
    "print(f'User chose {user_choice}')\n",
    "```\n"
   ]
  },
  {
   "cell_type": "code",
   "execution_count": 45,
   "metadata": {},
   "outputs": [
    {
     "name": "stdin",
     "output_type": "stream",
     "text": [
      "Enter your choice:  hello\n"
     ]
    },
    {
     "name": "stdout",
     "output_type": "stream",
     "text": [
      "hello is not a valid choice\n"
     ]
    },
    {
     "name": "stdin",
     "output_type": "stream",
     "text": [
      "Enter your choice:  a\n"
     ]
    },
    {
     "name": "stdout",
     "output_type": "stream",
     "text": [
      "User chose a\n"
     ]
    }
   ],
   "source": [
    "import menu\n",
    "\n",
    "user_choice = menu.menu(['a', 'b', 'c'])  # force the user to choose a/b/c\n",
    "print(f'User chose {user_choice}')"
   ]
  },
  {
   "cell_type": "code",
   "execution_count": 44,
   "metadata": {},
   "outputs": [
    {
     "data": {
      "text/plain": [
       "<module 'menu' from '/Users/reuven/Courses/Current/OReilly-2025-06June-python/menu.py'>"
      ]
     },
     "execution_count": 44,
     "metadata": {},
     "output_type": "execute_result"
    }
   ],
   "source": [
    "reload(menu)"
   ]
  },
  {
   "cell_type": "markdown",
   "metadata": {},
   "source": [
    "When we `import` a module, we're really executing every line of code in that module!\n",
    "\n"
   ]
  },
  {
   "cell_type": "code",
   "execution_count": 46,
   "metadata": {},
   "outputs": [
    {
     "name": "stdout",
     "output_type": "stream",
     "text": [
      "Hello from mymod\n",
      "Goodbye from mymod\n"
     ]
    },
    {
     "data": {
      "text/plain": [
       "<module 'mymod' from '/Users/reuven/Courses/Current/OReilly-2025-06June-python/mymod.py'>"
      ]
     },
     "execution_count": 46,
     "metadata": {},
     "output_type": "execute_result"
    }
   ],
   "source": [
    "reload(mymod)"
   ]
  },
  {
   "cell_type": "code",
   "execution_count": 47,
   "metadata": {},
   "outputs": [],
   "source": [
    "import mymod"
   ]
  },
  {
   "cell_type": "code",
   "execution_count": 48,
   "metadata": {},
   "outputs": [
    {
     "data": {
      "text/plain": [
       "['__builtins__',\n",
       " '__cached__',\n",
       " '__doc__',\n",
       " '__file__',\n",
       " '__loader__',\n",
       " '__name__',\n",
       " '__package__',\n",
       " '__spec__',\n",
       " 'hello',\n",
       " 'x',\n",
       " 'y']"
      ]
     },
     "execution_count": 48,
     "metadata": {},
     "output_type": "execute_result"
    }
   ],
   "source": [
    "dir(mymod)"
   ]
  },
  {
   "cell_type": "markdown",
   "metadata": {},
   "source": [
    "# Variables in the module become attributes on the module object\n",
    "\n",
    "Inside of `mymod.py`, we defined three variables:\n",
    "\n",
    "- `x`\n",
    "- `y`\n",
    "- `hello` (which is a function)\n",
    "\n",
    "Those variables are \"global\" inside of the module file. If you're inside of `mymod.py`, you can talk about `x`, `y`, and `hello` however much you want. \n",
    "\n",
    "But. When we `import mymod` into the main program, we don't define `x`, `y`, or `hello` as variables. Rather, they are *attributes*, names that come after a `.`, that belong to the module.\n",
    "\n",
    "- The variable `x` in the module file becomes `mymod.x` outside of the module file\n",
    "- The variable `y` in the module file becomes `mymod.y` outside of the module file\n",
    "- The function `hello` in the module file becomes `mymod.hello` outside of the module file\n",
    "\n",
    "Of course, if you say `from mymod import x`, what you're telling Python to do is define `x` as a global variable in your main program. In such a case, the attribute(s) won't be defined."
   ]
  },
  {
   "cell_type": "markdown",
   "metadata": {},
   "source": [
    "# What about the \"dunder\" attributes we saw before?\n",
    "\n",
    "We saw that the `mymod` module has some special attributes, including `__name__`. If variables in the module file are visible as attributes outside of the module file, then maybe `__name__` exists inside of `mymod.py`, and it can be used."
   ]
  },
  {
   "cell_type": "code",
   "execution_count": 49,
   "metadata": {},
   "outputs": [
    {
     "data": {
      "text/plain": [
       "['__builtins__',\n",
       " '__cached__',\n",
       " '__doc__',\n",
       " '__file__',\n",
       " '__loader__',\n",
       " '__name__',\n",
       " '__package__',\n",
       " '__spec__',\n",
       " 'hello',\n",
       " 'x',\n",
       " 'y']"
      ]
     },
     "execution_count": 49,
     "metadata": {},
     "output_type": "execute_result"
    }
   ],
   "source": [
    "dir(mymod)"
   ]
  },
  {
   "cell_type": "code",
   "execution_count": 50,
   "metadata": {},
   "outputs": [
    {
     "name": "stdout",
     "output_type": "stream",
     "text": [
      "Hello from mymod\n",
      "Goodbye from mymod\n"
     ]
    },
    {
     "data": {
      "text/plain": [
       "<module 'mymod' from '/Users/reuven/Courses/Current/OReilly-2025-06June-python/mymod.py'>"
      ]
     },
     "execution_count": 50,
     "metadata": {},
     "output_type": "execute_result"
    }
   ],
   "source": [
    "reload(mymod)"
   ]
  },
  {
   "cell_type": "markdown",
   "metadata": {},
   "source": [
    "# Let's bring this all together\n",
    "\n",
    "1. When we `import` a module, the module file executes.\n",
    "2. This means that we can put *any* Python code we want in there. It's rare to have more than assignments, function defintions, and class definitions.\n",
    "3. The special variable `__name__` always has a string value.\n",
    "    - If we have imported the module, then the string value is the name of the module (e.g., `mymod`).\n",
    "    - If this is the first program running, and it was not imported, then its string value is `'__main__'`.\n",
    "4. We can then say `if __name__ == '__main__'`. Anything in this `if` block will only execute if the program is running standalone, as an actual program. It will be ignored if the program is being imported as a module.\n",
    "\n",
    "This line, `if __name__ == '__main__'` is almost universal in Python modules.\n",
    "\n",
    "What do people put in that block? What to people want to have executed when the module is run?\n",
    "\n",
    "- Print documentation\n",
    "- Execute a demo\n",
    "- Run automated testing\n",
    "- Ask the user for interactive input"
   ]
  },
  {
   "cell_type": "code",
   "execution_count": 51,
   "metadata": {},
   "outputs": [
    {
     "data": {
      "text/plain": [
       "<module 'menu' from '/Users/reuven/Courses/Current/OReilly-2025-06June-python/menu.py'>"
      ]
     },
     "execution_count": 51,
     "metadata": {},
     "output_type": "execute_result"
    }
   ],
   "source": [
    "reload(menu)"
   ]
  },
  {
   "cell_type": "code",
   "execution_count": 52,
   "metadata": {},
   "outputs": [
    {
     "name": "stdin",
     "output_type": "stream",
     "text": [
      "Enter your choice:  a\n"
     ]
    },
    {
     "name": "stdout",
     "output_type": "stream",
     "text": [
      "a is not a valid choice\n"
     ]
    },
    {
     "name": "stdin",
     "output_type": "stream",
     "text": [
      "Enter your choice:  b\n"
     ]
    },
    {
     "name": "stdout",
     "output_type": "stream",
     "text": [
      "b is not a valid choice\n"
     ]
    },
    {
     "name": "stdin",
     "output_type": "stream",
     "text": [
      "Enter your choice:  hello\n"
     ]
    },
    {
     "data": {
      "text/plain": [
       "'hello'"
      ]
     },
     "execution_count": 52,
     "metadata": {},
     "output_type": "execute_result"
    }
   ],
   "source": [
    "menu.menu(['hello', 'goodbye', 'whatever'])"
   ]
  },
  {
   "cell_type": "markdown",
   "metadata": {},
   "source": [
    "# Next up\n",
    "\n",
    "1. The Python standard library\n",
    "2. PyPI, the Python Package Index\n",
    "3. `pip` (a little of `uv`)\n",
    "4. What next?\n",
    "5. AMA"
   ]
  },
  {
   "cell_type": "markdown",
   "metadata": {},
   "source": [
    "# The story so far\n",
    "\n",
    "1. We can use `import` to load functionality from a module, so long as the module is located in one of the directories in `sys.path`.\n",
    "2. Because the current directory is always implicitly in `sys.path`, we can put a module in the same directory as our program and import it.\n",
    "3. A module is a file containing one or more lines of Python, typically all of which are variable and function definitions.\n",
    "4. If we want, we can take advantage of the fact that a Python module executes when it's imported, and that `__name__` is set to the string `'__main__'` when the module is executed as a standalone program -- and thus use the `if __name__ == '__main__'` line for functionality that should only run when it's standalone.\n",
    "5. If we have more than one module that should be thought of as part of a larger whole, then we can create a directory and put one or more modules inside of it. That's known as a *package*.\n",
    "\n",
    "What modules are available to us by default? These are known as the \"standard library.\"\n",
    "\n",
    "It's very standard! If you are running a version of Python, and your friend is running the same version, then you will have the same standard library.\n",
    "\n",
    "The standard library is *huge*."
   ]
  },
  {
   "cell_type": "code",
   "execution_count": 53,
   "metadata": {},
   "outputs": [],
   "source": [
    "from collections import Counter"
   ]
  },
  {
   "cell_type": "code",
   "execution_count": 54,
   "metadata": {},
   "outputs": [],
   "source": [
    "# counter is a version of dict\n",
    "\n",
    "c = Counter('abcaaaaabbcbccd')"
   ]
  },
  {
   "cell_type": "code",
   "execution_count": 55,
   "metadata": {},
   "outputs": [
    {
     "data": {
      "text/plain": [
       "Counter({'a': 6, 'b': 4, 'c': 4, 'd': 1})"
      ]
     },
     "execution_count": 55,
     "metadata": {},
     "output_type": "execute_result"
    }
   ],
   "source": [
    "c"
   ]
  },
  {
   "cell_type": "code",
   "execution_count": 56,
   "metadata": {},
   "outputs": [
    {
     "data": {
      "text/plain": [
       "6"
      ]
     },
     "execution_count": 56,
     "metadata": {},
     "output_type": "execute_result"
    }
   ],
   "source": [
    "c['a']"
   ]
  },
  {
   "cell_type": "code",
   "execution_count": 57,
   "metadata": {},
   "outputs": [
    {
     "data": {
      "text/plain": [
       "[('a', 6), ('b', 4), ('c', 4), ('d', 1)]"
      ]
     },
     "execution_count": 57,
     "metadata": {},
     "output_type": "execute_result"
    }
   ],
   "source": [
    "# returns a list of tuples -- how often each item was seen\n",
    "c.most_common() "
   ]
  },
  {
   "cell_type": "markdown",
   "metadata": {},
   "source": [
    "# Exercise: Letter frequency\n",
    "\n",
    "1. Ask the user what file they want to count. (Make sure it's a relatively short text file.)\n",
    "2. Start with an empty string, Go through the file, one line at a time, and add (`+=`) the current line to that string. In the end, you'll have a string with the file's contents.\n",
    "3. Use an instance of `Counter` to find the 10 most common characters in the file. (Note: You can invoke `most_common` with an integer argument, which returns the n most common key-value pairs.)"
   ]
  },
  {
   "cell_type": "code",
   "execution_count": 59,
   "metadata": {},
   "outputs": [
    {
     "name": "stdin",
     "output_type": "stream",
     "text": [
      "Enter a filename:  /etc/passwd\n"
     ]
    },
    {
     "name": "stdout",
     "output_type": "stream",
     "text": [
      ":: 780\n",
      "e: 717\n",
      "/: 689\n",
      "r: 563\n",
      "a: 552\n",
      "s: 515\n",
      "n: 402\n",
      "i: 396\n",
      "t: 343\n",
      "o: 281\n"
     ]
    }
   ],
   "source": [
    "filename = input('Enter a filename: ').strip()\n",
    "\n",
    "text = ''\n",
    "\n",
    "for one_line in open(filename):\n",
    "    text += one_line\n",
    "\n",
    "c = Counter(text)\n",
    "\n",
    "for key, value in c.most_common(10):\n",
    "    print(f'{key}: {value}')"
   ]
  },
  {
   "cell_type": "code",
   "execution_count": 60,
   "metadata": {},
   "outputs": [
    {
     "name": "stdin",
     "output_type": "stream",
     "text": [
      "Enter a filename:  /etc/passwd\n"
     ]
    },
    {
     "name": "stdout",
     "output_type": "stream",
     "text": [
      ":: 780\n",
      "e: 717\n",
      "/: 689\n",
      "r: 563\n",
      "a: 552\n",
      "s: 515\n",
      "n: 402\n",
      "i: 396\n",
      "t: 343\n",
      "o: 281\n"
     ]
    }
   ],
   "source": [
    "# slightly better\n",
    "\n",
    "filename = input('Enter a filename: ').strip()\n",
    "\n",
    "all_lines = []\n",
    "\n",
    "for one_line in open(filename):\n",
    "    all_lines.append(one_line)\n",
    "\n",
    "c = Counter(''.join(all_lines))\n",
    "\n",
    "for key, value in c.most_common(10):\n",
    "    print(f'{key}: {value}')"
   ]
  },
  {
   "cell_type": "code",
   "execution_count": 61,
   "metadata": {},
   "outputs": [
    {
     "data": {
      "text/plain": [
       "Counter({'a': 6, 'b': 3, 'd': 3, 'c': 2})"
      ]
     },
     "execution_count": 61,
     "metadata": {},
     "output_type": "execute_result"
    }
   ],
   "source": [
    "# even better, do it piecewise\n",
    "\n",
    "c = Counter('abcaabaaabcddd')\n",
    "c"
   ]
  },
  {
   "cell_type": "code",
   "execution_count": 63,
   "metadata": {},
   "outputs": [
    {
     "data": {
      "text/plain": [
       "Counter({'d': 8, 'a': 6, 'b': 3, 'e': 3, 'f': 3, 'c': 2})"
      ]
     },
     "execution_count": 63,
     "metadata": {},
     "output_type": "execute_result"
    }
   ],
   "source": [
    "# add counter objects together\n",
    "c + Counter('defdefdddef')"
   ]
  },
  {
   "cell_type": "code",
   "execution_count": 64,
   "metadata": {},
   "outputs": [
    {
     "name": "stdin",
     "output_type": "stream",
     "text": [
      "Enter a filename:  /etc/passwd\n"
     ]
    },
    {
     "name": "stdout",
     "output_type": "stream",
     "text": [
      ":: 780\n",
      "e: 717\n",
      "/: 689\n",
      "r: 563\n",
      "a: 552\n",
      "s: 515\n",
      "n: 402\n",
      "i: 396\n",
      "t: 343\n",
      "o: 281\n"
     ]
    }
   ],
   "source": [
    "filename = input('Enter a filename: ').strip()\n",
    "\n",
    "c = Counter()\n",
    "\n",
    "for one_line in open(filename):\n",
    "    c = c + Counter(one_line)    \n",
    "\n",
    "for key, value in c.most_common(10):\n",
    "    print(f'{key}: {value}')"
   ]
  },
  {
   "cell_type": "code",
   "execution_count": null,
   "metadata": {},
   "outputs": [],
   "source": [
    "# DK \n",
    "\n",
    "from collections import Counter\n",
    "\n",
    "file_path = input(\"give a file to process: \").strip()\n",
    "\n",
    "s = \"\"\n",
    "\n",
    "with open(file_path, \"r\") as file:\n",
    "    for line in file:\n",
    "        s += line\n",
    "\n",
    "c = Counter(s)\n",
    "\n",
    "print(c.most_common(10))"
   ]
  },
  {
   "cell_type": "code",
   "execution_count": null,
   "metadata": {},
   "outputs": [],
   "source": [
    "from collections import Counter\n",
    "\n",
    "file = input('What file do you want to open?')\n",
    "\n",
    "s = ''\n",
    "\n",
    "with open(file,'r') as open_file:\n",
    "    for each_line in open_file:\n",
    "        s += each_line\n",
    "\n",
    "print(Counter(s))\n"
   ]
  },
  {
   "cell_type": "markdown",
   "metadata": {},
   "source": [
    "The standard library is only distributed with Python. This means that it's only updated when Python is updated. This means it's very slow to change.\n",
    "\n",
    "What can/should you do if you want to find other functionality? (Or distribute it?)\n",
    "\n",
    "That's where PyPI comes in, the Python Package Index."
   ]
  },
  {
   "cell_type": "code",
   "execution_count": 65,
   "metadata": {},
   "outputs": [],
   "source": [
    "from mcp_agent.app import MCPApp"
   ]
  },
  {
   "cell_type": "code",
   "execution_count": 66,
   "metadata": {},
   "outputs": [],
   "source": [
    "import rich"
   ]
  },
  {
   "cell_type": "code",
   "execution_count": 69,
   "metadata": {},
   "outputs": [
    {
     "data": {
      "text/html": [
       "<pre style=\"white-space:pre;overflow-x:auto;line-height:normal;font-family:Menlo,'DejaVu Sans Mono',consolas,'Courier New',monospace\"><span style=\"color: #800000; text-decoration-color: #800000\">Hello</span> to <span style=\"color: #808000; text-decoration-color: #808000\">everyone</span> out <span style=\"color: #008000; text-decoration-color: #008000\">there</span> 😄!\n",
       "</pre>\n"
      ],
      "text/plain": [
       "\u001b[31mHello\u001b[0m to \u001b[33meveryone\u001b[0m out \u001b[32mthere\u001b[0m 😄!\n"
      ]
     },
     "metadata": {},
     "output_type": "display_data"
    }
   ],
   "source": [
    "rich.print('[red]Hello[/red] to [yellow]everyone[/yellow] out [green]there[/green] :smile:!')"
   ]
  },
  {
   "cell_type": "markdown",
   "metadata": {},
   "source": [
    "# Exercise: Rich printing\n",
    "\n",
    "1. Download `rich` from PyPI using `pip`. This means:\n",
    "    - Using the command line terminal, type `pip install rich`\n",
    "    - If you're in Jupyter, you cause the \"magic command,\" `%pip install rich`, to do it\n",
    "2. Use `rich` to print a sentence or two in colorful ways with emojis"
   ]
  },
  {
   "cell_type": "code",
   "execution_count": 77,
   "metadata": {},
   "outputs": [
    {
     "data": {
      "text/html": [
       "<pre style=\"white-space:pre;overflow-x:auto;line-height:normal;font-family:Menlo,'DejaVu Sans Mono',consolas,'Courier New',monospace\"><span style=\"color: #800000; text-decoration-color: #800000\">Hello</span> to <span style=\"color: #808000; text-decoration-color: #808000\">everyone</span> out <span style=\"color: #008000; text-decoration-color: #008000\">there</span> 😂!\n",
       "</pre>\n"
      ],
      "text/plain": [
       "\u001b[31mHello\u001b[0m to \u001b[33meveryone\u001b[0m out \u001b[32mthere\u001b[0m 😂!\n"
      ]
     },
     "metadata": {},
     "output_type": "display_data"
    }
   ],
   "source": [
    "rich.print('[red]Hello[/red] to [yellow]everyone[/yellow] out [green]there[/green] :face_with_tears_of_joy:!')"
   ]
  },
  {
   "cell_type": "code",
   "execution_count": 78,
   "metadata": {},
   "outputs": [
    {
     "data": {
      "text/plain": [
       "['/Users/reuven/.pyenv/versions/3.13.2/lib/python313.zip',\n",
       " '/Users/reuven/.pyenv/versions/3.13.2/lib/python3.13',\n",
       " '/Users/reuven/.pyenv/versions/3.13.2/lib/python3.13/lib-dynload',\n",
       " '',\n",
       " '/Users/reuven/.pyenv/versions/3.13.2/lib/python3.13/site-packages']"
      ]
     },
     "execution_count": 78,
     "metadata": {},
     "output_type": "execute_result"
    }
   ],
   "source": [
    "sys.path"
   ]
  },
  {
   "cell_type": "code",
   "execution_count": 79,
   "metadata": {},
   "outputs": [
    {
     "data": {
      "text/plain": [
       "'/Users/reuven/.pyenv/versions/3.13.2/lib/python3.13/site-packages/rich/__init__.py'"
      ]
     },
     "execution_count": 79,
     "metadata": {},
     "output_type": "execute_result"
    }
   ],
   "source": [
    "rich.__file__"
   ]
  },
  {
   "cell_type": "code",
   "execution_count": 81,
   "metadata": {
    "scrolled": true
   },
   "outputs": [
    {
     "name": "stdout",
     "output_type": "stream",
     "text": [
      "  1061\tzmq\n",
      "  1062\tzope\n",
      "  1063\tzope_event-5.1.dist-info\n",
      "  1064\tzope.deprecation-5.1-py3.11-nspkg.pth\n",
      "  1065\tzope.deprecation-5.1.dist-info\n",
      "  1066\tzope.event-5.1-py3.12-nspkg.pth\n",
      "  1067\tzope.interface-7.2-py3.13-nspkg.pth\n",
      "  1068\tzope.interface-7.2.dist-info\n",
      "  1069\tzstandard\n",
      "  1070\tzstandard-0.23.0.dist-info\n"
     ]
    }
   ],
   "source": [
    "!ls /Users/reuven/.pyenv/versions/3.13.2/lib/python3.13/site-packages | cat -n | tail"
   ]
  },
  {
   "cell_type": "markdown",
   "metadata": {},
   "source": [
    "`uv` is a next-generation package installer that is WAY WAY faster than `pip`.  It also solves other packaging issues, both installing and creating."
   ]
  },
  {
   "cell_type": "markdown",
   "metadata": {},
   "source": [
    "# Next up\n",
    "\n",
    "1. Safety and PyPI (and awesome Python)\n",
    "2. A little about `uv` as well\n",
    "3. AMA / Next steps\n"
   ]
  },
  {
   "cell_type": "markdown",
   "metadata": {},
   "source": [
    "# Your next steps with Python\n",
    "\n",
    "1. Practice practice practice. That means writing code. That means reading code. That means thinking about code.\n",
    "    - Exercise sites/courses\n",
    "    - Check out https://PracticeYourPython.com \n",
    "2. Use AI to help you practice and learn. Check my YouTube channel, the \"10 ways to use AI to help you learn Python.\"\n",
    "3. Go to meetings / conferences.\n",
    "4. Read some books\n",
    "    - Al Sweigart's \"Automate the Boring Stuff\"\n",
    "    - Eric Matthes's \"Python Crash Course\"\n",
    "    - My own \"Python Workout\"\n",
    "5. Newsletters/podcasts\n",
    "    - I have 2 newsletters, \"Better Developers\" and \"Bamboo Weekly\"\n",
    "    - Eric has \"Mostly Python\"\n",
    "    - Talk Python has great podcasts\n",
    "    - Python Bytes - news from the Python world\n",
    "\n",
    "# What should you learn?\n",
    "\n",
    "- Take a \"regular\" Python intro course after this one\n",
    "- Take another \"newbie\" course -- e.g., my object-oriented bootcamp (Aug 11 + 13)\n",
    "- "
   ]
  },
  {
   "cell_type": "code",
   "execution_count": null,
   "metadata": {},
   "outputs": [],
   "source": []
  }
 ],
 "metadata": {
  "kernelspec": {
   "display_name": "Python 3 (ipykernel)",
   "language": "python",
   "name": "python3"
  },
  "language_info": {
   "codemirror_mode": {
    "name": "ipython",
    "version": 3
   },
   "file_extension": ".py",
   "mimetype": "text/x-python",
   "name": "python",
   "nbconvert_exporter": "python",
   "pygments_lexer": "ipython3",
   "version": "3.13.2"
  }
 },
 "nbformat": 4,
 "nbformat_minor": 4
}
