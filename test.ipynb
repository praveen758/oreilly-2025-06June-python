{
 "cells": [
  {
   "cell_type": "code",
   "execution_count": 7,
   "id": "f615f0aa",
   "metadata": {},
   "outputs": [
    {
     "name": "stdout",
     "output_type": "stream",
     "text": [
      "text\n",
      "exttay\n"
     ]
    }
   ],
   "source": [
    "word = input('please enter a word?:')\n",
    "print(word)\n",
    "if word[0] in 'a,e,i,o,u':\n",
    "    print(word+'way')\n",
    "else:\n",
    "    print(word[1:]+word[0]+'ay')\n"
   ]
  },
  {
   "cell_type": "code",
   "execution_count": 15,
   "id": "3b715fa1",
   "metadata": {},
   "outputs": [
    {
     "name": "stdout",
     "output_type": "stream",
     "text": [
      "10.36\n",
      "10.36\n",
      "10.36 is a <class 'float'>, and 10.36 * 3 = 31.08\n"
     ]
    }
   ],
   "source": [
    "x = input ('Enter a number: ')\n",
    "\n",
    "if '.' in x:\n",
    "    number = float (x)\n",
    "else:\n",
    "    number = int (x)\n",
    "\n",
    "print (x)\n",
    "print (number)\n",
    "print (f'{number} is a {type(number)}, and {number} * 3 = {number * 3}')"
   ]
  },
  {
   "cell_type": "code",
   "execution_count": 16,
   "id": "bb08dac3",
   "metadata": {},
   "outputs": [],
   "source": [
    "x = 'a b c D F H J'"
   ]
  },
  {
   "cell_type": "code",
   "execution_count": 17,
   "id": "2a93df20",
   "metadata": {},
   "outputs": [
    {
     "data": {
      "text/plain": [
       "'a b c d f h j'"
      ]
     },
     "execution_count": 17,
     "metadata": {},
     "output_type": "execute_result"
    }
   ],
   "source": [
    "x.lower()"
   ]
  },
  {
   "cell_type": "code",
   "execution_count": 18,
   "id": "ed2d16f5",
   "metadata": {},
   "outputs": [
    {
     "data": {
      "text/plain": [
       "'A B C D F H J'"
      ]
     },
     "execution_count": 18,
     "metadata": {},
     "output_type": "execute_result"
    }
   ],
   "source": [
    "x.upper()"
   ]
  },
  {
   "cell_type": "code",
   "execution_count": 19,
   "id": "013f323d",
   "metadata": {},
   "outputs": [
    {
     "data": {
      "text/plain": [
       "'A B C D F H J'"
      ]
     },
     "execution_count": 19,
     "metadata": {},
     "output_type": "execute_result"
    }
   ],
   "source": [
    "x.title()"
   ]
  },
  {
   "cell_type": "code",
   "execution_count": 20,
   "id": "4f4202fa",
   "metadata": {},
   "outputs": [
    {
     "data": {
      "text/plain": [
       "'A B C d f h j'"
      ]
     },
     "execution_count": 20,
     "metadata": {},
     "output_type": "execute_result"
    }
   ],
   "source": [
    "x.swapcase()"
   ]
  },
  {
   "cell_type": "code",
   "execution_count": 29,
   "id": "54ed5ed5",
   "metadata": {},
   "outputs": [
    {
     "name": "stdout",
     "output_type": "stream",
     "text": [
      "Hello, tre  ee!\n"
     ]
    },
    {
     "data": {
      "text/plain": [
       "'tre  ee'"
      ]
     },
     "execution_count": 29,
     "metadata": {},
     "output_type": "execute_result"
    }
   ],
   "source": [
    "name = input ('Enter your name: ').strip()\n",
    "print (f'Hello, {name}!')\n",
    "name.strip()"
   ]
  },
  {
   "cell_type": "code",
   "execution_count": 34,
   "id": "10c7b98c",
   "metadata": {},
   "outputs": [
    {
     "name": "stdout",
     "output_type": "stream",
     "text": [
      "12df is not a Number\n"
     ]
    }
   ],
   "source": [
    "number = 72\n",
    "\n",
    "guess = input ('Enter a digit: ').strip()\n",
    "\n",
    "if guess.isdigit():\n",
    "\n",
    "    guess = int(guess)\n",
    "\n",
    "    if guess < number:\n",
    "        print ('Too Low !')\n",
    "    elif guess > number:\n",
    "        print ('Too High !')\n",
    "    else:\n",
    "        print ('You Got It !')\n",
    "else:\n",
    "    print (f'{guess} is not a Number')"
   ]
  },
  {
   "cell_type": "code",
   "execution_count": null,
   "id": "addb8931",
   "metadata": {},
   "outputs": [],
   "source": []
  }
 ],
 "metadata": {
  "kernelspec": {
   "display_name": "Python 3",
   "language": "python",
   "name": "python3"
  },
  "language_info": {
   "codemirror_mode": {
    "name": "ipython",
    "version": 3
   },
   "file_extension": ".py",
   "mimetype": "text/x-python",
   "name": "python",
   "nbconvert_exporter": "python",
   "pygments_lexer": "ipython3",
   "version": "3.12.1"
  }
 },
 "nbformat": 4,
 "nbformat_minor": 5
}
